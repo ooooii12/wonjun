{
 "metadata": {
  "name": "",
  "signature": "sha256:0bcfcdf99616042aa1da83b77c25a92a3c4a6b71cd958783994acb006d4b5488"
 },
 "nbformat": 3,
 "nbformat_minor": 0,
 "worksheets": [
  {
   "cells": [
    {
     "cell_type": "markdown",
     "metadata": {},
     "source": [
      "#Assignment 3"
     ]
    },
    {
     "cell_type": "markdown",
     "metadata": {},
     "source": [
      "## 2011136023 \uae40\uc6d0\uc900"
     ]
    },
    {
     "cell_type": "markdown",
     "metadata": {},
     "source": [
      "### 1. L=[1, 2, 3, 4, 5]\uc77c \ub54c \ub2e4\uc74c \uac01 \ubb38\uc7a5\uc744 \uc218\ud589\ud55c \ud6c4\uc758 \uacb0\uacfc\ub97c \ubcf4\uace0 \ub0a9\ub4dd\ud560 \ub9cc\ud55c \uc774\uc720\ub97c \uc124\uba85\ud558\uc2dc\uc624. "
     ]
    },
    {
     "cell_type": "markdown",
     "metadata": {},
     "source": [
      "#### 1)"
     ]
    },
    {
     "cell_type": "code",
     "collapsed": false,
     "input": [
      "L=[1, 2, 3, 4, 5]\n",
      "L[1:3] = [100]\n",
      "print L"
     ],
     "language": "python",
     "metadata": {},
     "outputs": [
      {
       "output_type": "stream",
       "stream": "stdout",
       "text": [
        "[1, 100, 4, 5]\n"
       ]
      }
     ],
     "prompt_number": 2
    },
    {
     "cell_type": "markdown",
     "metadata": {},
     "source": [
      " L[1:3] = [100]\uc740 L[1]\uc5d0\uc11c L[2]\uae4c\uc9c0 \ub97c \uc0ad\uc81c\ud558\uace0 \uac70\uae30\ub2e4 100\uc744 \ub123\uc73c\ub77c\ub294 \uc758\ubbf8\uc785\ub2c8\ub2e4."
     ]
    },
    {
     "cell_type": "markdown",
     "metadata": {},
     "source": [
      " "
     ]
    },
    {
     "cell_type": "markdown",
     "metadata": {},
     "source": [
      "#### 2)"
     ]
    },
    {
     "cell_type": "code",
     "collapsed": false,
     "input": [
      "L=[1, 2, 3, 4, 5]\n",
      "L[1:3] = [(100)]\n",
      "print L"
     ],
     "language": "python",
     "metadata": {},
     "outputs": [
      {
       "output_type": "stream",
       "stream": "stdout",
       "text": [
        "[1, 100, 4, 5]\n"
       ]
      }
     ],
     "prompt_number": 3
    },
    {
     "cell_type": "markdown",
     "metadata": {},
     "source": [
      "L[1:3] = [100]\uc740 L[1]\uc5d0\uc11c L[2]\uae4c\uc9c0 \ub97c \uc0ad\uc81c\ud558\uace0 \uac70\uae30\ub2e4 (100)\uc744 \ub123\uc73c\ub77c\ub294 \uc758\ubbf8\uc785\ub2c8\ub2e4.\n",
      "\uadf8\ub7f0\ub370 \ud29c\ud50c\uc548\uc5d0 \uc815\uc218 \ud558\ub098\ub9cc \uc874\uc7ac\ud558\uba74 int \ud615\uc73c\ub85c \ubc1b\uae30 \ub54c\ubb38\uc5d0 \ud45c\uc2dc\ub294 (100)\uc774 \uc544\ub2c8\ub77c 100\uc73c\ub85c \ub098\ud0c0\ub09c\ub2e4."
     ]
    },
    {
     "cell_type": "markdown",
     "metadata": {},
     "source": [
      " "
     ]
    },
    {
     "cell_type": "markdown",
     "metadata": {},
     "source": [
      "#### 3)"
     ]
    },
    {
     "cell_type": "code",
     "collapsed": false,
     "input": [
      "L=[1,2,3,4,5]\n",
      "L[1:3] = 100\n",
      "print L"
     ],
     "language": "python",
     "metadata": {},
     "outputs": [
      {
       "ename": "TypeError",
       "evalue": "can only assign an iterable",
       "output_type": "pyerr",
       "traceback": [
        "\u001b[1;31m---------------------------------------------------------------------------\u001b[0m\n\u001b[1;31mTypeError\u001b[0m                                 Traceback (most recent call last)",
        "\u001b[1;32m<ipython-input-22-cdbe192bd161>\u001b[0m in \u001b[0;36m<module>\u001b[1;34m()\u001b[0m\n\u001b[0;32m      1\u001b[0m \u001b[0mL\u001b[0m\u001b[1;33m=\u001b[0m\u001b[1;33m[\u001b[0m\u001b[1;36m1\u001b[0m\u001b[1;33m,\u001b[0m\u001b[1;36m2\u001b[0m\u001b[1;33m,\u001b[0m\u001b[1;36m3\u001b[0m\u001b[1;33m,\u001b[0m\u001b[1;36m4\u001b[0m\u001b[1;33m,\u001b[0m\u001b[1;36m5\u001b[0m\u001b[1;33m]\u001b[0m\u001b[1;33m\u001b[0m\u001b[0m\n\u001b[1;32m----> 2\u001b[1;33m \u001b[0mL\u001b[0m\u001b[1;33m[\u001b[0m\u001b[1;36m1\u001b[0m\u001b[1;33m:\u001b[0m\u001b[1;36m3\u001b[0m\u001b[1;33m]\u001b[0m \u001b[1;33m=\u001b[0m \u001b[1;36m100\u001b[0m\u001b[1;33m\u001b[0m\u001b[0m\n\u001b[0m\u001b[0;32m      3\u001b[0m \u001b[1;32mprint\u001b[0m \u001b[0mL\u001b[0m\u001b[1;33m\u001b[0m\u001b[0m\n",
        "\u001b[1;31mTypeError\u001b[0m: can only assign an iterable"
       ]
      }
     ],
     "prompt_number": 22
    },
    {
     "cell_type": "markdown",
     "metadata": {},
     "source": [
      "\ubc18\ubcf5\uac00\ub2a5\ud55c \uac83\ub9cc \uce58\ud658\uac00\ub2a5 \ud569\ub2c8\ub2e4. 100\uc740 \ud558\ub098\uc758 \uc815\uc218\uc774\ubbc0\ub85c \ubc18\ubcf5\ud558\uc9c0 \uc54a\uc2b5\ub2c8\ub2e4. \uadf8\ub7ec\ubbc0\ub85c \uc5d0\ub7ec\uac00 \ub739\ub2c8\ub2e4."
     ]
    },
    {
     "cell_type": "markdown",
     "metadata": {},
     "source": [
      " "
     ]
    },
    {
     "cell_type": "markdown",
     "metadata": {},
     "source": [
      "####4)"
     ]
    },
    {
     "cell_type": "code",
     "collapsed": false,
     "input": [
      "L=[1,2,3,4,5]\n",
      "L[1:3] = (100)\n",
      "print L"
     ],
     "language": "python",
     "metadata": {},
     "outputs": [
      {
       "ename": "TypeError",
       "evalue": "can only assign an iterable",
       "output_type": "pyerr",
       "traceback": [
        "\u001b[1;31m---------------------------------------------------------------------------\u001b[0m\n\u001b[1;31mTypeError\u001b[0m                                 Traceback (most recent call last)",
        "\u001b[1;32m<ipython-input-5-71c3f7f74669>\u001b[0m in \u001b[0;36m<module>\u001b[1;34m()\u001b[0m\n\u001b[0;32m      1\u001b[0m \u001b[0mL\u001b[0m\u001b[1;33m=\u001b[0m\u001b[1;33m[\u001b[0m\u001b[1;36m1\u001b[0m\u001b[1;33m,\u001b[0m\u001b[1;36m2\u001b[0m\u001b[1;33m,\u001b[0m\u001b[1;36m3\u001b[0m\u001b[1;33m,\u001b[0m\u001b[1;36m4\u001b[0m\u001b[1;33m,\u001b[0m\u001b[1;36m5\u001b[0m\u001b[1;33m]\u001b[0m\u001b[1;33m\u001b[0m\u001b[0m\n\u001b[1;32m----> 2\u001b[1;33m \u001b[0mL\u001b[0m\u001b[1;33m[\u001b[0m\u001b[1;36m1\u001b[0m\u001b[1;33m:\u001b[0m\u001b[1;36m3\u001b[0m\u001b[1;33m]\u001b[0m \u001b[1;33m=\u001b[0m \u001b[1;33m(\u001b[0m\u001b[1;36m100\u001b[0m\u001b[1;33m)\u001b[0m\u001b[1;33m\u001b[0m\u001b[0m\n\u001b[0m\u001b[0;32m      3\u001b[0m \u001b[1;32mprint\u001b[0m \u001b[0mL\u001b[0m\u001b[1;33m\u001b[0m\u001b[0m\n",
        "\u001b[1;31mTypeError\u001b[0m: can only assign an iterable"
       ]
      }
     ],
     "prompt_number": 5
    },
    {
     "cell_type": "markdown",
     "metadata": {},
     "source": [
      "\ubc18\ubcf5\uac00\ub2a5\ud55c \uac83\ub9cc \uce58\ud658\uac00\ub2a5 \ud569\ub2c8\ub2e4. (100)\uc740 \ud558\ub098\uc758 \uc815\uc218\uc774\ubbc0\ub85c \ubc18\ubcf5\ud558\uc9c0 \uc54a\uc2b5\ub2c8\ub2e4. \uadf8\ub7ec\ubbc0\ub85c \uc5d0\ub7ec\uac00 \ub739\ub2c8\ub2e4."
     ]
    },
    {
     "cell_type": "markdown",
     "metadata": {},
     "source": [
      " "
     ]
    },
    {
     "cell_type": "markdown",
     "metadata": {},
     "source": [
      "#### 5)"
     ]
    },
    {
     "cell_type": "code",
     "collapsed": false,
     "input": [
      "L=[1, 2, 3, 4, 5]\n",
      "L[1:3] = (100, 101, 102)\n",
      "print L"
     ],
     "language": "python",
     "metadata": {},
     "outputs": [
      {
       "output_type": "stream",
       "stream": "stdout",
       "text": [
        "[1, 100, 101, 102, 4, 5]\n"
       ]
      }
     ],
     "prompt_number": 24
    },
    {
     "cell_type": "markdown",
     "metadata": {},
     "source": [
      "List\ub97c \ud29c\ud50c\ub85c \uce58\ud658\ud558\ub294 \uac83\uc774\ubbc0\ub85c \uac00\ub2a5\ud569\ub2c8\ub2e4."
     ]
    },
    {
     "cell_type": "markdown",
     "metadata": {},
     "source": [
      " "
     ]
    },
    {
     "cell_type": "markdown",
     "metadata": {},
     "source": [
      "#### 6)"
     ]
    },
    {
     "cell_type": "code",
     "collapsed": false,
     "input": [
      "L=[1,2,3,4,5]\n",
      "L[1:3] = [100, 101, 102]\n",
      "print L"
     ],
     "language": "python",
     "metadata": {},
     "outputs": [
      {
       "output_type": "stream",
       "stream": "stdout",
       "text": [
        "[1, 100, 101, 102, 4, 5]\n"
       ]
      }
     ],
     "prompt_number": 7
    },
    {
     "cell_type": "markdown",
     "metadata": {},
     "source": [
      "List\ub97c List\ub85c \uce58\ud658\ud558\ub294 \uac83\uc774\ubbc0\ub85c \uac00\ub2a5\ud569\ub2c8\ub2e4."
     ]
    },
    {
     "cell_type": "markdown",
     "metadata": {},
     "source": [
      " "
     ]
    },
    {
     "cell_type": "markdown",
     "metadata": {},
     "source": [
      "#### 7)"
     ]
    },
    {
     "cell_type": "code",
     "collapsed": false,
     "input": [
      "L=[1,2,3,4,5]\n",
      "L[1:3] = [(100, 101, 102)]\n",
      "print L"
     ],
     "language": "python",
     "metadata": {},
     "outputs": [
      {
       "output_type": "stream",
       "stream": "stdout",
       "text": [
        "[1, (100, 101, 102), 4, 5]\n"
       ]
      }
     ],
     "prompt_number": 8
    },
    {
     "cell_type": "markdown",
     "metadata": {},
     "source": [
      "List\ub97c \ud29c\ud50c\ub85c \uce58\ud658\ud558\ub294 \uac83\uc774\ubbc0\ub85c \uac00\ub2a5\ud569\ub2c8\ub2e4."
     ]
    },
    {
     "cell_type": "markdown",
     "metadata": {},
     "source": [
      " "
     ]
    },
    {
     "cell_type": "markdown",
     "metadata": {},
     "source": [
      "#### 8)"
     ]
    },
    {
     "cell_type": "code",
     "collapsed": false,
     "input": [
      "L = [1, 2, 3, 4, 5]\n",
      "L[1:3] = [[100, 101, 102]]\n",
      "print L"
     ],
     "language": "python",
     "metadata": {},
     "outputs": [
      {
       "output_type": "stream",
       "stream": "stdout",
       "text": [
        "[1, [100, 101, 102], 4, 5]\n"
       ]
      }
     ],
     "prompt_number": 9
    },
    {
     "cell_type": "markdown",
     "metadata": {},
     "source": [
      "List\ub97c List\ub85c \uce58\ud658\ud558\ub294 \uac83\uc774\ubbc0\ub85c \uac00\ub2a5\ud569\ub2c8\ub2e4."
     ]
    },
    {
     "cell_type": "markdown",
     "metadata": {},
     "source": [
      " "
     ]
    },
    {
     "cell_type": "markdown",
     "metadata": {},
     "source": [
      "### 2. \ubb38\uc790\uc5f4 S = 'Hello World and Python'\uc5d0 \ub300\ud574 \ub2e4\uc74c \uc694\uad6c\uc0ac\ud56d\uc5d0 \ub300\ud55c Python \ucf54\ub4dc\ub97c \uc81c\uc2dc\ud558\uc2dc\uc624. "
     ]
    },
    {
     "cell_type": "markdown",
     "metadata": {},
     "source": [
      "#### 1) \ub2e8\uc5b4\uc758 \uc21c\uc11c\uac00 \uc5ed\uc21c\uc73c\ub85c \ub418\uc5b4\uc9c4 \ubb38\uc790\uc5f4 ('Python and World Hello')\uc744 \ub9cc\ub4e4\uace0"
     ]
    },
    {
     "cell_type": "markdown",
     "metadata": {},
     "source": [
      "#### 2) 1)\uc758 \uacb0\uacfc \ubb38\uc790\uc5f4\uc5d0 \ub300\ud574 \uba54\uc18c\ub4dc split\uacfc join\uc744 \uc774\uc6a9\ud558\uc5ec \uacf5\ubc31\uc744 \ubaa8\ub450 \uc5c6\uc5d4 \ubb38\uc790\uc5f4 'PythonandWorldHello'\uc744 \ub9cc\ub4dc\uc2dc\uc624."
     ]
    },
    {
     "cell_type": "code",
     "collapsed": false,
     "input": [
      "s = 'Hello World and Python'\n",
      "s1 = s.split(' ') # \uacf5\ubc31\uc73c\ub85c \ubd84\ub9ac\n",
      "s1.reverse() # \uc5ed\uc21c\n",
      "s2 = ' '.join(s1) # \ub744\uc5b4\uc4f0\uae30\ub85c \ubaa8\ub450 \ubd99\uc774\uae30\n",
      "print s2 # \uc5ed\uc21c\uc73c\ub85c \ucd9c\ub825\n",
      "\n",
      "s2 = ''.join(s1) # \uacf5\ubc31\uc5c6\uc774 \ubaa8\ub450 \ubd99\uc774\uae30\n",
      "\n",
      "print s2 # \ubd99\uc5ec\uc11c \ucd9c\ub825"
     ],
     "language": "python",
     "metadata": {},
     "outputs": [
      {
       "output_type": "stream",
       "stream": "stdout",
       "text": [
        "Python and World Hello\n",
        "PythonandWorldHello\n"
       ]
      }
     ],
     "prompt_number": 10
    },
    {
     "cell_type": "markdown",
     "metadata": {},
     "source": [
      "1) split()\uc744 \ud1b5\ud558\uc5ec \uacf5\ubc31\uc73c\ub85c \ubd84\ub9ac\ud55c \ub4a4, reverse()\ub97c \ud1b5\ud558\uc5ec \uc5ed\uc21c\uc73c\ub85c \ucd9c\ub825\ud569\ub2c8\ub2e4.\n",
      "join \uc73c\ub85c s1\uc744 \ub744\uc5b4\uc4f0\uae30\ub85c \ubaa8\ub450 \ubd99\uc774\uace0 s2\uc5d0 \uc800\uc7a5\ud55c \ub2e4\uc74c\uc5d0 print \ub97c \ud1b5\ud574 s2\ub97c \ucd9c\ub825\ud574 \uc90d\ub2c8\ub2e4."
     ]
    },
    {
     "cell_type": "markdown",
     "metadata": {},
     "source": [
      "2) join\uc744 \ud1b5\ud558\uc5ec \uacf5\ubc31 \uc5c6\uc774 \ubaa8\ub450 \ubd99\uc5ec\uc900\ub4a4 s2\ub97c \ucd9c\ub825\ud574 \uc90d\ub2c8\ub2e4. "
     ]
    },
    {
     "cell_type": "markdown",
     "metadata": {},
     "source": [
      " "
     ]
    },
    {
     "cell_type": "markdown",
     "metadata": {},
     "source": [
      " "
     ]
    },
    {
     "cell_type": "markdown",
     "metadata": {},
     "source": [
      "### 3. \ub2e4\uc74c \ucf54\ub4dc\ub97c \ubcf4\uace0 \ubb3c\uc74c\uc5d0 \ub2f5\ud558\uc2dc\uc624."
     ]
    },
    {
     "cell_type": "code",
     "collapsed": false,
     "input": [
      "a = [1, 2, 3]\n",
      "b = a * 3\n",
      "c = [a] * 3\n",
      "print b\n",
      "print c"
     ],
     "language": "python",
     "metadata": {},
     "outputs": [
      {
       "output_type": "stream",
       "stream": "stdout",
       "text": [
        "[1, 2, 3, 1, 2, 3, 1, 2, 3]\n",
        "[[1, 2, 3], [1, 2, 3], [1, 2, 3]]\n"
       ]
      }
     ],
     "prompt_number": 11
    },
    {
     "cell_type": "markdown",
     "metadata": {},
     "source": [
      "#### 1) \uc704 \ucf54\ub4dc\ub97c \uc218\ud589\ud55c \uc774\ud6c4 \ub2e4\uc74c \ucf54\ub4dc\ub97c \uc218\ud589\ud55c \ud6c4 b\uc640 c\uc758 \ub0b4\uc6a9\uc744 \ud655\uc778\ud558\uc2dc\uc624."
     ]
    },
    {
     "cell_type": "code",
     "collapsed": false,
     "input": [
      "a = [1, 2, 3]\n",
      "b = a * 3\n",
      "c = [a] * 3\n",
      "a[0] = 0\n",
      "print b\n",
      "print c"
     ],
     "language": "python",
     "metadata": {},
     "outputs": [
      {
       "output_type": "stream",
       "stream": "stdout",
       "text": [
        "[1, 2, 3, 1, 2, 3, 1, 2, 3]\n",
        "[[0, 2, 3], [0, 2, 3], [0, 2, 3]]\n"
       ]
      }
     ],
     "prompt_number": 12
    },
    {
     "cell_type": "markdown",
     "metadata": {},
     "source": [
      "#### 2) b\uc640 c \uac1d\uccb4\uc758 \ucc28\uc774\ub294 \ubb34\uc5c7\uc778\uac00?"
     ]
    },
    {
     "cell_type": "markdown",
     "metadata": {},
     "source": [
      "b\ub294 a \uac01\uac01\uc758 \uc6d0\uc18c\uc5d0 \ub300\ud558\uc5ec *3\uc744 \ud558\uc9c0\ub9cc c\ub294 a\ub97c \ub9ac\uc2a4\ud2b8 \uc790\uccb4\ub85c \ubcf4\uace0 *3\uc744 \ud55c\ub2e4."
     ]
    },
    {
     "cell_type": "markdown",
     "metadata": {},
     "source": [
      " "
     ]
    },
    {
     "cell_type": "markdown",
     "metadata": {},
     "source": [
      " "
     ]
    },
    {
     "cell_type": "markdown",
     "metadata": {},
     "source": [
      "### 4. \ub2e4\uc74c \ubb38\uc790\uc5f4\uc744 ':'\uc744 \uae30\uc900\uc73c\ub85c \ubd84\ub9ac\ud558\uc5ec \ub9ac\uc2a4\ud2b8\ub85c \ub9cc\ub4e4\uace0 \uac01 \ubb38\uc790\uc5f4\uc758 \uc88c\uc6b0 \uacf5\ubc31\uc744 \uc81c\uac70\ud558\uc2dc\uc624 (\uc989, \ubb38\uc790\uc5f4 S\uc5d0\uc11c l\uc744 \ub9cc\ub4e4\uc5b4\ub77c) "
     ]
    },
    {
     "cell_type": "markdown",
     "metadata": {},
     "source": [
      "#### 1) for ~ in \ubb38\uc744 \uc774\uc6a9\ud55c \ucf54\ub4dc\ub97c \uc791\uc131\ud558\uc2dc\uc624. "
     ]
    },
    {
     "cell_type": "code",
     "collapsed": false,
     "input": [
      "s = '  first star   :   second star   :    third star  '\n",
      "temp = s.split(':') # :\ub97c \uae30\uc900\uc73c\ub85c \ub098\ub204\uc5b4\uc900\ub2e4.\n",
      "l =''\n",
      "for i in range(0, len(temp)) :\n",
      "    if i == len(temp)-1 : #\ub9cc\uc57d i\uac00 \ubb38\uc790\uc5f4 \ub9c8\uc9c0\ub9c9\uc774\uba74\n",
      "        l = l + temp[i].strip() # ,\ub97c \ubd99\uc5ec\uc8fc\uc9c0\uc54a\uace0 \uadf8\ub0e5 \uc591\ucabd\uacf5\ubc31\ub9cc \uc5c6\uc560\uace0\n",
      "    else :# \uadf8\ub807\uc9c0\uc54a\uc73c\uba74\n",
      "        l = l + temp[i].strip() + ','  #,\ub97c \ubd99\uc5ec\uc8fc\uace0 \uc591\ucabd \uacf5\ubc31\uc744 \uc5c6\uc564\ub2e4.\n",
      "        \n",
      "    \n",
      "print l.split(',')  #\uadf8\ub9ac\uace0 , \ub97c\uae30\uc900\uc73c\ub85c \ubaa8\ub450 \ub098\ub204\uc5b4 \uc900\ub2e4."
     ],
     "language": "python",
     "metadata": {},
     "outputs": [
      {
       "output_type": "stream",
       "stream": "stdout",
       "text": [
        "['first star', 'second star', 'third star']\n"
       ]
      }
     ],
     "prompt_number": 13
    },
    {
     "cell_type": "markdown",
     "metadata": {},
     "source": [
      "split\uc744 \ud1b5\ud558\uc5ec : \ub97c \uae30\uc900\uc73c\ub85c \ub098\ub204\uc5b4\uc8fc\uace0 for\ubb38\uacfc strip\uc744 \ud1b5\ud558\uc5ec \uc591\ucabd \uacf5\ubc31\uc744 \ubaa8\ub450 \uc5c6\uc560 \uc90d\ub2c8\ub2e4. \uadf8\ub9ac\uace0 \ub9c8\uc9c0\ub9c9\uc73c\ub85c ,\ub97c \uae30\uc900\uc73c\ub85c \ub098\ub204\uc5b4 \uc90d\ub2c8\ub2e4."
     ]
    },
    {
     "cell_type": "markdown",
     "metadata": {},
     "source": [
      "#### 2) \ub9ac\uc2a4\ud2b8 \ub0b4\ud3ec(list comprehension)\ub97c \uc774\uc6a9\ud55c \ucf54\ub4dc\ub97c \uc791\uc131\ud558\uc2dc\uc624."
     ]
    },
    {
     "cell_type": "code",
     "collapsed": false,
     "input": [
      "s = '  first star   :   second star   :    third star  '\n",
      "temp = s.split(':') # :\ub97c \uae30\uc900\uc73c\ub85c \ub098\ub204\uc5b4\uc900\ub2e4.\n",
      "l = '' #l\uac12 \ucd08\uae30\ud654\n",
      "l =[ l + temp[i].strip() for i in range(0, len(temp))] # \ub9ac\uc2a4\ud2b8 \ub0b4\ud3ec\n",
      "           \n",
      "print l"
     ],
     "language": "python",
     "metadata": {},
     "outputs": [
      {
       "output_type": "stream",
       "stream": "stdout",
       "text": [
        "['first star', 'second star', 'third star']\n"
       ]
      }
     ],
     "prompt_number": 14
    },
    {
     "cell_type": "markdown",
     "metadata": {},
     "source": [
      "split\ub97c \ud1b5\ud558\uc5ec : \ub97c \uae30\uc900\uc73c\ub85c \ub098\ub204\uc5b4\uc90d\ub2c8\ub2e4. \uadf8 \ud6c4 \ub9ac\uc2a4\ud2b8 \ub0b4\ud3ec\ub97c \ud1b5\ud558\uc5ec \uc704\uc758 for\ubb38\uc744 \uace0\uccd0\uc900\ub4a4 \ucd9c\ub825\ud558\uc5ec \uc90d\ub2c8\ub2e4."
     ]
    },
    {
     "cell_type": "markdown",
     "metadata": {},
     "source": [
      " "
     ]
    },
    {
     "cell_type": "markdown",
     "metadata": {},
     "source": [
      " "
     ]
    },
    {
     "cell_type": "markdown",
     "metadata": {},
     "source": [
      "### 5. \ub2e4\uc74c\uacfc \uac19\uc774 0\ubcf4\ub2e4 \ud070 \uc815\uc218 \ub9ac\uc2a4\ud2b8 \ubcc0\uc218 list\ub97c \uc778\uc790\ub85c \ubc1b\ub294 \ud568\uc218 addall(list)\uc640 addallodd(list)\ub97c for ~ in \ub9ac\ud130\ub110\uacfc \ub9ac\uc2a4\ud2b8 \ub0b4\ud3ec \ubc29\uc2dd\uc73c\ub85c \uac01\uac01 \uc81c\uc2dc\ud558\uc2dc\uc624."
     ]
    },
    {
     "cell_type": "markdown",
     "metadata": {},
     "source": [
      "#### 1) addall(list) \ud568\uc218 (\ub9ac\uc2a4\ud2b8 \ub0b4\uc758 \ubaa8\ub4e0 \uc815\uc218\ub97c \ub354\ud558\ub294 \ud568\uc218\ub85c\uc11c \ud574\ub2f5\uc73c\ub85c\ub294 for ~ in \ub9ac\ud130\ub7f4\uacfc \ub9ac\uc2a4\ud2b8 \ub0b4\ud3ec \ubc29\uc2dd\uc73c\ub85c \uac01\uac01 \uc81c\uc2dc\ud558\uc2dc\uc624.)"
     ]
    },
    {
     "cell_type": "code",
     "collapsed": false,
     "input": [
      "def addall(s) :\n",
      "    sum = 0\n",
      "    for i in range(0, len(s)) :\n",
      "        sum += s[i]\n",
      "        \n",
      "    return sum\n",
      "    \n",
      "def addallodd(s) :\n",
      "    sum = 0\n",
      "    for i in range(0, len(s)) :\n",
      "        if s[i] % 2 == 1 :\n",
      "            sum += s[i]\n",
      "            \n",
      "    return sum\n",
      "    \n",
      "    \n",
      "print \"\ubaa8\ub450 \ub354\ud55c \uac12 : \", addall([1]), addall([1, 2, 3, 4, 5, 6, 7, 8, 9])\n",
      "\n",
      "print \"\ud640\uc218\ub9cc \ub354\ud55c \uac12 : \", addallodd([1]), addallodd([1, 2, 3, 4, 5, 6, 7, 8, 9])"
     ],
     "language": "python",
     "metadata": {},
     "outputs": [
      {
       "output_type": "stream",
       "stream": "stdout",
       "text": [
        "\ubaa8\ub450 \ub354\ud55c \uac12 :  1 45\n",
        "\ud640\uc218\ub9cc \ub354\ud55c \uac12 :  1 25\n"
       ]
      }
     ],
     "prompt_number": 17
    },
    {
     "cell_type": "markdown",
     "metadata": {},
     "source": [
      "\ud568\uc218 addall\uc740 for\ubb38\uc744 \ud1b5\ud558\uc5ec \ubaa8\ub4e0 \uac12\uc744 sum\uc5d0 \uacc4\uc18d \ub300\uc785\uc2dc\ud0a4\ub294 \ud568\uc218\ub85c \ubaa8\ub450 \ub354\ud55c\uac12\uc744 \ucd9c\ub825\ud558\uace0\n",
      "\ud568\uc218 addallodd\ub294 for\ubb38\uc744 \ud1b5\ud558\uc5ec sum\uac12\uc5d0 \ud640\uc218 \uac12\ub9cc \ub354\ud558\ub294 \ud568\uc218\ub85c \ud640\uc218\ub9cc \ub354\ud55c \uac12\uc744 \ucd9c\ub825\ud569\ub2c8\ub2e4."
     ]
    },
    {
     "cell_type": "markdown",
     "metadata": {},
     "source": [
      "#### 2) addallodd(list) \ud568\uc218 (\ub9ac\uc2a4\ud2b8\ub0b4\uc758 \ubaa8\ub4e0 \ud640\uc218\ub97c \ub354\ud558\ub294 \ud568\uc218\ub85c\uc11c \ud574\ub2f5\uc73c\ub85c\ub294 for ~ in \ub9ac\ud130\ub7f4\uacfc \ub9ac\uc2a4\ud2b8 \ub0b4\ud3ec \ubc29\uc2dd\uc73c\ub85c \uac01\uac01 \uc81c\uc2dc\ud558\uc2dc\uc624.)"
     ]
    },
    {
     "cell_type": "code",
     "collapsed": false,
     "input": [
      "def addall(s) :   \n",
      "    return sum (i for i in s)\n",
      "    \n",
      "def addallodd(s) :\n",
      "    return sum (i for i in s if i % 2 == 1)\n",
      "    \n",
      "    \n",
      "print \"\ubaa8\ub450 \ub354\ud55c \uac12 : \", addall([1]), addall([1, 2, 3, 4, 5, 6, 7, 8, 9])\n",
      "\n",
      "print \"\ud640\uc218\ub9cc \ub354\ud55c \uac12 : \", addallodd([1]), addallodd([1, 2, 3, 4, 5, 6, 7, 8, 9])"
     ],
     "language": "python",
     "metadata": {},
     "outputs": [
      {
       "output_type": "stream",
       "stream": "stdout",
       "text": [
        "\ubaa8\ub450 \ub354\ud55c \uac12 :  1 45\n",
        "\ud640\uc218\ub9cc \ub354\ud55c \uac12 :  1 25\n"
       ]
      }
     ],
     "prompt_number": 20
    },
    {
     "cell_type": "markdown",
     "metadata": {},
     "source": [
      "\ud568\uc218 addall\uc740 \ub9ac\uc2a4\ud2b8 \ub0b4\ud3ec\ub85c\ub85c \ud558\uc5ec s\uc548\uc5d0 i\ub97c \ucc3e\uc544 \ubaa8\ub450 \ub354\ud558\uc5ec \ub9ac\ud134\ud558\uc5ec \uc90d\ub2c8\ub2e4. \uadf8\ub9ac\uace0 \ud568\uc218 addallodd\ub294 \uc870\uac74\ubb38 if\ub97c \ucd94\uac00\uc2dc\ucf1c \ud640\uc218\uac12\uc744 \ub354\ud558\uc5ec \uc90d\ub2c8\ub2e4."
     ]
    },
    {
     "cell_type": "markdown",
     "metadata": {},
     "source": [
      " "
     ]
    },
    {
     "cell_type": "markdown",
     "metadata": {},
     "source": [
      " "
     ]
    },
    {
     "cell_type": "markdown",
     "metadata": {},
     "source": [
      "### 6. \ub2e4\uc74c \ucf54\ub4dc\ub97c \ubcf4\uace0 \ubb3c\uc74c\uc5d0 \ub2f5\ud558\uc2dc\uc624."
     ]
    },
    {
     "cell_type": "code",
     "collapsed": false,
     "input": [
      "L1 = [1, 2, 3]\n",
      "L2 = [4, 5, 6]\n",
      "d = {'low':L1, 'high':L2}\n",
      "e = d\n",
      "f = d.copy()\n",
      "print d\n",
      "print e\n",
      "print f\n",
      "print\n",
      "d['low'] = [10, 20, 30]\n",
      "d['high'][1] = 500\n",
      "print d\n",
      "print e\n",
      "print f"
     ],
     "language": "python",
     "metadata": {},
     "outputs": [
      {
       "output_type": "stream",
       "stream": "stdout",
       "text": [
        "{'high': [4, 5, 6], 'low': [1, 2, 3]}\n",
        "{'high': [4, 5, 6], 'low': [1, 2, 3]}\n",
        "{'high': [4, 5, 6], 'low': [1, 2, 3]}\n",
        "\n",
        "{'high': [4, 500, 6], 'low': [10, 20, 30]}\n",
        "{'high': [4, 500, 6], 'low': [10, 20, 30]}\n",
        "{'high': [4, 500, 6], 'low': [1, 2, 3]}\n"
       ]
      }
     ],
     "prompt_number": 26
    },
    {
     "cell_type": "markdown",
     "metadata": {},
     "source": [
      "#### 1) \uc704 \ucf54\ub4dc\uc758 \uc218\ud589 \uacb0\uacfc d\uc640 e\ub294 \ud56d\uc0c1 \uac19\uc740 \uacb0\uacfc\ub97c \ucd9c\ub825\ud55c\ub2e4. \uadf8 \uc774\uc720\ub294 \ubb34\uc5c7\uc778\uac00?"
     ]
    },
    {
     "cell_type": "markdown",
     "metadata": {},
     "source": [
      "d\uc640 e\ub294 \ub3d9\uc77c\ud55c \uac1d\uccb4\ub97c \uac00\ub9ac\ud0a4\uace0 \uc788\uc73c\ubbc0\ub85c \ud56d\uc0c1 \uac19\uc740 \uacb0\uacfc\ub97c \ucd9c\ub825\ud55c\ub2e4."
     ]
    },
    {
     "cell_type": "markdown",
     "metadata": {},
     "source": [
      "#### 2) \uc704 \ucf54\ub4dc\uc758 \uc218\ud589 \uacb0\uacfc \ub9c8\uc9c0\ub9c9 f\uc758 \ub0b4\uc6a9\uc740 \ub2e4\uc74c\uacfc \uac19\ub2e4. \uc774 \ub54c 'high' \ud0a4\uc758 \uac12 \ub0b4\uc6a9 \uc911 500\uc774 \ucd9c\ub825\ub41c \uc774\uc720\uc640 'low' \ud0a4\uc758 \uac12 \ub0b4\uc6a9 \uc911 [1, 2, 3]\uc774 \ucd9c\ub825\ub41c \uc774\uc720\ub97c \uc124\uba85\ud558\uc2dc\uc624 ([hint]: shallow copy \uad00\uc810\uc5d0\uc11c \uc124\uba85\ud558\uc2dc\uc624.)"
     ]
    },
    {
     "cell_type": "markdown",
     "metadata": {},
     "source": [
      "d.copy()\ub97c \ud1b5\ud558\uc5ec f\ub294 \ubcc4\ub3c4\uc758 \uc0ac\uc804 \uac1d\uccb4\ub97c \ub9cc\ub4e0\ub2e4. \uadf8\ub7ec\ubbc0\ub85c \uc0ac\uc804['low']\uc758 \ub0b4\uc6a9\uc774 \ubc14\ub00c\uc5b4\ub3c4 f\uc5d0 \uc788\ub294 \uac12\uc740 \ubc14\ub00c\uc9c0\uac00 \uc54a\ub294\ub2e4. \ud558\uc9c0\ub9cc d['high'][1]\uc740 L2[1]\uacfc \uac19\uc740 \uac1d\uccb4\ub97c \uacf5\uc720\ud558\uace0 f\uac00 \ubcc4\ub3c4\uc758 \uc0ac\uc804 \uac1d\uccb4\ub97c \ub9cc\ub4e4 \ubfd0\uc774\uc9c0 \uc0ac\uc804 \uc548\uc5d0\uc788\ub294 \uac1d\uccb4\ub294 \uc6d0\ub798\uc758 \uac1d\uccb4\ub97c \uac00\uc9c0\uace0 \uc788\ub2e4. \uadf8\ub7ec\ubbc0\ub85c d['high'][1] \uac12\uc774 \ubcc0\uacbd\ub418\uba74 L2[1]\uc758 \uac12\uc774 \ubcc0\uacbd\ub418\uace0 f['high'][1]\uac12 \uc5ed\uc2dc \ubcc0\uacbd\ub41c\ub2e4."
     ]
    },
    {
     "cell_type": "markdown",
     "metadata": {},
     "source": [
      " "
     ]
    },
    {
     "cell_type": "markdown",
     "metadata": {},
     "source": [
      " "
     ]
    },
    {
     "cell_type": "markdown",
     "metadata": {},
     "source": [
      "### 7. \uc0ac\uc804 d = {'one':1, 'two':2, 'three':3, 'four':4, 'five':5}\uac00 \uc8fc\uc5b4\uc84c\uc744 \ub54c \ub2e4\uc74c \uc694\uad6c\uc0ac\ud56d\uc5d0 \ub9de\ub294 \ucf54\ub4dc\ub97c \uc81c\uc2dc\ud558\uc2dc\uc624 "
     ]
    },
    {
     "cell_type": "markdown",
     "metadata": {},
     "source": [
      "#### 1) \ud0a4\uc758 \uc54c\ud30c\ubcb3 \uc624\ub984\ucc28\uc21c \uc21c\uc11c\ub300\ub85c \ud29c\ud50c (\ud0a4, \uac12)\uc744 \ucc28\ub840\ub300\ub85c \ucd9c\ub825\ud558\uc2dc\uc624."
     ]
    },
    {
     "cell_type": "code",
     "collapsed": false,
     "input": [
      "d = {'one':1, 'two':2, 'three':3, 'four':4, 'five':5}\n",
      "L=d.keys()\n",
      "L.sort()\n",
      "\n",
      "for i in range(0, len(d)) :\n",
      "    print (L[i], d[L[i]]), # \uc624\ub984\ucc28\uc21c"
     ],
     "language": "python",
     "metadata": {},
     "outputs": [
      {
       "output_type": "stream",
       "stream": "stdout",
       "text": [
        "('five', 5) ('four', 4) ('one', 1) ('three', 3) ('two', 2)\n"
       ]
      }
     ],
     "prompt_number": 27
    },
    {
     "cell_type": "markdown",
     "metadata": {},
     "source": [
      "L \uc5d0\ub2e4\uac00 \ud0a4\uac12\uc744 \ubaa8\ub450 \ub123\uc5b4\uc8fc\uace0 L\uc744 \uc624\ub984\ucc28\uc21c\uc73c\ub85c \uc815\ub82c \ud55c\ub2e4 \uadf8 \ud6c4, for\ubb38\uc744 \ud1b5\ud558\uc5ec L, \uacfc \uc0ac\uc804\uc744 \ud1b5\ud558\uc5ec \uadf8 \ud0a4\uc5d0 \ub9de\ub294 \uac12\uc744 \ucd9c\ub825\ud574 \uc900\ub2e4."
     ]
    },
    {
     "cell_type": "markdown",
     "metadata": {},
     "source": [
      " "
     ]
    },
    {
     "cell_type": "markdown",
     "metadata": {},
     "source": [
      "#### 2) \ud0a4\uc758 \uc54c\ud30c\ubcb3 \ub0b4\ub9bc\ucc28\uc21c \uc21c\uc11c\ub300\ub85c \ud29c\ud50c (\ud0a4, \uac12)\uc744 \ucc28\ub840\ub300\ub85c \ucd9c\ub825\ud558\uc2dc\uc624."
     ]
    },
    {
     "cell_type": "code",
     "collapsed": false,
     "input": [
      "d = {'one':1, 'two':2, 'three':3, 'four':4, 'five':5}\n",
      "L=d.keys()\n",
      "L.sort()\n",
      "L.reverse()\n",
      "\n",
      "for i in range(0, len(d)) :\n",
      "    print (L[i], d[L[i]]), # \ub0b4\ub9bc\ucc28\uc21c"
     ],
     "language": "python",
     "metadata": {},
     "outputs": [
      {
       "output_type": "stream",
       "stream": "stdout",
       "text": [
        "('two', 2) ('three', 3) ('one', 1) ('four', 4) ('five', 5)\n"
       ]
      }
     ],
     "prompt_number": 28
    },
    {
     "cell_type": "markdown",
     "metadata": {},
     "source": [
      "\uc704\uc640 \ube44\uc2b7\ud558\uac8c \ucf54\ub529\uc744 \ud558\ub418 \uc911\uac04 L.reverse()\ub97c \ud1b5\ud558\uc5ec \ub0b4\ub9bc\ucc28\uc21c\uc73c\ub85c \uc815\ub82c\ud574 \uc90d\ub2c8\ub2e4."
     ]
    },
    {
     "cell_type": "markdown",
     "metadata": {},
     "source": [
      " "
     ]
    },
    {
     "cell_type": "markdown",
     "metadata": {},
     "source": [
      "#### 3) \uac12\uc758 \uc624\ub984\ucc28\uc21c \uc21c\uc11c\ub300\ub85c \ud29c\ud50c (\ud0a4, \uac12)\uc744 \ucc28\ub840\ub300\ub85c \ucd9c\ub825\ud558\uc2dc\uc624. "
     ]
    },
    {
     "cell_type": "code",
     "collapsed": false,
     "input": [
      "d = {'one':1, 'two':2, 'three':3, 'four':4, 'five':5}\n",
      "K = d.keys()\n",
      "K.sort()\n",
      "V = d.values()\n",
      "V.sort()\n",
      "\n",
      "for i in range(V[0], V[len(d)-1]+1) :\n",
      "    for j in range(0, len(K)) :\n",
      "        if i == d[K[j]] :\n",
      "            print (K[j], i), "
     ],
     "language": "python",
     "metadata": {},
     "outputs": [
      {
       "output_type": "stream",
       "stream": "stdout",
       "text": [
        "('one', 1) ('two', 2) ('three', 3) ('four', 4) ('five', 5)\n"
       ]
      }
     ],
     "prompt_number": 32
    },
    {
     "cell_type": "markdown",
     "metadata": {},
     "source": [
      "K\uc5d0 \ud0a4\uac12\uc744 \ub123\uc5b4\uc8fc\uace0 K\ub97c \uc624\ub984\ucc28\uc21c\uc73c\ub85c \uc815\ub82c\ud558\uc5ec \uc90d\ub2c8\ub2e4. \uadf8\ub9ac\uace0 V\uc5d0\ub2e4\uac00\ub294 \uac12\uc744 \uc785\ub825\uc2dc\ud0a8 \ud6c4 \uc624\ub984\ucc28\uc21c\uc73c\ub85c \uc99d\uac00\uc2dc\ucf1c \uc90d\ub2c8\ub2e4. \uadf8\ub9ac\uace0 for\ubb38\uc744 \ud1b5\ud558\uc5ec V[0]\ubd80\ud130 V\uae38\uc774 \ub05d\uae4c\uc9c0 \ud558\uace0 \uc548\ucabd for\ubb38\uc5d0 0\ubd80\ud130 K\uae38\uc774\uae4c\uc9c0 \uc124\uc815\ud574 \uc900\ud6c4 i\uc640 \uc0ac\uc804\uc5d0 \ud0a4\uc758 \uac12\uacfc \uac19\uc73c\uba74 \ucd9c\ub825 \uc2dc\ucf1c \uc90d\ub2c8\ub2e4."
     ]
    },
    {
     "cell_type": "markdown",
     "metadata": {},
     "source": [
      " "
     ]
    },
    {
     "cell_type": "markdown",
     "metadata": {},
     "source": [
      "#### 4) \uac12\uc758 \ub0b4\ub9bc\ucc28\uc21c \uc21c\uc11c\ub300\ub85c \ud29c\ud50c (\ud0a4, \uac12)\uc744 \ucc28\ub840\ub300\ub85c \ucd9c\ub825\ud558\uc2dc\uc624."
     ]
    },
    {
     "cell_type": "code",
     "collapsed": false,
     "input": [
      "d = {'one':1, 'two':2, 'three':3, 'four':4, 'five':5}\n",
      "K=d.keys()\n",
      "K.sort()\n",
      "V = d.values()\n",
      "V.sort()\n",
      "V.reverse()\n",
      "i = V[0]\n",
      "\n",
      "while(1) :\n",
      "    for j in range(0, len(K)) :\n",
      "        if i == d[K[j]] :\n",
      "            print (K[j], i),\n",
      "    i = i - 1\n",
      "    \n",
      "    if i == V[len(d)-1]-1 :\n",
      "        break;"
     ],
     "language": "python",
     "metadata": {},
     "outputs": [
      {
       "output_type": "stream",
       "stream": "stdout",
       "text": [
        "('five', 5) ('four', 4) ('three', 3) ('two', 2) ('one', 1)\n"
       ]
      }
     ],
     "prompt_number": 33
    },
    {
     "cell_type": "markdown",
     "metadata": {},
     "source": [
      "\uc704\uc758 \ucf54\ub4dc\uc640 \ube44\uc2b7\ud558\uac8c \uc9dc\ub418 V\ub97c \ub0b4\ub9bc\ucc28\uc21c\uc73c\ub85c \uc815\ub82c\ud558\uc5ec \uc90d\ub2c8\ub2e4. \uadf8\ud6c4 while\ubb38\uc744 \ud1b5\ud558\uc5ec \uadf8\uc548\uc5d0 for\ubb38\uc73c\ub85c K\uac12\uc744 \ub0b4\ub9bc\ucc28\uc21c\uc73c\ub85c \ucd9c\ub825\ud558\uc5ec \uc90d\ub2c8\ub2e4. \uadf8\ub9ac\uace0 i\uac00 v\ub05d\uae4c\uc9c0 \ub2e4\ub2e4\ub974\uba74 \uc885\ub8cc \ud569\ub2c8\ub2e4."
     ]
    },
    {
     "cell_type": "markdown",
     "metadata": {},
     "source": [
      " "
     ]
    },
    {
     "cell_type": "markdown",
     "metadata": {},
     "source": [
      " "
     ]
    },
    {
     "cell_type": "markdown",
     "metadata": {},
     "source": [
      "### 7. \uc774\uc804 Assignment 2\uc758 \ub9c8\uc9c0\ub9c9 \ubb38\uc81c\ub294 \uc6f9 URL\ub85c \uc9c0\uc815\ub41c \uc6f9\ud398\uc774\uc9c0\ub97c \ubb38\uc790\uc5f4\ub85c \uac00\uc838\uc640 \ubaa8\ub4e0 HTML \ud0dc\uadf8 \ubc0f CSS\uc640 Javascript\ub97c \uc81c\uc678\ud55c \uc21c\uc218 \ud14d\uc2a4\ud2b8\ub97c \uc5bb\uc5b4\ub0b4\uace0 \uadf8 \uc548\uc5d0 \uc874\uc7ac\ud558\ub294 \ub2e8\uc5b4\ub97c \ucd94\ucd9c\ud558\ub294 \ud504\ub85c\uadf8\ub7a8\uc744 \uc791\uc131\ud558\ub294 \uac83\uc774\uc5c8\ub2e4. \uc774\ubc88\uc5d0\ub294 \uadf8 \ub9c8\uc9c0\ub9c9 \uc219\uc81c\ub97c \uadf8\ub300\ub85c \ud655\uc7a5\ud558\uc5ec \uc6f9 URL\ub85c \uc9c0\uc815\ub41c \uc6f9\ud398\uc774\uc9c0 \ub0b4 \uc21c\uc218 \ud14d\uc2a4\ud2b8 \uc548\uc5d0 \uc874\uc7ac\ud558\ub294 \uac01 \ub2e8\uc5b4\ub4e4\uc5d0 \ub300\ud574 \ub2e4\uc74c \uc694\uad6c\uc0ac\ud56d \ub300\ub85c \ucd9c\ub825\ud558\ub294 \ud504\ub85c\uadf8\ub7a8\uc744 \uc791\uc131\ud558\uc2dc\uc624. "
     ]
    },
    {
     "cell_type": "markdown",
     "metadata": {},
     "source": [
      "#### 1) \uc694\uad6c\uc0ac\ud56d 1. \uc21c\uc218 \ud14d\uc2a4\ud2b8 \uc548\uc5d0 \uc874\uc7ac\ud558\ub294 \ub2e8\uc5b4\ub4e4\uc5d0 \ub300\ud574 string \ubaa8\ub4c8\uc744 \ud65c\uc6a9\ud558\uc5ec \ubaa8\ub4e0 punctuation (\uad6c\ub450\ubb38\uc790)\ub97c \uc644\ubcbd\ud788 \uc81c\uac70\ud558\uc2dc\uc624 (\uad50\uc7ac 166\ud398\uc774\uc9c0 \ucc38\uace0)."
     ]
    },
    {
     "cell_type": "markdown",
     "metadata": {},
     "source": [
      "#### 2) \uc694\uad6c\uc0ac\ud56d 2. \uac01 \ub2e8\uc5b4\ub4e4\uc758 \ucd9c\ud604\ube48\ub3c4\ub97c \uc0ac\uc804\ud615\ud0dc\ub85c \uc800\uc7a5\ud558\uc5ec \ucd9c\ub825\ud558\uc2dc\uc624."
     ]
    },
    {
     "cell_type": "code",
     "collapsed": false,
     "input": [
      "# -*- coding: utf-8 -*-\n",
      "import string\n",
      "import urllib\n",
      "\n",
      "source = urllib.urlopen(\"http://cse.kut.ac.kr/\").read()\n",
      "\n",
      "len_source = len(source)\n",
      "print \"Initial length of source:\", len_source\n",
      "\n",
      "source_new = None\n",
      "i = 0\n",
      "while (i < len_source):\n",
      "\tfound = False\n",
      "\tif (found != True and source[i] == \"<\" and source[i+1 : i+7].lower() == \"script\"):\n",
      "\t\tfound = True;\n",
      "\t\tj = i + 7;\n",
      "\t\twhile (True):\n",
      "\t\t\tif (source[j] == \"<\" and source[j+1] == \"/\" and source[j+2 : j+8].lower() == \"script\"):\n",
      "\t\t\t\t#print \"found - script\"\n",
      "\t\t\t\tsource = source[:i] + ' ' + source[j+9:]\n",
      "\t\t\t\tbreak\n",
      "\t\t\tj = j + 1\n",
      "\t\t\tif (j > len_source):\n",
      "\t\t\t\tbreak\n",
      "\t\tlen_source = len(source)\n",
      "\ti = i + 1\n",
      "\n",
      "len_source = len(source)\n",
      "#print len_source\n",
      "\n",
      "i = 0\n",
      "while (i < len_source):\n",
      "\tfound = False\n",
      "\tif (found != True and source[i] == \"<\" and source[i+1 : i+6].lower() == \"style\"):\n",
      "\t\tfound = True;\n",
      "\t\tj = i + 6;\n",
      "\t\twhile (True):\n",
      "\t\t\tif (source[j] == \"<\" and source[j+1] == \"/\" and source[j+2 : j+7].lower() == \"style\"):\n",
      "\t\t\t\t#print \"found - style\"\n",
      "\t\t\t\tsource = source[:i] + ' ' + source[j+8:]\n",
      "\t\t\t\tbreak\n",
      "\t\t\tj = j + 1\n",
      "\t\t\tif (j > len_source):\n",
      "\t\t\t\tbreak\n",
      "\t\tlen_source = len(source)\n",
      "\ti = i + 1\n",
      "\n",
      "len_source = len(source)\n",
      "#print len_source\n",
      "\n",
      "i = 0\n",
      "while (i < len_source):\n",
      "\tfound = False\n",
      "\tif (found != True and source[i] == \"<\"):\n",
      "\t\tfound = True;\n",
      "\t\tj = i + 1;\n",
      "\t\twhile (True):\n",
      "\t\t\tif (source[j] == \">\"):\n",
      "\t\t\t\t#print \"found - HTML tag\"\n",
      "\t\t\t\tsource = source[:i] + ' ' + source[j+1:]\n",
      "\t\t\t\tbreak\n",
      "\t\t\tj = j + 1\n",
      "\t\t\tif (j > len_source):\n",
      "\t\t\t\tbreak\n",
      "\t\tlen_source = len(source)\n",
      "\ti = i + 1\n",
      "\n",
      "len_source = len(source)\n",
      "print \"Last length of source:\", len_source\n",
      "\n",
      "words = source.split()\n",
      "\n",
      "#for word in words:\n",
      "#\tprint word\n",
      "\n",
      "print \"Total num of plain words:\", len(words)\n",
      "\n",
      "\n",
      "blank_words = ' '.join(words)\n",
      "L=string.punctuation #\ubaa8\ub4e0 \ud2b9\uc218\ubb38\uc790 #\ud2b9\uc218\ubb38\uc790\ub97c \uc544\ubb34\uac83\ub3c4 \uc5c6\ub294 \uac12\uc73c\ub85c \ubcc0\uacbd\n",
      "special_letter=blank_words.translate(None,L)\n",
      "K = special_letter.split()\n",
      "for i in range(0, len(K)) :\n",
      "    count = 1\n",
      "    for j in range(0, len(K)) :\n",
      "        if K[i] == K[j] :\n",
      "            count = count + 1\n",
      "    print \"%s:\" % K[i],\n",
      "    print count,\n",
      "    print ' ',"
     ],
     "language": "python",
     "metadata": {},
     "outputs": [
      {
       "output_type": "stream",
       "stream": "stdout",
       "text": [
        "Initial length of source: 36573\n",
        "Last length of source: 5488\n",
        "Total num of plain words: 199\n",
        "\ucef4\ud4e8\ud130\uacf5\ud559\ubd80: 8   \ud648\ud398\uc774\uc9c0: 2"
       ]
      },
      {
       "output_type": "stream",
       "stream": "stdout",
       "text": [
        "   \ucef4\ud4e8\ud130\uacf5\ud559\ubd80: 8   \uad50\uc721\ubaa9\ud45c: 2   \ucc3e\uc544\uc624\uc2dc\ub294\uae38: 2   \uc878\uc5c5\uc791\ud488: 7   \uacf5\ud559\uc124\uacc4: 3   \ucde8\uc5c5\uc870\uc0ac2014: 2   \ucde8\uc5c5\uc870\uc0ac2013: 2   \uad50\uc218\uc9c4: 2   \ud559\uc0dd\ud68c: 2   \uc878\uc5c5\uc774\uc218\uc694\uac74: 2   \ucef4\ud4e8\ud130SW: 2   \ucef4\ud4e8\ud130HW: 2   \ucef4\ud4e8\ud130\uc2a4\ub9c8\ud2b8IT: 2   \ucef4\ud4e8\ud130\uc2dc\uc2a4\ud15c\uc751\uc6a9: 2   \uc7a5\ud559\uc81c\ub3c4: 2   \ubaa8\uc9d1\uc694\uac15: 2   \uc785\uc2dcQA: 2   \uacf5\uc9c0\uc0ac\ud56d: 2   \uc790\uc720\uac8c\uc2dc\ud310: 2   \uc775\uba85\uac8c\uc2dc\ud310: 2   \ucde8\uc5c5\uac8c\uc2dc\ud310: 2   \ub3d9\ubb38\uac8c\uc2dc\ud310: 2   \uc0ac\uc9c4\uac8c\uc2dc\ud310: 2   \ud559\ubd80\uc0ac\uc9c4\uac94\ub7ec\ub9ac: 2   \uace0\uc7a5\uc2e0\uace0\uac8c\uc2dc\ud310: 2   \uac15\uc758\uc790\ub8cc\uc2e4: 2   \uc77c\ubc18\uc790\ub8cc\uc2e4: 2   \uc11c\uc2dd\ubc0f\uc591\uc2dd\uc790\ub8cc\uc2e4: 2   \ub300\ud559\uc6d0\uc18c\uac1c: 2   \uc5f0\uad6c\uc2e4\uc18c\uac1c: 2   \ub300\ud559\uc6d0\uac8c\uc2dc\ud310: 2   \uacf5\ud559\uc778\uc99d\uc548\ub0b4: 2   \uacf5\ud559\uc778\uc99d\uac8c\uc2dc\ud310: 2   C: 2   20140327: 2   \uacf5\ud559\uc124\uacc4: 3   \ud3ec\uc2a4\ud130\ubc1c\ud45c\uacbd\uc9c4\ub300\ud68c: 2   \ud22c\ud45c: 2   20131210: 2   2013\ub144: 2   \uc878\uc5c5\uc791\ud488: 7   \ube0c\ub85c\uc154: 2   20131007: 2   \uc81c: 2   4\ub300: 2   \ucef4\ud4e8\ud130\uacf5\ud559\ubd80: 8   \ud559\ud68c\uc7a5\ubd80\ud559: 2   20121105: 2   \ub514\uc9c0\ud138: 2   \uc2dc\uc2a4\ud15c: 3   \uc124\uacc41: 2   \uc2e4\uc2b5\uc870\uad50: 2   20120909: 2   \uc18c\ud504\ud2b8\uc6e8\uc5b4\uacf5\ud559: 2   \uc911\uac04\uace0\uc0ac: 2   \uacf5\uc9c0: 2   20141016: 4   \ucef4\ud4e8\ud130\uacf5\ud559\ubd80: 8   \ud559\uc0dd\ub4e4\uc744: 2   \uc704\ud55c: 2   \ub18d\uad6c: 2   20141006: 3   \ud639\uc2dc: 2   \ud64d\uc9c4\ud45c: 2   \uad50\uc218\ub2d8\uc758: 2   \ucef4\ud4e8\ud130: 2   \uad6c: 2   nbsp: 2   2: 2   20141006: 3   \uc18c\ud504\ud2b8\uc6e8\uc5b4: 3   \uac1c\ubc1c\ubcf4\uc548: 2   \uacbd\uc9c4\ub300\ud68c: 2   \uac1c\ucd5c: 2   20141001: 2   2015\ub144: 2   \uc0c1\ubc18\uae30: 2   \uc0bc\uc131: 2   \uc18c\ud504\ud2b8\uc6e8\uc5b4: 3   20140925: 2   \ucf64\ud14d\uc2dc\uc2a4\ud15c: 2   \uc2e0\uc785\uc0ac\uc6d0: 2   \ubaa8\uc9d1: 2   20141016: 4   2014\ub144: 4   Tmoney\ud55a\uad6d\uc2a4\ub9c8\ud2b8\uce74\ub4dc: 2   20141014: 5   \uc138\ub9bc\ud2f0\ub124\uc2a4\uc9c0\uc8fc: 2   \uc778\ub825: 2   \ucc44\uc6a9: 2   \uacf5\uace0: 2   20140930: 2   \uc8fc\uc5e0\ud504\ub860\ud2f0\uc5b4: 2   \uc2dc\uc2a4\ud15c: 3   \uc6b4\uc601\uac1c\ubc1c: 2   20140915: 2   \ucef4\ud4e8\ud130\uacf5\ud559\ubd80: 8   \ud559\ubd80\uc0ac\ubb34\uc2e4: 2   \uccad\ub144\uc778\ud134: 2   20140806: 2   20141014: 5   20141014: 5   1: 2   2014\ub144: 4   \uc878\uc5c5: 2   \ud559\uc220\uc81c: 2   \ucef4\ud4e8\ud130\uacf5\ud559\ubd80: 8   \uc878\uc5c5\uc791\ud488: 7   \uc778: 3   20141016: 4   \uc878\uc5c5\uc791\ud488: 7   \ud3ec\uc0c1\uacbd\uc9c4\ub300\ud68c: 2   \uc548\ub0b4: 3   20141015: 2   \ub300\ud559\uc6d0\uc0dd: 2   \ub300\uc0c1: 2   \uc548\uc804\uad50\uc721: 2   \uc548\ub0b4: 3   10: 2   20141014: 5   \ud2b9\uc131\ud654\uc0ac\uc5c5\ub2e8: 2   \uc77c\ubcf8\uae30\uc220\ud0d0\ubc29: 2   \uc120: 2   20141013: 2   2014\ub144: 4   \ud558\ubc18\uae30: 2   \ud154\ucf54\uc6e8\uc5b4\uc8fc: 2   \uc2e0\uc785: 2   20141010: 2   \uc878\uc5c5\uc791\ud488: 7   \uc804\uc2dc\ud68c: 2   \ucef4\ud4e8\ud130\uacf5\ud559\ubd80: 8   \uc778: 3   20141007: 2   \uc7ac\uacf5\uc9c0: 2   12\uc77c: 2   \ub9c8\uac10: 2   \uc878\uc5c5\uc791\ud488: 7   \ud3ec: 2   20141004: 2   \uc870\uc774\uc2dc\ud2f0: 2   \u2018\ub2ec\uacfc: 2   \uadf8\ub9bc\uc790\u2019: 2   \ub3d9\ub0a8\uc544: 2   20141017: 6   \ud1b5\uc2e0\uc7a5\ube44\uc5c5\uacc4: 2   \u201c\uc8fc\ud30c\uc218: 2   \uc815\ud574\ub2ec\ub77c\u201d\u00b7: 2   20141017: 6   KT: 2   \ubaa8\ubc14\uc77c: 2   \ud0a4: 2   \uc11c\ube44\uc2a4: 2   \uc0c1\uc6a9\ud654: 2   20141017: 6   \ud55c\uad6d: 2   \uc815\ubcf4\ud1b5\uc2e0\ubcf4\uc870\uae30\uae30: 2   ICT: 2   \uad6d\uc81c: 2   20141017: 6   \uc560\ud50c: 2   \uc544\uc774\ud328\ub4dc: 2   \uc5d0\uc5b42: 2   \ucd9c\uc2dc: 2   20141017: 6  \n"
       ]
      }
     ],
     "prompt_number": 35
    },
    {
     "cell_type": "markdown",
     "metadata": {},
     "source": [
      "translate\ub97c \ud1b5\ud558\uc5ec \ubaa8\ub4e0 \ud2b9\uc218\ubb38\uc790\ub97c None\uac12\uc73c\ub85c \ub9cc\ub4e0\ub4a4 K\uc5d0\ub2e4 \uacf5\ubc31\ubb38\uc790\ub85c \ub2e4 \ub123\uc2b5\ub2c8\ub2e4. \uadf8\ub7f0\ub370 \uadf8\ub0e5 \ucd9c\ub825\ud558\uac8c \ub418\uba74 \uc720\ub2c8\ucf54\ub4dc\ub77c\uc11c \uc774\uc0c1\ud558\uac8c \ub098\uc624\ubbc0\ub85c %s\ub97c \ud1b5\ud558\uc5ec \ud558\ub098\uc529 \ucd9c\ub825\ud558\ub418 for\ubb38 \ub450\uac1c\ub97c \ud1b5\ud558\uc5ec \uac01 \ub9ac\uc2a4\ud2b8\uc758 \uc6d0\uc18c\uac00 \uac19\uc73c\uba74 count\ub97c \ud574\uc8fc\uc5b4\uc11c \ub2e8\uc5b4\uc758 \uc218\ub97c \ucd9c\ub825 \ud558\uc5ec \uc90d\ub2c8\ub2e4."
     ]
    },
    {
     "cell_type": "markdown",
     "metadata": {},
     "source": [
      " "
     ]
    },
    {
     "cell_type": "markdown",
     "metadata": {},
     "source": [
      " "
     ]
    },
    {
     "cell_type": "markdown",
     "metadata": {},
     "source": [
      "## \ub290\ub080\uc810 "
     ]
    },
    {
     "cell_type": "markdown",
     "metadata": {},
     "source": [
      "\uc774\ubc88 \uc2e4\uc2b5\uacfc\uc81c\ub294 \uc870\uae08 \uc0dd\uac01\ud574\uc57c\ud560\uac8c \ub9ce\uc740\uac83 \uac19\uc2b5\ub2c8\ub2e4. \ucc45\uc5d0 \ub098\uc640\uc788\ub294 \ub0b4\uc6a9\uc73c\ub85c\ub294 \uc815\ub9d0 \ucf54\ub4dc\ub97c \uc5b4\ub835\uac8c \uc9dc\uac70\ub098 \uc544\ub2c8\uba74 \uc774\ud574\ud558\uae30 \uc5b4\ub824\uc6cc\uc11c \uc778\ud130\ub137\uc744 \ub9ce\uc774 \uc0ac\uc6a9\ud558\uc5ec \uac01\uc885 \ud568\uc218\ub97c \ucc3e\uc544\ubcf4\uace0 \uc5b4\ub5bb\uac8c \uc4f0\ub294\uc9c0, \uc5b4\ub5a4 \ub0b4\uc6a9\uc774 \uc788\ub294\uc9c0 \ucc3e\uc544 \ubcf4\uc558\uc2b5\ub2c8\ub2e4. \uc9c0\uae08\uae4c\uc9c0 \ud55c \uacfc\uc81c \uc911\uc5d0\uc11c \uac00\uc7a5 \ub9ce\uc740 \uc2dc\uac04\uc744 \ud22c\uc790\ud558\uc600\uc9c0\ub9cc \ud30c\uc774\uc36c\uc5d0\uc11c \uc0ac\uc6a9\ud558\ub294 \ubb38\ubc95\uc744 \ub9ce\uc774 \ubc30\uc6b8 \uc218 \uc788\uc5c8\uace0 \ud30c\uc774\uc36c\uc5d0 \ub300\ud55c \ud765\ubbf8\uac00 \uc880\ub354 \uc0dd\uacbc\ub358 \uacfc\uc81c\uc600\ub358\uac83 \uac19\uc2b5\ub2c8\ub2e4."
     ]
    }
   ],
   "metadata": {}
  }
 ]
}