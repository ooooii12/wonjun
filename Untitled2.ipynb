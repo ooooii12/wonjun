{
 "metadata": {
  "name": "",
  "signature": "sha256:5b90a44bfe591d3ca18b19e7f7e52bf360684bd57408d0ad46c29dfbcef8acb8"
 },
 "nbformat": 3,
 "nbformat_minor": 0,
 "worksheets": [
  {
   "cells": [
    {
     "cell_type": "markdown",
     "metadata": {},
     "source": [
      "# 2011136023 \uae40\uc6d0\uc900 "
     ]
    },
    {
     "cell_type": "markdown",
     "metadata": {},
     "source": [
      " "
     ]
    },
    {
     "cell_type": "markdown",
     "metadata": {},
     "source": [
      " "
     ]
    },
    {
     "cell_type": "markdown",
     "metadata": {},
     "source": [
      " "
     ]
    },
    {
     "cell_type": "markdown",
     "metadata": {},
     "source": [
      "## 1. \ub2e4\uc74c 6 \uac1c\uc758 Expression\uc5d0 \ub300\ud574 Evaluation \uacb0\uacfc \uac12\uc744 \ucd9c\ub825\ud558\uace0, \ud574\ub2f9 \uacb0\uacfc\uac00 \ub098\uc628 \uc774\uc720\uc5d0 \ub300\ud574 \uc124\uba85\ud558\uc2dc\uc624"
     ]
    },
    {
     "cell_type": "markdown",
     "metadata": {},
     "source": [
      "### (1) 1 and 2 and 3 and 4"
     ]
    },
    {
     "cell_type": "markdown",
     "metadata": {},
     "source": [
      "\ubaa8\ub4e0\uc218\ub97c bool \ud568\uc218\ub97c \uc774\uc6a9\ud574\uc11c \ucd9c\ub825\ud558\uba74 True\uac00 \ub098\uc628\ub2e4."
     ]
    },
    {
     "cell_type": "markdown",
     "metadata": {},
     "source": [
      "\uadf8\ub7ec\ubbc0\ub85c \ubaa8\ub450 true\uc774\ubbc0\ub85c \uacb0\uacfc\uac12\uc740 \ub9e8\ub9c8\uc9c0\ub9c9 4\uac00 \ub098\uc628\ub2e4."
     ]
    },
    {
     "cell_type": "markdown",
     "metadata": {},
     "source": [
      "### (2) 1 or 2 or 3 or 4"
     ]
    },
    {
     "cell_type": "markdown",
     "metadata": {},
     "source": [
      "\ubaa8\ub4e0\uc218\ub97c bool \ud568\uc218\ub97c \uc774\uc6a9\ud574\uc11c \ucd9c\ub825\ud558\uba74 True\uac00 \ub098\uc628\ub2e4."
     ]
    },
    {
     "cell_type": "markdown",
     "metadata": {},
     "source": [
      "\uc55e\uc5d0\uac00 True\uc774\ubbc0\ub85c \ub4a4\uc5d0 \uc5b4\ub5a4\uc22b\uc790\uac00 \ub098\uc640\ub3c4 True\uc774\ub2e4 \uadf8\ub7ec\ubbc0\ub85c 1\uc774 \ucd9c\ub825\ub41c\ub2e4."
     ]
    },
    {
     "cell_type": "markdown",
     "metadata": {},
     "source": [
      "###(3) 1 and 2 or 3 and 4"
     ]
    },
    {
     "cell_type": "markdown",
     "metadata": {},
     "source": [
      "1 and 2\ub97c \ud558\uba74 true\uc774\uace0 \uadf8\ub2e4\uc74c or\uc774 \uc788\uc73c\ubbc0\ub85c 2\uac00 \ucd9c\ub825\ub41c\ub2e4."
     ]
    },
    {
     "cell_type": "markdown",
     "metadata": {},
     "source": [
      "### (4) (1 and 2) or (3 and 4)"
     ]
    },
    {
     "cell_type": "markdown",
     "metadata": {},
     "source": [
      "1 and 2\ub97c \uac80\uc0ac\ud588\uc744\ub54c True\uac00 \ub098\uc624\uace0 \ub4a4\uc5d0 or\uc774\ub098\uc628\ub2e4."
     ]
    },
    {
     "cell_type": "markdown",
     "metadata": {},
     "source": [
      "\uc774\ub54c (1 and 2)\uac00 \ucc38\uc774\ubbc0\ub85c or\ub4a4\uc5d0 \ubb34\uc5c7\uc774 \ub098\uc640\ub3c4 \ucc38\uc774\ub2e4. \uadf8\ub7ec\ubbc0\ub85c \ub9e8\ub9c8\uc9c0\ub9c9\uc5d0 \ucd9c\ub825\ub41c 2\uac00 \ucd9c\ub825\ub41c\ub2e4."
     ]
    },
    {
     "cell_type": "markdown",
     "metadata": {},
     "source": [
      "### (5) 1 or 2 and 3 or 4"
     ]
    },
    {
     "cell_type": "markdown",
     "metadata": {},
     "source": [
      "1\ub2e4\uc74c\uc5d0 or\uc774\ub098\uc624\ubbc0\ub85c 1\uc774 \ucc38\uc774\ub2c8\uae4c \ub4a4\uc5d0\ub3c4 \ucc38\uc774\ub77c \uac00\uc815\ud558\uc5ec \ud3c9\uac00\ub97c \uc885\ub8cc\ud55c\ub2e4."
     ]
    },
    {
     "cell_type": "markdown",
     "metadata": {},
     "source": [
      "### (6) (1 or 2) and (3 or 4)"
     ]
    },
    {
     "cell_type": "markdown",
     "metadata": {},
     "source": [
      "(1 or 2)\ub97c \uacc4\uc0b0\ud588\uc744\ub54c True \uc774\uace0 \uadf8\ub2e4\uc74c and\uc774\ubbc0\ub85c \uadf8\ub2e4\uc74c\uc73c\ub85c \ub118\uc5b4\uac04\ub4a4"
     ]
    },
    {
     "cell_type": "markdown",
     "metadata": {},
     "source": [
      "(3 or 4)\uacc4\uc0b0\uc911 3\ub2e4\uc74c\uc5d0 or\uc774 \ub098\uc654\uc73c\ubbc0\ub85c 3\uc5d0\uc11c \ud3c9\uac00\uac00 \uba48\ucd98\ub2e4. "
     ]
    },
    {
     "cell_type": "markdown",
     "metadata": {},
     "source": [
      " "
     ]
    },
    {
     "cell_type": "markdown",
     "metadata": {},
     "source": [
      " "
     ]
    },
    {
     "cell_type": "markdown",
     "metadata": {},
     "source": [
      "  "
     ]
    },
    {
     "cell_type": "markdown",
     "metadata": {},
     "source": [
      "## 2. 7/5, -7/5, -(7/5)\uc758 \uacb0\uacfc\ub97c \ud655\uc778\ud558\uace0 \uac01\uac01\uc758 \uacb0\uacfc\uac00 \uc65c \uadf8\ub807\uac8c \ub098\uc624\ub294 \uc9c0 \uc124\uba85\ud558\uc2dc\uc624"
     ]
    },
    {
     "cell_type": "markdown",
     "metadata": {},
     "source": [
      "### [\ucc38\uace0] \ubaab\uc740 \ud56d\uc0c1 \uc74c\uc758 \ubb34\ud55c\ub300 \ubc29\ud5a5\uc73c\ub85c round up (\ubc18\uc62c\ub9bc) \ub41c\ub2e4\ub294 \uc810\uc744 \uae30\uc5b5\ud574\uc57c \ud568"
     ]
    },
    {
     "cell_type": "markdown",
     "metadata": {},
     "source": [
      "7/5 = 1 \uc815\uc218\uc640 \uc815\uc218\ub97c / \ub294 \ubaab\ub9cc \ub098\ud0c0\ub0b4\ubbc0\ub85c 7/5\ub294 \ubaa9\uc774 1\uc774\uace0 \ub098\uba38\uc9c0\uac00 2\uc774\ubbc0\ub85c \ubaab\uc778 1\uc774 \ucd9c\ub825\ub41c\ub2e4."
     ]
    },
    {
     "cell_type": "markdown",
     "metadata": {},
     "source": [
      "-7/5 = -2 \ub098\uba38\uc9c0\ub294 0 \ubcf4\ub2e4 \ucee4\uc57c\ud558\ubbc0\ub85c -7\uc744 5\ub85c \ub098\ub204\uba74 \ub9cc\uc57d \ubaab\uc774 -1\uc77c\uc2dc \ub098\uba38\uc9c0\uac00 -2\uc774\ubbc0\ub85c \uc548\ub41c\ub2e4. \uadf8\ub7ec\ubbc0\ub85c \ubaab\uc774 -2\uc774\uace0 \ub098\uba38\uc9c0\ub294 3\uc774\ub41c\ub2e4. \ud558\uc9c0\ub9cc / \ub294 \ubaab\ub9cc \ub098\ud0c0\ub0b4\ubbc0\ub85c -2\uac00 \ucd9c\ub825\ub41c\ub2e4."
     ]
    },
    {
     "cell_type": "markdown",
     "metadata": {},
     "source": [
      "-(7/5) = -1 \uba3c\uc800 \uad04\ud638\uc548\uc744 \uacc4\uc0b0\ud560\ub54c \uc704\uc5d0\uc11c \ubd24\ub4dc\uc774 \ubaab\uc774 1\uc774 \ucd9c\ub825\ub41c\ub2e4. \uadf8\ud6c4 -\ub97c \uacf1\ud574\uc8fc\uba74 -1\ub85c \ucd9c\ub825\ub41c\ub2e4."
     ]
    },
    {
     "cell_type": "markdown",
     "metadata": {},
     "source": [
      " "
     ]
    },
    {
     "cell_type": "markdown",
     "metadata": {},
     "source": [
      " "
     ]
    },
    {
     "cell_type": "markdown",
     "metadata": {},
     "source": [
      " "
     ]
    },
    {
     "cell_type": "markdown",
     "metadata": {},
     "source": [
      "## 3. \ud0a4\ubcf4\ub4dc\ub85c \uc815\uc218\uac12\uc744 \uc785\ub825 \ubc1b\uace0 \uadf8 \uac12\uc774 \uc591\uc218\uc778\uc9c0 \uc74c\uc218\uc778\uc9c0\ub97c \ube44\ud2b8 \uc5f0\uc0b0\uc790\ub97c \uc774\uc6a9\ud558\uc5ec \ud310\ub2e8\ud558\ub294 \ud504\ub85c\uadf8\ub7a8\uc744 \uc791\uc131\ud558\uc2dc\uc624. "
     ]
    },
    {
     "cell_type": "markdown",
     "metadata": {},
     "source": [
      "### [\ucc38\uace0] \uac00\uc7a5 \uc67c\ucabd\uc5d0 \uc788\ub294 \ube44\ud2b8\uac00 0\uc774\uba74 \uc591\uc218\uc774\uba70, 1\uc774\uba74 \uc74c\uc218\uc774\ub2e4."
     ]
    },
    {
     "cell_type": "code",
     "collapsed": false,
     "input": [
      "integer = input(\"Enter integer : \");\n",
      "if integer | 0 > 0 :\n",
      "    print 'plus'\n",
      "elif integer | 0 ==0 :\n",
      "    print 'zero'\n",
      "else :\n",
      "    print 'minus'"
     ],
     "language": "python",
     "metadata": {},
     "outputs": [
      {
       "name": "stdout",
       "output_type": "stream",
       "stream": "stdout",
       "text": [
        "Enter integer : 3\n"
       ]
      },
      {
       "output_type": "stream",
       "stream": "stdout",
       "text": [
        "plus\n"
       ]
      }
     ],
     "prompt_number": 1
    },
    {
     "cell_type": "markdown",
     "metadata": {},
     "source": [
      "\uc785\ub825\ubc1b\uc740 \uc815\uc218\uac00 0\uacfc \ube44\ud2b8\uc5f0\uc0b0\uc744 \ube44\uad50\ud558\uc600\uc744\ub54c 0\ubcf4\ub2e4 \ud06c\uba74(\uc591\uc218\uc77c\ub54c\ub294 \ub9e8 \uc67c\ucabd\uc774 0, \uc74c\uc218\uc77c\ub584\ub294 \ub9e8 \uc67c\ucabd\uc774 1) \uc591\uc218\uc774\uace0 , \uac19\uc73c\uba74 0\uc774\uace0 \uadf8\ub807\uc9c0 \uc54a\uc73c\uba74 \uc74c\uc218\uc774\ub2e4."
     ]
    },
    {
     "cell_type": "markdown",
     "metadata": {},
     "source": [
      " "
     ]
    },
    {
     "cell_type": "markdown",
     "metadata": {},
     "source": [
      " "
     ]
    },
    {
     "cell_type": "markdown",
     "metadata": {},
     "source": [
      " "
     ]
    },
    {
     "cell_type": "markdown",
     "metadata": {},
     "source": [
      "## \ub450 \uac1c\uc758 \ub9ac\uc2a4\ud2b8\ub97c \uc778\uc790\ub85c \ubc1b\uc544\uc11c \uadf8 \ub450 \uac1c\uc758 \ub9ac\uc2a4\ud2b8\uc5d0 \ub300\ud55c '\ud569\uc9d1\ud569'\uc744 \ubc18\ud658\ud558\ub294 \ud568\uc218 list_union(lista, listb)\ub97c \uc791\uc131\ud558\uc2dc\uc624."
     ]
    },
    {
     "cell_type": "markdown",
     "metadata": {},
     "source": [
      "### \u25fe\uc778\uc790\ub85c \uc804\ub2ec\ud558\ub294 \ub9ac\uc2a4\ud2b8 2 \uac1c\uc5d0\ub294 \uc815\uc218\uac12\ub9cc \ub4e4\uc5b4\uac04\ub2e4\uace0 \uac00\uc815\ud558\uc790."
     ]
    },
    {
     "cell_type": "markdown",
     "metadata": {},
     "source": [
      "### \u25fe\ud568\uc218 \ub0b4\uc5d0\uc11c \uc0c8\ub85c\uc6b4 \ub9ac\uc2a4\ud2b8\ub97c \ub9cc\ub4e4\uc5b4 \uadf8 \ub9ac\uc2a4\ud2b8 \ub0b4\uc5d0 \uc778\uc790\ub85c \ubc1b\uc740 \ub450 \ub9ac\uc2a4\ud2b8\uc758 \ubaa8\ub4e0 \uc6d0\uc18c\ub97c \ub123\uc5b4 \ubc18\ud658\ud55c\ub2e4."
     ]
    },
    {
     "cell_type": "markdown",
     "metadata": {},
     "source": [
      "### \u25fe\ubc18\ud658\ud558\ub294 \ub9ac\uc2a4\ud2b8\uc5d0\ub294 \uc808\ub300\ub85c \uc911\ubcf5\ub41c \uc6d0\uc18c\uac00 \ub4e4\uc5b4 \uc788\uc73c\uba74 \uc548\ub41c\ub2e4 (\uc9d1\ud569\uc758 \uc870\uac74)."
     ]
    },
    {
     "cell_type": "markdown",
     "metadata": {},
     "source": [
      "### \u25fe\ubc18\ud658\ud558\ub294 \ub9ac\uc2a4\ud2b8\ub294 \uc815\ub82c\uc774 \ub418\uc5b4 \uc788\uc5b4\uc57c \ud55c\ub2e4."
     ]
    },
    {
     "cell_type": "markdown",
     "metadata": {},
     "source": [
      "### \u25fe\ub2e4\uc74c\uacfc \uac19\uc740 \uc2e4\ud589 \ubc0f \ucd9c\ub825 \uacb0\uacfc\uac00 \ub3c4\ucd9c\ub418\uc5b4\uc57c \ud55c\ub2e4. "
     ]
    },
    {
     "cell_type": "code",
     "collapsed": false,
     "input": [
      "def list_union(lista, listb) :\n",
      "    for i in range(0, len(lista)) :\n",
      "        for j in range(0, len(listb)) :\n",
      "            if lista[i] == listb[j] :\n",
      "                continue\n",
      "            else :\n",
      "                listc = lista +listb[j:j+1] \n",
      "    return listc\n",
      "    \n",
      "L = list_union([1,2,3], [2,3,4])\n",
      "L.sort()\n",
      "\n",
      "print L"
     ],
     "language": "python",
     "metadata": {},
     "outputs": [
      {
       "output_type": "stream",
       "stream": "stdout",
       "text": [
        "[1, 2, 3, 4]\n"
       ]
      }
     ],
     "prompt_number": 2
    },
    {
     "cell_type": "markdown",
     "metadata": {},
     "source": [
      "\uccab\ubc88\uc9f8 for\ubb38 \uc744 0\uc5d0\uc11c lista \uae38\uc774 \uae4c\uc9c0 i\ub97c \uc99d\uac00\uc2dc\ud0a4\uace0 \ub450\ubc88\uc9f8 for\ubb38\uc744 \ud1b5\ud558\uc5ec j\ub97c 0\ubd80\ud130 listb\uc758 \uae38\uc774\uae4c\uc9c0 \uc99d\uac00\uc2dc\uae34\ub2e4. \uc774\ub54c \ub9cc\uc57d lista[i] == listb[j]\uc758 \uac12\uc774 \uac19\ub2e4\uba74 \uadf8\ub300\ub85c \uc9c4\ud589\ud558\uace0 \ub9cc\uc57d \ub2e4\ub974\uba74 listc\uc5d0 lista \uc640 listb\ub97c \ucd94\uac00\ud558\uc5ec \uc900\ub2e4."
     ]
    },
    {
     "cell_type": "markdown",
     "metadata": {},
     "source": [
      "\uadf8\ub9ac\uace0 L\uc5d0 \ub123\uc5b4\uc900\ub4a4, sort\ud568\uc218\ub97c \ud1b5\ud558\uc5ec \uc815\ub82c\uc2dc\ucf1c\uc900\ub2e4."
     ]
    },
    {
     "cell_type": "markdown",
     "metadata": {},
     "source": [
      " "
     ]
    },
    {
     "cell_type": "markdown",
     "metadata": {},
     "source": [
      " "
     ]
    },
    {
     "cell_type": "markdown",
     "metadata": {},
     "source": [
      " "
     ]
    },
    {
     "cell_type": "markdown",
     "metadata": {},
     "source": [
      "## \uacbd\ub85c\uc5d0 \ud574\ub2f9\ud558\ub294 \ubb38\uc790\uc5f4 1\uac1c\ub97c \uc785\ub825 \ubc1b\uc544 \uadf8 \uc548\uc5d0 \ub514\ub809\ud1a0\ub9ac \uacbd\ub85c\uba85\uacfc \ud30c\uc77c\uba85\uc744 \ubd84\ub9ac\ud558\uc5ec \ub9ac\uc2a4\ud2b8\ub85c \ubc18\ud658\ud558\ub294 \ud568\uc218 div_path(s)\ub97c \uc791\uc131\ud558\uc2dc\uc624."
     ]
    },
    {
     "cell_type": "markdown",
     "metadata": {},
     "source": [
      "### \u25fe\uc778\uc790\ub85c \uc804\ub2ec\ud558\ub294 \ubb38\uc790\uc5f4\uc740 \uacbd\ub85c\ub9cc \ub4e4\uc5b4\uac04\ub2e4\uace0 \uac00\uc815\ud55c\ub2e4."
     ]
    },
    {
     "cell_type": "markdown",
     "metadata": {},
     "source": [
      "### \u25fe\uac01 \ub514\ub809\ud1a0\ub9ac\uc640 \ud30c\uc77c\uc744 \uad6c\ubd84\ud558\ub294 \ubb38\uc790\ub294 '/'\ub85c \uac00\uc815\ud55c\ub2e4."
     ]
    },
    {
     "cell_type": "markdown",
     "metadata": {},
     "source": [
      "### \u25fe\ubc18\ud658\ud558\ub294 \ub9ac\uc2a4\ud2b8\uc758 \uccab\ubc88\uc9f8 \uc6d0\uc18c\ub294 \ub514\ub809\ud1a0\ub9ac\uc774\uace0 \ub450\ubc88\uc9f8 \uc6d0\uc18c\ub294 \ud30c\uc77c\uba85\uc774\ub2e4. "
     ]
    },
    {
     "cell_type": "markdown",
     "metadata": {},
     "source": [
      "### \u25fe\ub2e4\uc74c\uacfc \uac19\uc740 \uc2e4\ud589 \ubc0f \ucd9c\ub825 \uacb0\uacfc\uac00 \ub3c4\ucd9c\ub418\uc5b4\uc57c \ud55c\ub2e4."
     ]
    },
    {
     "cell_type": "code",
     "collapsed": false,
     "input": [
      "def div_path(s) :\n",
      "    return s.rsplit('/', 1)\n",
      "    \n",
      "print div_path('/usr/local/bin/python')\n",
      "print div_path('/home/chulsoo/test.txt')"
     ],
     "language": "python",
     "metadata": {},
     "outputs": [
      {
       "output_type": "stream",
       "stream": "stdout",
       "text": [
        "['/usr/local/bin', 'python']\n",
        "['/home/chulsoo', 'test.txt']\n"
       ]
      }
     ],
     "prompt_number": 3
    },
    {
     "cell_type": "markdown",
     "metadata": {},
     "source": [
      "rsplit\ud568\uc218(\uc624\ub978\ucabd\ubd80\ud130, \ubb38\uc790\uae4c\uc9c0, \ud55c\ubc88\ub9cc \ub04a\uc5b4\uc11c \ub9ac\uc2a4\ud2b8\uc5d0 \uc800\uc7a5) \ub97c \uc0ac\uc6a9\ud558\uc5ec \uc27d\uac8c \ud480\uba74 \ub41c\ub2e4."
     ]
    },
    {
     "cell_type": "markdown",
     "metadata": {},
     "source": [
      " "
     ]
    },
    {
     "cell_type": "markdown",
     "metadata": {},
     "source": [
      " "
     ]
    },
    {
     "cell_type": "markdown",
     "metadata": {},
     "source": [
      " "
     ]
    },
    {
     "cell_type": "code",
     "collapsed": false,
     "input": [
      "import urllib\n",
      "s = s = urllib.urlopen('http://www.python.org/').read()\n",
      "r = 4\n",
      "a = -1\n",
      "c = -1\n",
      "b = 0\n",
      "k = 0\n",
      "temp = ' '\n",
      "s1 = s.replace('>>>', '<script>')\n",
      "while(1) :\n",
      "    \n",
      "    if c > s1.find('>', a+1) or c == -1 or r == 3 :\n",
      "        a = s1.find('>', a+1)\n",
      "\n",
      "    else :\n",
      "        r = 3\n",
      "        b = s1.find('<', b+1)\n",
      "        c = s1.find('<', b+1)\n",
      "        continue   \n",
      "    \n",
      "    \n",
      "    b = s1.find('<', b+1)\n",
      "    c = s1.find('<', b+1) \n",
      " \n",
      "    if a > s1.find('script', k+1) and s1.find('script', k+1) != -1:\n",
      "        k = a\n",
      "        continue\n",
      "    if a > s1.find('style', k+1) and s1.find('style', k+1) != -1:\n",
      "        k = a\n",
      "        continue\n",
      "    \n",
      "    temp = temp + s1[a+1:b]\n",
      "    \n",
      "    \n",
      "    \n",
      "    if a == -1 or b == -1 :\n",
      "        break\n",
      "        \n",
      "print temp\n",
      "print \"\ub2e8\uc5b4\uc758 \ucd1d \uac2f\uc218 : \", len(temp.split())"
     ],
     "language": "python",
     "metadata": {},
     "outputs": [
      {
       "output_type": "stream",
       "stream": "stdout",
       "text": [
        " \n",
        "      \n",
        "                \n",
        "                       \n",
        "  \n",
        "\n",
        "\n",
        "    \n",
        "    \n",
        "\n",
        "    \n",
        "\n",
        "    \n",
        "    \n",
        "    \n",
        "    \n",
        "    \n",
        "    \n",
        "    \n",
        "    \n",
        "    \n",
        "\n",
        "    \n",
        "    \n",
        "\n",
        "    \n",
        "    \n",
        "    \n",
        "    \n",
        "    \n",
        "    \n",
        "    \n",
        "\n",
        "    \n",
        "    \n",
        "    \n",
        "    \n",
        "\n",
        "    \n",
        "    \n",
        "\n",
        "    Welcome to Python.org\n",
        "    \n",
        "\n",
        "    \n",
        "    \n",
        "    \n",
        "    \n",
        "    \n",
        "    \n",
        "     \n",
        "    \n",
        "    \n",
        "    \n",
        "\n",
        "    \n",
        "\n",
        "    \n",
        "\n",
        "    \n",
        "    \n",
        "\n",
        "\n",
        "\n",
        "    \n",
        "\n",
        "        \n",
        "        \n",
        "\n",
        "            \n",
        "\n",
        "                \n",
        "                \n",
        "                    Skip to content\n",
        "                \n",
        "\n",
        "                \n",
        "                \n",
        "                    &#9660; Close\n",
        "                \n",
        "\n",
        "                \n",
        "\n",
        "\n",
        "    \n",
        "    \n",
        "        Python\n",
        "    \n",
        "    \n",
        "    \n",
        "        PSF\n",
        "    \n",
        "    \n",
        "    \n",
        "        Docs\n",
        "    \n",
        "    \n",
        "    \n",
        "        PyPI\n",
        "    \n",
        "    \n",
        "    \n",
        "        Jobs\n",
        "    \n",
        "    \n",
        "    \n",
        "        Community\n",
        "    \n",
        "    \n",
        "\n",
        "\n",
        "\n",
        "                \n",
        "                    &#9650; The Python Network\n",
        "                \n",
        "\n",
        "            \n",
        "\n",
        "        \n",
        "\n",
        "        \n",
        "        \n",
        "            \n",
        "\n",
        "                \n",
        "                    \n",
        "                \n",
        "\n",
        "                \n",
        "\n",
        "                    \n",
        "                    &equiv; Menu\n",
        "                        \n",
        "\n",
        "                            \n",
        "\n",
        "                            Search This Site\n",
        "                            \n",
        "\n",
        "                            \n",
        "                                GO\n",
        "                            \n",
        "\n",
        "                            \n",
        "                            \n",
        "\n",
        "                        \n",
        "                    \n",
        "                        \n",
        "                            \n",
        "                                A A\n",
        "                                \n",
        "                                    \n",
        "                                    \n",
        "                                    \n",
        "                                \n",
        "                            \n",
        "                        \n",
        "                    \n",
        "                        \n",
        "                            \n",
        "                                Socialize\n",
        "                                \n",
        "                                    Google+\n",
        "                                    Facebook\n",
        "                                    Twitter\n",
        "                                    IRC on Freenode\n",
        "                                \n",
        "                            \n",
        "                        \n",
        "                    \n",
        "                        \n",
        "                            \n",
        "                                \n",
        "                                Sign In\n",
        "                                \n",
        "                                    Sign Up / Register\n",
        "                                    Sign In\n",
        "                                \n",
        "                                \n",
        "                            \n",
        "                        \n",
        "                    \n",
        "\n",
        "                \n",
        "\n",
        "                \n",
        "                    \n",
        "                        \n",
        "\n",
        "    \n",
        "\n",
        "    \n",
        "        About\n",
        "        \n",
        "            \n",
        "\n",
        "\n",
        "    \n",
        "        Applications\n",
        "    \n",
        "        Quotes\n",
        "    \n",
        "        Getting Started\n",
        "    \n",
        "        Help\n",
        "    \n",
        "\n",
        "\n",
        "        \n",
        "    \n",
        "    \n",
        "\n",
        "    \n",
        "        Downloads\n",
        "        \n",
        "            \n",
        "\n",
        "\n",
        "    \n",
        "        All releases\n",
        "    \n",
        "        Source code\n",
        "    \n",
        "        Windows\n",
        "    \n",
        "        Mac OS X\n",
        "    \n",
        "        Other Platforms\n",
        "    \n",
        "        License\n",
        "    \n",
        "        Alternative Implementations\n",
        "    \n",
        "\n",
        "\n",
        "        \n",
        "    \n",
        "    \n",
        "\n",
        "    \n",
        "        Documentation\n",
        "        \n",
        "            \n",
        "\n",
        "\n",
        "    \n",
        "        Docs\n",
        "    \n",
        "        Audio/Visual Talks\n",
        "    \n",
        "        Beginner&#39;s Guide\n",
        "    \n",
        "        Developer&#39;s Guide\n",
        "    \n",
        "        FAQ\n",
        "    \n",
        "        Non-English Docs\n",
        "    \n",
        "        PEP Index\n",
        "    \n",
        "        Python Books\n",
        "    \n",
        "\n",
        "\n",
        "        \n",
        "    \n",
        "    \n",
        "\n",
        "    \n",
        "        Community\n",
        "        \n",
        "            \n",
        "\n",
        "\n",
        "    \n",
        "        Diversity\n",
        "    \n",
        "        IRC\n",
        "    \n",
        "        Mailing Lists\n",
        "    \n",
        "        Python Conferences\n",
        "    \n",
        "        Special Interest Groups\n",
        "    \n",
        "        Python Wiki\n",
        "    \n",
        "        Python Logo\n",
        "    \n",
        "        Merchandise\n",
        "    \n",
        "        Community Awards\n",
        "    \n",
        "\n",
        "\n",
        "        \n",
        "    \n",
        "    \n",
        "\n",
        "    \n",
        "        Success Stories\n",
        "        \n",
        "            \n",
        "\n",
        "\n",
        "    \n",
        "        Arts\n",
        "    \n",
        "        Business\n",
        "    \n",
        "        Education\n",
        "    \n",
        "        Engineering\n",
        "    \n",
        "        Government\n",
        "    \n",
        "        Scientific\n",
        "    \n",
        "        Software Development\n",
        "    \n",
        "\n",
        "\n",
        "        \n",
        "    \n",
        "    \n",
        "\n",
        "    \n",
        "        News\n",
        "        \n",
        "            \n",
        "\n",
        "\n",
        "    \n",
        "        Python News\n",
        "    \n",
        "        Community News\n",
        "    \n",
        "        PSF News\n",
        "    \n",
        "        PyCon News\n",
        "    \n",
        "\n",
        "\n",
        "        \n",
        "    \n",
        "    \n",
        "\n",
        "    \n",
        "        Events\n",
        "        \n",
        "            \n",
        "\n",
        "\n",
        "    \n",
        "        Python Events\n",
        "    \n",
        "        User Group Events\n",
        "    \n",
        "        Python Events Archive\n",
        "    \n",
        "        User Group Events Archive\n",
        "    \n",
        "        Submit an Event\n",
        "    \n",
        "\n",
        "\n",
        "        \n",
        "    \n",
        "    \n",
        "\n",
        "\n",
        "                    \n",
        "                \n",
        "\n",
        "                 \n",
        "                    \n",
        "        \n",
        "\n",
        "            \n",
        "                \n",
        "                    &gt;_\n",
        "                        Launch Interactive Shell\n",
        "                    \n",
        "                \n",
        "            \n",
        "\n",
        "            \n",
        "                \n",
        "                \n",
        "                    # Python 3: Fibonacci series up to n\r\n",
        "0 1 1 2 3 5 8 13 21 34 55 89 144 233 377 610\n",
        "                    Functions Defined\r\n",
        "The core of extensible programming is defining functions. Python allows mandatory and optional arguments, keyword arguments, and even arbitrary argument lists. More about defining functions in Python&nbsp;3\n",
        "                \n",
        "                \n",
        "                \n",
        "                    # Python 3: For loop on a list\r\n",
        "The sum is: 20\n",
        "                    All the Flow You&rsquo;d Expect\r\n",
        "Python knows the usual control flow statements that other languages speak &mdash; if, for, while and range &mdash; with some of its own twists, of course. More control flow tools in Python&nbsp;3\n",
        "                \n",
        "                \n",
        "                \n",
        "                    # Python 3: Simple output (with Unicode)\r\n",
        "Hello, I'm Python!\r\n",
        "\r\n",
        "# Input, assignment\r\n",
        "What is your name?\r\n",
        "Python\r\n",
        "Hi, Python.\n",
        "                    Quick &amp; Easy to Learn\r\n",
        "Experienced programmers in any other language can pick up Python very quickly, and beginners find the clean syntax and indentation structure easy to learn. Whet your appetite with our Python&nbsp;3 overview.\r\n",
        "                   \n",
        "                \n",
        "                \n",
        "                \n",
        "                    # Python 3: List comprehensions\r\n",
        "['BANANA', 'APPLE', 'LIME']\r\n",
        "\r\n",
        "# List and the enumerate function\r\n",
        "[(0, 'Banana'), (1, 'Apple'), (2, 'Lime')]\n",
        "                    Compound Data Types\r\n",
        "Lists (known as arrays in other languages) are one of the compound data types that Python understands. Lists can be indexed, sliced and manipulated with other built-in functions. More about lists in Python&nbsp;3\n",
        "                \n",
        "                \n",
        "                \n",
        "                    # Python 3: Simple arithmetic\r\n",
        "0.5\r\n",
        "8\r\n",
        "# classic division returns a float\r\n",
        "5.666666666666667\r\n",
        "# floor division\r\n",
        "5\n",
        "                    Intuitive Interpretation\r\n",
        "Calculations are simple with Python, and expression syntax is straightforward: the operators +, -, * and / work as expected; parentheses () can be used for grouping. More about simple math functions in Python&nbsp;3.\n",
        "                \n",
        "                \n",
        "            \n",
        "        \n",
        "\n",
        "\n",
        "                \n",
        "\n",
        "                \n",
        "        \n",
        "            Python is a programming language that lets you work quickly and integrate systems more effectively. Learn More\n",
        "        \n",
        "\n",
        "\n",
        "             \n",
        "        \n",
        "\n",
        "        \n",
        "            \n",
        "            \n",
        "\n",
        "                \n",
        "\n",
        "                    \n",
        "                    \n",
        "\n",
        "                    \n",
        "\n",
        "                \n",
        "\n",
        "                    \n",
        "                        Get Started\r\n",
        "Whether you're new to programming or an experienced developer, it's easy to learn and use Python.\r\n",
        "Start with our Beginner&rsquo;s Guide\n",
        "                    \n",
        "\n",
        "                    \n",
        "                        Download\n",
        "Python source code and installers are available for download for all versions! Not sure which version to use? Check here.\n",
        "Latest: Python 3.4.1 - Python 2.7.8\n",
        "                    \n",
        "\n",
        "                    \n",
        "                        Docs\r\n",
        "Documentation for Python's standard library, along with tutorials and guides, are available online.\r\n",
        "docs.python.org\n",
        "                    \n",
        "\n",
        "                    \n",
        "                        Jobs\r\n",
        "Looking for work or have a Python related position that you're trying to hire for? Our community-run job board is the place to go.\r\n",
        "jobs.python.org\n",
        "                    \n",
        "\n",
        "                \n",
        "\n",
        "                \n",
        "\n",
        "                    \n",
        "                        \n",
        "                        \n",
        "                        \n",
        "                            Latest News\n",
        "                            More\n",
        "                            \n",
        "                            \n",
        "                                \n",
        "                                \n",
        "                                \n",
        "2014-08-01\n",
        " Python 3.4.1 was released on May 18th, 2014, with over ...\n",
        "                                \n",
        "                                \n",
        "2014-03-17\n",
        " Python 3.4.0 has been released today. Python 3.4 includes a ...\n",
        "                                \n",
        "                                \n",
        "2014-03-11\n",
        " A new bugfix release, Python 3.3.5, has been issued to ...\n",
        "                                \n",
        "                                \n",
        "2014-03-11\n",
        " The third release candidate for Python 3.4 has been released. ...\n",
        "                                \n",
        "                                \n",
        "2014-02-20\n",
        " The first release candidate for Python 3.4, Python 3.4.0rc1, has ...\n",
        "                                \n",
        "                            \n",
        "                        \n",
        "\n",
        "                    \n",
        "\n",
        "                    \n",
        "                        \n",
        "                        \n",
        "                        \n",
        "                            Upcoming Events\n",
        "                            More\n",
        "                            \n",
        "                            \n",
        "                                \n",
        "                                \n",
        "                                \n",
        "                                \n",
        "2014-09-30\n",
        " Guadalajara, Mexico PUG\n",
        "                                \n",
        "                                \n",
        "                                \n",
        "                                \n",
        "2014-09-30\n",
        " Python Meeting D\u00fcsseldorf (PyDDF)\n",
        "                                \n",
        "                                \n",
        "                                \n",
        "                                \n",
        "2014-10-02\n",
        " PyConZA 2014\n",
        "                                \n",
        "                                \n",
        "                                \n",
        "                                \n",
        "2014-10-03\n",
        " PyTexas 2014\n",
        "                                \n",
        "                                \n",
        "                                \n",
        "                                \n",
        "2014-10-07\n",
        " Fox Valley Python User Group (WI, USA)\n",
        "                                \n",
        "                                \n",
        "                            \n",
        "                        \n",
        "\n",
        "                    \n",
        "\n",
        "                \n",
        "\n",
        "                \n",
        "\n",
        "                    \n",
        "                        \n",
        "\n",
        "                        \n",
        "                            \n",
        "\n",
        "                            Success Stories\n",
        "                            More\n",
        "\n",
        "                            \n",
        "                            \n",
        "                                ILM runs a batch processing environment capable of modeling, rendering and compositing tens of thousands of motion picture frames per day. Thousands of machines running Linux, IRIX, Compaq Tru64, OS X, Solaris, and Windows join together to provide a production pipeline used by ~800 users daily. Speed of development is key, and Python was a faster way to code (and re-code) the programs that control this production pipeline.\n",
        "                            \n",
        "\n",
        "                            \n",
        "                                \n",
        "                                    \n",
        "                                        \n",
        "                                        Industrial Light &amp; Magic Runs on Python by Tim Fortenberry\n",
        "                                    \n",
        "                                \n",
        "                            \n",
        "                            \n",
        "                            \n",
        "\n",
        "                        \n",
        "\n",
        "                    \n",
        "\n",
        "                    \n",
        "                        \n",
        "                            Use Python for&hellip;\r\n",
        "More\r\n",
        "\r\n",
        "\r\n",
        "    Web Programming:\r\n",
        "        Django, Pyramid, Bottle, Tornado, Flask, web2py\r\n",
        "    GUI Development:\r\n",
        "        wxPython, tkInter, PyGtk, PyQt\r\n",
        "    Scientific and Numeric:\r\n",
        "        \r\n",
        "SciPy, Pandas, IPython\r\n",
        "    Software Development:\r\n",
        "        Buildbot, Trac, Roundup\r\n",
        "    System Administration:\r\n",
        "        Ansible, Salt, OpenStack\r\n",
        "\r\n",
        "\n",
        "                        \n",
        "                    \n",
        "\n",
        "                \n",
        "\n",
        "                \n",
        "                \n",
        "\n",
        "                    \n",
        "                        &gt;&gt;&gt; Python Enhancement Proposals (PEPs): The future of Python is discussed here.\n",
        "                         RSS\n",
        "                    \n",
        "\n",
        "                    \n",
        "                    \n",
        "                        \n",
        "                    \n",
        "\n",
        "                \n",
        "\n",
        "                                \n",
        "\n",
        "                    \n",
        "                    \n",
        "                    \r\n",
        "    &gt;&gt;&gt; Python Software Foundation\r\n",
        "\r\n",
        "The mission of the Python Software Foundation is to promote, protect, and advance the Python programming language, and to support and facilitate the growth of a diverse and international community of Python programmers. Learn more \r\n",
        "\r\n",
        "    Become a Member\r\n",
        "    Donate to the PSF\r\n",
        "\n",
        "                \n",
        "\n",
        "\n",
        "\n",
        "\n",
        "                \n",
        "\n",
        "                \n",
        "                \n",
        "\n",
        "                \n",
        "                \n",
        "\n",
        "\n",
        "            \n",
        "        \n",
        "\n",
        "        \n",
        "        \n",
        "            \n",
        "                \n",
        "\n",
        "                    \n",
        "                    &#9650; Back to Top\n",
        "\n",
        "                    \n",
        "\n",
        "\n",
        "    \n",
        "    \n",
        "        About\n",
        "        \n",
        "            \n",
        "\n",
        "\n",
        "    \n",
        "        Applications\n",
        "    \n",
        "        Quotes\n",
        "    \n",
        "        Getting Started\n",
        "    \n",
        "        Help\n",
        "    \n",
        "\n",
        "\n",
        "        \n",
        "    \n",
        "    \n",
        "    \n",
        "        Downloads\n",
        "        \n",
        "            \n",
        "\n",
        "\n",
        "    \n",
        "        All releases\n",
        "    \n",
        "        Source code\n",
        "    \n",
        "        Windows\n",
        "    \n",
        "        Mac OS X\n",
        "    \n",
        "        Other Platforms\n",
        "    \n",
        "        License\n",
        "    \n",
        "        Alternative Implementations\n",
        "    \n",
        "\n",
        "\n",
        "        \n",
        "    \n",
        "    \n",
        "    \n",
        "        Documentation\n",
        "        \n",
        "            \n",
        "\n",
        "\n",
        "    \n",
        "        Docs\n",
        "    \n",
        "        Audio/Visual Talks\n",
        "    \n",
        "        Beginner&#39;s Guide\n",
        "    \n",
        "        Developer&#39;s Guide\n",
        "    \n",
        "        FAQ\n",
        "    \n",
        "        Non-English Docs\n",
        "    \n",
        "        PEP Index\n",
        "    \n",
        "        Python Books\n",
        "    \n",
        "\n",
        "\n",
        "        \n",
        "    \n",
        "    \n",
        "    \n",
        "        Community\n",
        "        \n",
        "            \n",
        "\n",
        "\n",
        "    \n",
        "        Diversity\n",
        "    \n",
        "        IRC\n",
        "    \n",
        "        Mailing Lists\n",
        "    \n",
        "        Python Conferences\n",
        "    \n",
        "        Special Interest Groups\n",
        "    \n",
        "        Python Wiki\n",
        "    \n",
        "        Python Logo\n",
        "    \n",
        "        Merchandise\n",
        "    \n",
        "        Community Awards\n",
        "    \n",
        "\n",
        "\n",
        "        \n",
        "    \n",
        "    \n",
        "    \n",
        "        Success Stories\n",
        "        \n",
        "            \n",
        "\n",
        "\n",
        "    \n",
        "        Arts\n",
        "    \n",
        "        Business\n",
        "    \n",
        "        Education\n",
        "    \n",
        "        Engineering\n",
        "    \n",
        "        Government\n",
        "    \n",
        "        Scientific\n",
        "    \n",
        "        Software Development\n",
        "    \n",
        "\n",
        "\n",
        "        \n",
        "    \n",
        "    \n",
        "    \n",
        "        News\n",
        "        \n",
        "            \n",
        "\n",
        "\n",
        "    \n",
        "        Python News\n",
        "    \n",
        "        Community News\n",
        "    \n",
        "        PSF News\n",
        "    \n",
        "        PyCon News\n",
        "    \n",
        "\n",
        "\n",
        "        \n",
        "    \n",
        "    \n",
        "    \n",
        "        Events\n",
        "        \n",
        "            \n",
        "\n",
        "\n",
        "    \n",
        "        Python Events\n",
        "    \n",
        "        User Group Events\n",
        "    \n",
        "        Python Events Archive\n",
        "    \n",
        "        User Group Events Archive\n",
        "    \n",
        "        Submit an Event\n",
        "    \n",
        "\n",
        "\n",
        "        \n",
        "    \n",
        "    \n",
        "\n",
        "\n",
        "\n",
        "                    &#9650; Back to Top\n",
        "                    \n",
        "\n",
        "                \n",
        "             \n",
        "\n",
        "            \n",
        "                \n",
        "                    \n",
        "                    \n",
        "                        Help &amp; General Contact\n",
        "                        Diversity Initiatives\n",
        "                        \n",
        "                    \n",
        "\n",
        "                    \n",
        "                        \n",
        "                            Copyright &copy;2001-2014.\n",
        "                            &nbsp;Python Software Foundation\n",
        "                            &nbsp;Legal Statements\n",
        "                            &nbsp;Privacy Policy\n",
        "                        \n",
        "                    \n",
        "\n",
        "                \n",
        "            \n",
        "\n",
        "        \n",
        "\n",
        "\n",
        "        \n",
        "            Notice: While Javascript is not essential for this website, your interaction with the content will be limited. Please turn Javascript on for the full experience. \n",
        "\n",
        "        \n",
        "        \n",
        "            Notice: Your browser is ancient and Microsoft agrees. Upgrade to a different browser or install Google Chrome Frame to experience a better web.\n",
        "        \n",
        "        \n",
        "\n",
        "    \n",
        "\n",
        "    \n",
        "    \n",
        "    \n",
        "\n",
        "    \n",
        "    \n",
        "\n",
        "    \n",
        "\n",
        "    \n",
        "    \n",
        "\n",
        "\n",
        "\n",
        "\ub2e8\uc5b4\uc758 \ucd1d \uac2f\uc218 :  929\n"
       ]
      }
     ],
     "prompt_number": 4
    },
    {
     "cell_type": "markdown",
     "metadata": {},
     "source": [
      "\uc8fc\uc11d\ubd80\ubd84\ub3c4 \ube7c\uace0\uc11c \ud558\ub824\uace0 replace \ud568\uc218\ub97c \uc774\uc6a9\ud558\uc5ec s1\uc5d0 >>>\ub97c style\ub85c \ub300\uccb4\ud558\uc5ec \uc800\uc7a5 \ud569\ub2c8\ub2e4. \ub610\ud55c \ubcc0\uc218 a,b,c,k,r\uc744 \uc9c0\uc815\ud558\uc5ec \uc90d\ub2c8\ub2e4. "
     ]
    },
    {
     "cell_type": "markdown",
     "metadata": {},
     "source": [
      "a\ub294 '>' \ubb38\uc790\ub97c \ucc3e\ub294 \ubcc0\uc218\uc774\uace0, b\ub294 '<' \ubb38\uc790\ub97c \ucc3e\ub294 \ubcc0\uc218\uc774\uace0, c\ub294 b\ubcf4\ub2e4 \ud55c\ub2e8\uacc4 \ub4a4\uc5d0\uc788\ub294 '<' \ubb38\uc790\ub97c \ucc3e\ub294 \ubcc0\uc218\uc774\uace0, k\uc640 r\uc740 \uadf8\ub0e5 \ubcc0\uc218\uc785\ub2c8\ub2e4."
     ]
    },
    {
     "cell_type": "markdown",
     "metadata": {},
     "source": [
      "while\ubb38\uc744 \ud1b5\ud558\uc5ec > \uacfc < \uc744 \uc21c\uc11c\ub300\ub85c \uad6c\ud558\uace0, \uadf8 \uc0ac\uc774\uc5d0 \uc788\ub294 \uc218\ub97c \ucd9c\ub825\ud574 \uc90d\ub2c8\ub2e4. \uccab\ubc88\uc9f8 \uc870\uac74\ubb38\uc5d0\uc11c\ub294 <\uc774 \uc9dd\uc774 \uc5c6\uc774 \uadf8\ub0e5 \ud63c\uc790 \uc0ac\uc6a9\ud560\ub54c\ub97c \ub300\ube44\ud558\uc5ec \uc9dd\uc774 \uc5c6\uc744\ub54c \uadf8\ub0e5 \ub118\uc5b4\uac08 \uc218 \uc788\ub3c4\ub85d \ud558\uc600\uace0, \ub450\ubc88\uc9f8 \uc870\uac74\ubb38\uc5d0\uc11c\ub294 script \uac00 \ub098\uc654\uc744\uc2dc \uadf8 \uc0ac\uc774\uc5d0 \uc788\ub294 \ub0b4\uc6a9\uc744 \ucd9c\ub825\ud558\uc9c0\uc54a\uace0 \uadf8\ub0e5 \ub118\uc5b4\uac00\ub294 \uac83\uc73c\ub85c \ud558\uc600\uc2b5\ub2c8\ub2e4. "
     ]
    },
    {
     "cell_type": "markdown",
     "metadata": {},
     "source": [
      "\uadf8\ub9ac\uace0 temp\ubcc0\uc218\uc5d0 \ucd9c\ub825\ub41c \ubcc0\uc218\ub4e4\uc744 \ubaa8\ub450 \uc800\uc7a5\ud574\uc900\ub4a4\uc5d0 \ubb38\uc790 \ub05d\uc5d0 \ub3c4\ub2ec\ud558\uba74 \ud0c8\ucd9c\ubb38\uc744 \ud1b5\ud558\uc5ec \ube60\uc838\ub098\uc635\ub2c8\ub2e4."
     ]
    },
    {
     "cell_type": "markdown",
     "metadata": {},
     "source": [
      "\ub9c8\uc9c0\ub9c9\uc73c\ub85c len \ud568\uc218\uc640 split\ud568\uc218\ub97c \ud1b5\ud558\uc5ec \uacf5\ubc31\uc73c\ub85c \ub2e8\uc5b4\ub97c \ubd84\ub9ac\ud55c\ub4a4 \ubd84\ub9ac\ub41c \ub2e8\uc5b4\uc758 \uc22b\uc790\ub97c \uc138\uc11c \ucd9c\ub825\ud574\uc90d\ub2c8\ub2e4."
     ]
    },
    {
     "cell_type": "markdown",
     "metadata": {},
     "source": [
      "  "
     ]
    },
    {
     "cell_type": "markdown",
     "metadata": {},
     "source": [
      " "
     ]
    },
    {
     "cell_type": "markdown",
     "metadata": {},
     "source": [
      "## \uc219\uc81c \uc774\ud6c4 \uc18c\uac10 "
     ]
    },
    {
     "cell_type": "markdown",
     "metadata": {},
     "source": [
      "1 ~ 5\ubc88\uc740 \ucc45\uc758 \ub0b4\uc6a9\uc744 \ucc38\uace0\ud558\uac70\ub098 \uc9c1\uc811 \uc2e4\ud589\ud574 \ubcf4\uba74\uc11c \uc5b4\ucc0c\uc800\ucc0c \ud558\uc5ec \ud480 \uc218 \uc788\uc5c8\ub294\ub370 6\ubc88\ubb38\uc81c\ub294 \uc5b4\ub514\uc11c \uc798\ub77c\uc57c \ub418\ub294\uc9c0\ub3c4 \ud587\uac08\ub9ac\uace0 \uc5b4\ub5bb\uac8c \uc54c\uace0\ub9ac\uc998\uc744 \uc9dc\uc57c \ud6a8\uc728\uc801\uc73c\ub85c \uc9e4\uc218\uc788\ub294\uc9c0\ub3c4 \ub9ce\uc740 \uc0dd\uac01\uc744 \ud574\uc57c\ub418\uc11c \uc880 \uc5b4\ub824\uc6e0\uc2b5\ub2c8\ub2e4. \uadf8\ub798\ub3c4 6\ubc88\uac19\uc740 \uc5b4\ub824\uc6b4 \ubb38\uc81c\ub97c \ud480\ub824\uace0 \ud558\ub2e4\ubcf4\ub2c8 \ucc45\ub3c4 \ub9ce\uc774\ubcf4\uace0 \uac15\uc758\ub3c4 \ub4e4\uc5b4\ubcf4\uace0 \ud558\uc5ec \ud30c\uc774\uc36c\uc744 \uacf5\ubd80\ud558\ub294\ub370 \ub9ce\uc740 \ub3c4\uc6c0\uc774 \ub418\uc5c8\ub358\uac83 \uac19\uc2b5\ub2c8\ub2e4."
     ]
    }
   ],
   "metadata": {}
  }
 ]
}