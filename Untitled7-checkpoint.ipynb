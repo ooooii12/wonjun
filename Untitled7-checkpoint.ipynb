{
 "metadata": {
  "name": "",
  "signature": "sha256:e5d3d4df245e3d67b8e0dce3d8d399852ca07ce4747efd641a9f863a8e5f56eb"
 },
 "nbformat": 3,
 "nbformat_minor": 0,
 "worksheets": [
  {
   "cells": [
    {
     "cell_type": "markdown",
     "metadata": {},
     "source": [
      "# Assignment 5"
     ]
    },
    {
     "cell_type": "markdown",
     "metadata": {},
     "source": [
      "## 2011136023 \uae40\uc6d0\uc900"
     ]
    },
    {
     "cell_type": "markdown",
     "metadata": {},
     "source": [
      " "
     ]
    },
    {
     "cell_type": "markdown",
     "metadata": {},
     "source": [
      " "
     ]
    },
    {
     "cell_type": "markdown",
     "metadata": {},
     "source": [
      " "
     ]
    },
    {
     "cell_type": "markdown",
     "metadata": {},
     "source": [
      "### [1\ubc88 \ubb38\uc81c] \ud074\ub798\uc2a4\uc640 \ubaa8\ub4c8\uc758 \uacf5\ud1b5\uc810\uacfc \ucc28\uc774\uc810\uc5d0 \ub300\ud574 \uc124\uba85\ud558\uc2dc\uc624."
     ]
    },
    {
     "cell_type": "markdown",
     "metadata": {},
     "source": [
      "- \ud074\ub798\uc2a4\uc640 \ubaa8\ub4c8\uc758 \uacf5\ud1b5\uc810 : \uc11c\ub85c \uc5f0\uad00\ub41c \uc791\uc5c5\uc744 \ud558\ub294 \ucf54\ub4dc\ub4e4\uc744 \ubb36\uc5b4\uc11c \ub3c5\ub9bd\uc131\uc744 \uc720\uc9c0\ud558\ub418 \uc7ac\uc0ac\uc6a9 \uac00\ub2a5\ud558\uac8c \ub9cc\ub4e4 \uc218 \uc788\uc2b5\ub2c8\ub2e4."
     ]
    },
    {
     "cell_type": "markdown",
     "metadata": {},
     "source": [
      "- \ud074\ub798\uc2a4\uc640 \ubaa8\ub4c8\uc758 \ucc28\uc774\uc810 : \ubaa8\ub4c8\uc740 \ud30c\uc77c\ub2e8\uc704\ub85c \uc774\ub984 \uacf5\uac04\uc744 \uad6c\uc131, \ud074\ub798\uc2a4 \uc601\uc5ed \ub0b4\uc5d0 \uc774\ub984 \uacf5\uac04\uc744 \uad6c\uc131"
     ]
    },
    {
     "cell_type": "markdown",
     "metadata": {},
     "source": [
      " "
     ]
    },
    {
     "cell_type": "markdown",
     "metadata": {},
     "source": [
      " "
     ]
    },
    {
     "cell_type": "markdown",
     "metadata": {},
     "source": [
      "###[2\ubc88 \ubb38\uc81c] \ub2e4\ud615\uc131\uc5d0 \ub300\ud574 \uc124\uba85\ud558\uace0 \ub2e4\ud615\uc131\uc744 \ubcf4\uc5ec\uc8fc\ub294 \uc790\uc2e0\ub9cc\uc758 \ud30c\uc774\uc36c \ucf54\ub4dc \uc608\uc81c\ub97c \uc81c\uc2dc\ud558\uc2dc\uc624."
     ]
    },
    {
     "cell_type": "markdown",
     "metadata": {},
     "source": [
      "- \ub2e4\ud615\uc131\uc774\ub780 \uc0c1\uc18d \uad00\uacc4 \ub0b4\uc758 \ub2e4\ub978 \ud074\ub798\uc2a4\ub4e4\uc758 \uc778\uc2a4\ud134\uc2a4\ub4e4\uc774 \uac19\uc740 \uba64\ubc84 \ud568\uc218 \ud638\ucd9c\uc5d0 \ub300\ud574 \uac01\uac01 \ub2e4\ub974\uac8c \ubc18\uc751\ud558\ub3c4\ub85d \ud558\ub294 \uae30\ub2a5"
     ]
    },
    {
     "cell_type": "markdown",
     "metadata": {},
     "source": [
      "- \ub2e4\ud615\uc131\uc758 \uc7a5\uc810\uc73c\ub85c\ub294 \uccab\ubc88\uc9f8\ub85c \ud558\ub098\uc758 \uc774\ub984 (\uc801\uc740 \ucf54\ub529)\uc73c\ub85c \ub2e4\uc591\ud55c \uac1d\uccb4\ub4e4\uc5d0\uac8c \uc720\uc0ac\ud55c \uc791\uc5c5\uc744 \uc218\ud589\uc2dc\ud0ac \uc218 \uc788\uace0, \ub450\ubc88\uc9f8\ub85c \ud504\ub85c\uadf8\ub7a8 \uc791\uc131 \ucf54\ub4dc \ub7c9\uc774 \uc904\uc5b4\ub4e4\uba70, \uc138\ubc88\uc9f8\ub85c \ucf54\ub4dc\uc758 \uac00\ub3c5\uc131\uc744 \ub192\ud600\uc90d\ub2c8\ub2e4."
     ]
    },
    {
     "cell_type": "markdown",
     "metadata": {},
     "source": [
      "- \uc800\ub294 \uc608\uc81c \ucf54\ub4dc\ub85c \uc5f0\uc0b0\uc790 \uc624\ubc84\ub85c\ub529\uc744 \uad6c\ud604\ud558\uc600\uc2b5\ub2c8\ub2e4."
     ]
    },
    {
     "cell_type": "code",
     "collapsed": false,
     "input": [
      "class Python :\n",
      "    def professor(self) :\n",
      "        print \"\ud55c\uc5f0\ud76c \uad50\uc218\ub2d8\uacfc \ud568\uaed8\ud558\ub294 \uc990\uac70\uc6b4 \ud30c\uc774\uc36c \uac15\uc758!\"\n",
      "\n",
      "class Java(Python) :\n",
      "    def professor(self) :\n",
      "        print \"\ud55c\uc5f0\ud76c \uad50\uc218\ub2d8\uacfc \ud568\uaed8\ud558\ub294 \uc990\uac70\uc6b4 \uc790\ubc14 \uac15\uc758!\"\n",
      "        \n",
      "class C(Python) :\n",
      "    def professor(self) :\n",
      "        print \"\ud55c\uc5f0\ud76c \uad50\uc218\ub2d8\uacfc \ud568\uaed8\ud558\ub294 \uc990\uac70\uc6b4 C\uc5b8\uc5b4 \uac15\uc758!\"\n",
      "\n",
      "class Cplusplus(Python) :\n",
      "    def professor(self) :\n",
      "        print \"\ud55c\uc5f0\ud76c \uad50\uc218\ub2d8\uacfc \ud568\uaed8\ud558\ub294 \uc990\uac70\uc6b4 C++ \uac15\uc758!\"\n",
      "\n",
      "class Nosubject(Python) :\n",
      "        pass\n",
      "        \n",
      "for subject in (Java(), C(), Cplusplus(), Nosubject()):\n",
      "    subject.professor()"
     ],
     "language": "python",
     "metadata": {},
     "outputs": [
      {
       "output_type": "stream",
       "stream": "stdout",
       "text": [
        "\ud55c\uc5f0\ud76c \uad50\uc218\ub2d8\uacfc \ud568\uaed8\ud558\ub294 \uc990\uac70\uc6b4 \uc790\ubc14 \uac15\uc758!\n",
        "\ud55c\uc5f0\ud76c \uad50\uc218\ub2d8\uacfc \ud568\uaed8\ud558\ub294 \uc990\uac70\uc6b4 C\uc5b8\uc5b4 \uac15\uc758!\n",
        "\ud55c\uc5f0\ud76c \uad50\uc218\ub2d8\uacfc \ud568\uaed8\ud558\ub294 \uc990\uac70\uc6b4 C++ \uac15\uc758!\n",
        "\ud55c\uc5f0\ud76c \uad50\uc218\ub2d8\uacfc \ud568\uaed8\ud558\ub294 \uc990\uac70\uc6b4 \ud30c\uc774\uc36c \uac15\uc758!\n"
       ]
      }
     ],
     "prompt_number": 2
    },
    {
     "cell_type": "markdown",
     "metadata": {},
     "source": [
      " "
     ]
    },
    {
     "cell_type": "markdown",
     "metadata": {},
     "source": [
      " \ub2e4\ud615\uc131\uc744 \uc774\uc6a9\ud558\uc5ec \ucc98\uc74c \ubd80\ubaa8 \ud074\ub798\uc2a4 Python\uc5d0\uc11c professor\uc744 \uc815\uc758\ud55c\ub4a4, \uc790\uc2dd \ud074\ub798\uc2a4 Java\uc640 C, Cplusplus, Nosubject\ub97c \uc815\uc758\ud558\uc5ec \uc90d\ub2c8\ub2e4. Nosubject\ub97c \uc81c\uc678\ud55c \ub098\uba38\uc9c0\ub294 \ubaa8\ub450 professor\uc744 \uc624\ubc84\ub85c\ub529\ud558\uc5ec \uc7ac\uc815\uc758 \ud574\uc90d\ub2c8\ub2e4. \uadf8 \ud6c4 for\ubb38\uc744 \ud1b5\ud558\uc5ec \uac01\uac01 professor \ud568\uc218\ub97c \ud638\ucd9c\ud569\ub2c8\ub2e4. Nosubject\ub294 professor\uac00 \uc5c6\uae30 \ub54c\ubb38\uc5d0 \ubd80\ubaa8\ud074\ub798\uc2a4 Python\uc5d0 \uc788\ub294 professor\uac00 \ucd9c\ub825 \ub429\ub2c8\ub2e4."
     ]
    },
    {
     "cell_type": "markdown",
     "metadata": {},
     "source": [
      " "
     ]
    },
    {
     "cell_type": "markdown",
     "metadata": {},
     "source": [
      " "
     ]
    },
    {
     "cell_type": "markdown",
     "metadata": {},
     "source": [
      "###[3\ubc88 \ubb38\uc81c] \ub2e4\uc74c \uac01 \uc694\uad6c\uc0ac\ud56d \ubaa8\ub450\ub97c \ub9cc\uc871\uc2dc\ud0a4\ub294 Counter \ud074\ub798\uc2a4\ub97c \ucf54\ub529\ud558\uc2dc\uc624 (\uc815\ub2f5\uc744 \uac01 \uc694\uad6c\uc0ac\ud56d\ubcc4\ub85c \uc785\ub825\ud560 \ud544\uc694 \uc5c6\uc774 3\ubc88 \ubb38\uc81c\uc5d0 \ub300\ud574 1\uac1c\uc758 \ud074\ub798\uc2a4 \uc815\uc758 \ucf54\ub4dc\ub97c \uc81c\uc2dc\ud558\uba74 \ub41c\ub2e4.)"
     ]
    },
    {
     "cell_type": "markdown",
     "metadata": {},
     "source": [
      "- \uc694\uad6c\uc0ac\ud56d 1. \uc0dd\uc131\uc790\uc5d0 count \uac12\uacfc step \uac12\uc744 \uc778\uc790\ub85c \ubc1b\uc744 \uc218 \uc788\ub2e4.\n",
      "    - count: Counter \uc778\uc2a4\ud134\uc2a4\uac00 \uc9c0\ub2c8\ub294 \ucd08\uae30 \uc815\uc218 \uac12\n",
      "    - step: Counter \uc778\uc2a4\ud134\uc2a4\uc758 count\uac00 \uc99d\uac00\ub418\ub294 \uc99d\ubd84 (defalt \uac12: 1)\n",
      "   \n",
      "- \uc694\uad6c\uc0ac\ud56d 2. \ub2e4\uc74c\uacfc \uac19\uc774 Counter\uc758 \uc778\uc2a4\ud134\uc2a4\ub97c \ucd9c\ub825\uc744 \ud574\uc8fc\ub294 __str__() \uba54\uc18c\ub4dc\ub97c \uad6c\ud604\ud558\uc2dc\uc624.\n",
      "\n",
      "- \uc694\uad6c\uc0ac\ud56d 3. \ub2e4\uc74c\uacfc \uac19\uc774 step\uc5d0 \uc8fc\uc5b4\uc9c4 \uc99d\ubd84\ub9cc\ud07c count\ub97c \uc99d\uac00\uc2dc\ud0a4\ub294 incr() \uba54\uc18c\ub4dc\ub97c \uad6c\ud604\ud558\uc2dc\uc624.\n",
      "\n",
      "- \uc694\uad6c\uc0ac\ud56d 4. __call__() \uba54\uc18c\ub4dc\ub97c \ucd94\uac00\ud558\uc5ec \uc778\uc2a4\ud134\uc2a4 \uac1d\uccb4\ub97c \uc9c1\uc811 \ud638\ucd9c\ud560 \uc218 \uc788\ub3c4\ub85d \ud558\uc2dc\uc624. \uc778\uc2a4\ud134\uc2a4 \uac1d\uccb4\ub97c \uc9c1\uc811 \ud638\ucd9c\ud588\uc744 \ub54c\uc758 \ub3d9\uc791\ubc29\uc2dd\uc740 incr() \uba54\uc18c\ub4dc\ub97c \ud638\ucd9c\ud558\uc600\uc744 \ub54c\uc640 \ub3d9\uc77c\ud558\ub2e4. \n",
      "\n",
      "- \uc694\uad6c\uc0ac\ud56d 5. \ub2e4\uc74c\uacfc \uac19\uc740 \ub450 \uac1c\uc758 \uc0b0\uc220 \uc5f0\uc0b0 (+, -)\uc774 \uc218\ud589\ub420 \uc218 \uc788\ub3c4\ub85d \uad00\ub828 \uba54\uc18c\ub4dc\ub97c \ucd94\uac00\ud558\uc2dc\uc624.\n",
      "\n",
      "- \uc694\uad6c\uc0ac\ud56d 6. \ub2e4\uc74c\uacfc \uac19\uc740 \uad00\uacc4\uc5f0\uc0b0 (+, -)\uc774 \uc218\ud589\ub420 \uc218 \uc788\ub3c4\ub85d __cmp__() \uba54\uc18c\ub4dc\ub97c \ucd94\uac00\ud558\uc2dc\uc624."
     ]
    },
    {
     "cell_type": "code",
     "collapsed": false,
     "input": [
      "class Counter:\n",
      "    def __init__(self, count, step = 1): #\uc0dd\uc131\uc790 \ud568\uc218\n",
      "        self.count = count\n",
      "        self.step = step\n",
      "        \n",
      "    def __str__(self): # print \ud638\ucd9c \ud568\uc218\n",
      "        return '[Count(step:' + str(self.step) + ')]' + str(self.count) \n",
      "        \n",
      "    def incr(self): #\uc99d\uac00 \ud568\uc218\n",
      "        self.count += self.step;\n",
      "        \n",
      "    def __call__(self, value = 0): # call\ud568\uc218\n",
      "        self.incr() # \ud55c\ub2e8\uacc4 \uc99d\uac00\n",
      "        return self.count\n",
      "        \n",
      "    def __add__(self, value): # \ub367\uc148\ud568\uc218\n",
      "        return Counter(self.count + value, self.step)\n",
      "        \n",
      "    def __sub__(self, value): # \ube84\uc148\ud568\uc218\n",
      "        return Counter(self.count - value, self.step)\n",
      "        \n",
      "    def __cmp__(self, value): # \ube44\uad50\ud568\uc218\n",
      "            return self.count - value\n",
      "\n",
      "            \n",
      "#\uc694\uad6c\uc0ac\ud56d 1\n",
      "c = Counter(10)\n",
      "d = Counter(10, 2)\n",
      "\n",
      "#\uc694\uad6c\uc0ac\ud56d 2\n",
      "print \"---\uc694\uad6c\uc0ac\ud56d 2---\"\n",
      "print c\n",
      "print d\n",
      "print \n",
      "\n",
      "#\uc694\uad6c\uc0ac\ud56d 3\n",
      "print \"---\uc694\uad6c\uc0ac\ud56d 3---\"\n",
      "c.incr()\n",
      "d.incr()\n",
      "print c\n",
      "print d\n",
      "print\n",
      "\n",
      "print \"---\uc694\uad6c\uc0ac\ud56d 4---\"\n",
      "c()\n",
      "d()\n",
      "print c\n",
      "print d\n",
      "print\n",
      "\n",
      "print \"---\uc694\uad6c\uc0ac\ud56d 5---\"\n",
      "c = c + 5\n",
      "d = d - 5\n",
      "print c\n",
      "print d\n",
      "print \n",
      "\n",
      "print \"---\uc694\uad6c\uc0ac\ud56d 6---\"\n",
      "print c > 10\n",
      "print d > 10\n",
      "print c < 10\n",
      "print d < 10\n",
      "print c == 10\n",
      "print d != 9\n",
      "print "
     ],
     "language": "python",
     "metadata": {},
     "outputs": [
      {
       "output_type": "stream",
       "stream": "stdout",
       "text": [
        "---\uc694\uad6c\uc0ac\ud56d 2---\n",
        "[Count(step:1)]10\n",
        "[Count(step:2)]10\n",
        "\n",
        "---\uc694\uad6c\uc0ac\ud56d 3---\n",
        "[Count(step:1)]11\n",
        "[Count(step:2)]12\n",
        "\n",
        "---\uc694\uad6c\uc0ac\ud56d 4---\n",
        "[Count(step:1)]12\n",
        "[Count(step:2)]14\n",
        "\n",
        "---\uc694\uad6c\uc0ac\ud56d 5---\n",
        "[Count(step:1)]17\n",
        "[Count(step:2)]9\n",
        "\n",
        "---\uc694\uad6c\uc0ac\ud56d 6---\n",
        "True\n",
        "False\n",
        "False\n",
        "True\n",
        "False\n",
        "False\n",
        "\n"
       ]
      }
     ],
     "prompt_number": 6
    },
    {
     "cell_type": "markdown",
     "metadata": {},
     "source": [
      " \uc694\uad6c\uc0ac\ud56d 1 __init__ \uba54\uc18c\ub4dc\ucc98\ub7fc \ubcc0\uc218\uac00 10 1\uac1c\ub9cc \ub4e4\uc5b4\uac08 \ub54c\ub294 count = 10, step= 1(default) \uac12, \ubcc0\uc218\uac00 10 2 \ucc98\ub7fc 2\uac1c \ub4e4\uc5b4\uac08 \ub54c\ub294 count = 10 step = 2 \ub85c \ub418\uac8c \ud569\ub2c8\ub2e4. "
     ]
    },
    {
     "cell_type": "markdown",
     "metadata": {},
     "source": [
      "\uc694\uad6c\uc0ac\ud56d 2 __str__\uba54\uc18c\ub4dc\ub97c [Count(step: )] \ucc98\ub7fc \ub098\uc624\uac8c print\ubb38\uc744 \uc791\uc131\ud558\uc5ec \uc90d\ub2c8\ub2e4."
     ]
    },
    {
     "cell_type": "markdown",
     "metadata": {},
     "source": [
      "\uc694\uad6c\uc0ac\ud56d 3 incr\uba54\uc18c\ub4dc \ub97c \ud1b5\ud558\uc5ec count\uac12\uc5d0 step\uc744 \ucd94\uac00\uc2dc\ucf1c\uc8fc\uac8c \ud569\ub2c8\ub2e4."
     ]
    },
    {
     "cell_type": "markdown",
     "metadata": {},
     "source": [
      "\uc694\uad6c\uc0ac\ud56d 4 __call__\uba54\uc18c\ub4dc\ub97c \ud1b5\ud558\uc5ec \uc548\uc5d0 incr \uba54\uc18c\ub4dc\ub97c \ud638\ucd9c\ud55c\ub4a4, self.count \uac12\uc744 \ubc18\ud658\ud558\uc5ec \uc90d\ub2c8\ub2e4."
     ]
    },
    {
     "cell_type": "markdown",
     "metadata": {},
     "source": [
      "\uc694\uad6c\uc0ac\ud56d 5 __add__\uba54\uc18c\ub4dc\uc640 __sub__\uba54\uc18c\ub4dc\ub97c \uac01\uac01 self.count + value \uac12, self.count - value\uac12\uc744 \ud558\uac8c \uc815\uc758 \ud558\uc5ec \uc8fc\uace0 \ub2e4\uc2dc \uac1d\uccb4 \uac12\uc73c\ub85c return \ud558\uc5ec \uc90d\ub2c8\ub2e4. \ub610\ud55c \ub4a4\uc5d0 \ubcc0\uc218\uc5d0\ub294 self.step\uc744 \uaf2d \ub123\uc5b4 \uc90d\ub2c8\ub2e4."
     ]
    },
    {
     "cell_type": "markdown",
     "metadata": {},
     "source": [
      "\uc694\uad6c\uc0ac\ud56d 6 __cmp__\uba54\uc18c\ub4dc\ub97c \uc815\uc758 \ud558\uc5ec \uc90d\ub2c8\ub2e4. self.count > value \uc77c \ub54c\ub294 \uc591\uc758\uc815\uc218 self.count == value \uc77c\ub584\ub294 0 self.count < value \uc77c\ub54c\ub294 \uc74c\uc758\uc815\uc218\ub97c \ubc18\ud658\ud558\uc5ec \uc90d\ub2c8\ub2e4."
     ]
    },
    {
     "cell_type": "markdown",
     "metadata": {},
     "source": [
      " "
     ]
    },
    {
     "cell_type": "markdown",
     "metadata": {},
     "source": [
      " "
     ]
    },
    {
     "cell_type": "markdown",
     "metadata": {},
     "source": [
      " "
     ]
    },
    {
     "cell_type": "markdown",
     "metadata": {},
     "source": [
      "###[4\ubc88 \ubb38\uc81c] \ub2e4\uc74c\uc740 \ub0b4\uc7a5 \uc790\ub8cc\ud615 list\ub97c \uc11c\ube0c\ud074\ub798\uc2f1\ud558\uc5ec \ub9cc\ub4e0 MySet \ud074\ub798\uc2a4 \uc815\uc758 \ub0b4\uc6a9\uc774\ub2e4. \ub2e4\uc74c \ud074\ub798\uc2a4 \uc815\uc758\uc5d0\uc11c __init__(), __str()__(), elimicate_duplicate()\uc758 \uc138 \uac1c\uc758 \uba54\uc18c\ub4dc \ucf54\ub4dc \ub0b4\uc6a9\uc744 \uc790\uc2e0\uc774 \ub2e4\ub978 \uc0ac\ub78c\uc5d0\uac8c \uac00\ub974\uce5c\ub2e4\uace0 \uc0dd\uac01\ud558\uba70 \uc124\uba85\ud574\ubcf4\uc2dc\uc624."
     ]
    },
    {
     "cell_type": "code",
     "collapsed": false,
     "input": [
      "class MySet(list):\n",
      "    def __init__(self, l):\n",
      "        for e in l:\n",
      "            self.append(e)\n",
      "        MySet.eliminate_duplicate(self)\n",
      "    \n",
      "    def __str__(self):\n",
      "        result = \"MySet: {\"\n",
      "        for e in self:\n",
      "            result = result + str(e) + \" ,\"\n",
      "        result = result[0:len(result)-2] + \"}\"\n",
      "        return result\n",
      "\n",
      "    @staticmethod    \n",
      "    def eliminate_duplicate(l):\n",
      "        s = []\n",
      "        for e in l:\n",
      "            if e not in s:\n",
      "                s.append(e)\n",
      "        l[:] = []\n",
      "        for e in s:\n",
      "            l.append(e)\n",
      "\n",
      "    \n",
      "if __name__ == \"__main__\":\n",
      "    s = MySet([1, 2, 2, 3])\n",
      "    print s\n",
      "    t = MySet([2, 3, 4, 5, 6, 7, 8, 8, 8, 8, 8, 9])\n",
      "    print t"
     ],
     "language": "python",
     "metadata": {},
     "outputs": [
      {
       "output_type": "stream",
       "stream": "stdout",
       "text": [
        "MySet: {1 ,2 ,3}\n",
        "MySet: {2 ,3 ,4 ,5 ,6 ,7 ,8 ,9}\n"
       ]
      }
     ],
     "prompt_number": 8
    },
    {
     "cell_type": "markdown",
     "metadata": {},
     "source": [
      "\ucc98\uc74c init\ud568\uc218\ub294 \uc0dd\uc131\uc790\ud568\uc218\ub85c\uc368 \uc790\uae30\uc790\uc2e0\uc758 \uac1d\uccb4\uc640, \ubcc0\uc218 l \uc744 \ubc1b\ub294\ub2e4.\n",
      "\uc544\ub798 \uba54\uc778\ud568\uc218\ub97c \ubcf4\ub2c8 MySet\uc758 \ubcc0\uc218\uac00 List\uc774\ubbc0\ub85c l\uc758 Type\uc740 List\uc774\ub2e4.\n",
      "\uc0dd\uc131\uc790\ud568\uc218\ub294 \uc0dd\uc131\ub418\uba74 \uc2e4\ud589\ub418\ub294 \ud568\uc218\ub85c\uc368 s = MySet([1,2,3,4])\ub85c \uc0dd\uc131\ub420 \uc2dc\n",
      "init\ud568\uc218\uac00 \uc2e4\ud589\ub41c\ub2e4\n",
      "for\ubb38\uc744 \ud1b5\ud558\uc5ec \ub9cc\uc57d List\uc548\uc5d0 \uc694\uc18c\ub97c \uac80\uc0ac\ud558\uc5ec \uc788\uc73c\uba74 \ud558\ub098\uc529 MySet\uac1d\uccb4\uc5d0 \ucd94\uac00\uc2dc\ud0a8\ub2e4.\n",
      "\uc774\ub54c MySet.eliminate_duplicate(self)\uac00 \uc788\ub2e4.\n",
      "eliminate_duplicate \ud568\uc218\ub294 List\ubcc0\uc218 s\ub97c \uac00\uc9c0\uace0 \ub9cc\uc57d s\uc5d0 l\uc774 \ud3ec\ud568\ub418\uc9c0 \uc54a\uc558\uc73c\uba74 \ubaa8\ub450 \ucd94\uac00\uc2dc\ud0a8\ub2e4.\n",
      "\uadf8 \ud6c4, l\uc758 \uac1d\uccb4\ub294 \ube48\uac1d\uccb4\ub85c \ub9cc\ub4e4\uc5b4\uc900\ub4a4, \ub2e4\uc2dc l\uc5d0\ub2e4\uac00 \uc62e\uaca8\uc900\ub2e4. \uc989, \uc911\ubcf5\ub41c \ubb38\uc790\ub97c \uc81c\uac70\uc2dc\ud0a4\ub294 \uc77c\uc774\ub2e4.\n",
      "str\uba54\uc18c\ub4dc\ub294 print\ubb38\uc744 \ud638\ucd9c\ud588\uc744\ub54c \uc2e4\ud589\ub418\ub294 \ud568\uc218\ub85c result\uac12\uc5d0 \ucc98\ub9ac\ud55c \ud568\uc218\uc758 \uac12\uacfc, \ubcf4\uc5ec\uc904 \ubb38\uc790\uc5f4\uc744 \ub123\uc5b4\uc900\ub2e4."
     ]
    },
    {
     "cell_type": "markdown",
     "metadata": {},
     "source": [
      " "
     ]
    },
    {
     "cell_type": "markdown",
     "metadata": {},
     "source": [
      " "
     ]
    },
    {
     "cell_type": "markdown",
     "metadata": {},
     "source": [
      " "
     ]
    },
    {
     "cell_type": "markdown",
     "metadata": {},
     "source": [
      "###[5\ubc88 \ubb38\uc81c] 4\ubc88 \ubb38\uc81c\uc5d0 \uc815\uc758\ub41c MySet \ud074\ub798\uc2a4\uc5d0 \uba54\uc18c\ub4dc\ub97c \ucd94\uac00\ud558\uc5ec \ub2e4\uc74c \uac01 \uc694\uad6c\uc0ac\ud56d \ubaa8\ub450\ub97c \ub9cc\uc871\uc2dc\ud0a4\ub294 \ucf54\ub529\uc744 \uc81c\uc2dc\ud558\uc2dc\uc624 (\uc815\ub2f5\uc744 \uac01 \uc694\uad6c\uc0ac\ud56d\ubcc4\ub85c \uc785\ub825\ud560 \ud544\uc694 \uc5c6\uc774 5\ubc88 \ubb38\uc81c\uc5d0 \ub300\ud574 1\uac1c\uc758 MySet \ud074\ub798\uc2a4 \uc815\uc758 \ucf54\ub4dc\ub97c \uc81c\uc2dc\ud558\uba74 \ub41c\ub2e4.)"
     ]
    },
    {
     "cell_type": "markdown",
     "metadata": {},
     "source": [
      "- \uc694\uad6c\uc0ac\ud56d 1. | \uc5f0\uc0b0\uc73c\ub85c \ub450 \uc9d1\ud569\uc758 \ud569\uc9d1\ud569\uc744 \ubc18\ud658\ud55c\ub2e4.\n",
      "- \uc694\uad6c\uc0ac\ud56d 2. & \uc5f0\uc0b0\uc73c\ub85c \ub450 \uc9d1\ud569\uc758 \uad50\uc9d1\ud569\uc744 \ubc18\ud658\ud55c\ub2e4.\n",
      "- \uc694\uad6c\uc0ac\ud56d 3. - \uc5f0\uc0b0\uc73c\ub85c \ub450 \uc9d1\ud569\uc758 \ucc28\uc9d1\ud569\uc744 \ubc18\ud658\ud55c\ub2e4."
     ]
    },
    {
     "cell_type": "code",
     "collapsed": false,
     "input": [
      "class MySet(list):\n",
      "    def __init__(self, l):\n",
      "        for e in l:\n",
      "            self.append(e)\n",
      "        MySet.eliminate_duplicate(self)\n",
      "    \n",
      "    def __str__(self):\n",
      "        result = \"MySet: {\"\n",
      "        for e in self:\n",
      "            result = result + str(e) + \" ,\"\n",
      "        result = result[0:len(result)-2] + \"}\"\n",
      "        return result\n",
      "\n",
      "    @staticmethod    \n",
      "    def eliminate_duplicate(l):\n",
      "        s = []\n",
      "        for e in l:\n",
      "            if e not in s:\n",
      "                s.append(e)\n",
      "        l[:] = []\n",
      "        for e in s:\n",
      "            l.append(e)\n",
      "    \n",
      "    def __or__(self, l): #\ud569\uc9d1\ud569\n",
      "        s = [] #\ube48 \ubc30\uc5f4 \uc120\uc5b8\n",
      "        for e in self : #self\uc5d0 \uc788\ub294 \uc694\uc18c\ub97c s\uc5d0 \uc9d1\uc5b4\ub123\ub294\ub2e4.\n",
      "            s.append(e)\n",
      "        for e in l : # l\uc5d0 \uc788\ub294 \uc694\uc18c\ub97c s\uc5d0 \uc9d1\uc5b4\ub123\ub294\ub2e4.\n",
      "            s.append(e)\n",
      "        MySet.eliminate_duplicate(s) # \uc911\ubcf5 \ub41c \uac12\uc744 \uc81c\uac70\ud574\uc900\ub2e4.\n",
      "        return MySet(s)\n",
      "    \n",
      "    def __and__(self, l) : #\uad50\uc9d1\ud569\n",
      "        s = [] # \ube48 \ubc30\uc5f4 \uc120\uc5b8\n",
      "        for e in self : #self\uc548\uc5d0 \uc788\ub294 e\uac12\n",
      "            for i in range(0, len(l)) : #l\uc5d0 \ucc98\uc74c\uc694\uc18c\ubd80\ud130 \ub05d\uc694\uc18c\uae4c\uc9c0 \ube44\uad50\n",
      "                if e == l[i] : # \ub9cc\uc57d e\uac00 l\uc758 \uc694\uc18c\uc5d0 \uc788\uc73c\uba74 s\uc5d0 \ucd94\uac00\n",
      "                    s.append(e)\n",
      "        return MySet(s)\n",
      "    \n",
      "    def __sub__(self, l) : #\ucc28\uc9d1\ud569\n",
      "        count = 0\n",
      "        s = []\n",
      "        for e in self: # self\uc5d0 \uc788\ub294 \uc694\uc18c\ub97c s\uc5d0 \uc9d1\uc5b4 \ub123\ub294\ub2e4.\n",
      "            s.append(e)\n",
      "        for e in s : # s\uc548\uc5d0 \uc788\ub294 \uc694\uc18c\uc911\n",
      "            if e in l : # \ub9cc\uc57d l\uc548\uc5d0 \uc788\uc73c\uba74\n",
      "                s.pop(count) # \uadf8 \uc694\uc18c\ub97c \uc81c\uac70\ud55c\ub2e4.\n",
      "            count += 1 # \uc694\uc18c \uc99d\uac00\n",
      "        return MySet(s)\n",
      "        \n",
      "    \n",
      "    \n",
      "\n",
      "    \n",
      "if __name__ == \"__main__\":\n",
      "    s = MySet([1, 2, 2, 3])\n",
      "    t = MySet([2, 3, 4, 5, 6, 7, 8, 8, 8, 8, 8, 9])\n",
      "    \n",
      "    print \"--- \uc694\uad6c\uc0ac\ud56d 1 ---\"\n",
      "    s = s | t\n",
      "    print s\n",
      "    print\n",
      "    \n",
      "    print \"--- \uc694\uad6c\uc0ac\ud56d 2 ---\"\n",
      "    s = MySet([1, 2, 3])\n",
      "    t = MySet([3, 4, 5])\n",
      "    s = s & t\n",
      "    print s\n",
      "    print\n",
      "    \n",
      "    print \"--- \uc694\uad6c\uc0ac\ud56d 3 ---\"\n",
      "    s = MySet([1, 2, 3])\n",
      "    t = MySet([3, 4, 5])\n",
      "    s = s - t\n",
      "    print s"
     ],
     "language": "python",
     "metadata": {},
     "outputs": [
      {
       "output_type": "stream",
       "stream": "stdout",
       "text": [
        "--- \uc694\uad6c\uc0ac\ud56d 1 ---\n",
        "MySet: {1 ,2 ,3 ,4 ,5 ,6 ,7 ,8 ,9}\n",
        "\n",
        "--- \uc694\uad6c\uc0ac\ud56d 2 ---\n",
        "MySet: {3}\n",
        "\n",
        "--- \uc694\uad6c\uc0ac\ud56d 3 ---\n",
        "MySet: {1 ,2}\n"
       ]
      }
     ],
     "prompt_number": 9
    },
    {
     "cell_type": "markdown",
     "metadata": {},
     "source": [
      " "
     ]
    },
    {
     "cell_type": "markdown",
     "metadata": {},
     "source": [
      "#### \uc790\uc138\ud55c \uc124\uba85\uc740 \uc704\uc5d0 \uc8fc\uc11d\uc73c\ub85c \ucc98\ub9ac\ud558\uc600\uc2b5\ub2c8\ub2e4."
     ]
    },
    {
     "cell_type": "markdown",
     "metadata": {},
     "source": [
      "\uc694\uad6c\uc0ac\ud56d 1 or\uba54\uc18c\ub4dc\ub97c \ud1b5\ud558\uc5ec \uc9d1\ud569 s\uc5d0 \uc790\uae30 \uac1d\uccb4 \uc694\uc18c \ub97c \uc9d1\uc5b4 \ub123\uace0, \ub610 \uc9d1\ud569 s\uc5d0 \ub098\uba38\uc9c0(t)\ub97c \uc9d1\uc5b4 \ub123\uc2b5\ub2c8\ub2e4. \uadf8 \ud6c4 eliminate_duplicate(s)\ub97c \ud1b5\ud558\uc5ec \uc911\ubcf5\ub41c \uac12\uc744 \uc81c\uac70 \uc2dc\ucf1c \uc90d\ub2c8\ub2e4."
     ]
    },
    {
     "cell_type": "markdown",
     "metadata": {},
     "source": [
      "\uc694\uad6c\uc0ac\ud56d 2 and \uba54\uc18c\ub4dc\ub97c \ud1b5\ud558\uc5ec \uc790\uae30 \uac1d\uccb4 \uc694\uc18c\uc640 \ub2e4\ub978 \uac1d\uccb4 \uc694\uc18c\ub97c \ube44\uad50\ud558\uc5ec \uc911\ubcf5\uc774 \ub418\uba74 \ube48 \ub9ac\uc2a4\ud2b8 s\uc5d0 \uc9d1\uc5b4 \ub123\uc2b5\ub2c8\ub2e4."
     ]
    },
    {
     "cell_type": "markdown",
     "metadata": {},
     "source": [
      "\uc694\uad6c\uc0ac\ud56d 3 sub \uba54\uc18c\ub4dc\ub97c \ud1b5\ud558\uc5ec s\uc5d0\ub2e4 \uc790\uae30 \uac1d\uccb4 \uc694\uc18c\ub97c \ubaa8\ub450 \uc9d1\uc5b4 \ub123\uace0, \ub9cc\uc57d \ub2e4\ub978 \uac1d\uccb4\uac00 s\uc5d0 \uc788\ub294 \uc6d0\uc18c\ub97c \uac00\uc9c0\uace0 \uc788\uc73c\uba74 s\uc5d0 \uc788\ub294 \uc6d0\uc18c\ub97c pop\ub97c \ud1b5\ud558\uc5ec \ube7c\uc90d\ub2c8\ub2e4."
     ]
    },
    {
     "cell_type": "markdown",
     "metadata": {},
     "source": [
      " "
     ]
    },
    {
     "cell_type": "markdown",
     "metadata": {},
     "source": [
      " "
     ]
    },
    {
     "cell_type": "markdown",
     "metadata": {},
     "source": [
      " "
     ]
    },
    {
     "cell_type": "markdown",
     "metadata": {},
     "source": [
      "### [6\ubc88 \ubb38\uc81c] 5\ubc88 \ubb38\uc81c\uc5d0\uc11c \uc815\uc758\ud55c MySet \ud074\ub798\uc2a4\uc5d0 \ub300\ud574 \ub2e4\uc74c \uc608\uc81c\ub97c \uc218\ud589\ud558\uba74 \uc624\ub958\uc5c6\uc774 \uc62c\ubc14\ub974\uac8c \ub3d9\uc791\ud558\ub294 \uac83\uc744 \ud655\uc778\ud560 \uc218 \uc788\ub2e4. \ub2e4\uc74c \uc608\uc81c \ub0b4\uc5d0 \uc788\ub294 len(), bool() \ub0b4\uc7a5\ud568\uc218\uc640 in \ud0a4\uc6cc\ub4dc \uc0ac\uc6a9 \uc608\uc81c\uac00 \ubcc4\ub2e4\ub978 \uba54\uc18c\ub4dc \uc815\uc758\ub97c \ud558\uc9c0 \uc54a\uc558\ub294 \ub370\ub3c4 \uc62c\ubc14\ub974\uac8c \uc218\ud589\ub418\ub294 \uc774\uc720\ub97c \uc124\uba85\ud558\uc2dc\uc624."
     ]
    },
    {
     "cell_type": "markdown",
     "metadata": {},
     "source": [
      "len(), bool()\uc740 \uc790\ub8cc\ud615\uacfc \uad00\ub828\ub41c  \ub0b4\uc7a5 \ud568\uc218\ub85c\uc368 import\uc758 \uba85\ub839\uc5c6\uc774 \ubc14\ub85c \uc0ac\uc6a9\ud560 \uc218 \uc788\ub294 \ud568\uc218\ub4e4 \uc785\ub2c8\ub2e4. \uadf8\ub7ec\ubbc0\ub85c \ubcc4\ub2e4\ub978 \uba54\uc18c\ub4dc\ub97c \uc815\uc758\ud558\uc9c0 \uc54a\uc544\ub3c4 \uc0ac\uc6a9\ud560 \uc218 \uc788\uc2b5\ub2c8\ub2e4. in\uc740 \ud0a4\uc6cc\ub4dc\ub85c \uc774\ubbf8 keyword \ubaa8\ub4c8\uc5d0 \ub4f1\ub85d\ub418\uc5b4 \uc788\uc2b5\ub2c8\ub2e4. \uadf8\ub7ec\ubbc0\ub85c \uc774\uc5ed\uc2dc \uba54\uc18c\ub4dc\ub97c \uc815\uc758\ud558\uc9c0 \uc54a\uc544\ub3c4 \uc0ac\uc6a9\ud560 \uc218 \uc788\uc2b5\ub2c8\ub2e4."
     ]
    },
    {
     "cell_type": "markdown",
     "metadata": {},
     "source": [
      " "
     ]
    },
    {
     "cell_type": "markdown",
     "metadata": {},
     "source": [
      " "
     ]
    },
    {
     "cell_type": "markdown",
     "metadata": {},
     "source": [
      " "
     ]
    },
    {
     "cell_type": "markdown",
     "metadata": {},
     "source": [
      "###[7\ubc88 \ubb38\uc81c] \uc774\uc804 Assignment 3 (Assignment 4\uac00 \uc544\ub2d8)\uc758 \ub9c8\uc9c0\ub9c9 \ubb38\uc81c\ub294 \uc6f9 URL\ub85c \uc9c0\uc815\ub41c \uc6f9\ud398\uc774\uc9c0\ub97c \ubb38\uc790\uc5f4\ub85c \uac00\uc838\uc640 \ubaa8\ub4e0 HTML \ud0dc\uadf8 \ubc0f CSS\uc640 Javascript\ub97c \uc81c\uc678\ud55c \uc21c\uc218 \ud14d\uc2a4\ud2b8\ub97c \uc5bb\uc5b4\ub0b4\uace0 \uadf8 \uc548\uc5d0 \uc874\uc7ac\ud558\ub294 \ub2e8\uc5b4\ub97c \ucd94\ucd9c\ud558\uc5ec \uac01 \ub2e8\uc5b4\ub4e4\uc5d0 \ub300\ud574 \ucd9c\ud604\ube48\ub3c4\ub97c \uc0ac\uc804\ud615\ud0dc({'world': 2, 'hello': 1, 'python': 1})\ub85c \uc800\uc7a5\ud558\uc5ec \ucd9c\ub825\ud558\ub294 \uac83\uc774\uc5c8\ub2e4. \uc774\ubc88\uc5d0\ub294 Assignment 3\uacfc Assignment 4\ub97c \ud655\uc7a5/\ubcc0\ud615\ud558\uc5ec \ub2e4\uc74c\uacfc \uac19\uc740 \uc870\uac74\uc744 \ub9cc\uc871\ud558\ub3c4\ub85d \uad6c\ud604\ud558\uc2dc\uc624."
     ]
    },
    {
     "cell_type": "markdown",
     "metadata": {},
     "source": [
      "- \uc694\uad6c\uc0ac\ud56d 1 \uc0c8\ub85c\uc6b4 \ud074\ub798\uc2a4 WebWordsFrequency\ub97c \uc815\uc758\ud558\uc2dc\uc624."
     ]
    },
    {
     "cell_type": "markdown",
     "metadata": {},
     "source": [
      "- \uc694\uad6c\uc0ac\ud56d 2 \uc0dd\uc131\uc790\uc5d0 URL\uc744 0\uac1c\uc5d0\uc11c \uc784\uc758\uc758 \uac1c\uc218\ub97c \ub123\uc744 \uc218 \uc788\ub3c4\ub85d \uc0dd\uc131\uc790 \uc778\uc218\ub97c \uac00\ubcc0\uc778\uc218\ub85c \uc815\uc758\ud558\uc5ec \uac01\uac01\uc758 URL\uc744 \ub9ac\uc2a4\ud2b8 \uc790\ub8cc\ud615\uc5d0 \uc720\uc9c0\ud558\uc2dc\uc624."
     ]
    },
    {
     "cell_type": "markdown",
     "metadata": {},
     "source": [
      "- \uc694\uad6c\uc0ac\ud56d 3 addUrl() \uba54\uc18c\ub4dc\ub97c \uad6c\ud604\ud558\uc5ec \uc778\uc2a4\ud134\uc2a4\ub97c \uc0dd\uc131\ud55c \uc774\ud6c4\uc5d0\ub3c4 URL\uc744 \ucd94\uac00\ud560 \uc218 \uc788\ub3c4\ub85d \ud55c\ub2e4."
     ]
    },
    {
     "cell_type": "markdown",
     "metadata": {},
     "source": [
      "- \uc694\uad6c\uc0ac\ud56d 4 removeUrl() \uba54\uc18c\ub4dc\ub97c \uad6c\ud604\ud558\uc5ec URL\uc744 \uc0ad\uc81c\ud560 \uc218 \uc788\ub3c4\ub85d \ud55c\ub2e4."
     ]
    },
    {
     "cell_type": "markdown",
     "metadata": {},
     "source": [
      "- \uc694\uad6c\uc0ac\ud56d 5 listUrls() \uba54\uc18c\ub4dc\ub97c \uad6c\ud604\ud558\uc5ec \ud604\uc7ac \ub4f1\ub85d\ub41c \ubaa8\ub4e0 URL\uc744 \ucd9c\ub825\ud558\ub294 \uae30\ub2a5\uc744 \ucd94\uac00"
     ]
    },
    {
     "cell_type": "markdown",
     "metadata": {},
     "source": [
      "- \uc694\uad6c\uc0ac\ud56d 6 getWordsFrequency() \uba54\uc18c\ub4dc\ub97c \uad6c\ud604\ud558\uc5ec \uac01 URL\uc758 \uc6f9\ud398\uc774\uc9c0\ub4e4\uc744 \uc885\ud569\uc801\uc73c\ub85c \ubd84\uc11d\ud55c \ub2e8\uc5b4 \ucd9c\ud604 \ube48\ub3c4 \uc0ac\uc804\uc744 \ubc18\ud658\ud558\uc2dc\uc624.\n",
      "    - \ub9cc\uc57d \ub4f1\ub85d\ub41c URL\uc774 \uc5c6\ub2e4\uba74 \uacf5\ubc31 \uc0ac\uc804\uc744 \ubc18\ud658 "
     ]
    },
    {
     "cell_type": "markdown",
     "metadata": {},
     "source": [
      "- \uc694\uad6c\uc0ac\ud56d 7 getMaxFreqencyWords() \uba54\uc18c\ub4dc\ub97c \uad6c\ud604\ud558\uc5ec \uac01 URL\uc758 \uc6f9\ud398\uc774\uc9c0\ub4e4\uc744 \uc885\ud569\uc801\uc73c\ub85c \ubd84\uc11d\ud55c \ub2e8\uc5b4 \ucd9c\ud604 \ube48\ub3c4 \uc0ac\uc804\uc5d0\uc11c \uac00\uc7a5 \ub9ce\uc774 \ucd9c\ud604\ud55c \ub2e8\uc5b4 \ub9ac\uc2a4\ud2b8\ub97c \ubc18\ud658\ud558\uc2dc\uc624.\n",
      "    - \ucd5c\ub2e4 \ucd9c\ud604 \ub2e8\uc5b4\uc758 \ube48\ub3c4\uc218\uac00 \ub3d9\uc77c\ud55c \uacbd\uc6b0 \ubaa8\ub450 \ucd9c\ub825\ud574\uc8fc\uc5b4\uc57c \ud568 \n",
      "    - \ub9cc\uc57d \ub4f1\ub85d\ub41c URL\uc774 \uc5c6\ub2e4\uba74 None\uc744 \ubc18\ud658\n"
     ]
    },
    {
     "cell_type": "markdown",
     "metadata": {},
     "source": [
      "- \uc694\uad6c\uc0ac\ud56d 8 Assignment 4\uc5d0\uc11c \uc694\uad6c\ud588\ub358 \ud30c\uc77c\ub85c \uc800\uc7a5\ud558\ub294 \ucf54\ub4dc\ub294 \ubaa8\ub450 \uc0ad\uc81c\ud558\uc2dc\uc624."
     ]
    },
    {
     "cell_type": "code",
     "collapsed": false,
     "input": [
      "import string\n",
      "import urllib\n",
      "import copy\n",
      "\n",
      "\n",
      "class WebWordsFrequency :\n",
      "    a = 0 # \uae38\uc774\uce21\uc815 \ud074\ub798\uc2a4\ubcc0\uc218 a\n",
      "    b = 0 # \uae38\uc774\uce21\uc815 \ud074\ub798\uc2a4\ubcc0\uc218 b\n",
      "    tempKm = [] #\ud074\ub798\uc2a4 \ubcc0\uc218 key\uac12\n",
      "    tempV = []#\ud074\ub798\uc2a4 \ubcc0\uc218 value\uac12\n",
      "    \n",
      "    def __init__(self, *arg) :\n",
      "        self.w=list(arg) #\uac00\ubcc0 \ubcc0\uc218\n",
      "        self.count = 0 #print\ubb38\uc744 \uc4f8\uc9c0 \uccb4\ud06c\ud558\uc5ec \uc900\ub2e4.\n",
      "        self.Km = [] # \uc784\uc2dc key\uac12\n",
      "        self.V = [] # \uc784\uc2dc value\uac12\n",
      "            \n",
      "    def addUrl(self, url):# \ub354\ud558\uae30\n",
      "        self.w.append(url) # w\uc5d0 url\uc744 \ucd94\uac00\uc2dc\ud0a8\ub2e4.\n",
      "    \n",
      "    def removeUrl(self, url) : #\uc81c\uac70\n",
      "        check = 0\n",
      "        for e in self.w : \n",
      "            if e == url : #url\uc774 \uc77c\uce58\ud558\uba74 \uac10\uc18c\uc2dc\ud0a8\ub2e4.\n",
      "                self.w.pop(check)\n",
      "            check += 1\n",
      "    \n",
      "    def listUrls(self) : #\ucd9c\ub825\n",
      "        for e in self.w :\n",
      "            print e\n",
      "        if self.w == [] :\n",
      "            print \"No site\"\n",
      "    \n",
      "    \n",
      "    def getWordsFrequency(self) :\n",
      "        WebWordsFrequency.a = 0 #\uae38\uc774 \ucd08\uae30\ud654\n",
      "        WebWordsFrequency.b = 0 #\uae38\uc774 \ucd08\uae30\ud654\n",
      "        self.Km = [] # \ubcc0\uc218 \ucd08\uae30\ud654\n",
      "        self.V = [] # \ubcc0\uc218 \ucd08\uae30\ud654\n",
      "        ### \u2193\u2193\u2193\u2193\u2193 \uc5ec\uae30\ub294 Assignment3\ubd80\ubd84\uc5d0\uc11c \uc774\ubbf8 \ud588\ub358 \ubd80\ubd84 \u2193\u2193\u2193\u2193\u2193###\n",
      "        for i in range(0, len(self.w)) :\n",
      "            source = urllib.urlopen(self.w[i]).read()\n",
      "            \n",
      "            len_source = len(source)\n",
      "            #print \"Initial length of source:\", len_source\n",
      "            \n",
      "            source_new = None\n",
      "            i = 0\n",
      "            while (i < len_source):\n",
      "               \tfound = False\n",
      "               \tif (found != True and source[i] == \"<\" and source[i+1 : i+7].lower() == \"script\"):\n",
      "              \t\tfound = True;\n",
      "              \t\tj = i + 7;\n",
      "              \t\twhile (True):\n",
      "             \t\t\tif (source[j] == \"<\" and source[j+1] == \"/\" and source[j+2 : j+8].lower() == \"script\"):\n",
      "                \t\t\t\t#print \"found - script\"\n",
      "                \t\t\t\tsource = source[:i] + ' ' + source[j+9:]\n",
      "                \t\t\t\tbreak\n",
      "             \t\t\tj = j + 1\n",
      "             \t\t\tif (j > len_source):\n",
      "                \t\t\t\tbreak\n",
      "              \t\tlen_source = len(source)\n",
      "               \ti = i + 1\n",
      "            \n",
      "            len_source = len(source)\n",
      "            #print len_source\n",
      "            \n",
      "            i = 0\n",
      "            while (i < len_source):\n",
      "               \tfound = False\n",
      "               \tif (found != True and source[i] == \"<\" and source[i+1 : i+6].lower() == \"style\"):\n",
      "              \t\tfound = True;\n",
      "              \t\tj = i + 6;\n",
      "              \t\twhile (True):\n",
      "             \t\t\tif (source[j] == \"<\" and source[j+1] == \"/\" and source[j+2 : j+7].lower() == \"style\"):\n",
      "                \t\t\t\t#print \"found - style\"\n",
      "                \t\t\t\tsource = source[:i] + ' ' + source[j+8:]\n",
      "                \t\t\t\tbreak\n",
      "             \t\t\tj = j + 1\n",
      "             \t\t\tif (j > len_source):\n",
      "                \t\t\t\tbreak\n",
      "              \t\tlen_source = len(source)\n",
      "               \ti = i + 1\n",
      "                \n",
      "            len_source = len(source)\n",
      "            #print len_source\n",
      "            \n",
      "            i = 0\n",
      "            while (i < len_source):\n",
      "               \tfound = False\n",
      "               \tif (found != True and source[i] == \"<\"):\n",
      "              \t\tfound = True;\n",
      "              \t\tj = i + 1;\n",
      "              \t\twhile (True):\n",
      "             \t\t\tif (source[j] == \">\"):\n",
      "                \t\t\t\t#print \"found - HTML tag\"\n",
      "                \t\t\t\tsource = source[:i] + ' ' + source[j+1:]\n",
      "                \t\t\t\tbreak\n",
      "             \t\t\tj = j + 1\n",
      "             \t\t\tif (j > len_source):\n",
      "                \t\t\t\tbreak\n",
      "              \t\tlen_source = len(source)\n",
      "               \ti = i + 1\n",
      "            \n",
      "            len_source = len(source)\n",
      "            #print \"Last length of source:\", len_source\n",
      "            \n",
      "            words = source.split()\n",
      "            \n",
      "            #for word in words:\n",
      "            #\tprint word\n",
      "            \n",
      "            #print \"Total num of plain words:\", len(words)\n",
      "            \n",
      "            \n",
      "            blank_words = ' '.join(words)\n",
      "            \n",
      "            L=string.punctuation #\ubaa8\ub4e0 \ud2b9\uc218\ubb38\uc790 #\ud2b9\uc218\ubb38\uc790\ub97c \uc544\ubb34\uac83\ub3c4 \uc5c6\ub294 \uac12\uc73c\ub85c \ubcc0\uacbd\n",
      "            special_letter=blank_words.translate(None,L)\n",
      "            K = special_letter.split() # \uc804\uccb4\ud568\uc218\n",
      "            ### \u2191\u2191\u2191\u2191\u2191 \uc5ec\uae30\ub294 Assignment3\ubd80\ubd84\uc5d0\uc11c \uc774\ubbf8 \ud588\ub358 \ubd80\ubd84 \u2191\u2191\u2191\u2191\u2191###\n",
      "            Kmax = copy.copy(K) # Kmax\uc5d0 K\uc758 \uc804\uccb4\uac12\uc744 \uadf8\ub300\ub85c \uc595\uc740\ubcf5\uc0ac\ub85c \uce74\ud53c\ud569\ub2c8\ub2e4.\n",
      "            Kmin = [] #Kmin \uc120\uc5b8\n",
      "            \n",
      "            for e in K : # \uc911\ubcf5\ub418\ub294 \ub2e8\uc5b4\ub97c * \ud45c\uc2dc\ub85c \ucc44\uc6cc\uc8fc\uace0 *\ud45c\uc2dc\ub97c \uc81c\uc678\ud55c \ub098\uba38\uc9c0\ubd80\ubd84\uc744 Kmin\uc5d0\ub2e4\uac00 \ub123\uc5b4\uc90d\ub2c8\ub2e4.\n",
      "                for i in range(0, len(K)):\n",
      "                    if e == K[i] :\n",
      "                        K[i] = \"*\"\n",
      "                        \n",
      "                if e == \"*\" :\n",
      "                    continue\n",
      "                else :\n",
      "                    Kmin.append(e)\n",
      "                \n",
      "            for i in range(0, len(Kmin)) : # self.Km\uc5d0 Kmin \uc0bd\uc785\n",
      "                    self.Km.append(Kmin[i])\n",
      "                    \n",
      "                    \n",
      "            WebWordsFrequency.b = len(self.Km) # self.km \uae38\uc774\n",
      "            \n",
      "    \n",
      "            for i in range(WebWordsFrequency.a, WebWordsFrequency.b) :\n",
      "                count = 1\n",
      "                for j in range(0, len(Kmax)) : # \uc911\ubcf5\ub41c \ub2e8\uc5b4\uc218 \uccb4\ud06c\ubd80\ubd84\n",
      "                    if self.Km[i] == Kmax[j] :\n",
      "                        count = count + 1 # \uac19\uc73c\uba74 \ud558\ub098\uc529 count w\uc99d\uac00\n",
      "                self.V.append(count) # Km\uc758 \ub2e8\uc5b4 \ud558\ub098\uac00 \ub05d\ub0a0\ub54c\ub9c8\ub2e4 V\uc5d0\ub2e4 \uac12\uc744 \uc800\uc7a5\n",
      "                \n",
      "            WebWordsFrequency.a = WebWordsFrequency.b\n",
      "     \n",
      "        L = zip(self.Km, self.V) # \ud29c\ud50c\ud654\n",
      "        if self.count == 0 : #\ub9cc\uc57d self.count = 0\uc774\uba74\n",
      "               print repr(dict(L)).decode('string-escape') #\uc0ac\uc804\uc73c\ub85c \ucd9c\ub825\n",
      "               \n",
      "        WebWordsFrequency.tempKm = copy.copy(self.Km) #\ud074\ub798\uc2a4\ubcc0\uc218\uc5d0 Km \uc595\uc740\ubcf5\uc0ac\n",
      "        WebWordsFrequency.tempV = copy.copy(self.V) # \ud074\ub798\uc2a4\ubcc0\uc218\uc5d0 V \uc595\uc740\ubcf5\uc0ac\n",
      "               \n",
      "        \n",
      "                    \n",
      "    def getMaxFrequencyWords(self) :\n",
      "        \n",
      "        if len(self.w) == 0 : # \ub9cc\uc57d \ube48 \uac1d\uccb4\uba74 \ube48\uc0ac\uc804\uc73c\ub85c \ucd9c\ub825\n",
      "            print '{}'\n",
      "            return \n",
      "        self.count = 1\n",
      "        self.getWordsFrequency() # self.count\uac00 1\uc774\ub77c print\uad6c\ubb38\uc740 \uc2e4\ud589\ub418\uc9c0 \uc54a\ub294\ub2e4.\n",
      "        Maxcount = WebWordsFrequency.tempV[0] #\ucd5c\ub300\uac12\n",
      "        for i in range(0, len(WebWordsFrequency.tempV)) :# V\uc758 \ucd5c\ub300\uac12 \uccb4\ud06c\n",
      "            if Maxcount <= WebWordsFrequency.tempV[i] :\n",
      "                    Maxcount = WebWordsFrequency.tempV[i]\n",
      "        for i in range(0, len(WebWordsFrequency.tempV)) : # V\uc758 \ucd5c\ub300\uac12\uacfc \uac19\uc740 Km\uc744 \ucd9c\ub825\n",
      "            if Maxcount == WebWordsFrequency.tempV[i] :\n",
      "                print WebWordsFrequency.tempKm[i], WebWordsFrequency.tempV[i]\n",
      "                \n",
      "#class OrderedWebWordsFrequency(WebWordsFrequency) :\n",
      "#    def __init__(self, *arg) : # \uc0c1\uc18d \ucd08\uae30\ud654\n",
      "#        WebWordsFrequency.__init__(self, *arg)\n",
      "#            \n",
      "#    def getWordsFrequency(self) :\n",
      "#        self.count = 2 \n",
      "#        temp = ''\n",
      "#        WebWordsFrequency.getWordsFrequency(self) #\uc5ed\uc2dc self.count\uac00 2\uc774\uae30 \ub54c\ubb38\uc5d0 print\ubb38\uc740 \ucd9c\ub825\ub418\uc9c0 \uc54a\uc74c    \n",
      "#        for i in range(0, len(WebWordsFrequency.tempV)) : # for\ubb38\uc740 \ub0b4\ub9bc\ucc28\uc21c \uc815\ub82c\n",
      "#            for j in range(i, len(WebWordsFrequency.tempV)) :\n",
      "#                if WebWordsFrequency.tempV[i] < WebWordsFrequency.tempV[j] :\n",
      "#                    temp = WebWordsFrequency.tempV[i]\n",
      "#                    WebWordsFrequency.tempV[i] = WebWordsFrequency.tempV[j]\n",
      "#                    WebWordsFrequency.tempV[j] = temp\n",
      "#                    temp = WebWordsFrequency.tempKm[i]\n",
      "#                    WebWordsFrequency.tempKm[i] = WebWordsFrequency.tempKm[j]\n",
      "#                    WebWordsFrequency.tempKm[j] = temp\n",
      "#        L = zip(WebWordsFrequency.tempKm, WebWordsFrequency.tempV)\n",
      "#        print repr(L).decode('string-escape')\n",
      "        \n",
      "        \n",
      "        \n",
      "print \"--- \uc0dd\uc131\uc790(w1, w2, w3) ---\"      \n",
      "w1 = WebWordsFrequency('http://www.daum.net', 'http://www.naver.com', 'http://www.google.co.kr') \n",
      "w2 = WebWordsFrequency('http://www.daum.net', 'http://www.naver.com')\n",
      "w3 = WebWordsFrequency()\n",
      "w1.listUrls()\n",
      "print\n",
      "w2.listUrls()\n",
      "print\n",
      "w3.listUrls()\n",
      "print\n",
      "print \"--- URL \ucd94\uac00(w1, w3) ---\"\n",
      "w1.addUrl('http://cse.koreatech.ac.kr')\n",
      "w3.addUrl('http://cse.koreatech.ac.kr')\n",
      "w1.listUrls()\n",
      "print \n",
      "w3.listUrls()\n",
      "print\n",
      "print \"--- URL \uc0ad\uc81c(w1, w2) ---\"\n",
      "w1.removeUrl('http://www.daum.net')\n",
      "w2.removeUrl('http://www.naver.com')\n",
      "w1.listUrls()\n",
      "print\n",
      "w2.listUrls()\n",
      "print\n",
      "print \"--- \ud604\uc7ac \ub4f1\ub85d\ub41c \ubaa8\ub4e0 Url(w1, w2, w3) ---\"\n",
      "w1.listUrls()\n",
      "print\n",
      "w2.listUrls()\n",
      "print\n",
      "w3.listUrls()\n",
      "print\n",
      "print \"--- \ub2e8\uc5b4 \ucd9c\ud604 \ube48\ub3c4 \uc0ac\uc804 \ubc18\ud658 ---\"\n",
      "w1.getWordsFrequency()\n",
      "w3.getWordsFrequency()\n",
      "print\n",
      "print \"--- \uc0ac\uc804\uc5d0\uc11c \uac00\uc7a5 \ub9ce\uc774 \ucd9c\ud604\ud55c \ub2e8\uc5b4 ---\"\n",
      "w1.getMaxFrequencyWords()\n",
      "\n",
      "print\n",
      "print\n",
      "#print \"--- \ub0b4\ub9bc\ucc28\uc21c \ucd9c\ub825 ---\"\n",
      "#w4 = OrderedWebWordsFrequency('http://www.daum.net', 'http://www.naver.com', 'http://www.google.co.kr')\n",
      "#w4.getWordsFrequency()\n"
     ],
     "language": "python",
     "metadata": {},
     "outputs": [
      {
       "output_type": "stream",
       "stream": "stdout",
       "text": [
        "--- \uc0dd\uc131\uc790(w1, w2, w3) ---\n",
        "http://www.daum.net\n",
        "http://www.naver.com\n",
        "http://www.google.co.kr\n",
        "\n",
        "http://www.daum.net\n",
        "http://www.naver.com\n",
        "\n",
        "No site\n",
        "\n",
        "--- URL \ucd94\uac00(w1, w3) ---\n",
        "http://www.daum.net\n",
        "http://www.naver.com\n",
        "http://www.google.co.kr\n",
        "http://cse.koreatech.ac.kr\n",
        "\n",
        "http://cse.koreatech.ac.kr\n",
        "\n",
        "--- URL \uc0ad\uc81c(w1, w2) ---\n",
        "http://www.naver.com\n",
        "http://www.google.co.kr\n",
        "http://cse.koreatech.ac.kr\n",
        "\n",
        "http://www.daum.net\n",
        "\n",
        "--- \ud604\uc7ac \ub4f1\ub85d\ub41c \ubaa8\ub4e0 Url(w1, w2, w3) ---\n",
        "http://www.naver.com\n",
        "http://www.google.co.kr\n",
        "http://cse.koreatech.ac.kr\n",
        "\n",
        "http://www.daum.net\n",
        "\n",
        "http://cse.koreatech.ac.kr\n",
        "\n",
        "--- \ub2e8\uc5b4 \ucd9c\ud604 \ube48\ub3c4 \uc0ac\uc804 \ubc18\ud658 ---\n",
        "{'gt': 2, '\ufffd\ufffd\ufffd\u03b1\u05f7\ufffd': 2, '\ud55c\uae00\ucea0\ud398\uc778': 2, '\uc804\uc5d0': 2, '\uc704\ud558\uc5ec': 2, '\ub098\ub214\uae00\uaf34\uc774': 3, '\ufffd\ufffd\ufffd\ufffd': 2, '\uc8fc\ucf5c\ub7ec\ub178\ube44\ud0c0': 2, '\ufffd\ufffd\ufffd\ufffd': 2, '2\uc6d4': 2, '\ubbf8\uc158': 2, '\ub098\ub214\uae00\uaf34\uc744': 3, '\uc120\ud638\uc8fc\uc81c\uc124\uc815': 2, '\uc545\ub3d9': 2, '\ufffd\ufffd\ufffd\ufffd\ufffd\ufffd': 2, '\ubcfc': 2, '\uc815\ubcf4\ud1b5\uc2e0\uacf5\uc0ac\uc5c5': 2, '\ud074\ub9ad\ud558\uc138\uc694': 2, '\ub18d\ub3c4': 2, '\uc81c\ub300\ub85c': 3, '\ufffd\u03b1\ufffd\ufffd\ufffd': 2, '\uc0c1\uc601\uc791': 3, '\ubbf8\uc178': 2, '\ud1b5\uc2e0\uc911': 2, '\uc0c1\ubc18\uae30': 2, '\uc2dc\uc2a4\ud15c\uae00\uaf34': 2, '\ufffd\ufffd\ufffd\ufffd\u03f4\ufffd': 2, '\uac15\ucd94\uc704': 2, '\uc7a5\ud559\uae08': 2, '\uae30\uc874': 2, '\ud648': 4, '\ub97c': 2, '\ud750\ub9ac\uace0': 12, '\uace0\uac1d\uc13c\ud130': 2, '\uc8fc\uc81c\ud615\uce90\uc2a4\ud2b8': 2, '\ub7ad\ud0b9': 4, '\ub54c\ub294': 2, '\ucc28\ubcc4\uacfc': 2, '\uc81c\uacf5\ub418\uc9c0': 2, '\ubaa8\uc9d1': 4, '\uc790\uc8fc': 3, 'quot\uc6b0\ub9ac': 2, '20140327': 2, '\uae30\uc0ac\ubcf4\uae30': 2, '\uc571': 4, '\ucc3e\uc544\uc624\uc2dc\ub294\uae38': 2, 'SK\ud154\ub808\ucf64': 2, '\ub124\uc774\ubc84\ub274\uc2a4': 2, '\uc124\uce58\ub41c': 2, '\uc790\ub3d9\ucc28': 2, '\uc804\ubb38\ubcf4\uae30': 3, '\ufffd\u067f\ufffd\u03b5\ufffd': 2, '\uc644\ub8cc\ub418\uc9c0': 2, '\uad6d\uc5b4\uc0ac\uc804': 2, '\ubbf8\ub798': 2, '\uc778\uc2dd': 2, '\uc8fc\uc694\uc5b8\ub860\uc0ac': 3, '\uc124\uc815\ub41c': 2, '\uc124\uce58\ud558\uc138\uc694': 2, 'new': 2, '\ubd80\ub3d9\uc0b0': 2, '\uc606\ucc28\uae30': 2, '\ud55c\uac8c\uc784': 2, '\ub2eb\uae30': 6, '\uc811\uadfc\uc131': 2, '\ud3f0\ud2b8\ub97c': 2, '\uad6c\ub984\ub9ce\uc74c': 11, '6\ub300\ud559\uc0dd\ud68c': 3, '\ucf24': 2, '\ufffd\ufffd\ufffd\ufffd\u033a\ufffd': 2, '101': 2, '105': 2, '\uc0ac\uc9c4\uac8c\uc2dc\ud310': 2, '\ud655\uc778': 2, '\uc885\ud569\uacbd\uc81c': 2, '33': 2, '\ud558\ub294': 2, '30': 6, '36': 2, '39\ub9c8\ub2e4\uac00\uc2a4\uce74\uc758': 2, '\uc774\uc6a9\uc744': 2, '\uc774\ub2e8': 2, '\uc54a\uace0': 2, '\uac80\uc0c9\uc5b4\ub294': 2, '\uac80\uc0c9\uc5b4\uc800\uc7a5': 7, '\uacbd\uc6b0\uc5d0': 2, '\ud568\ub355\uc8fc': 4, '\ud1b5\ud569\uac80\uc0c9': 2, '\ud0c0\uc784\uc2a4\ud018\uc5b4': 3, 'txt': 5, '\ubcc4\uc5d0': 2, '\ucde8\uc5c5\uac8c\uc2dc\ud310': 2, '\ub2e4\uc74c\ud398\uc774\uc9c0': 3, '\uc608\ub9e4\uc21c': 2, '\ub274\uc2a4': 3, '\ucc44\uc6a9\uc5f0\uacc4\ud615': 2, '\uc5f0\uc608': 2, '\uc2a4\ud0c0\uc6cc\uc988': 2, '\uc8fc\ud718\ub2c9\uc2a4\ub514\uc9c0\ud0c8\ud14c\ud06c': 2, '\uc124\uacc41': 2, '\ub77c\uc774\ud504': 2, '\uac1c\uc778\uc815\ubcf4': 2, '\uac1c\uc778\uc815\ubcf4\ucde8\uae09\ubc29\uce68': 2, '\uc778\ubb3c': 2, '\uac80\uc0c9\uc5b4\ub97c': 3, '90': 3, '\uae09\uc0c1\uc2b9': 2, '\ub300\ud559\uc6d0\uc18c\uac1c': 2, 'none': 2, '39\uc368\ub2c839\uc5d0\uc11c': 2, '\ub300\ud574': 2, '\uac74\uac15': 2, '\uc5f4\uae30': 3, '8\uc704': 2, '\uc798\ub09c': 2, '\uc2e4\uc2b5\uc870\uad50': 2, '\ubd81\uc2a4': 2, '\uba54\ub274': 3, '\ud3ad\uadc4\ub4e4\uc758': 2, 'Chrome': 2, '\uc800\uc7a5\ub418\uc9c0': 2, '\uc61b': 2, '\ub098\ub214\uae00\uaf34\ub85c': 3, '\ufffd\u02fb\ufffd': 2, '7\uc704': 2, '\ucd94\uac00': 2, '\ub098\ub9cc\uc758': 2, '\uc18c\ud504\ud2b8\uc6e8': 2, '\uae00\uaf34\uc124\uc815': 3, '\uc811\uc218\ud55c': 2, '1': 2, 'LG\ud788\ub2e4\ucc0c\uc8fc': 2, '\ud2b9\uae09': 2, '\uce74\ud398': 3, '\ub300\ud559\uc0dd\uc774': 2, '\uc99d\uad8c': 2, '\ubc18\ub4dc\uc2dc': 2, '\ufffd\ufffd\ufffd': 2, '\uc601\uc790\uc9c0': 2, '\uae30\ub85d': 4, '\ubd80\uacfc': 2, 'date': 2, '\u6734\ub300\ud1b5\ub839': 2, '\uc5ec\uce5c': 2, '\uc54a\uc740': 2, '\ud3c9\uc810': 2, '\uadf9\uc7a5': 2, '\ub124\uc774\ubc84\ub97c': 2, '\uc735\ud569': 2, '\ucf1c\uae30': 6, '\uad6c\ub984\uc870\uae08': 3, '\ud574\uc57c': 2, '\ud604\uc7ac\uc0c1\uc601\uc791nbsp': 2, '\uc0dd\uac01\ud55c\ub300\ub85c': 2, '\uac10\ub3c5': 2, '\uae00\ub85c\ubc8c': 2, '\ucd94\uac00\ud558\uc2dc\ub824\uba74': 2, '\uc2e4\uc2dc\uac04': 2, '\uc790\uc138\ud788\ubcf4\uae30': 2, '\ufffd\ufffd\ufffd\u0373\ufffd\ufffd\ufffd': 2, '\uc5f0\ud569\ub274\uc2a4': 2, '\uac1c\uc778': 3, '\uc624\ub298\uc758\uc2e0\ubb38': 2, '25': 2, '\ubcf4\ub0b4\uae30': 2, '20': 6, '22': 2, '23': 2, '\uac1c\ubd09\uc608\uc815\uc791nbsp': 2, '\uc8fc\uc694\ub274\uc2a4\ub97c': 2, '2014': 2, '\uc571\uc2a4\ud1a0\uc5b4': 2, '\ufffd\u0471\ufffd': 2, '2013': 2, '\ub2f4\uc740': 2, '\uc2dc\uc791\ud398\uc774\uc9c0\ub85c': 2, '\uc9c8\ubb38\ud615': 2, '\ufffd\ufffd\ufffd\ufffd': 2, '\uac80\uc0c9\uc5b4\ub85c': 2, '\uae4a\uc774': 2, '\uc624\ub298\uc758': 3, '\ub124\uc774\ubc84\uc640': 2, '\uc9c0\uc2ddiN': 3, '\uac8c\uc784': 3, '\ub2e4\ub4e4': 2, '\uad50\uc721\ubaa9\ud45c': 2, '\uccad\uc18c\ub144\uc720\ud574\ub9e4\uccb4\ubb3c': 2, '\ubcf8\uc778\ud655\uc778': 2, '\uc0dd\ud65c': 2, '\ube60\ub978': 2, '\uc804\uc1a1\uc740': 2, '396': 2, '\ubc84\ud2bc\uc744': 2, 'NAVER': 4, '\uc0ac\uc6a9\ud558\uace0': 2, '\uc785\ub825': 2, '80': 2, '39\ubbf8\uc0dd39\uae4c\uc9c0\uc758': 2, '\ucd5c\uadfc\uac80\uc0c9\uc5b4': 3, '\uacbd\uc81c': 2, '\uad50\uc218\uc9c4': 2, '\ud559\ubd80\uc0ac\uc9c4\uac94\ub7ec\ub9ac': 2, '\ub0b4PC': 2, '\uc608\uc220\uc774': 2, '\ud559\uc0dd\ud68c': 2, '\ucde8\uc18c': 3, '\uc7ac\uc124\uce58': 2, '\uc598\uae30': 2, '\ufffd\u0339\ufffd\ufffd\ufffd': 2, '\uc2e0\uc785\uc9c1\uc6d0': 2, '\uc2dc\uc0ac\ud68c': 2, '\ud3ec\uc2a4\ud130\ubc1c\ud45c\uacbd\uc9c4\ub300\ud68c': 2, '\uc9c0\uc6cc\uc8fc\uc138\uc694': 2, '\ud45c\uc900': 2, '\uac00\ub2a5\ud569\ub2c8\ub2e4': 3, '\ubb34\ub8cc\uc785\ub2c8\ub2e4': 2, '\uc1fc\ud551': 3, '\uc7a5\ubcbd': 2, '\ub9e4\uac70\uc9c4nbsp': 2, '\uacf5\ud559\uc778\uc99d\uc548\ub0b4': 2, '\uc6f9\ubb38\uc11c': 2, '\uc720\ud615': 2, '\ufffd\ufffd': 2, '\ubc1c\uc0dd\ud569\ub2c8\ub2e4': 2, 'times': 2, '\ubd88\ubcc0\u2026\ucc0c\ub77c\uc2dc': 2, '\ubcc0\ucc9c\uc0ac': 2, '\uc77c': 2, '\uc120\ud0dd': 2, 'Gmail': 2, '\uc774': 2, '\uc9c0\ub3c4': 3, '\uc9c0\uc5ed\uc124\uc815': 2, '\uc54a\ub294': 2, '\ubcf4\uc138\uc694': 3, '\uc2e0': 2, '\uc774\ubca4\ud2b8nbsp': 2, '\uc790\ub3d9\ucc28\ud14c\ud06c': 2, '20121105': 2, '\uc7a5\ud559\uc81c\ub3c4': 2, 'TV\uce90\uc2a4\ud2b8': 2, '\uc8fc\uac04': 2, '\uad6c\ub3c5\uc124\uc815': 2, '\uc2a4\ub098\uc774\ud37c39': 2, '\uc9c0\uae08': 2, '7\uc6d430\uc77c': 2, '2': 2, '\ud658\uacbd\uc138': 2, '\ub2e4\uc74c\uce90\uc2a4\ud2b8': 2, '\uc601\ud654': 6, '\ud574\uc81c': 2, '\ufffd\u05b7\ufffd\ufffd': 2, '\ud22c\ub370\uc774': 2, '\ud68c\uc0ac\uc18c\uac1c': 2, '\ubcf4\ud638\ub97c': 2, '\ub208': 12, '\uace0\uac1d\ub2d8\uc758': 2, '\uc6f9\ud230': 3, 'copy': 2, '\ucd5c\ub300': 2, '\ub0a0\uc528': 2, '\uc11d\uc0ac\uc774\uc0c1': 2, '10': 5, '\ub3c4\uc6c0\ub9d0': 8, '189': 2, '\uc18c\ud504\ud2b8\uc6e8\uc5b4': 2, '14': 2, '\ufffd\ufffd\ufffd': 2, '99': 2, 'PC\uc5d0\uc11c\ub294': 2, '\ubbf8\ub9ac\ubcf4\uae30': 2, 'KT': 2, '\uc2dc\uc2a4\ud15c': 2, '\uacf5\uc9c0': 2, '\uc801\uc6a9': 2, '6\ub300': 2, '\ube44\uc120\uc2e4\uc138': 2, 'LG\uc720\ud50c\ub7ec\uc2a4': 2, '\ucef4\ud4e8\ud130\uacf5\ud559\ubd80': 7, '\ubab0\ub514\ube0c': 2, '\ubaa8\ub4e0': 3, '\ubb34\ub8cc\ub85c': 4, '\ub514\uc9c0\ud138': 2, '\ubc15\uc2a4\uc624\ud53c\uc2a4': 2, '\uc624\ub958': 2, '\uc0ac\uc804': 3, '\uac00': 2, '\ud074\ub9b0\ud2b8': 2, '\uccb4\ud5d8\uad00': 2, '\uae30\uc5b5\ud558\uc8e0': 2, '\ub208\ube44': 3, '\uae30\uc5c5\uc744': 3, '\uc81c': 5, '\ud55c\ub54c': 4, '\uac1c': 2, '\uc5c6\uc2b5\ub2c8\ub2e4': 3, '\uc77c\ubc18\uc790\ub8cc\uc2e4': 2, 'IT\uc735\ud569': 5, '\uc790\uc720\uac8c\uc2dc\ud310': 2, '\uc18c\ud504\ud2b8\uc6e8\uc5b4\uacf5\ud559': 2, '20131210': 2, '\uba54\uc778\uc5d0\uc11c': 2, '\uc791\uc804\uc740': 2, '\uc815\ucc45': 3, '01': 2, '\uad6c\ub984\ub9ce\uace0': 3, '\uacf5\ud559\uc124\uacc4': 3, '70': 4, '2039s': 2, '\ucd5c\uadfc\uac80\uc0c9\uc5b4\uc5d0\uc11c': 2, '\ucc45': 4, '\uccb4\uc9c8\uac1c': 2, 'httpnv1adnavercomadshowunit002ANnrefreshx0': 2, '1\uc704': 2, '4\uc704': 2, '\uc601\ud654\ubcf4\ub7ec': 2, '\ub2f9\uc2e0\uc785\ub2c8\ub2e4': 2, '\ucd08\ub300': 2, '\ucc3d\uc870\ud55c': 2, '\uc778\ud134\uc2ed': 2, '\ub85c\ub610627\ud68c\ub2f9': 2, 'raquo': 2, '\ubc88\ud638\ub294': 2, '\uc7a5\uba74': 2, '\uc624\ud508\uce90\uc2a4\ud2b8': 2, '\uba54\uc778\uc744': 3, '\uc628\ub77c\uc778\uc138\uc0c1': 2, '\ud544\ub3c5': 2, '\ucef4\ud4e8\ud130\uc2dc\uc2a4\ud15c\uc751\uc6a9': 2, '3\uc704': 2, '\uccad\uac01\uc7a5\uc560\uc778': 2, '39\uc544\uba54\ub9ac\uce78': 2, '\ud2b9\uc131\ud654': 8, '20141020': 2, '39\uc774': 2, '\uc9c0\uc5ed': 3, '\uc54a\uc2b5\ub2c8\ub2e4': 3, 'N\ub4dc\ub77c\uc774\ube0c': 2, '\ufffd\ufffd\ufffd\ufffd': 2, '\ub110\ub9ac': 2, '\uc0ac\uc6a9': 3, '\uc5f0\uad6c\uc2e4\uc18c\uac1c': 2, '\uc2e0\uc791': 2, '\ud604\uc7ac': 18, '\ud544\uc694\ud55c39': 2, '\ubaa8\uc9d1\uc694\uac15': 2, '\uacbd\uc9c4\ub300': 2, '8': 2, '\ub2e4\uc2dc': 3, '\uac80\uc0c9\ub4f1\ub85d': 2, '\uac80\uc0c9': 3, '\ubba4\uc9c1': 4, '\uc790\ub3d9\uc644\uc131': 11, '12': 2, '\uc11c\uc720\ub9ac': 3, '\uc628\ub77c\uc778': 2, '\uad6c\ub3c5\ubaa9\ub85d': 2, '\uc6a9\uc5b4\uc0ac\uc804': 2, '\uc7ac\ubcf4\uad90\uc120\uac70': 2, '\ud22c\ud45c': 2, '\uc11c\uc6b8': 2, '\uc601\uc0c1': 3, '\uc2e0\uaddc': 2, '\uc288\ud37c\ub9e8\uc774\ub3cc\uc544\uc654': 2, '\uac00\ub824\uace0\uc694quot': 2, '\ud648\ud398\uc774\uc9c0': 2, '\uac15\uc758\uc790\ub8cc\uc2e4': 2, '\uc218': 3, '\ub3d9\ubb38\uac8c\uc2dc\ud310': 2, '\uad11\uace0': 4, 'QnA': 2, '\uc54c\ub9bc': 2, '\uc804\uccb4': 3, '\uc870\uc6c5\ucc9c': 3, '\uacf5\uc9c0\uc0ac\ud56d': 2, '\uc878\uc5c5\uc608\uc815\uc790': 2, '02': 2, '\ud504\ub85c\uadf8\ub798\ubc0d': 2, '9\uc704': 2, '\uc2e0\ubb38': 3, '\uc601\uc5b4\uc0ac\uc804': 2, '\uc218\uc815': 2, '\uccb4\ud5d8\ucc44\uc6a9': 2, '\uc704\ud55c': 2, '\ub85c\ub610627\ud68c\ub2f9\ucca8\ubc88\ud638': 2, '3': 2, '\uc644\ub8cc': 2, '\uacc4\uc18d\u2026\ubc24': 2, '\uac00\uae30': 2, '20141031': 2, '4\ub300': 2, 'C': 2, '\uc774\uc804\ud398\uc774\uc9c0': 3, '\uacf5\uc775\ub098\ub214': 2, '\ufffd\ufffd\ufffd\ufffd\u03fd\ufffd': 2, '\ub41c\ub2e4': 2, '\uac80\uc0c9\ud574': 2, '\uc8fc\uc81c\ubcc4\uce90\uc2a4\ud2b8': 2, '\uc870\uac74\uc744': 2, '\ufffd\ufffd\ufffd\ufffd': 2, '\uacf5\uc6a9': 2, '\uba54\uc77c': 2, '2\uc704': 2, '\uc8fc\uc138\uc694': 2, '\ub2e4\uc74c': 3, 'PC\uc5d0\uc11c': 2, '\uc120\uac70\uc77c\uae4c\uc9c0': 2, '\ufffd\ufffd\ufffd': 2, '\ubc31\uacfc\uc0ac\uc804': 2, '\uc120\ud0dd\ud558\uc5ec': 2, '\ubb34\uc0ad\uc81c': 2, '\ub098\ub214\uae00\uaf34': 9, '20141124': 4, '20141127': 3, '\ud544\uc694\ud569\ub2c8\ub2e4': 2, '\uc775\uba85\uac8c\uc2dc\ud310': 2, '\uc804\uccb4\uc5b8\ub860\uc0ac': 3, '\ub0b4\uac74': 2, '\ud574': 2, '\ub2e4\uc6b4\ub85c\ub4dcURL': 3, '\uac80\uc0c9\uc5b4': 11, '\ubcf8\ud3b8': 2, '60': 2, '65': 2, '39\uac15\uc18c\ub77c39': 2, '\ub2e4\uc6b4\ub85c\ub4dc': 3, '\ud2b9\uc9d5': 2, '255': 2, 'Play': 2, '\uce74\ud14c\uace0\ub9ac': 2, '\uc2a4\ud3ec\uce20\uc5f0\uc608': 2, '\ud65c\uc131\ud654\ub418\uc5c8\uc2b5\ub2c8\ub2e4': 2, '\ub300\uae30\uc624\uc5fc\uc815\ubcf4': 2, 'Beta': 2, '\uc124\uc815': 2, '\uc810\ubab0\uac1c\uc758': 2, '\ud55c\uc790\uc0ac\uc804': 2, '\uc9c0\uad6c\ub97c': 2, '20141014': 3, '1207': 2, '\uacc4\uc2ed\ub2c8\ub2e4': 2, '20141203': 4, '\ud5e4\uc5b4\uc9d0\uc758': 2, '20141128': 2, '\ub0b4\uc77c\uc624\uc804': 13, '\ub300\uc124': 2, '\uc878\uc5c5\uc2dc\ud5d8': 2, '39\ud30c\ucee439': 2, '\uc0dd\ud65c\uc704\uc82f': 2, '\uc74c\uc545': 2, '\ubbf8\ub798\ubd80': 2, '\uc2e0\uace0': 5, '\ud310\ud0c0\uc9c0\uc544': 2, '\ucef4\ud4e8\ud130SW': 2, '\ubcf4\uae30': 4, '\uac00\ub054': 10, '\uc0ad\uc81c\ud55c': 2, '\ud55c\uc218\ubbfc': 3, '\uac1c\ubc29': 2, '\ub274\uc2a4\uc2a4\ud0e0\ub4dc': 3, '\uc288\ud37c\ub9e8\uc774\ub3cc\uc544\uc654\ub2e4': 2, '\uc774\uc6a9\uc57d\uad00': 2, '\uc774\uc720\ub294': 2, '\ud569\ub2c8\ub2e4': 2, '20120909': 2, '\ub4f1\ub85d': 3, '\ub2e4\ud050': 2, '\uc4f0\ub294': 2, '\uacbd\ud488': 2, '\uc644\ubcbd\ud55c': 2, '\ub300\ud559\uc6d0\uac8c\uc2dc\ud310': 2, '43\ub144\ub9cc\uc5d0': 2, 'IT\uc758': 2, '\ucde8\uc5c5\uc870\uc0ac2013': 2, '\uc81c\ud734\uc81c\uc548': 2, '\uc11c\ube44\uc2a4': 3, '\uae4c\uc9c0': 2, '20140924': 2, '\ub0b4\uc5ed\uc774': 2, '\ucde8\uc5c5\uc870\uc0ac2015': 2, '\uacbd\uc6b0': 2, '\ud560\ub9ac\uc6b0\ub4dc\ub97c': 2, '\ucde8\uc5c5\uc870\uc0ac2014': 2, '\uc2a4\ud0c0\uc6cc\uc988\uc5d0': 2, '\ubb38\uc790\ubc1b\uae30': 3, '\ubc14\ub85c': 2, 'IT': 2, '\uc9c1\ubb34': 2, '\ud3bc\uce58\uae30': 2, '\uc804\ubb38\uc790\ub8cc': 2, '\ubcf4\uc544\uc694': 2, '\ub354\ubcf4\uae30': 3, '\uc778\uae30\uac00\uc694': 3, '\ucef4\ud4e8\ud130\uc2a4\ub9c8\ud2b8IT': 2, '\ud655\uc778\ud558\uc138\uc694': 2, '\uc5ec\uc0ac\uc6d0': 2, 'nbsp\ub098\ub214\uae00\uaf34\uc744': 2, '\ud655\uc778\ub418\uc9c0': 3, '\ub124\uc774\ubc84me': 2, '\ucd5c\ucd08\uc124\uce58\uac00': 2, 'intxt': 2, '\ub9d1\uc74c': 10, '\uc704\uce58': 2, '\uc785\uc2dcQA': 2, '\uc54c\uace0': 2, '\uae30\ub9d0\uace0\uc0ac': 2, '\ubc29\uc1a1\ud1b5\uc2e0': 2, 'WDO': 3, '\ub3d9\uc601\uc0c1': 2, '\uc804\uccb4\ubcf4\uae30': 2, '\ufffd\ufffd\ufffd\ufffd\ufffd\ufffd': 2, '40': 2, '2013\ub144': 2, 'YouTube': 2, '\uc0ac\uc6d0': 2, '\ud328\ubc00\ub9ac': 2, '\uc96c\ub2c8\ubc84': 2, '\uc601\ud654\ub4e4': 2, '\ubc14\ub85c\uac00\uae30': 6, '\uad6d\ub0b4': 2, '\ubbf8\uc138\uba3c\uc9c0': 2, '6\uc704': 2, '\ud478\uc9d0\ud55c': 2, '\uac80\uc0c9\uc5b4\uac00': 2, '\uce74\ud398\uae00': 2, '261': 2, '267': 3, '\ucc3e\ub294': 2, '\ud544\ubaa8': 2, '\uc608\ubcf4': 2, '\ufffd\ufffd\u07b0\u02fb\ufffd': 2, '\uc57d\uad00': 2, '\ub77c\uc778': 2, '\uacbd\uc2dc': 2, '\ubd81\ubbf8': 2, 'httpnv2adnavercomadshowunit002APnrefreshx0': 2, '54': 2, '50': 3, '\uc774\uc2a4\ud2b8\uc6b0\ub4dc': 2, '\ud2f0\uc800': 2, '\uac00\ubccd\uace0': 2, '\ub0b4\uc77c\uc624\ud6c4': 13, '\ub85c\uadf8\uc544\uc6c3\uc744': 2, '\uc8fc\uc81c\ubcc4': 2, '\ud1b5\ud569\ub300\uae30\uc9c0\uc218': 2, '2015\ub144': 2, '5\uc704': 2, '\uac1c\ubc1c\uc790': 2, '\uc788\uc5b4\uc694': 2, 'New': 3, '20131007': 2, '\ub9e4\uac70\uc9c4\uc804\ubb38\uc9c0': 2, '\uc77c\ubcf8\uc5b4\uc0ac\uc804': 2, '\ub044\uae30': 8, '\ube44': 2, '\uc124\uce58': 5, '\uc784\uc758\ub85c': 2, '10\uc704': 2, '\ubd80\ud68c\uc7a5': 2, '\ud3ec\ud568': 3, '\uc5c6\ub294': 2, '\ube44\ub208': 3, '\uc2e4\ubb34\ud504\ub85c\uadf8\ub798': 2, 'ufc': 3, '\ub124\uc774\ubc84SE': 2, '\ubc0f': 4, '\uc0ad\uc81c': 5, '\uacf5\ub4dc\ub9ac\uac00': 2, '\u2103': 37, '\ube0c\ub85c\uc154': 2, '\ub9e4\uac70\uc9c4': 3, '20141202': 2, '20141130': 2, '\ub124\uc774\ubc84\uce90\uc2a4\ud2b8': 2, '\u2018\uae30\uac00': 2, '\ub2ec\ub825\uc758': 2, '\uc785\ub825\ud558\uc2e0': 2, '\ub77c\uc774\uc13c\uc2a4': 3, '\ub0b4': 9, '\uc788\uc2b5\ub2c8\ub2e4': 5, '\uc571\uc744': 2, '\ube14\ub85c\uadf8': 3, '\uccb4\ud5d8\ud574\ubcf4\uc138\uc694': 2, '\ud504\ub85c\uadf8\ub7a8': 2, '\uc878\uc5c5\uc791\ud488': 3, '\uac80\uc0c9\ud648': 2, 'KOICA': 2, 'Google': 4, '\uc704\ud574\uc11c\ub294': 2, '\uc81c\uacf5\ud558\ub294': 2, '\uacf3\uacf3': 2, 'MY\ub274\uc2a4': 2, '\uae0d\uc815\ubd80\uc815\uac80\uc0c9': 2, 'nbsp': 2, 'Corp': 2, '\ub124\uc774\ubc84': 14, '12\ud559\ub144': 2, '\ufffd\ufffd': 2, '\ucea0\ud504': 2, '\uae30\ub2a5\uc744': 3, '\ud559\ud68c\uc7a5\ubd80\ud559': 3, '\uace0\uc7a5\uc2e0\uace0\uac8c\uc2dc\ud310': 2, '\uc878\uc5c5\uc774\uc218\uc694\uac74': 2, '\uc601\uc601\uc0ac\uc804': 2, '\ub808\uc774\uc5b4': 6, '\uc800\uc7a5': 3, '\ud6c4\ubcf4\uc5d0': 2, '\ub2e4\uc6b4\ub85c\ub4dcnbsp': 2, '\uc548\ub0b4': 3, '\uc124\uce58\ud558\uc2dc\uaca0\uc2b5\ub2c8\uae4c': 3, '\ud3ec\ud1a0': 2, '\uc2a4\ud3ec\uce20': 3, '\uacbd\uc9c4\ub300\ud68c': 2, '\uc544\uc774\ub514\uc5b4': 2, '\uc774\uc0c1\ucca0': 2, 'quot\ud1b5\uc2e0': 2, '\uc1fc\ud551\uce90\uc2a4\ud2b8': 3, '\uc0ac\uc774\ud2b8': 4, '\ucc44\uc6a9': 3, '\ufffd\ufffd\ufffd\ufffd': 2, '\uae30\ub2a5\uc774': 6, '\uccad\uc18c\ub144\ubcf4\ud638\uc815\ucc45': 2, '\uc608\uace0\ud3b8': 2, '150': 2, '\ufffd\ufffd\ued75\ufffd\ufffd': 2, '\ucef4\ud4e8\ud130HW': 2, '\ufffd\ufffd\u0223': 2, '\uc11c\uc2dd\ubc0f\uc591\uc2dd\uc790\ub8cc\uc2e4': 2, '\uce74\ud398\uba85': 2, '20141201': 2, '\uae40\uc740\uc544': 3, '\uc774\uc804\uce90\uc2a4\ud2b8': 2, '20141204': 2, '20141206': 3, '20141207': 6, 'FUN': 2, '\uc5b8\ub860\uc0ac\ubcc4': 2, '\ud574\ud53c\ube48': 2, 'Googlecom': 2, '\uc0ac\uc6a9\uc790\uac00': 3, '\ub3d9\uacc4\ubc29\ud559': 2, '46': 2, '43': 2, '\uc800\uc7a5\ud560': 2, '\uc774\ubbf8\uc9c0': 2, '\uc778\uc99d\ubc29\ubc95': 2, '\ud734\ub300\ud3f0\ubc88\ud638': 2, '\uc800\uc7a5\ud574': 2, '\ubcf4\uae30\uc704\ud574\uc11c\ub294': 2, '\uaebc\uc838': 4, '\ub9e4\uccb4\ubcf4\uae30': 2, '\uacf5\ud559\uc778\uc99d\uac8c\uc2dc\ud310': 2, '\ud3ad\uadc439': 2, '\uad00\ud55c': 2, '\uc0c1\uc2b9': 10, '\uc591\uc900\ud601': 3, '\uc18c\uc7a5\ud558\uc138\uc694': 2, '\ud568\uaed8': 2, '\uad00\uad11\uac1d': 2, '\ub85c\uadf8\uc778': 4, 'httpstaticnidnavercomloginboxnhn': 2, '\ufffd\ufffd\ufffd\ufffd\ufffd\ufffd\ufffd\ufffd': 2, '\uc601\ud654\ud648nbsp': 2, '\uc774\uc804': 3}"
       ]
      },
      {
       "output_type": "stream",
       "stream": "stdout",
       "text": [
        "\n",
        "{'\uc785\uc2dcQA': 2, '\ud559\ubd80\uc0ac\uc9c4\uac94\ub7ec\ub9ac': 2, '\ucef4\ud4e8\ud130\uc2dc\uc2a4\ud15c\uc751\uc6a9': 2, '\uae00\ub85c\ubc8c': 2, '\uae30\ub9d0\uace0\uc0ac': 2, '\ud2b9\uc131\ud654': 8, 'WDO': 3, 'nbsp': 2, '20141020': 2, '\uacf5\uc9c0\uc0ac\ud56d': 2, '2013\ub144': 2, '\uc5f0\uad6c\uc2e4\uc18c\uac1c': 2, '\uc815\ubcf4\ud1b5\uc2e0\uacf5\uc0ac\uc5c5': 2, '\ubaa8\uc9d1\uc694\uac15': 2, '\ucde8\uc5c5\uac8c\uc2dc\ud310': 2, '\uccad\uac01\uc7a5\uc560\uc778': 2, '\uacbd\uc9c4\ub300': 2, '2014': 2, '\uacbd\uc9c4\ub300\ud68c': 2, '20141031': 2, '\uc7a5\ud559\uae08': 2, '\ud478\uc9d0\ud55c': 2, '\uc774\uc0c1\ucca0': 2, '\uc0ac\uc6d0': 2, '\uacbd\uc2dc': 2, '\uc544\uc774\ub514\uc5b4': 2, '\ubaa8\uc9d1': 4, '\uac15\uc758\uc790\ub8cc\uc2e4': 2, '20140327': 2, '\uc878\uc5c5\uc791\ud488': 3, '2015\ub144': 2, '\ub3d9\ubb38\uac8c\uc2dc\ud310': 2, '\uac1c\ubc1c\uc790': 2, '\ub514\uc9c0\ud138': 2, '20131007': 2, 'IT\uc735\ud569': 5, '\uad50\uc218\uc9c4': 2, '\uc218\uc815': 2, '\uc704\ud55c': 2, '20141130': 2, '\ud559\uc0dd\ud68c': 2, '\ubd80\ud68c\uc7a5': 2, '4\ub300': 2, '\uc2e0\uc785\uc9c1\uc6d0': 2, 'C': 2, '\ud22c\ud45c': 2, '\uc878\uc5c5\uc608\uc815\uc790': 2, '\ud3ec\uc2a4\ud130\ubc1c\ud45c\uacbd\uc9c4\ub300\ud68c': 2, '6\ub300\ud559\uc0dd\ud68c': 3, '\ud45c\uc900': 2, '\uc0ac\uc9c4\uac8c\uc2dc\ud310': 2, '20141128': 2, '\ucef4\ud4e8\ud130SW': 2, '\uad50\uc721\ubaa9\ud45c': 2, '20120909': 2, '20141124': 4, '20141127': 3, '\ucde8\uc5c5\uc870\uc0ac2013': 2, '\ucde8\uc5c5\uc870\uc0ac2015': 2, '\ucde8\uc5c5\uc870\uc0ac2014': 2, '\uc775\uba85\uac8c\uc2dc\ud310': 2, '\uc735\ud569': 2, '\uc2e0': 2, '\ud504\ub85c\uadf8\ub7a8': 2, '\ucc3e\uc544\uc624\uc2dc\ub294\uae38': 2, '20121105': 2, '\uc7a5\ud559\uc81c\ub3c4': 2, '\ud648\ud398\uc774\uc9c0': 2, '\uc2e4\ubb34\ud504\ub85c\uadf8\ub798': 2, '\uc81c\uacf5\ud558\ub294': 2, '2': 2, '\ucc44\uc6a9\uc5f0\uacc4\ud615': 2, '\ud559\ud68c\uc7a5\ubd80\ud559': 3, '\u2018\uae30\uac00': 2, '20141014': 3, '12\ud559\ub144': 2, '\ucea0\ud504': 2, '\uc8fc\ud718\ub2c9\uc2a4\ub514\uc9c0\ud0c8\ud14c\ud06c': 2, '\uc124\uacc41': 2, '\uacf5\ud559\uc778\uc99d\uc548\ub0b4': 2, '20141204': 2, '\uc790\uc720\uac8c\uc2dc\ud310': 2, '\uc8fc\ucf5c\ub7ec\ub178\ube44\ud0c0': 2, '\uc878\uc5c5\uc2dc\ud5d8': 2, 'quot\ud1b5\uc2e0': 2, '\uc548\ub0b4': 3, 'SK\ud154\ub808\ucf64': 2, '\ubbf8\ub798\ubd80': 2, '20141207': 6, '\ub300\ud559\uc6d0\uc18c\uac1c': 2, '\uc11d\uc0ac\uc774\uc0c1': 2, '\uc18c\ud504\ud2b8\uc6e8\uc5b4': 2, '\uac1c\ubc29': 2, '\ud504\ub85c\uadf8\ub798\ubc0d': 2, 'KT': 2, '\uc2dc\uc2a4\ud15c': 2, '\uacf5\uc9c0': 2, '\uc801\uc6a9': 2, '6\ub300': 2, '\ucef4\ud4e8\ud130HW': 2, '\uc11c\uc2dd\ubc0f\uc591\uc2dd\uc790\ub8cc\uc2e4': 2, 'LG\uc720\ud50c\ub7ec\uc2a4': 2, '20141201': 2, '20141202': 2, '20141203': 4, '\ucef4\ud4e8\ud130\uacf5\ud559\ubd80': 7, '20141206': 3, '2\uc6d4': 2, '\uc2e4\uc2b5\uc870\uad50': 2, '\uacbd\ud488': 2, '\ucd94\uac00': 2, '\ub300\ud559\uc6d0\uac8c\uc2dc\ud310': 2, '20140924': 2, '\uc18c\ud504\ud2b8\uc6e8': 2, '43\ub144\ub9cc\uc5d0': 2, '\ub3d9\uacc4\ubc29\ud559': 2, '1': 2, '\uc81c': 5, '\ud544\ub3c5': 2, '\uc77c\ubc18\uc790\ub8cc\uc2e4': 2, '\uacf5\ud559\uc778\uc99d\uac8c\uc2dc\ud310': 2, '\uc18c\ud504\ud2b8\uc6e8\uc5b4\uacf5\ud559': 2, '20131210': 2, 'IT': 2, '\ube0c\ub85c\uc154': 2, '\uc878\uc5c5\uc774\uc218\uc694\uac74': 2, '\uacf5\ud559\uc124\uacc4': 3, 'KOICA': 2, '\ucef4\ud4e8\ud130\uc2a4\ub9c8\ud2b8IT': 2, '\uace0\uc7a5\uc2e0\uace0\uac8c\uc2dc\ud310': 2, '\ucc44\uc6a9': 3, 'LG\ud788\ub2e4\ucc0c\uc8fc': 2, '\uc778\ud134\uc2ed': 2, '\ud1b5\uc2e0\uc911': 2, '\uccb4\uc9c8\uac1c': 2}"
       ]
      },
      {
       "output_type": "stream",
       "stream": "stdout",
       "text": [
        "\n",
        "\n",
        "--- \uc0ac\uc804\uc5d0\uc11c \uac00\uc7a5 \ub9ce\uc774 \ucd9c\ud604\ud55c \ub2e8\uc5b4 ---\n",
        "\u2103"
       ]
      },
      {
       "output_type": "stream",
       "stream": "stdout",
       "text": [
        " 37\n",
        "\n",
        "\n"
       ]
      }
     ],
     "prompt_number": 14
    },
    {
     "cell_type": "markdown",
     "metadata": {},
     "source": [
      "#### \uc790\uc138\ud55c \uc124\uba85\uc740 \uc18c\uc2a4 \uc8fc\uc11d\uc73c\ub85c \ubaa8\ub450 \uc124\uba85\ud558\uc600\uc2b5\ub2c8\ub2e4."
     ]
    },
    {
     "cell_type": "markdown",
     "metadata": {},
     "source": [
      "\uc694\uad6c\uc0ac\ud56d 1 WebWordsFrequency\uc758 \ud074\ub798\uc2a4\ub97c \ub9cc\ub4e4\uc5b4 \uc90d\ub2c8\ub2e4. "
     ]
    },
    {
     "cell_type": "markdown",
     "metadata": {},
     "source": [
      "\uc694\uad6c\uc0ac\ud56d 2 \uc0dd\uc131\uc790\uc5d0\uc11c \uac00\ubcc0\uc778\uc218\ub97c \ub123\uc5b4\uc904 \uc218 \uc788\ub3c4\ub85d __init__(self, *arg)\ub85c \uc120\uc5b8\ud558\uc5ec \uc90d\ub2c8\ub2e4."
     ]
    },
    {
     "cell_type": "markdown",
     "metadata": {},
     "source": [
      "\uc694\uad6c\uc0ac\ud56d 3 Url\uc744 \ucd94\uac00 \ud560 \uc218 \uc788\ub3c4\ub85d \uc0dd\uc131\uc790\uc5d0\uc11c \uc800\uc7a5\ud55c w\uc5d0\ub2e4\uac00 url\uac12\uc744 append\ud558\uc5ec \ucd94\uac00\uc2dc\ucf1c \uc90d\ub2c8\ub2e4."
     ]
    },
    {
     "cell_type": "markdown",
     "metadata": {},
     "source": [
      "\uc694\uad6c\uc0ac\ud56d 4 Url\uc744 \uc0ad\uc81c \ud560 \uc218 \uc788\ub3c4\ub85d \uc0dd\uc131\uc790\uc5d0\uc11c \uc800\uc7a5\ud55c w\uc5d0\ub2e4 for\ubb38\uc744 \ud1b5\ud558\uc5ec \uac12\uc744 \ud0d0\uc0c9 \ud6c4, \uadf8 \uac12\uc774 \uc788\uc73c\uba74 pop\ub97c \ud1b5\ud558\uc5ec \uc0ad\uc81c \ud558\uc5ec \uc90d\ub2c8\ub2e4."
     ]
    },
    {
     "cell_type": "markdown",
     "metadata": {},
     "source": [
      "\uc694\uad6c\uc0ac\ud56d 5 w\uac12\uc5d0 \uc788\ub294 \ubaa8\ub4e0 url\uc744 \ucd9c\ub825\ud569\ub2c8\ub2e4. \uc774\ub54c \uc544\ubb34\uac83\ub3c4 \uc5c6\uc73c\uba74 No Site\ub77c \ucd9c\ub825\ud574 \uc90d\ub2c8\ub2e4."
     ]
    },
    {
     "cell_type": "markdown",
     "metadata": {},
     "source": [
      "\uc694\uad6c\uc0ac\ud56d 6 getWordsFrequency \uba54\uc18c\ub4dc\ub97c \ub9cc\ub4e4\uc5b4 \uc90d\ub2c8\ub2e4. \uc774\ub294 Assigment 3\uc5d0\uc11c \ud588\ub358 \uac83\ucc98\ub7fc \ub2e8\uc5b4\uc640 \ube48\ub3c4\uc218\ub97c \ubaa8\ub450 \ucd9c\ub825\ud558\uc5ec \uc0ac\uc804\uc73c\ub85c \ubcc0\ud658\uc2dc\ud0a4\uba74 \ub429\ub2c8\ub2e4. "
     ]
    },
    {
     "cell_type": "markdown",
     "metadata": {},
     "source": [
      "\uc694\uad6c\uc0ac\ud56d 7 getMaxFrequencyWords \uba54\uc18c\ub4dc\ub97c \ub9cc\ub4e4\uc5b4 \uc90d\ub2c8\ub2e4. \uc774\ub294 \uc704\uc5d0 \uc788\ub294 \ub2e8\uc5b4 \ube48\ub3c4\uc218\ub97c \ucd9c\ub825\ud558\ub294 \ubd80\ubd84\uc744 \ubd88\ub7ec \uc628 \ub4a4, \uc0ac\uc804\uc5d0 \uc800\uc7a5\ub418\uc5b4\uc788\ub294 V\uac12\uc744 \uac00\uc7a5 \ud070 \uac12\uc744 \ube44\uad50\ud574 \uc90d\ub2c8\ub2e4. \uadf8 \ud6c4, \uac00\uc7a5 \ud070 V\uac12\uacfc \ud574\ub2f9\ud558\ub294 Km\uac12\uc744 for\ubb38\uc744 \ud1b5\ud558\uc5ec \ubaa8\ub450 \ucd9c\ub825\ud574 \uc90d\ub2c8\ub2e4."
     ]
    },
    {
     "cell_type": "markdown",
     "metadata": {},
     "source": [
      "\uc694\uad6c\uc0ac\ud56d 8 Assignment 4\uc5d0\uc11c \uc694\uad6c\ud588\ub358 \ud30c\uc77c\ub85c \uc800\uc7a5\ud558\ub294 \ucf54\ub4dc\ub97c \ubaa8\ub450 \uc0ad\uc81c \ud588\uc2b5\ub2c8\ub2e4."
     ]
    },
    {
     "cell_type": "markdown",
     "metadata": {},
     "source": [
      " "
     ]
    },
    {
     "cell_type": "markdown",
     "metadata": {},
     "source": [
      " "
     ]
    },
    {
     "cell_type": "markdown",
     "metadata": {},
     "source": [
      " "
     ]
    },
    {
     "cell_type": "markdown",
     "metadata": {},
     "source": [
      "###[8\ubc88 \ubb38\uc81c] 7\ubc88 \ubb38\uc81c\uc5d0\uc11c \uc815\uc758\ud55c WebWordsFrequency \ud074\ub798\uc2a4\ub97c \uc0c1\uc18d\ud558\uc5ec OrderedWebWordsFrequency \ud074\ub798\uc2a4\ub97c \uc815\uc758\ud558\uace0 \uc288\ud37c\ud074\ub798\uc2a4\uc5d0 \uc815\uc758\ub41c getWordsFrequency() \uba54\uc18c\ub4dc\ub97c \uc624\ubc84\ub77c\uc774\ub4dc \ud558\uc5ec \ub2e8\uc5b4 \ucd9c\ud604 \ube48\ub3c4\ub97c \ub0b4\ub9bc \ucc28\uc21c\uc73c\ub85c \uc815\ub82c\ud558\uc5ec \ub9ac\uc2a4\ud2b8\ub85c \ucd9c\ub825\ud558\uc2dc\uc624."
     ]
    },
    {
     "cell_type": "markdown",
     "metadata": {},
     "source": [
      "- \ub9ac\uc2a4\ud2b8 \ub0b4\uc758 \uac01 \uc6d0\uc18c\ub294 \ub2e8\uc5b4\uc640 \ube48\ub3c4\ub97c \uc30d\uc73c\ub85c \uc9c0\ub2c8\ub294 \ud29c\ud50c\uc774\ub2e4."
     ]
    },
    {
     "cell_type": "code",
     "collapsed": false,
     "input": [
      "import string\n",
      "import urllib\n",
      "import copy\n",
      "\n",
      "\n",
      "class WebWordsFrequency :\n",
      "    a = 0 # \uae38\uc774\uce21\uc815 \ud074\ub798\uc2a4\ubcc0\uc218 a\n",
      "    b = 0 # \uae38\uc774\uce21\uc815 \ud074\ub798\uc2a4\ubcc0\uc218 b\n",
      "    tempKm = [] #\ud074\ub798\uc2a4 \ubcc0\uc218 key\uac12\n",
      "    tempV = []#\ud074\ub798\uc2a4 \ubcc0\uc218 value\uac12\n",
      "    \n",
      "    def __init__(self, *arg) :\n",
      "        self.w=list(arg) #\uac00\ubcc0 \ubcc0\uc218\n",
      "        self.count = 0 #print\ubb38\uc744 \uc4f8\uc9c0 \uccb4\ud06c\ud558\uc5ec \uc900\ub2e4.\n",
      "        self.Km = [] # \uc784\uc2dc key\uac12\n",
      "        self.V = [] # \uc784\uc2dc value\uac12\n",
      "            \n",
      "    def addUrl(self, url):# \ub354\ud558\uae30\n",
      "        self.w.append(url) # w\uc5d0 url\uc744 \ucd94\uac00\uc2dc\ud0a8\ub2e4.\n",
      "    \n",
      "    def removeUrl(self, url) : #\uc81c\uac70\n",
      "        check = 0\n",
      "        for e in self.w : \n",
      "            if e == url : #url\uc774 \uc77c\uce58\ud558\uba74 \uac10\uc18c\uc2dc\ud0a8\ub2e4.\n",
      "                self.w.pop(check)\n",
      "            check += 1\n",
      "    \n",
      "    def listUrls(self) : #\ucd9c\ub825\n",
      "        for e in self.w :\n",
      "            print e\n",
      "        if self.w == [] :\n",
      "            print \"No site\"\n",
      "    \n",
      "    \n",
      "    def getWordsFrequency(self) :\n",
      "        WebWordsFrequency.a = 0 #\uae38\uc774 \ucd08\uae30\ud654\n",
      "        WebWordsFrequency.b = 0 #\uae38\uc774 \ucd08\uae30\ud654\n",
      "        self.Km = [] # \ubcc0\uc218 \ucd08\uae30\ud654\n",
      "        self.V = [] # \ubcc0\uc218 \ucd08\uae30\ud654\n",
      "        ### \u2193\u2193\u2193\u2193\u2193 \uc5ec\uae30\ub294 Assignment3\ubd80\ubd84\uc5d0\uc11c \uc774\ubbf8 \ud588\ub358 \ubd80\ubd84 \u2193\u2193\u2193\u2193\u2193###\n",
      "        for i in range(0, len(self.w)) :\n",
      "            source = urllib.urlopen(self.w[i]).read()\n",
      "            \n",
      "            len_source = len(source)\n",
      "            #print \"Initial length of source:\", len_source\n",
      "            \n",
      "            source_new = None\n",
      "            i = 0\n",
      "            while (i < len_source):\n",
      "               \tfound = False\n",
      "               \tif (found != True and source[i] == \"<\" and source[i+1 : i+7].lower() == \"script\"):\n",
      "              \t\tfound = True;\n",
      "              \t\tj = i + 7;\n",
      "              \t\twhile (True):\n",
      "             \t\t\tif (source[j] == \"<\" and source[j+1] == \"/\" and source[j+2 : j+8].lower() == \"script\"):\n",
      "                \t\t\t\t#print \"found - script\"\n",
      "                \t\t\t\tsource = source[:i] + ' ' + source[j+9:]\n",
      "                \t\t\t\tbreak\n",
      "             \t\t\tj = j + 1\n",
      "             \t\t\tif (j > len_source):\n",
      "                \t\t\t\tbreak\n",
      "              \t\tlen_source = len(source)\n",
      "               \ti = i + 1\n",
      "            \n",
      "            len_source = len(source)\n",
      "            #print len_source\n",
      "            \n",
      "            i = 0\n",
      "            while (i < len_source):\n",
      "               \tfound = False\n",
      "               \tif (found != True and source[i] == \"<\" and source[i+1 : i+6].lower() == \"style\"):\n",
      "              \t\tfound = True;\n",
      "              \t\tj = i + 6;\n",
      "              \t\twhile (True):\n",
      "             \t\t\tif (source[j] == \"<\" and source[j+1] == \"/\" and source[j+2 : j+7].lower() == \"style\"):\n",
      "                \t\t\t\t#print \"found - style\"\n",
      "                \t\t\t\tsource = source[:i] + ' ' + source[j+8:]\n",
      "                \t\t\t\tbreak\n",
      "             \t\t\tj = j + 1\n",
      "             \t\t\tif (j > len_source):\n",
      "                \t\t\t\tbreak\n",
      "              \t\tlen_source = len(source)\n",
      "               \ti = i + 1\n",
      "                \n",
      "            len_source = len(source)\n",
      "            #print len_source\n",
      "            \n",
      "            i = 0\n",
      "            while (i < len_source):\n",
      "               \tfound = False\n",
      "               \tif (found != True and source[i] == \"<\"):\n",
      "              \t\tfound = True;\n",
      "              \t\tj = i + 1;\n",
      "              \t\twhile (True):\n",
      "             \t\t\tif (source[j] == \">\"):\n",
      "                \t\t\t\t#print \"found - HTML tag\"\n",
      "                \t\t\t\tsource = source[:i] + ' ' + source[j+1:]\n",
      "                \t\t\t\tbreak\n",
      "             \t\t\tj = j + 1\n",
      "             \t\t\tif (j > len_source):\n",
      "                \t\t\t\tbreak\n",
      "              \t\tlen_source = len(source)\n",
      "               \ti = i + 1\n",
      "            \n",
      "            len_source = len(source)\n",
      "            #print \"Last length of source:\", len_source\n",
      "            \n",
      "            words = source.split()\n",
      "            \n",
      "            #for word in words:\n",
      "            #\tprint word\n",
      "            \n",
      "            #print \"Total num of plain words:\", len(words)\n",
      "            \n",
      "            \n",
      "            blank_words = ' '.join(words)\n",
      "            \n",
      "            L=string.punctuation #\ubaa8\ub4e0 \ud2b9\uc218\ubb38\uc790 #\ud2b9\uc218\ubb38\uc790\ub97c \uc544\ubb34\uac83\ub3c4 \uc5c6\ub294 \uac12\uc73c\ub85c \ubcc0\uacbd\n",
      "            special_letter=blank_words.translate(None,L)\n",
      "            K = special_letter.split() # \uc804\uccb4\ud568\uc218\n",
      "            ### \u2191\u2191\u2191\u2191\u2191 \uc5ec\uae30\ub294 Assignment3\ubd80\ubd84\uc5d0\uc11c \uc774\ubbf8 \ud588\ub358 \ubd80\ubd84 \u2191\u2191\u2191\u2191\u2191###\n",
      "            Kmax = copy.copy(K) # Kmax\uc5d0 K\uc758 \uc804\uccb4\uac12\uc744 \uadf8\ub300\ub85c \uc595\uc740\ubcf5\uc0ac\ub85c \uce74\ud53c\ud569\ub2c8\ub2e4.\n",
      "            Kmin = [] #Kmin \uc120\uc5b8\n",
      "            \n",
      "            for e in K : # \uc911\ubcf5\ub418\ub294 \ub2e8\uc5b4\ub97c * \ud45c\uc2dc\ub85c \ucc44\uc6cc\uc8fc\uace0 *\ud45c\uc2dc\ub97c \uc81c\uc678\ud55c \ub098\uba38\uc9c0\ubd80\ubd84\uc744 Kmin\uc5d0\ub2e4\uac00 \ub123\uc5b4\uc90d\ub2c8\ub2e4.\n",
      "                for i in range(0, len(K)):\n",
      "                    if e == K[i] :\n",
      "                        K[i] = \"*\"\n",
      "                        \n",
      "                if e == \"*\" :\n",
      "                    continue\n",
      "                else :\n",
      "                    Kmin.append(e)\n",
      "                \n",
      "            for i in range(0, len(Kmin)) : # self.Km\uc5d0 Kmin \uc0bd\uc785\n",
      "                    self.Km.append(Kmin[i])\n",
      "                    \n",
      "                    \n",
      "            WebWordsFrequency.b = len(self.Km) # self.km \uae38\uc774\n",
      "            \n",
      "    \n",
      "            for i in range(WebWordsFrequency.a, WebWordsFrequency.b) :\n",
      "                count = 1\n",
      "                for j in range(0, len(Kmax)) : # \uc911\ubcf5\ub41c \ub2e8\uc5b4\uc218 \uccb4\ud06c\ubd80\ubd84\n",
      "                    if self.Km[i] == Kmax[j] :\n",
      "                        count = count + 1 # \uac19\uc73c\uba74 \ud558\ub098\uc529 count w\uc99d\uac00\n",
      "                self.V.append(count) # Km\uc758 \ub2e8\uc5b4 \ud558\ub098\uac00 \ub05d\ub0a0\ub54c\ub9c8\ub2e4 V\uc5d0\ub2e4 \uac12\uc744 \uc800\uc7a5\n",
      "                \n",
      "            WebWordsFrequency.a = WebWordsFrequency.b\n",
      "     \n",
      "        L = zip(self.Km, self.V) # \ud29c\ud50c\ud654\n",
      "        if self.count == 0 : #\ub9cc\uc57d self.count = 0\uc774\uba74\n",
      "               print repr(dict(L)).decode('string-escape') #\uc0ac\uc804\uc73c\ub85c \ucd9c\ub825\n",
      "               \n",
      "        WebWordsFrequency.tempKm = copy.copy(self.Km) #\ud074\ub798\uc2a4\ubcc0\uc218\uc5d0 Km \uc595\uc740\ubcf5\uc0ac\n",
      "        WebWordsFrequency.tempV = copy.copy(self.V) # \ud074\ub798\uc2a4\ubcc0\uc218\uc5d0 V \uc595\uc740\ubcf5\uc0ac\n",
      "               \n",
      "        \n",
      "                    \n",
      "    def getMaxFrequencyWords(self) :\n",
      "        \n",
      "        if len(self.w) == 0 : # \ub9cc\uc57d \ube48 \uac1d\uccb4\uba74 \ube48\uc0ac\uc804\uc73c\ub85c \ucd9c\ub825\n",
      "            print '{}'\n",
      "            return \n",
      "        self.count = 1\n",
      "        self.getWordsFrequency() # self.count\uac00 1\uc774\ub77c print\uad6c\ubb38\uc740 \uc2e4\ud589\ub418\uc9c0 \uc54a\ub294\ub2e4.\n",
      "        Maxcount = WebWordsFrequency.tempV[0] #\ucd5c\ub300\uac12\n",
      "        for i in range(0, len(WebWordsFrequency.tempV)) :# V\uc758 \ucd5c\ub300\uac12 \uccb4\ud06c\n",
      "            if Maxcount <= WebWordsFrequency.tempV[i] :\n",
      "                    Maxcount = WebWordsFrequency.tempV[i]\n",
      "        for i in range(0, len(WebWordsFrequency.tempV)) : # V\uc758 \ucd5c\ub300\uac12\uacfc \uac19\uc740 Km\uc744 \ucd9c\ub825\n",
      "            if Maxcount == WebWordsFrequency.tempV[i] :\n",
      "                print WebWordsFrequency.tempKm[i], WebWordsFrequency.tempV[i]\n",
      "                \n",
      "class OrderedWebWordsFrequency(WebWordsFrequency) :\n",
      "    def __init__(self, *arg) : # \uc0c1\uc18d \ucd08\uae30\ud654\n",
      "        WebWordsFrequency.__init__(self, *arg)\n",
      "            \n",
      "    def getWordsFrequency(self) :\n",
      "        self.count = 2 \n",
      "        temp = ''\n",
      "        WebWordsFrequency.getWordsFrequency(self) #\uc5ed\uc2dc self.count\uac00 2\uc774\uae30 \ub54c\ubb38\uc5d0 print\ubb38\uc740 \ucd9c\ub825\ub418\uc9c0 \uc54a\uc74c    \n",
      "        for i in range(0, len(WebWordsFrequency.tempV)) : # for\ubb38\uc740 \ub0b4\ub9bc\ucc28\uc21c \uc815\ub82c\n",
      "            for j in range(i, len(WebWordsFrequency.tempV)) :\n",
      "                if WebWordsFrequency.tempV[i] < WebWordsFrequency.tempV[j] :\n",
      "                    temp = WebWordsFrequency.tempV[i]\n",
      "                    WebWordsFrequency.tempV[i] = WebWordsFrequency.tempV[j]\n",
      "                    WebWordsFrequency.tempV[j] = temp\n",
      "                    temp = WebWordsFrequency.tempKm[i]\n",
      "                    WebWordsFrequency.tempKm[i] = WebWordsFrequency.tempKm[j]\n",
      "                    WebWordsFrequency.tempKm[j] = temp\n",
      "        L = zip(WebWordsFrequency.tempKm, WebWordsFrequency.tempV)\n",
      "        print repr(L).decode('string-escape')\n",
      "        \n",
      "        \n",
      "        \n",
      "#print \"--- \uc0dd\uc131\uc790(w1, w2, w3) ---\"      \n",
      "#w1 = WebWordsFrequency('http://www.daum.net', 'http://www.naver.com', 'http://www.google.co.kr') \n",
      "#w2 = WebWordsFrequency('http://www.daum.net', 'http://www.naver.com')\n",
      "#w3 = WebWordsFrequency()\n",
      "#w1.listUrls()\n",
      "#print\n",
      "#w2.listUrls()\n",
      "#print\n",
      "#w3.listUrls()\n",
      "#print\n",
      "#print \"--- URL \ucd94\uac00(w1, w3) ---\"\n",
      "#w1.addUrl('http://cse.koreatech.ac.kr')\n",
      "#w3.addUrl('http://cse.koreatech.ac.kr')\n",
      "#w1.listUrls()\n",
      "#print \n",
      "#w3.listUrls()\n",
      "#print\n",
      "#print \"--- URL \uc0ad\uc81c(w1, w2) ---\"\n",
      "#w1.removeUrl('http://www.daum.net')\n",
      "#w2.removeUrl('http://www.naver.com')\n",
      "#w1.listUrls()\n",
      "#print\n",
      "#w2.listUrls()\n",
      "#print\n",
      "#print \"--- \ud604\uc7ac \ub4f1\ub85d\ub41c \ubaa8\ub4e0 Url(w1, w2, w3) ---\"\n",
      "#w1.listUrls()\n",
      "#print\n",
      "#w2.listUrls()\n",
      "#print\n",
      "#w3.listUrls()\n",
      "#print\n",
      "#print \"--- \ub2e8\uc5b4 \ucd9c\ud604 \ube48\ub3c4 \uc0ac\uc804 \ubc18\ud658 ---\"\n",
      "#w1.getWordsFrequency()\n",
      "#w3.getWordsFrequency()\n",
      "#print\n",
      "#print \"--- \uc0ac\uc804\uc5d0\uc11c \uac00\uc7a5 \ub9ce\uc774 \ucd9c\ud604\ud55c \ub2e8\uc5b4 ---\"\n",
      "#w1.getMaxFrequencyWords()\n",
      "\n",
      "#print\n",
      "#print\n",
      "print \"--- \ub0b4\ub9bc\ucc28\uc21c \ucd9c\ub825 ---\"\n",
      "w4 = OrderedWebWordsFrequency('http://www.daum.net', 'http://www.naver.com', 'http://www.google.co.kr')\n",
      "w4.getWordsFrequency()\n"
     ],
     "language": "python",
     "metadata": {},
     "outputs": [
      {
       "output_type": "stream",
       "stream": "stdout",
       "text": [
        "--- \ub0b4\ub9bc\ucc28\uc21c \ucd9c\ub825 ---\n",
        "[('\u2103', 37), ('\uac00\uc838\uc624\uae30', 23), ('\uc804', 23), ('\uc785\ub2c8\ub2e4', 23), ('\ubc14\ub85c', 23), ('\ud655\uc778\ud558\uc2dc\ub824\uba74', 23), ('\uc81c\ubaa9', 23), ('\ub9c1\ud06c\ub97c', 23), ('\ub20c\ub7ec\uc8fc\uc138\uc694', 23), ('\ub0b4\uc6a9\uc744', 23), ('\uc0c1\uc2b9', 21), ('\ud604\uc7ac', 16), ('\ud398\uc774\uc9c0', 16), ('\ub124\uc774\ubc84', 14), ('\ub0b4\uc77c\uc624\uc804', 13), ('\ub0b4\uc77c\uc624\ud6c4', 13), ('\ub208', 12), ('\ud750\ub9ac\uace0', 12), ('\uad6c\ub984\ub9ce\uc74c', 11), ('\ud604\uc7ac', 11), ('\uc790\ub3d9\uc644\uc131', 11), ('\uac80\uc0c9\uc5b4', 11), ('\ud0ed', 11), ('\uac00\ub054', 10), ('\ub2e4\uc74c', 10), ('\uc0c1\uc2b9', 10), ('\ub9d1\uc74c', 10), ('\ub098\ub214\uae00\uaf34', 9), ('\ub0b4', 9), ('\uc774\uc804', 9), ('\uc815\ubcf4', 9), ('\ub044\uae30', 8), ('\ubc14\ub85c\uac00\uae30', 8), ('\ucd1d', 8), ('\uc11c\ube44\uc2a4', 8), ('\ub3c4\uc6c0\ub9d0', 8), ('\ub3d9\uc601\uc0c1', 8), ('\uac80\uc0c9\uc5b4\uc800\uc7a5', 7), ('\uae30\ub2a5\uc774', 6), ('30', 6), ('\ubc14\ub85c\uac00\uae30', 6), ('\ub808\uc774\uc5b4', 6), ('\ucf1c\uae30', 6), ('\ub2eb\uae30', 6), ('\ub85c\uadf8\uc778', 6), ('20', 6), ('10', 5), ('txt', 5), ('\uc2e0\uace0', 5), ('\uc124\uce58', 5), ('3', 5), ('\uc1fc\ud551', 5), ('\uae30\ubd80\ud558\uae30', 5), ('\uce74\ud398', 5), ('\uc788\uc2b5\ub2c8\ub2e4', 5), ('\ub0a0\uc528', 5), ('\uc601\ud654', 5), ('\uc0ad\uc81c', 5), ('\ub85c\uadf8\uc778', 4), ('\ud544\ub9ac\ud540', 4), ('\ud0dc\ud48d', 4), ('\ub2e4\uc74c\uc571', 4), ('\ubc0f', 4), ('\uc124\uc815', 4), ('\ube14\ub85c\uadf8', 4), ('\ud648', 4), ('\uc571', 4), ('\ubba4\uc9c1', 4), ('\uc9c0\ub3c4', 4), ('\ud301', 4), ('\uc0ac\uc774\ud2b8', 4), ('\ub274\uc2a4', 4), ('\uc99d\uad8c', 4), ('\ucc45', 4), ('\uc601\ud654', 4), ('\uc544\uace0\ub77c', 4), ('2', 4), ('\ubbf8\uc988\ub137', 4), ('\ucd94\ucc9c', 4), ('\uac8c\uc784', 4), ('\ud76c\ub9dd\ud574', 4), ('\uaebc\uc838', 4), ('1\uc704', 4), ('\uc2a4\ud3ec\uce20', 4), ('2\uc704', 4), ('3\uc704', 4), ('\uae30\ub85d', 4), ('6', 4), ('\ud568\ub355\uc8fc', 4), ('\uac80\uc0c9', 4), ('\uad11\uace0', 4), ('4', 4), ('17', 4), ('\uc624\ub298\uc758', 4), ('\ub9c1\ud06c\ubaa8\uc74c', 4), ('\ud3ec\ud1a0', 4), ('\uc2a4\ud398\uc15c', 4), ('\ud669\ubcf4', 4), ('\uc0c1\ud488', 4), ('\uc6d0', 4), ('\ud55c\ub54c', 4), ('70', 4), ('\uacbd\uae30', 4), ('Google', 4), ('\uc815\uc724\ud68c', 3), ('\uc544\uc774\ub514', 3), ('\ube44\ubc00\ubc88\ud638', 3), ('\uc804\uc77c\ub300\ube44', 3), ('\ub300', 3), ('1', 3), ('IP\ubcf4\uc548', 3), ('\ucc3e\uae30', 3), ('\uc9c1\uc811', 3), ('5', 3), ('8', 3), ('\uc0ac\uc804', 3), ('\u00b7\u00b7\u00b7', 3), ('\ub2e4', 3), ('\uc5b4\ub5a4', 3), ('\ubc30\uc6b0', 3), ('\uc62c\ub9ac\ube44\uc544\ub85c\ub80c', 3), ('\ubb38\uc790\uc911\uacc4', 3), ('NAVER', 3), ('\ub274\uc2a4\uc2a4\ud0e0\ub4dc', 3), ('\ubaa8\ube44\uc2a4', 3), ('\ud0c0\uc784\uc2a4\ud018\uc5b4', 3), ('\uc1fc\ud551\uce90\uc2a4\ud2b8', 3), ('\uc548\ub0b4', 3), ('\ub274\uc2a4', 3), ('\uc601\uc0c1', 3), ('\uc548\ub0b4', 3), ('\uc774\uc288', 3), ('\uba54\uc778\uc744', 3), ('\ub098\ub214\uae00\uaf34\ub85c', 3), ('\ubcf4\uae30', 3), ('\ub098\ub214\uae00\uaf34\uc744', 3), ('\uc124\uce58\ud558\uc2dc\uaca0\uc2b5\ub2c8\uae4c', 3), ('\ucde8\uc18c', 3), ('\uac1c\uc778', 3), ('\ubd80\ub3d9\uc0b0', 3), ('\uae30\uc5c5\uc744', 3), ('\ud3ec\ud568', 3), ('\ubaa8\ub4e0', 3), ('\uc0ac\uc6a9\uc790\uac00', 3), ('\ubb34\ub8cc\ub85c', 3), ('\uc0ac\uc6a9', 3), ('\uac00\ub2a5\ud569\ub2c8\ub2e4', 3), ('\ub77c\uc774\uc13c\uc2a4', 3), ('\uc804\ubb38\ubcf4\uae30', 3), ('Daum', 3), ('\uc778\uae30', 3), ('\ub098\ub214\uae00\uaf34\uc774', 3), ('\ud655\uc778\ub418\uc9c0', 3), ('\uc54a\uc2b5\ub2c8\ub2e4', 3), ('\ub2e4\uc2dc', 3), ('\uc9c0\uc5ed', 3), ('\uc8fc\uc694', 3), ('\ub2e4\uc6b4\ub85c\ub4dc', 3), ('\ub2e4\uc6b4\ub85c\ub4dcURL', 3), ('\ubb38\uc790\ubc1b\uae30', 3), ('\uc9c0\ub3c4', 3), ('\uc7ac\ubc0c\ub294', 3), ('\ubbf8\ub514\uc5b4', 3), ('\uae00\uaf34\uc124\uc815', 3), ('\ud0a4\uc988\uc9f1', 3), ('\ub77c\uc774\ud504', 3), ('\uac80\uc0c9', 3), ('\ube14\ub85c\uadf8', 3), ('\uce74\ud398', 3), ('\uc9c0\uc2ddiN', 3), ('\ubba4\uc9c1', 3), ('\uc720\uc775\ud55c', 3), ('\uc0ac\uc804', 3), ('\uc5f0\uc608', 3), ('\uc1fc\ud551', 3), ('\uc9c0\uc5ed', 3), ('\uc790\ub3d9\ucc28', 3), ('\uac8c\uc784', 3), ('\ubcf4\uc138\uc694', 3), ('\uc6b4\uc138', 3), ('\uc790\ub3d9\ucc28', 3), ('\ucc45', 3), ('tv\ud31f', 3), ('13', 3), ('\uc804\uccb4\ubcf4\uae30', 3), ('\uae30\ub2a5\uc744', 3), ('\ub0a8\uc591\uacf5\uc5c5', 3), ('19', 3), ('\ub2eb\uae30', 3), ('\ucd5c\uadfc\uac80\uc0c9\uc5b4', 3), ('\uac00\uc871\ub07c\ub9ac', 3), ('\uc65c', 3), ('\ub4f1\ub85d', 3), ('\uc774\ub798', 3), ('\uc5c6\uc2b5\ub2c8\ub2e4', 3), ('\uc800\uc7a5', 3), ('\uc790\uc8fc', 3), ('\uac80\uc0c9\uc5b4\ub97c', 3), ('16', 3), ('\uc804\uccb4', 3), ('4\uc704', 3), ('\uc218', 3), ('\uc774\uc804', 3), ('\ub2e4\uc74c', 3), ('\uba54\ub274', 3), ('\uc6f9\ud230', 3), ('\uc11c\ube44\uc2a4', 3), ('\ub354\ubcf4\uae30', 3), ('\uae40\uc740\uc544', 3), ('New', 3), ('18', 3), ('\uc870\uc6c5\ucc9c', 3), ('267', 3), ('\ud55c\uc218\ubbfc', 3), ('\uc591\uc900\ud601', 3), ('\uae40\uc740\uc544', 3), ('ufc', 3), ('\uc11c\uc720\ub9ac', 3), ('\uc778\uae30\uac00\uc694', 3), ('5\uc704', 3), ('\uc2a4\ud3ec\uce20', 3), ('\uc804\uccb4\uc5b8\ub860\uc0ac', 3), ('\uc8fc\uc694\uc5b8\ub860\uc0ac', 3), ('\uc774\uc804\ud398\uc774\uc9c0', 3), ('\ub2e4\uc74c\ud398\uc774\uc9c0', 3), ('\uc5f4\uae30', 3), ('\uc591\uc900\ud601', 3), ('\uc2e4\uc2dc\uac04', 3), ('6\uc704', 3), ('\uc544\uc774\uc720', 3), ('\ubc0f', 3), ('7\uc704', 3), ('\ucc0c\ub77c\uc2dc', 3), ('\uad00\ub828', 3), ('8\uc704', 3), ('k\ud31d\uc2a4\ud0c04', 3), ('40', 3), ('9\uc704', 3), ('50', 3), ('\uad6c\ub984\ub9ce\uace0', 3), ('\ube44\ub208', 3), ('90', 3), ('\uad6c\ub984\uc870\uae08', 3), ('\ub208\ube44', 3), ('3', 3), ('\uc790\ub3d9\ucc28\ud14c\ud06c', 3), ('\uc2a4\ub9c8\ud2b8\ud3f0', 3), ('\ud1a0\uc694\ud0c0', 3), ('\ub4dc\ub860', 3), ('SUV', 3), ('\uc2a4\ud0c0\ud2b8\uc5c5', 3), ('\uc815\ucc45', 3), ('10\uc704', 3), ('43\u2103', 2), ('\uccad\uc8fc', 2), ('17\u2103', 2), ('\ubc31\ub839\ub3c4', 2), ('21\u2103', 2), ('\uad11\uc8fc', 2), ('51\u2103', 2), ('\ucd98\ucc9c', 2), ('18\u2103', 2), ('\ud604\uc704\uce58', 2), ('\ucc9c\uc548\uc2dc', 2), ('\ub3d9\ub0a8\uad6c', 2), ('12\ub3c4', 2), ('\uad6c\ub984\uc870\uae08', 2), ('\ud718\ubc1c\uc720', 2), ('169323', 2), ('\uc7a5\uc6d0\uc0bc', 2), ('\ud558\ub77d', 2), ('194', 2), ('\uc6d0\ub2ec\ub7ec', 2), ('111500', 2), ('\ubcf4\ud569', 2), ('000', 2), ('\ud3bc\uce58\uae30', 2), ('\uc911\uacc4\uc13c\ud130', 2), ('KBL', 2), ('39\uc2e0\ubd80\ub294', 2), ('\ub3d9\ubd80', 2), ('\uc810\uc218', 2), ('25', 2), ('\uacbd\uae30\uc2dc\uac04', 2), ('1600', 2), ('\ub0b4', 2), ('\uc624\ub298', 2), ('\ub0a0\uc9dc', 2), ('1207', 2), ('\uc778\uc0dd\uc758', 2), ('\ud658\uc728', 2), ('TV', 2), ('FUN', 2), ('\ud648\ub7f039', 2), ('CG', 2), ('\uc544\ub2cc', 2), ('\uc2e4\uc81c', 2), ('\uace0\uc591\uc774\uc758', 2), ('\ubaa8\uc2b5', 2), ('\uc288\ud37c\ub9c8\ub9ac\uc624\ub97c', 2), ('\uae40\ud61c\uc218', 2), ('\ub9cc\ub4e0\ub2e4\uace0', 2), ('\ub9c8\ud2b8', 2), ('\uacc4\uc0b0\ub300\uc758', 2), ('\ub610', 2), ('\ub2e4\ub978', 2), ('\uc6a9\ub3c4', 2), ('\uc18d', 2), ('\uc790\ub9c9\uc774', 2), ('\ud14c\ub7ec\uc218\uc900', 2), ('\uc5f0\uc2b5', 2), ('\uba3c\uc800\ud558\uace0', 2), ('\ub4e4\uc5b4\uac08\uac8c\uc694', 2), ('\ud314\ub791\uadc0', 2), ('\uc774\uc885\ud601', 2), ('\uacb0\uad6d', 2), ('\uc678\ubc15', 2), ('\uacb0\uc2ec', 2), ('tv\ud31f\ud648', 2), ('\uacf5\uac10', 2), ('\ubcf4\uc721\ub8cc', 2), ('\uc804\uc7c1\uc804\uad6d', 2), ('\ube0c\ub79c\ub4dc', 2), ('\uc5b4\ub9b0\uc774\uc9d1', 2), ('AD', 2), ('\ud55c\uace0\uc740', 2), ('\uadf8\ub140\uc758', 2), ('\ud0c4\ub825', 2), ('\uace0\ubbfc', 2), ('\ud574\uacb0', 2), ('\ub514\uc790\uc778\uc73c\ub85c', 2), ('\uac00\uce58\ub97c', 2), ('\ub192\uc774\ub2e4', 2), ('\uc9c0\uc2dd\uacf5\uac04', 2), ('\uc6f9\ud230', 2), ('\uc2a4\ud1a0\ub9ac\ubcfc', 2), ('\uc7a5\uc560\uc544', 2), ('\uc5c4\ub9c8', 2), ('\ubbf8\uc219\uc528', 2), ('\ubab8\uc774', 2), ('\uc5f4', 2), ('\uac1c\ub77c\ub3c4', 2), ('\ubaa8\uc790\ub77c\u00b7\u00b7\u00b7', 2), ('16\uc0b4', 2), ('\uc7a5\uc560', 2), ('\uc544\ub4e4\uc744', 2), ('\ud640\ub85c', 2), ('\ud0a4\uc6b0\uace0', 2), ('\uc788\ub294', 2), ('\ubbf8\uc219\uc528\uc758', 2), ('\ud558\ub8e8\ub294', 2), ('2\ub9cc\uacf3', 2), ('\ud734\uc5c5\ud22c\uc7c1', 2), ('\ub099\ub3d9\uac15', 2), ('\ub0af\uc120', 2), ('\uc678\ub798', 2), ('\uc0dd\ubb3c\uccb4', 2), ('\ucd9c\ud604\uc5d0', 2), ('\ucda9\uaca9\uacfc', 2), ('\uacf5\ud3ec', 2), ('\ub099\ub3d9\uac15\uc5d0\uc11c', 2), ('3\ub144', 2), ('\uc5f0\uc18d', 2), ('\ub179\uc870\ud604\uc0c1', 2), ('\ubc1c\uc0dd', 2), ('\uc62c\ud574\ub294', 2), ('\ub179\uc870\ud604\uc0c1\uc5d0', 2), ('\ub354\ud574', 2), ('\ud070\ube57\uc774\ub07c\ubc8c\ub808\ub77c\ub294', 2), ('\uc0dd\ubb3c\u00b7\u00b7\u00b7', 2), ('\uc138\uacc4\ub97c', 2), ('\uacf5\ud3ec\uc5d0', 2), ('\ube60\ub728\ub9b0', 2), ('\uce58\uba85\uc801\uc778', 2), ('\uc5d0\ubcfc\ub77c', 2), ('\ud655\uc0b0', 2), ('\uc544\uc9c1', 2), ('\uc9c4\ud589\uc911', 2), ('\uc758\uc0c1\uc774', 2), ('\uc5c6\uc5b4\ub3c4', 2), ('\ub2f9\ub2f9\ud788', 2), ('\uc785\uc0c1', 2), ('\uc637', 2), ('\ud55c', 2), ('\ubc8c\uc5d0', 2), ('\uba87\uc2ed\ub9cc', 2), ('\uc6d0\uc774\uae30\uc5d0', 2), ('\uc720\uc5d4', 2), ('\ud0c4\uc6d0\uc5fd\uc11c', 2), ('\uc5f4\uae30', 2), ('\ub728\uac70\uc6cc', 2), ('\uc704\uc548\ubd80', 2), ('\ubb38\uc81c', 2), ('UN\uc73c\ub85c', 2), ('\uadf8\ub4e4\uc5d0\uac8c', 2), ('\uae40\uce58\ub77c\ub294', 2), ('\uac83\uc740', 2), ('\ub2e8\uc21c\ud55c', 2), ('\uc74c\uc2dd\uc744', 2), ('\ub118\uc5b4', 2), ('\uadf8', 2), ('quot\uc911\uad6d\ubc30\uac00', 2), ('2009\ub144', 2), ('\uc815\ub989\ucc9c', 2), ('\ub2e4\ub9ac', 2), ('\uc544\ub798', 2), ('\uac00\ub09c\ud55c', 2), ('\uc774\uc6c3\ub4e4\uc5d0\uac8c', 2), ('\ucef5\ub77c\uba74\uc744', 2), ('\ub098\ub204\uc5c8\ub358', 2), ('\uac83\uc73c\ub85c', 2), ('\uc2dc\uc791\ud574\uc11c\u00b7\u00b7\u00b7', 2), ('\uc2e0\ub098\uac8c', 2), ('\ub6f0\uc5b4\ub180\uace0', 2), ('\uc2f6\uc9c0\ub9cc', 2), ('\ub0a1\uc740', 2), ('\uc2e0\ubc1c', 2), ('\uc2e0\uae30\ub3c4', 2), ('\uc5b4\ub824\uc6cc', 2), ('90', 2), ('\ub118\ub294', 2), ('\uae30\uc5c5\ub4e4', 2), ('\ud654\ud559\ubb3c\uc9c8', 2), ('\uc815\ubcf4\uacf5\uac1c', 2), ('\uc548\ud574', 2), ('\uc5ec\ub7ec\ubd84\uc758', 2), ('\ub3d9\ub124\uc5d0\ub294', 2), ('\ud654\ud559\ubb3c\uc9c8\uc774', 2), ('\uc788\ub098\uc694', 2), ('\ud56d\uc0c1', 2), ('\uc704\ud5d8\uc5d0', 2), ('\ub178\ucd9c\ub418\uc5b4', 2), ('\uc0b4\uace0', 2), ('\uc788\uc5b4', 2), ('\ud76c\ub9dd\ud574\ud648', 2), ('10', 2), ('11', 2), ('\uc1fc\ud551\ud648', 2), ('\uc1fc\ud551\ubab0', 2), ('G\ub9c8\ucf13', 2), ('\uc625\uc158', 2), ('11\ubc88\uac00', 2), ('GS\uc0f5', 2), ('\ub86f\ub370i\ubab0', 2), ('CJ\ubab0', 2), ('\uc2e0\uc138\uacc4\ubab0', 2), ('\ud558\ud504\ud074\ub7fd', 2), ('\uc774\ub9c8\ud2b8\ubab0', 2), ('\ub86f\ub370\ub2f7\ucef4', 2), ('\ud604\ub300H\ubab0', 2), ('SSGcom', 2), ('AK\ubab0', 2), ('\ub514\uc564\uc0f5', 2), ('\ud328\uc158\ud50c\ub7ec\uc2a4', 2), ('\ud2f0\ubaac', 2), ('\ubc15\uba85\uc218', 2), ('\uc544\ub514\ub2e4\uc2a4\ub2e4\uc6b4', 2), ('\uc774\ub7f0\uac00\uaca9\ucc98\uc74c', 2), ('\uc774\ucf00\uc544\ub9d0\ub9ce\uc9c0', 2), ('\uadf8\ub798\ub3c4\uc608\uc058\ub124', 2), ('\ud6a1\ud55c', 2), ('\uc774\ub9c8', 2), ('\ud5e4\uc5b4\uc100\ub3c4\uc6b01', 2), ('\ubc1c\ub05d\uc5d0\uace0\ub4dc\ub984', 2), ('\ub0b4\ubc1c\ub05d\uc740\ub530\ub73b', 2), ('\uc5f0\ub9d0\ubaa8\uc784\uc5ec\uc2e0', 2), ('\uc804\uc0c1\ud48810darr', 2), ('\uc608\ubed0\uc11c\uae5c\uc9dd', 2), ('\uace0\uae09\uc2a4\ub7ec\uc6cc', 2), ('\ud30c\uaca9\uac00', 2), ('50darr', 2), ('\ub9ac\uc5bc\ub77c\ucfe4\ud138', 2), ('\ud6d4\uccd0\uac11\ub2c8\ub2e4quot', 2), ('\ub2c8\ud2b81\ub9cc\uc6d0\ub300', 2), ('\ubc31\ud654\uc810\ubcf4\ub2e4', 2), ('\ub354\uba85\ud488\uac19\uc544', 2), ('\ud3ed\uc2a4\uce74\ub77c85', 2), ('\uc608\ubed0\uc11c\ub09c\ub9ac', 2), ('\ub530\ub73b\ud3ec\uadfc\ud574', 2), ('\ub9c8\uc9c0\ub9c9', 2), ('\uc218\ub7c9', 2), ('10\ub9cc3\ucc9c\uc6d0', 2), ('\uc18c\ud638', 2), ('\ubc30\uc1a1\ud61c\ud0dd', 2), ('SSG', 2), ('\ubaa8\ub450\ud22c\uc5b4', 2), ('\ub098\uc758', 2), ('\uc1fc\ud551\ub3c4\uc6c0', 2), ('\ucd5c\uadfc', 2), ('\ud074\ub9ad\uc0c1\ud488', 2), ('\uccab\uad6c\ub9e4', 2), ('\uc774\ubca4\ud2b8', 2), ('14', 2), ('\uc624\ub298\ub9cc', 2), ('\ud2b9\uac00', 2), ('Best', 2), ('\ud3ec\uadfc\ud55c', 2), ('\uafc8\ub098\ub77c', 2), ('\uc5ec\ud589', 2), ('\ub5a0\ub098\uc694', 2), ('\ud56d\uade0', 2), ('\ubc29\ucde8', 2), ('\uc544\ub3d9', 2), ('\uce68\uad6c', 2), ('80000', 2), ('\ud64d\uc5b4\uc7a1\uc774', 2), ('\ubabd\ube44\uc96c', 2), ('\ubcc4\ubb34\ub2ac', 2), ('\ucc28\ub835\ud328\ub4dc', 2), ('\uc138\ud2b8', 2), ('49900', 2), ('\ub370\ucf54\uc6d0', 2), ('\ud654\uc0ac\ud55c', 2), ('\ud551\ud06c\ud1a4', 2), ('\uc774\ubd88', 2), ('128000', 2), ('\ud558\uc6b0\uc2a4\uc564', 2), ('\ubca0\uc2a4\ud2b8\ud648', 2), ('\uc778\uae30\uae30\ud68d\uc804', 2), ('\uc544\uc6c3\ub3c4\uc5b4', 2), ('\ud328\ub529', 2), ('\ub0b4\ub610\ub798', 2), ('\uad6c\ub9e4\ub3c4\uc7a5', 2), ('\uacf5\uc9c0\uc0ac\ud56d', 2), ('\uc0ac\uba85', 2), ('\ubcc0\uacbd\uc5d0', 2), ('\ub530\ub978', 2), ('\uc774\uc6a9\uc57d\uad00', 2), ('\ub4f1', 2), ('\uac1c\uc815', 2), ('\uc18c\uac1c', 2), ('\uc57d\uad00', 2), ('\ud68c\uc0ac\uc18c\uac1c', 2), ('\uad11\uace0\uc548\ub0b4', 2), ('\uac80\uc0c9\ub4f1\ub85d', 2), ('\uc81c\ud734\ubb38\uc758', 2), ('\uc778\uc7ac\ucc44\uc6a9', 2), ('\uc11c\ube44\uc2a4\uc57d\uad00', 2), ('\uccad\uc18c\ub144\ubcf4\ud638\uc815\ucc45', 2), ('\uac1c\uc778\uc815\ubcf4\ucde8\uae09\ubc29\uce68', 2), ('\uc6f9\uc811\uadfc\uc131\uc548\ub0b4', 2), ('\uace0\uac1d\uc13c\ud130', 2), ('copy', 2), ('Kakao', 2), ('Corp', 2), ('\uc5b4\ubbfc', 2), ('\ubd84\ud1b5', 2), ('\uc881\uc544\uc9c4', 2), ('\uc8fc\uc81c\ubcc4\uce90\uc2a4\ud2b8', 2), ('\ucde8\uc5c5', 2), ('\ubb38\ud131', 2), ('quot\uc81c2', 2), ('\uae08\uc735\uad8c', 2), ('\uc800\ucd95\uc740\ud589\ub3c4', 2), ('\uc88b\ub2e4quot', 2), ('\ubaa9\ub85d', 2), ('\uc774\ud76c\uc900', 2), ('\uce21', 2), ('quot\uae40\uc625\ube48\uacfc', 2), ('\uc704\ud574\uc11c\ub294', 2), ('nbsp\ub098\ub214\uae00\uaf34\uc744', 2), ('\ud574\uc57c', 2), ('\ud569\ub2c8\ub2e4', 2), ('\uacb0\ud63c\uc804\uc81c', 2), ('\ub9cc\ub0a8quot', 2), ('\ub354\ubcf4\uae30', 2), ('39\uc870\uc9c1\ub825\uc758', 2), ('\uc804\uccb4', 2), ('vs', 2), ('\ub192\uc774\uc758', 2), ('\ub3d9\ubd8039', 2), ('\u3131\u3139', 2), ('\ubc29\uc1a1\uc911', 2), ('\ubc14\uc9c0\ubc97\ub294', 2), ('\uc678\uad6d\u7537\uc5d0', 2), ('\ub2f9\ud669', 2), ('\uc0bc\uc131middot\uc560\ud50c', 2), ('39\uc138\uae30\uc758', 2), ('\uc18c\uc1a139', 2), ('\ud655\uc778', 2), ('\uc624\ub958', 2), ('\uace0\uac1d\ub2d8\uc758', 2), ('PC\uc5d0\uc11c', 2), ('1middot2\ucc28', 2), ('\uad00\uac74\uc740', 2), ('\uae08\uc735', 2), ('\ubcf4\uae30\uc704\ud574\uc11c\ub294', 2), ('\uc7ac\uc124\uce58', 2), ('\uac00', 2), ('\ud544\uc694\ud569\ub2c8\ub2e4', 2), ('\ucd08\uc911\uace0', 2), ('\uc54a\ub294', 2), ('\uc774\uc720\ub294', 2), ('\ucd5c\ucd08\uc124\uce58\uac00', 2), ('\uc81c\ub300\ub85c', 2), ('\uc644\ub8cc\ub418\uc9c0', 2), ('\uc54a\uc740', 2), ('\uacbd\uc6b0', 2), ('\uc124\uce58\ub41c', 2), ('\ud3f0\ud2b8\ub97c', 2), ('\uc784\uc758\ub85c', 2), ('\uc0ad\uc81c\ud55c', 2), ('\uacbd\uc6b0\uc5d0', 2), ('\ubc1c\uc0dd\ud569\ub2c8\ub2e4', 2), ('\uacc4\uc808\ub9c8\ub2e4', 2), ('\uc720\ud615', 2), ('\uc120\ud0dd', 2), ('\uac00\ubccd\uace0', 2), ('\ube60\ub978', 2), ('\uac80\uc0c9\ud648', 2), ('\ub124\uc774\ubc84SE', 2), ('\ub098\ub9cc\uc758', 2), ('\ub124\uc774\ubc84me', 2), ('\uc124\uc815', 2), ('\ub124\uc774\ubc84\ub97c', 2), ('\uc2dc\uc791\ud398\uc774\uc9c0\ub85c', 2), ('\ubc29\ud559\ub0b4\ub144', 2), ('39\ubc29\ud559', 2), ('\uc571\uc744', 2), ('\uc124\uce58\ud558\uc138\uc694', 2), ('\ubd84\uc0b0\uc81c39', 2), ('\uac00\uc7a5', 2), ('\ud734\ub300\ud3f0\ubc88\ud638', 2), ('\uc785\ub825', 2), ('\ubcf4\ub0b4\uae30', 2), ('\uc785\ub825\ud558\uc2e0', 2), ('\ubc88\ud638\ub294', 2), ('\uc800\uc7a5\ub418\uc9c0', 2), ('\uc54a\uace0', 2), ('\uc804\uc1a1\uc740', 2), ('\ubb34\ub8cc\uc785\ub2c8\ub2e4', 2), ('\uac00\ud639\ud55c', 2), ('N\ub4dc\ub77c\uc774\ube0c', 2), ('\ubd81\uc2a4', 2), ('\uc548\uc804\ud14c\uc2a4\ud2b8', 2), ('\ub77c\uc778', 2), ('\uc571\uc2a4\ud1a0\uc5b4', 2), ('new', 2), ('\uc5f0\uc7ac\uc6f9\ud230', 2), ('\uc2dc\uc2a4\ud15c\uae00\uaf34', 2), ('\uc190\uc608\uc9c4', 2), ('\ub2e4\uc791\uc5d4', 2), ('\ubbf8\ub9ac\ubcf4\uae30', 2), ('\ud55c\uae00\ucea0\ud398\uc778', 2), ('\ud328\ubc00\ub9ac', 2), ('\ub2f9\ud560', 2), ('\ud574\ud53c\ube48', 2), ('\uc96c\ub2c8\ubc84', 2), ('\ud55c\uac8c\uc784', 2), ('\uc790', 2), ('\ud1b5\ud569\uac80\uc0c9', 2), ('\uc5c6\ub2e4', 2), ('\ub300\ud55c\ud56d\uacf5', 2), ('\uce74\ud398\uba85', 2), ('\uce74\ud398\uae00', 2), ('\uc0bc\uc131\ud654\uc7ac', 2), ('9\uc5f0\uc2b9', 2), ('\uce74\ud14c\uace0\ub9ac', 2), ('\uac00\ub85c\ub9c9\uace0', 2), ('\uc6f9\ubb38\uc11c', 2), ('392\uc704', 2), ('\ubc31\uacfc\uc0ac\uc804', 2), ('\uc601\uc5b4\uc0ac\uc804', 2), ('\uc601\uc601\uc0ac\uc804', 2), ('\uad6d\uc5b4\uc0ac\uc804', 2), ('\uc77c\ubcf8\uc5b4\uc0ac\uc804', 2), ('\ud55c\uc790\uc0ac\uc804', 2), ('\uc6a9\uc5b4\uc0ac\uc804', 2), ('\uc810\ud50439', 2), ('\uc74c\uc545', 2), ('\uc804\ubb38\uc790\ub8cc', 2), ('\ub300\uc785', 2), ('\uae40\ud604\uc8fc\uc758', 2), ('\ub3d9\uc601\uc0c1', 2), ('\uc774\ubbf8\uc9c0', 2), ('\ub0b4PC', 2), ('\uc77c\uc0c1', 2), ('\ud1a1\ud1a1', 2), ('\uac74\uac15', 2), ('\uc778\ubb3c', 2), ('\uae0d\uc815\ubd80\uc815\uac80\uc0c9', 2), ('\uc0dd\uac01\ud55c\ub300\ub85c', 2), ('\uac80\uc0c9\ud574', 2), ('Welcome', 2), ('Beta', 2), ('to', 2), ('\uc131\ud615\uc655\uad6d', 2), ('\ub728\uac70\uc6b4', 2), ('\ub9e5\uc8fc\uc2dc\uc7a5', 2), ('\uac15\ucd94\uc704\ub3c4', 2), ('\ub179\uc774\ub098', 2), ('\ub2ed\uace0\uae30', 2), ('\uc0ac\uc6a9\ud558\uace0', 2), ('\uacc4\uc2ed\ub2c8\ub2e4', 2), ('quot\uc65c', 2), ('\ud65c\uc131\ud654\ub418\uc5c8\uc2b5\ub2c8\ub2e4', 2), ('\ub098\ub9cc', 2), ('\uac16\uace0', 2), ('\uadf8\ub798quot', 2), ('\ub274\uc2a4\ud648', 2), ('\ubd80\uc778', 2), ('\ub85c\ub4dc\ubdf0', 2), ('date', 2), ('\ub8e8\ub9ac\uc6f9', 2), ('intxt', 2), ('\ub0b4\uc5ed\uc774', 2), ('\u3141\u3142', 2), ('\ub9c8\uc77c\ub9ac\uc9c0', 2), ('\ud574\uc81c', 2), ('\uc124\uc815\ub41c', 2), ('\uac80\uc0c9\uc5b4\uac00', 2), ('\ucd5c\uadfc\uac80\uc0c9\uc5b4\uc5d0\uc11c', 2), ('\ub97c', 2), ('\uc120\ud0dd\ud558\uc5ec', 2), ('\ub9cc\ud654\uc18d\uc138\uc0c1', 2), ('\ucc3e\ub294', 2), ('\ubb38\uc790', 2), ('\uac80\uc0c9\uc5b4\ub85c', 2), ('\uc800\uc7a5\ud574', 2), ('\uacf5\uc6a9', 2), ('PC\uc5d0\uc11c\ub294', 2), ('\uac1c\uc778\uc815\ubcf4', 2), ('\ubcf4\ud638\ub97c', 2), ('\uc704\ud558\uc5ec', 2), ('\ubc18\ub4dc\uc2dc', 2), ('\ub85c\uadf8\uc544\uc6c3\uc744', 2), ('\ud574', 2), ('\uc8fc\uc138\uc694', 2), ('\ubaa8\uc73c\ub2e4', 2), ('\u3145\u3147', 2), ('\uc644\ub8cc', 2), ('\ucf24', 2), ('\ub54c\ub294', 2), ('\ud3bc\uce58\uae30', 2), ('\ubc84\ud2bc\uc744', 2), ('\ud074\ub9ad\ud558\uc138\uc694', 2), ('\uac80\uc0c9\uc5b4\ub294', 2), ('\ucd5c\ub300', 2), ('\uc790\ub3d9\uc2e4\ud589', 2), ('\uac1c', 2), ('\uae4c\uc9c0', 2), ('\uc800\uc7a5\ud560', 2), ('\uc5b4\ud559\uc0ac\uc804', 2), ('\ucd94\uac00\ud558\uc2dc\ub824\uba74', 2), ('\uae30\uc874', 2), ('\uc9c0\uc6cc\uc8fc\uc138\uc694', 2), ('2014', 2), ('\uc0c1\ubc18\uae30', 2), ('\uc7ac\ubcf4\uad90\uc120\uac70', 2), ('\ud6c4\ubcf4\uc5d0', 2), ('\ub300\ud574', 2), ('7\uc6d430\uc77c', 2), ('\uc120\uac70\uc77c\uae4c\uc9c0', 2), ('\uc81c\uacf5\ub418\uc9c0', 2), ('\uc790\uc138\ud788\ubcf4\uae30', 2), ('\uc9c8\ubb38\ud615', 2), ('\uc810\ubab0\uac1c\uc758', 2), ('\ud2b9\uc9d5', 2), ('\ubab0\ub514\ube0c', 2), ('\uad00\uad11\uac1d', 2), ('\ud658\uacbd\uc138', 2), ('\ubd80\uacfc', 2), ('\ub2ec\ub825\uc758', 2), ('\ubcc0\ucc9c\uc0ac', 2), ('\uba54\uc77c', 2), ('7', 2), ('\uad11\uace0', 2), ('\uba54\uc77c', 2), ('\uc4f0\ub294', 2), ('\uc99d\uad8c', 2), ('\ubd80\ub3d9\uc0b0', 2), ('\u3148\u314a', 2), ('\uc2e0\uaddc', 2), ('\uc787\ub2e4', 2), ('TV\uce90\uc2a4\ud2b8', 2), ('EBS\uc9c0\uc2dd', 2), ('\uc2e4\uc2dc\uac04', 2), ('\uae09\uc0c1\uc2b9', 2), ('\ud754\ub4e4\ub2e4', 2), ('\uccb4\ud5d8\ud559\uc2b5', 2), ('\uc288\ud37c\ub9e8\uc774\ub3cc\uc544\uc654', 2), ('\u314b\u314e', 2), ('54', 2), ('\ud074\ub77c\uc6b0\ub4dc', 2), ('\ud1b5\ud569', 2), ('\ud2f0\uc2a4\ud1a0\ub9ac', 2), ('261', 2), ('\uc2e0\uaddc\uc571', 2), ('\ubaa8\ubc14\uc77c', 2), ('396', 2), ('ndash', 2), ('99', 2), ('\uac80\uc0c9\uc5b4', 2), ('189', 2), ('\ub85c\ub610627\ud68c\ub2f9', 2), ('255', 2), ('\uc62c\ud574\uc758', 2), ('105', 2), ('1\uc704', 2), ('2\uc704', 2), ('\uc288\ud37c\ub9e8\uc774\ub3cc\uc544\uc654\ub2e4', 2), ('3\uc704', 2), ('4\uc704', 2), ('5\uc704', 2), ('6\uc704', 2), ('7\uc704', 2), ('8\uc704', 2), ('9\uc704', 2), ('\ub85c\ub610627\ud68c\ub2f9\ucca8\ubc88\ud638', 2), ('10\uc704', 2), ('\ubc29\uc1a1', 2), ('httpnv1adnavercomadshowunit002ANnrefreshx0', 2), ('\uc5f0\ud569\ub274\uc2a4', 2), ('\u6734\ub300\ud1b5\ub839', 2), ('\ube44\uc120\uc2e4\uc138', 2), ('\uc778\uc2dd', 2), ('\ubd88\ubcc0\u2026\ucc0c\ub77c\uc2dc', 2), ('\uc598\uae30', 2), ('\ub124\uc774\ubc84\ub274\uc2a4', 2), ('\uc5f0\uc608', 2), ('\uc6f9', 2), ('\uacbd\uc81c', 2), ('\uc624\ub298\uc758\uc2e0\ubb38', 2), ('\uc811\uadfc\uc131', 2), ('MY\ub274\uc2a4', 2), ('\ub9e4\uccb4\ubcf4\uae30', 2), ('\uae30\uc0ac\ubcf4\uae30', 2), ('or', 2), ('\uc885\ud569\uacbd\uc81c', 2), ('\ubc29\uc1a1\ud1b5\uc2e0', 2), ('IT', 2), ('\uc601\uc790\uc9c0', 2), ('\uc2a4\ud3ec\uce20\uc5f0\uc608', 2), ('\ub9e4\uac70\uc9c4\uc804\ubb38\uc9c0', 2), ('\uad6c\ub3c5\ubaa9\ub85d', 2), ('\uc624\ub298\uc758', 2), ('\uc2e0\ubb38', 2), ('\uad6c\ub3c5\uc124\uc815', 2), ('\uc54c\ub9bc', 2), ('\uc5b8\ub860\uc0ac\ubcc4', 2), ('\uc8fc\uc694\ub274\uc2a4\ub97c', 2), ('\uba54\uc778\uc5d0\uc11c', 2), ('\ubc14\ub85c', 2), ('\ubcfc', 2), ('\uc788\uc5b4\uc694', 2), ('\uc774\uba54\uc77c', 2), ('\uc5f4\uc815\u6a02\uc11c', 2), ('httpstaticnidnavercomloginboxnhn', 2), ('\ud22c\ub370\uc774', 2), ('1207', 2), ('\uc77c', 2), ('\uc704\uce58', 2), ('\uad6d\ub0b4', 2), ('gt', 2), ('\uc11c\uc6b8', 2), ('\uc9c0\uc5ed\uc124\uc815', 2), ('\uc720\uc9c0', 2), ('\uc0dd\ud65c', 2), ('01', 2), ('\uac1c\uc778\uc815\ubcf4', 2), ('\ubcf4\ud638\ub97c', 2), ('\uc704\ud574', 2), ('\uac1c\uc778', 2), ('PC\uc5d0\uc11c\ub9cc', 2), ('\uc0ac\uc6a9\ud574', 2), ('\uc8fc\uc138\uc694', 2), ('\ub3c4\uc6c0\ub9d0\ubcf4\uae30', 2), ('\ud558\uad6c\ud54f', 2), ('22', 2), ('60', 2), ('36', 2), ('\ud68c\uc6d0\uac00\uc785', 2), ('\uc1a1\uc724\uc544', 2), ('14', 2), ('\ud3f0\ubc88\ud638', 2), ('\ub300\uad6c', 2), ('25', 2), ('30\u2103', 2), ('33', 2), ('46', 2), ('\uc804\uc8fc', 2), ('52\u2103', 2), ('\ub300\uc804', 2), ('43', 2), ('65', 2), ('80', 2), ('101', 2), ('\ube44', 2), ('150', 2), ('02', 2), ('23', 2), ('25\u2103', 2), ('40', 2), ('\ub0a0\uc528', 2), ('\ub300\uc124', 2), ('\uac15\ucd94\uc704', 2), ('\uacc4\uc18d\u2026\ubc24', 2), ('\uacf3\uacf3', 2), ('\uc8fc\uac04', 2), ('\uc608\ubcf4', 2), ('\ub300\uae30\uc624\uc5fc\uc815\ubcf4', 2), ('\ud1b5\ud569\ub300\uae30\uc9c0\uc218', 2), ('\ubbf8\uc138\uba3c\uc9c0', 2), ('\ub18d\ub3c4', 2), ('2', 2), ('\uc6b8\ub989\ub3c4', 2), ('\uc0dd\ud65c\uc704\uc82f', 2), ('httpnv2adnavercomadshowunit002APnrefreshx0', 2), ('\uc8fc\uc81c\ud615\uce90\uc2a4\ud2b8', 2), ('\ub77c\uc774\ud504', 2), ('10\u2103', 2), ('FUN', 2), ('\ub124\uc774\ubc84\uce90\uc2a4\ud2b8', 2), ('\uc624\ud508\uce90\uc2a4\ud2b8', 2), ('\uacf5\uc775\ub098\ub214', 2), ('\uc544\ubca4\ud0c0\ub3c4\ub974', 2), ('\uac00\uaca9\uc774\ub77c\uba74', 2), ('\ub124\uc774\ubc84\ube14\ub85c\uadf8', 2), ('\ub9c8\uc694\ub124\uc988', 2), ('\ucd08\uac04\ud3b8', 2), ('\uc870\ub9bd', 2), ('39\ud37c\uc990\ud3f039', 2), ('\uc81c\uc8fc', 2), ('\uc9c0\ub514\ub137\ucf54\ub9ac\uc544', 2), ('\ud604\ub300\ucc28', 2), ('88\u2103', 2), ('lsquo\uc218\uc18c\uc5f0\ub8cc\ucc2839', 2), ('\ub300\uacb0', 2), ('\ucc28\uc138\ub300', 2), ('\uce5c\ud658\uacbd\ucc28\ub85c', 2), ('\uc8fc\ubaa9\ubc1b\ub294', 2), ('lsquo\uc218\uc18c\uc5f0\ub8cc\uc804\uc9c0\ucc28FCVrsquo', 2), ('\uc2dc\uc7a5\uc744', 2), ('\ub193\uace0', 2), ('\ud55cmiddot\uc77c', 2), ('\uc591\uad6d', 2), ('\uc790\ub3d9\ucc28\uc5c5\uacc4\ub97c', 2), ('\ub300\ud45c\ud558\ub294', 2), ('\ud604\ub300\uc790\ub3d9\ucc28\uc640', 2), ('\uac04', 2), ('\ud55c\ud310', 2), ('\uc2b9\ubd80\uac00', 2), ('\uc2dc\uc791\ub410\ub2e4', 2), ('\ud604\ub300\ucc28\uac00', 2), ('\uc9c0\ub09c\ud574', 2), ('\ucd08', 2), ('\uc138\uacc4', 2), ('\ucd5c\ucd08\ub85c', 2), ('lsquo\ud22c\uc2fcixrsquo', 2), ('\uc11c\uc6b8', 2), ('\ud0dd\ubc30', 2), ('\uafc8\uafbc\ub2e4', 2), ('\uba38\ub2c8\ud22c\ub370\uc774', 2), ('\ub3c5\uc77c\uc778\ub4e4\uc774', 2), ('\uadf9\ucc2c\ud558\ub294', 2), ('01\u2103', 2), ('\ud504\ub85c\uc81d\ud2b8', 2), ('\uc5d0\uc388\ubaa8\ud130\uc1fc', 2), ('\ub809\uc11c\uc2a4', 2), ('\ubbf8\ub798\uc758', 2), ('\uc644\uc131\ub41c', 2), ('\ud37c\uc990', 2), ('quot\uac24S6\ub3c4', 2), ('\uc5e3\uc9c0', 2), ('\ub514\uc2a4\ud50c\ub808\uc774quot', 2), ('\ube14\ub85c\ud130', 2), ('\uce58\ubc00\ud558\uace0', 2), ('\uacc4\uc0b0\uc801\uc778', 2), ('\uc2dc\uc2b9\uae30', 2), ('\uc790\ub3d9\ucc28\uc0dd\ud65c', 2), ('\ucd08\uc74c\uc18d', 2), ('\uc5ec\uac1d\uae30', 2), ('\uaca8\uc6b8\uc7a0', 2), ('\uae6c\ub2e4', 2), ('\ud56d\uacf5\uae30', 2), ('\uc774\ub370\uc77c\ub9ac', 2), ('\uae30\ube14\ub9ac', 2), ('\ubc14\ub78c\uc758', 2), ('\ud608\ud1b5', 2), ('\ud14c\ub9c8', 2), ('\uc624\ud1a0\uce74\ucf54\ub9ac\uc544', 2), ('\ucc3d\uc774\ub0d0', 2), ('\ubc29\ud328\ub0d0', 2), ('\ubc00\ub9ac\ud130\ub9ac', 2), ('\ub274\uc2dc\uc2a4', 2), ('\uc120\ud638\uc8fc\uc81c\uc124\uc815', 2), ('\uc8fc\uc81c\ubcc4', 2), ('\ube44\uad50nbsp', 2), ('\uc2dc\uc2b9\uae30nbsp', 2), ('\uc544\uc6c3\ub3c4\uc5b4nbsp', 2), ('IT\uae30\uae30', 2), ('\ub9ac\ubdf0nbsp', 2), ('\ub9e4\uac70\uc9c4nbsp', 2), ('12', 2), ('\uc774\uc804\uce90\uc2a4\ud2b8', 2), ('\ub2e4\uc74c\uce90\uc2a4\ud2b8', 2), ('none', 2), ('\ub110\ub9ac', 2), ('\uc628\ub77c\uc778', 2), ('\uc811\uadfc\uc131', 2), ('\uccb4\ud5d8\uad00', 2), ('\ucc28\ubcc4\uacfc', 2), ('\uc7a5\ubcbd', 2), ('\uc5c6\ub294', 2), ('\uc628\ub77c\uc778\uc138\uc0c1', 2), ('\uc9c0\uae08', 2), ('\uccb4\ud5d8\ud574\ubcf4\uc138\uc694', 2), ('\uac15\ub989', 2), ('\ud30c\uc6cc\uc11c\ud3ec\ud2b8', 2), ('\uc11c\ubc84\uac00', 2), ('\ud544\uc694\ud558\uc2e0\uac00\uc694', 2), ('\uc5bc\ub77c\uc774\uc5b8\uc2a4\uac00', 2), ('\uc11c\ubc84\uc640', 2), ('\uae30\uc5c5\uc194\ub8e8\uc158\uc744', 2), ('\ubb34\uc0c1', 2), ('\uc9c0\uc6d0\ud569\ub2c8\ub2e4', 2), ('\uacf5\uc9c0\uc0ac\ud56d', 2), ('\uccad\uc18c\ub144\uc720\ud574\ub9e4\uccb4\ubb3c', 2), ('\uc774\uc6a9\uc744', 2), ('\uc704\ud55c', 2), ('\ubcf8\uc778\ud655\uc778', 2), ('\uc778\uc99d\ubc29\ubc95', 2), ('\uc804\uccb4\ubcf4\uae30', 2), ('40\u2103', 2), ('\uc57d\uad00', 2), ('\ud68c\uc0ac\uc18c\uac1c', 2), ('\uac80\uc0c9\ub4f1\ub85d', 2), ('\uc81c\ud734\uc81c\uc548', 2), ('\uc774\uc6a9\uc57d\uad00', 2), ('\uac1c\uc778\uc815\ubcf4\ucde8\uae09\ubc29\uce68', 2), ('\uccad\uc18c\ub144\ubcf4\ud638\uc815\ucc45', 2), ('\uace0\uac1d\uc13c\ud130', 2), ('copy', 2), ('Corp', 2), ('\ubd80\uc0b0', 2), ('\ufffd\u02fb\ufffd', 2), ('\ufffd\u0339\ufffd\ufffd\ufffd', 2), ('\ufffd\ufffd\ufffd\ufffd', 2), ('Play', 2), ('YouTube', 2), ('\ufffd\ufffd\ufffd\ufffd', 2), ('Gmail', 2), ('\ufffd\ufffd\ufffd\ufffd\u033a\ufffd', 2), ('\ufffd\ufffd\ufffd\ufffd\ufffd\ufffd', 2), ('raquo', 2), ('\ufffd\ufffd', 2), ('\ufffd\ufffd\ufffd', 2), ('\ufffd\ufffd\ufffd\ufffd', 2), ('\ufffd\u03b1\ufffd\ufffd\ufffd', 2), ('times', 2), ('\ufffd\ufffd\ufffd\u0373\ufffd\ufffd\ufffd', 2), ('\ufffd\ufffd\ufffd\ufffd', 2), ('\ufffd\ufffd\ufffd\ufffd\ufffd\ufffd', 2), ('\ufffd\ufffd\ufffd\ufffd\u03f4\ufffd', 2), ('\ufffd\ufffd\ufffd', 2), ('Chrome', 2), ('\ufffd\u067f\ufffd\u03b5\ufffd', 2), ('\ufffd\u0471\ufffd', 2), ('nbsp', 2), ('\ufffd\ufffd\u07b0\u02fb\ufffd', 2), ('\ufffd\ufffd\ued75\ufffd\ufffd', 2), ('\ufffd\ufffd\ufffd\ufffd', 2), ('\ufffd\ufffd\ufffd\u03b1\u05f7\ufffd', 2), ('\ufffd\ufffd\ufffd\ufffd\u03fd\ufffd', 2), ('\ufffd\u05b7\ufffd\ufffd', 2), ('\ufffd\ufffd\ufffd\ufffd', 2), ('Googlecom', 2), ('copy', 2), ('2013', 2), ('\ufffd\ufffd\ufffd\ufffd\ufffd\ufffd\ufffd\ufffd', 2), ('\ufffd\ufffd\u0223', 2), ('\ufffd\ufffd', 2), ('\ufffd\ufffd\ufffd', 2)]"
       ]
      },
      {
       "output_type": "stream",
       "stream": "stdout",
       "text": [
        "\n"
       ]
      }
     ],
     "prompt_number": 13
    },
    {
     "cell_type": "markdown",
     "metadata": {},
     "source": [
      " "
     ]
    },
    {
     "cell_type": "markdown",
     "metadata": {},
     "source": [
      "#### \uc790\uc138\ud55c \uc124\uba85\uc740 \uc704\uc5d0 \uc8fc\uc11d\uc73c\ub85c \ucc98\ub9ac\ud558\uc600\uc2b5\ub2c8\ub2e4."
     ]
    },
    {
     "cell_type": "markdown",
     "metadata": {},
     "source": [
      "\uc694\uad6c\uc0ac\ud56d 1 WebWordsFrequency\ub97c \uc0c1\uc18d\ubc1b\uc740 OrderedWebWordsFrequency\ud074\ub798\uc2a4\ub97c \ub9cc\ub4e4\uc5b4 \uc900 \ub4a4, getWordsFrequency() \ub97c \uc624\ubc84\ub85c\ub529 \uc2dc\ucf1c \uc90d\ub2c8\ub2e4. \uc774 \uba54\uc18c\ub4dc\ub294  WebWordsFrequency\ud074\ub798\uc2a4\uc758 getWordsFrequency \ud568\uc218\ub97c \ud638\ucd9c\ud558\uc5ec \ub2e8\uc5b4\ub97c \ucd9c\ub825\ud558\uc5ec \uc8fc\uace0 \uc774 \ub2e8\uc5b4\ub97c \uac00\uc9c0\uace0 V\uac12\uc744 \ube44\uad50\ud558\uc5ec \ub0b4\ub9bc\ucc28\uc21c\uc73c\ub85c \ub098\uc5f4\ud569\ub2c8\ub2e4. V\uac12\uacfc Km\uac12\uc774 \ub300\uc751\ub418\ubbc0\ub85c Km\uac12 \uc5ed\uc2dc V\uac12\uc744 \ub530\ub77c \ubcc0\uacbd \uc2dc\ucf1c \uc90d\ub2c8\ub2e4. \uadf8 \ud6c4, \uc0ac\uc804\uc73c\ub85c \ucd9c\ub825\ud558\uc5ec \uc90d\ub2c8\ub2e4."
     ]
    },
    {
     "cell_type": "markdown",
     "metadata": {},
     "source": [
      " "
     ]
    },
    {
     "cell_type": "markdown",
     "metadata": {},
     "source": [
      " "
     ]
    },
    {
     "cell_type": "markdown",
     "metadata": {},
     "source": [
      " "
     ]
    },
    {
     "cell_type": "markdown",
     "metadata": {},
     "source": [
      "## \ub290\ub080\uc810 "
     ]
    },
    {
     "cell_type": "markdown",
     "metadata": {},
     "source": [
      "\ud30c\uc774\uc36c\uc744 \ucc98\uc74c \uc2dc\uc791 \ud560 \ub54c, git hub\uc640 canopy\ub4f1 \uc0dd\uc18c\ud55c \ud658\uacbd\uacfc \uc5b8\uc5b4 \ub54c\ubb38\uc5d0 \uacfc\uc5f0 \ub0b4\uac00 \uc774 \uacfc\ubaa9\uc744 \ubb34\uc0ac\ud788 \uc218\uac15\ud560 \uc218 \uc788\uc744\uc9c0 \ub9ce\uc740 \uc758\ubb38\uc774 \ub4e4\uc5c8\uc5c8\uc2b5\ub2c8\ub2e4. \ucc98\uc74c \uacfc\uc81c \ud560 \ub54c\uc5d0\ub3c4 '\uc5b4\ub5bb\uac8c \uc0ac\uc774\ud2b8\uc5d0 \uc62c\ub9ac\uace0 \uc5b4\ub5a4\uc2dd\uc73c\ub85c \ud574\uc57c\ud558\uc9c0?' \ub4f1 \ub9ce\uc740 \uc0dd\uac01\uc744 \ud588\uc5c8\uace0 \ub610 \uacfc\uc81c\ud558\uac70\ub098 \uc62c\ub9ac\ub294\ub370 \uc788\uc5b4 \ub9ce\uc740 \uc5b4\ub824\uc6c0\uc744 \uacaa\uc5c8\uc5c8\uc2b5\ub2c8\ub2e4. \ud558\uc9c0\ub9cc \uc9c0\uae08\uc740 \uacfc\uc81c \uc62c\ub9ac\ub294 \uac83\ub3c4 \uae08\ubc29\uae08\ubc29\ud558\uace0 \ud30c\uc774\uc36c \uacfc\uc81c\ub97c \ud558\uba70 \ud30c\uc774\uc36c \uacf5\ubd80\ub97c \ud558\uba74\uc11c \ub2e4\ub978 \uc5b8\uc5b4\uc640 \ube44\uc2b7\ud55c \uc218\uc900\uc73c\ub85c \ub2e4\ub8f0 \uc218 \uc788\uac8c \ub418\uc5c8\uc2b5\ub2c8\ub2e4. \uacfc\uc81c\uac00 \uc810\uc810 \uac08\uc218\ub85d \uc5b4\ub824\uc6cc\uc838 \uc774\ubc88 \uacfc\uc81c \uc5ed\uc2dc \uc815\ub9d0 \uc624\ub798\uac78\ub838\uc2b5\ub2c8\ub2e4. \ud2b9\ud788 7\ubc88\uacfc 8\ubc88\uc740 \uacc4\uc18d\ud574\uc11c \uc774\uc5b4\ub098\uc624\ub358 \uacfc\uc81c \uc784\uc5d0\ub3c4 \ubd88\uad6c\ud558\uace0 \uc5b4\ub824\uc6e0\uc2b5\ub2c8\ub2e4. \uc778\ud130\ub137\ub3c4 \ucc3e\uc544\ubcf4\uace0 \ucc45\ub3c4 \ucc3e\uc544\ubcf4\uace0 \uc774\uac83\ub3c4\ud574\ubcf4\uace0 \uc800\uac83\ub3c4\ud574\ubcf4\uace0 \uad50\uc218\ub2d8\uaed8\uc11c 3\uc2dc\uac04 \uc815\ub3c4 \uac78\ub824\uc11c \ucd9c\uc81c \ud558\uc168\ub2e4\uace0 \ud55c \ub9d0\uc774 \uad1c\ud788 \ud55c \ub9d0\uc774 \uc544\ub2cc \uac83\uc744 \uae68\ub2ec\uc558\uc2b5\ub2c8\ub2e4. \uc774\uc81c \ubaa8\ub4e0 \uacfc\uc81c\uac00 \ub05d\ub0ac\uace0 \uae30\ub9d0\uace0\uc0ac\ub9cc \ub0a8\uc558\uc2b5\ub2c8\ub2e4. \uc774\ubc88\uc5d0 \ucc98\uc74c \uac1c\uc124\ub41c \uacfc\ubaa9\uc778\ub370 \uad50\uc218\ub2d8\uaed8\uc11c \uc218\uc5c5\ud558\ub294 \ubc29\uc2dd\uc774 \uc815\ub9d0 \uc88b\uc740 \uac83 \uac19\uc2b5\ub2c8\ub2e4. \uac01\uc790 \uacc4\uc18d\ud574\uc11c \ud0c0\uc774\ud551\ud558\ub2e4\uac00 \ubaa8\ub974\ub294 \ubd80\ubd84 \uc788\uc73c\uba74 \uad50\uc218\ub2d8 \uc124\uba85\ub4e3\uace0 \ud574\uacb0\ud558\uace0 \ub2e4\ub978 \uc0ac\ub78c\uc740 \uc5b4\ub5a8\uc9c0 \ubab0\ub77c\ub3c4 \uc800\uc5d0\uac8c \uc788\uc5b4\uc11c\ub294 \uac00\uc7a5 \ub9cc\uc871\uc2a4\ub7ec\uc6b4 \uc218\uc5c5\uc774\uc600\ub358\uac83 \uac19\uc2b5\ub2c8\ub2e4. \uac10\uc0ac\ud569\ub2c8\ub2e4."
     ]
    }
   ],
   "metadata": {}
  }
 ]
}