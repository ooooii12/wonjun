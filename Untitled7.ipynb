{
 "metadata": {
  "name": "",
  "signature": "sha256:2fe6e770974cddf8faaa41c3ec308b1915c025043e858795862184871b6cbbe6"
 },
 "nbformat": 3,
 "nbformat_minor": 0,
 "worksheets": [
  {
   "cells": [
    {
     "cell_type": "markdown",
     "metadata": {},
     "source": [
      "# Assignment 4"
     ]
    },
    {
     "cell_type": "markdown",
     "metadata": {},
     "source": [
      "## 2011136023 \uae40\uc6d0\uc900 "
     ]
    },
    {
     "cell_type": "markdown",
     "metadata": {},
     "source": [
      " "
     ]
    },
    {
     "cell_type": "markdown",
     "metadata": {},
     "source": [
      " "
     ]
    },
    {
     "cell_type": "markdown",
     "metadata": {},
     "source": [
      "###[1\ubc88 \ubb38\uc81c] \ud30c\uc77c s.txt \ub0b4\uc758 \ub2e4\uc74c \ub0b4\uc6a9\uacfc \ud568\uaed8 \uc544\ub798 \ubb38\uc81c\uc758 \ucf54\ub4dc\ub97c \uc81c\uc2dc\ud558\uc2dc\uc624.\n",
      "     pig ham\n",
      "     cat dog\n",
      "     ham bird\n",
      "     dog pig"
     ]
    },
    {
     "cell_type": "code",
     "collapsed": false,
     "input": [
      "lines = ['pig ham\\n', 'cat dog\\n', 'ham bird\\n', 'dog pig']\n",
      "f = open('s.txt', 'w+')\n",
      "\n",
      "f.writelines(lines)\n",
      "\n",
      "f.seek(0)\n",
      "print f.read()\n",
      "f.close()"
     ],
     "language": "python",
     "metadata": {},
     "outputs": [
      {
       "output_type": "stream",
       "stream": "stdout",
       "text": [
        "pig ham\n",
        "cat dog\n",
        "ham bird\n",
        "dog pig\n"
       ]
      }
     ],
     "prompt_number": 4
    },
    {
     "cell_type": "markdown",
     "metadata": {},
     "source": [
      "1\ubc88\ubb38\uc81c \uc608\uc2dc\ucc98\ub7fc s.txt\ub97c \uc0dd\uc131\uc2dc\ucf1c \uc90d\ub2c8\ub2e4.\n",
      "\uccab\ubc88\uc9f8 lines\uc5d0 \ucc28\ub840\ub300\ub85c \uc785\ub825\uc2dc\ucf1c \uc900 \ub4a4, f.writelines\ub97c \ud1b5\ud558\uc5ec \uc21c\uc11c\ub300\ub85c \ucd9c\ub825\ud558\uc5ec \uc90d\ub2c8\ub2e4.\n",
      "\uc774 \ub54c, \uac01 \ub2e8\uc5b4 \ub4a4\uc5d0 \uc904 \uac1c\ud589\ubb38\uc790\uac00 \uc788\uc73c\ubbc0\ub85c \uc704\uc5d0\uc11c \ubcf4\ub294\ubc14\uc640 \uac19\uc774 \uc904\uc774 \uac1c\ud589\ub41c \ucc44\ub85c \uc800\uc7a5\ub429\ub2c8\ub2e4."
     ]
    },
    {
     "cell_type": "markdown",
     "metadata": {},
     "source": [
      " "
     ]
    },
    {
     "cell_type": "markdown",
     "metadata": {},
     "source": [
      " "
     ]
    },
    {
     "cell_type": "markdown",
     "metadata": {},
     "source": [
      "#### 1) \ud30c\uc77c s.txt\uc744 \uc77d\uc5b4\uc11c \uac01 \ub77c\uc778\ub4e4\uc5d0 \uc788\ub294 \uccab \ubc88\uc9f8 \ub2e8\uc5b4(\ubb38\uc790\uc5f4)\ub4e4\uc744 \uae30\uc900\uc73c\ub85c \ub77c\uc778\ubcc4 \uc815\ub82c\ud6c4 \ud30c\uc77c s1.txt\uc5d0 \uadf8 \uacb0\uacfc\ub97c \uae30\ub85d\ud558\ub294 \ucf54\ub4dc\ub97c \uc791\uc131\ud558\uc2dc\uc624. \uc989, \ud504\ub85c\uadf8\ub7a8 \uc218\ud589 \ud6c4 s1.txt\uc5d0 \uc788\ub294 \ud30c\uc77c \ub0b4\uc6a9\uc740 \ub2e4\uc74c\uacfc \uac19\ub2e4.\n",
      "\n",
      "      cat dog\n",
      "      dog pig\n",
      "      ham bird\n",
      "      pig ham"
     ]
    },
    {
     "cell_type": "code",
     "collapsed": false,
     "input": [
      "f = open('s.txt')\n",
      "s = f.read()\n",
      "\n",
      "s1 = s.split('\\n') #\uacf5\ubc31\uc73c\ub85c \ubd84\ub9ac\n",
      "s1.sort()\n",
      "\n",
      "f = open('s1.txt', 'w')\n",
      "f.write('\\n'.join(s1)) # \ud589\ubcc0\ud658\uc73c\ub85c \ud569\uce58\uae30\n",
      "\n",
      "f = open('s1.txt')\n",
      "print f.read()\n",
      "f.close()"
     ],
     "language": "python",
     "metadata": {},
     "outputs": [
      {
       "output_type": "stream",
       "stream": "stdout",
       "text": [
        "cat dog\n",
        "dog pig\n",
        "ham bird\n",
        "pig ham\n"
       ]
      }
     ],
     "prompt_number": 5
    },
    {
     "cell_type": "markdown",
     "metadata": {},
     "source": [
      "s\uc5d0 \uc800\uc7a5\ub418\uc5b4\uc788\ub358 \ub0b4\uc6a9\uc744 \ubd84\ub9ac\ud558\uc5ec s1\uc5d0 \uc800\uc7a5\ud569\ub2c8\ub2e4.\n",
      "\uadf8\ud6c4 s1.sort()\ub97c \ud1b5\ud558\uc5ec \ub0b4\uc6a9\uc744 \uc624\ub984\ucc28\uc21c \uc21c\uc73c\ub85c \uc815\ub82c\ud558\uc5ec \uc8fc\uace0 \n",
      "\uadf8 \ub0b4\uc6a9\uc744 \ub2e4\uc2dc s1\ud30c\uc77c\uc5d0\ub2e4\uac00 \uc368 \uc90d\ub2c8\ub2e4."
     ]
    },
    {
     "cell_type": "markdown",
     "metadata": {},
     "source": [
      " "
     ]
    },
    {
     "cell_type": "markdown",
     "metadata": {},
     "source": [
      " "
     ]
    },
    {
     "cell_type": "markdown",
     "metadata": {},
     "source": [
      "#### 2) \ud30c\uc77c s.txt\uc744 \uc77d\uc5b4\uc11c \uac01 \ub77c\uc778\ub4e4\uc5d0 \uc788\ub294 \ub450 \ubc88\uc9f8 \ub2e8\uc5b4(\ubb38\uc790\uc5f4)\ub4e4\uc744 \uae30\uc900\uc73c\ub85c \ub77c\uc778\ubcc4 \uc815\ub82c\ud6c4 \ud30c\uc77c s2.txt\uc5d0 \uadf8 \uacb0\uacfc\ub97c \uae30\ub85d\ud558\ub294 \ucf54\ub4dc\ub97c \uc791\uc131\ud558\uc2dc\uc624. \uc989, \ud504\ub85c\uadf8\ub7a8 \uc218\ud589 \ud6c4 s2.txt\uc5d0 \uc788\ub294 \ud30c\uc77c \ub0b4\uc6a9\uc740 \ub2e4\uc74c\uacfc \uac19\ub2e4.\n",
      "\n",
      "     ham bird\n",
      "     cat dog\n",
      "     pig ham\n",
      "     dog pig"
     ]
    },
    {
     "cell_type": "code",
     "collapsed": false,
     "input": [
      "f = open('s.txt')\n",
      "s = f.read()\n",
      "\n",
      "\n",
      "slist = s.split('\\n') # \uc904\ubc14\uafc8\uc73c\ub85c \ubd84\ub9ac\ud558\uc5ec \ub9ac\uc2a4\ud2b8\ub85c \ub9cc\ub4e4\uc5b4 \uc90c\n",
      "temp = ''\n",
      "for i in range(0, len(slist)) :\n",
      "    for j in range(0, len(slist[i])) :\n",
      "        if slist[i][j] == ' ' :\n",
      "            if i == len(slist)-1 :\n",
      "                temp += slist[i][j+1:] + \" \" + slist[i][:j] # \uc55e\ub2e8\uc5b4\uc640 \ub4b7\ub2e8\uc5b4 \uc21c\uc11c\ub97c \ubc14\uafc8\n",
      "                break;\n",
      "            else :\n",
      "                temp += slist[i][j+1:] + \" \" + slist[i][:j] + '\\n' # \uc55e\ub2e8\uc5b4\uc640 \ub4b7\ub2e8\uc5b4 \uc21c\uc11c\ub97c \ubc14\uafc8\n",
      "                break; \n",
      "\n",
      "temp = temp.split('\\n') # \uc904\ubc14\uafc8\uc73c\ub85c \ubd84\ub9ac\ud558\uc5ec \ub9ac\uc2a4\ud2b8\ub85c \ub9cc\ub4e4\uc5b4\uc90c\n",
      "temp.sort() # \uc815\ub82c\n",
      "\n",
      "s2 = ''\n",
      "for i in range(0, len(temp)) :\n",
      "    for j in range(0, len(temp[i])) :\n",
      "        if temp[i][j] == ' ' :\n",
      "            if i == len(temp)-1 :\n",
      "                s2 += temp[i][j+1:] + \" \" + temp[i][:j] #\uc6d0\uc704\uce58\n",
      "                break;\n",
      "            else :\n",
      "                s2 += temp[i][j+1:] + \" \" + temp[i][:j] + '\\n' #\uc6d0\uc704\uce58\n",
      "                break;\n",
      "                \n",
      "s2 = s2.split('\\n') # \uc904\ubc14\uafc8\uc73c\ub85c \ubb38\uc790\uc5f4 \ubd84\ub9ac\n",
      "f = open('s2.txt', 'w')\n",
      "f.write('\\n'.join(s2)) # \ud589\ubcc0\ud658\uc73c\ub85c \ud569\uce58\uae30\n",
      "\n",
      "f = open('s2.txt')\n",
      "print f.read()\n",
      "f.close()"
     ],
     "language": "python",
     "metadata": {},
     "outputs": [
      {
       "output_type": "stream",
       "stream": "stdout",
       "text": [
        "ham bird\n",
        "cat dog\n",
        "pig ham\n",
        "dog pig\n"
       ]
      }
     ],
     "prompt_number": 6
    },
    {
     "cell_type": "markdown",
     "metadata": {},
     "source": [
      "s\uc5d0 \uc788\ub294 \ub0b4\uc6a9\uc744 \uc77d\uace0 slist\uc5d0 \uc904\ubc14\uafc8\uc744 \uae30\uc900\uc73c\ub85c \ubd84\ub9ac\ud558\uc5ec \uc90d\ub2c8\ub2e4.\n",
      "\uadf8 \ud6c4, for\ubb38\uc744 \ud1b5\ud558\uc5ec \uc55e\ub2e8\uc5b4\uc640 \ub4b7\ub2e8\uc5b4 \uc21c\uc11c\ub97c \ubc14\uafb8\uc5b4 \uc8fc\uc5b4 temp\uc5d0 \uc800\uc7a5\ud558\uc5ec \uc90d\ub2c8\ub2e4.\n",
      "\uadf8\ub9ac\uace0 temp\uc5d0 \uc800\uc7a5\ub418\uc5b4\uc788\ub294\uac78 \uc904\ubc14\uafc8\uc744 \uae30\uc900\uc73c\ub85c \ubd84\ub9ac\ud558\uc5ec \ub9ac\uc2a4\ud2b8\ub85c \ub9cc\ub4e4\uc5b4 \uc90d\ub2c8\ub2e4.\n",
      "\uadf8\ub2e4\uc74c sort()\ub97c \ud1b5\ud558\uc5ec \n",
      "\uc815\ub82c\uc2dc\ucf1c\uc8fc\uace0\n",
      "\ub2e4\uc2dc for\ubb38\uc744 \ud1b5\ud558\uc5ec \uc6d0\ub798 \ub300\ub85c \uc21c\uc11c\ub97c \ubc14\uafb8\uc5b4 s2\uc5d0\ub2e4 \uc800\uc7a5\uc2dc\ucf1c \uc90d\ub2c8\ub2e4.\n",
      "\ub610 s2\ub97c \uc904\ubc14\uafc8\uc744 \uae30\uc900\uc73c\ub85c \ub9ac\uc2a4\ud2b8\ub85c \ub9cc\ub4e4\uc5b4 \uc900\ub4a4 \uc904\ubc14\uafc8\uc744 \uae30\uc900\uc73c\ub85c \ud569\uccd0\uc11c s2\uc5d0\ub2e4\uac00 \uc368 \uc90d\ub2c8\ub2e4."
     ]
    },
    {
     "cell_type": "markdown",
     "metadata": {},
     "source": [
      " "
     ]
    },
    {
     "cell_type": "markdown",
     "metadata": {},
     "source": [
      " "
     ]
    },
    {
     "cell_type": "markdown",
     "metadata": {},
     "source": [
      "#### 3) \ud30c\uc77c s2.txt\uc744 \uc77d\uc5b4\uc11c \uac01 \ub77c\uc778\ub4e4\uc5d0 \uc788\ub294 \ubaa8\ub4e0 \ub2e8\uc5b4\ub4e4\uc744 \uc21c\ucc28\uc801\uc73c\ub85c \ub2e4\uc2dc \ub098\uc5f4\ud558\ub418 \uac01 \ub77c\uc778\uc5d0 \uc138 \uac1c\uc758 \ub2e8\uc5b4\ub4e4\uc774 \uc624\ub3c4\ub85d \ud558\uc5ec s3.txt\uc5d0 \uae30\ub85d\ud558\ub294 \ucf54\ub4dc\ub97c \uc791\uc131\ud558\uc2dc\uc624. \uc989, \ud504\ub85c\uadf8\ub7a8 \uc218\ud589 \ud6c4 s3.txt\uc5d0 \uc788\ub294 \ud30c\uc77c \ub0b4\uc6a9\uc740 \ub2e4\uc74c\uacfc \uac19\ub2e4.\n",
      "      pig ham cat\n",
      "      dog ham bird\n",
      "      dog pig"
     ]
    },
    {
     "cell_type": "code",
     "collapsed": false,
     "input": [
      "f = open('s2.txt') \n",
      "s = f.read()\n",
      "s = s.split('\\n') \n",
      "\n",
      "temp = ''\n",
      "for i in range(0, len(s)) :\n",
      "    if i == len(s)-1 :\n",
      "        temp += s[i]\n",
      "    else :\n",
      "        temp += s[i] + ' '\n",
      "temp = temp.split(' ') # \ubaa8\ub4e0 \ub2e8\uc5b4\ub97c \ubd84\ub9ac \uc2dc\ud0b5\ub2c8\ub2e4.\n",
      "\n",
      "s3 = ''\n",
      "for i in range(1, len(temp) + 1) :\n",
      "    if i % 3 == 0 :\n",
      "        s3 += temp[i-1] + '\\n'\n",
      "        continue\n",
      "    if i == len(temp) :\n",
      "        s3 += temp[i-1]\n",
      "        break\n",
      "    \n",
      "    s3 += temp[i-1]+ ' ' # \uac01 \ub2e8\uc5b4\ub97c 3\ub2e8\uc5b4\uc529\uc73c\ub85c \ub04a\uc2b5\ub2c8\ub2e4.\n",
      "\n",
      "s3 = s3.split('\\n')\n",
      "f = open('s3.txt', 'w')\n",
      "f.write('\\n'.join(s3))\n",
      "\n",
      "f = open('s3.txt')\n",
      "    \n",
      "print f.read()"
     ],
     "language": "python",
     "metadata": {},
     "outputs": [
      {
       "output_type": "stream",
       "stream": "stdout",
       "text": [
        "ham bird cat\n",
        "dog pig ham\n",
        "dog pig\n"
       ]
      }
     ],
     "prompt_number": 7
    },
    {
     "cell_type": "markdown",
     "metadata": {},
     "source": [
      "s2\ud14d\uc2a4\ud2b8 \ud30c\uc77c\uc744 \uc5f4\uace0 s\uc5d0\ub2e4\uac00 \uc904\ubc14\uafc8\uc744 \uae30\uc900\uc73c\ub85c \ubd84\ub9ac\uc2dc\ucf1c \uc90d\ub2c8\ub2e4.\n",
      "\uadf8\ub9ac\uace0 temp\uc5d0 \ub2e8\uc5b4\ub97c \ud558\ub098\uc529 \uc800\uc7a5\ud55c \ud6c4, \uacf5\ubc31\uc744 \uae30\uc900\uc73c\ub85c \ubd84\ub9ac\uc2dc\ucf1c\uc90d\ub2c8\ub2e4. \uc989, \ubaa8\ub4e0 \ub2e8\uc5b4\uac00 \ubd84\ub9ac\ub418\uc5b4\uc788\ub294 \uc0c1\ud0dc\uc785\ub2c8\ub2e4.\n",
      "\uadf8\ud6c4 for\ubb38\uc744 \ud1b5\ud558\uc5ec \uac01\ub2e8\uc5b4\ub97c 3\ub2e8\uc5b4\uc529 \uc904\ubc14\uafc8\uc744 \uae30\uc900\uc73c\ub85c \ub04a\uc2b5\ub2c8\ub2e4.\n",
      "\uadf8 \ud6c4, s3\uc5d0 \uc904\ubc14\uafc8\uc744 \uae30\uc900\uc73c\ub85c \ubd84\ub9ac\uc2dc\ucf1c \uc900\ub4a4, s3.txt\ud30c\uc77c\uc5d0 \uc904\ubc14\uafc8\uc744 \ud569\uce58\uba74\uc11c \ub0b4\uc6a9\uc744 \uc368\uc90d\ub2c8\ub2e4."
     ]
    },
    {
     "cell_type": "markdown",
     "metadata": {},
     "source": [
      " "
     ]
    },
    {
     "cell_type": "markdown",
     "metadata": {},
     "source": [
      " "
     ]
    },
    {
     "cell_type": "markdown",
     "metadata": {},
     "source": [
      "### [2\ubc88 \ubb38\uc81c] \ub2e4\uc74c\uacfc \uac19\uc740 \uc870\uac74\ub4e4\uc744 \ucc38\uace0\ud558\uc5ec \ud68c\uc6d0 \uac00\uc785 \ubc0f \ub85c\uadf8\uc778 \ud504\ub85c\uadf8\ub7a8\uc744 \uc791\uc131\ud558\uc2dc\uc624."
     ]
    },
    {
     "cell_type": "markdown",
     "metadata": {},
     "source": [
      "- 1) \ud504\ub85c\uadf8\ub7a8 \uc2dc\uc791 \ud6c4 \ub2e4\uc74c\uacfc \uac19\uc740 \uba54\uc2dc\uc9c0\uac00 \ucd9c\ub825\ub418\uc5b4 1, 2, 3 \uc911 \ud558\ub098\uc758 \uac12\uc744 \uc785\ub825 \ubc1b\ub3c4\ub85d \ud55c\ub2e4.\n",
      "    - Welcome to Our Service\n",
      "    - Sign Up\n",
      "    - Sign In\n",
      "    - Quit"
     ]
    },
    {
     "cell_type": "markdown",
     "metadata": {},
     "source": [
      "- 2) 1\uc744 \uc120\ud0dd\ud558\uba74 ID, Password, Name, School\uc758 4\uac00\uc9c0 \uc815\ubcf4\ub97c \uc785\ub825\ubc1b\uc544 \ud30c\uc77c\uc5d0 \uc800\uc7a5\ud558\ub294 \ud504\ub85c\uadf8\ub7a8\uc744 \uc791\uc131\ud55c\ub2e4.\n",
      "    - 2-1) \uc785\ub825\ub41c \ub0b4\uc6a9\uc740 access \ub77c\ub294 \uc774\ub984\uc758 \ud30c\uc77c \ub0b4\uc5d0 \uc800\uc7a5\ub41c\ub2e4.\n",
      "    - 2-2) access \ud30c\uc77c\uc758 \uac01 \ub77c\uc778\uc5d0\ub294 \uac00\uc785\ub41c \ud68c\uc6d0 \uac01\uac01\uc758 \uc815\ubcf4\uac00 \"id: password, name, school\" \ud615\ud0dc\ub85c \uc800\uc7a5\ub41c\ub2e4.\n",
      "    - 2-3) \uc989, \uac00\uc785 \ud68c\uc6d0\uc774 10\uba85\uc774\uba74 access \ud30c\uc77c \ub0b4\uc5d0 \ub77c\uc778 \uc218\ub3c4 \uc815\ud655\ud788 10\uc774\ub2e4.\n",
      "    - 2-4) \uc554\ud638\ud654 \ubc29\uc2dd\uc740 sha \ubaa8\ub4c8\uc744 \ud65c\uc6a9\ud55c\ub2e4. sha \ubaa8\ub4c8 \ud65c\uc6a9 \ubc29\ubc95\uc740 \ubcf8 \ubb38\uc81c\uc758 \ub9c8\uc9c0\ub9c9\uc5d0 \uc81c\uc2dc\ub41c sha \ud65c\uc6a9 \uc608\ub97c \ucc38\uace0\ud55c\ub2e4.\n",
      "        - \uc989, access \ud30c\uc77c \ub0b4\uc5d0 password \uc815\ubcf4\ub294 \uc554\ud638\ud654 \ub418\uc5b4 \uc800\uc7a5\ub418\uc5b4\uc57c \ud55c\ub2e4.\n",
      "    - 2-5) \ud68c\uc6d0 \uc815\ubcf4\ub97c \uc785\ub825 \ubc1b\uc744 \ub54c id\ub97c \uc785\ub825 \ubc1b\uc740 \uc9c1\ud6c4 access\ub97c \ud655\uc778\ud558\uc5ec \uc774\ubbf8 \uc874\uc7ac\ud558\ub294 id\uac00 \uc785\ub825\ub418\uc5c8\ub2e4\uba74 \ub2e4\uc74c \uba54\uc2dc\uc9c0\ub97c \ucd9c\ub825\ud558\uace0 id \uc815\ubcf4\ub97c \ub2e4\uc2dc \uc785\ub825\ubc1b\ub294\ub2e4.\n",
      "        - Sorry, the entered ID is already used.\n",
      "\n",
      "- 3) 2\ub97c \uc120\ud0dd\ud558\uba74 ID, Password\uc758 2\uac00\uc9c0 \uc815\ubcf4\ub97c \uc785\ub825\ubc1b\ub294 \ud504\ub85c\uadf8\ub7a8\uc744 \uc791\uc131\ud55c\ub2e4.\n",
      "    - 3-1) \uc785\ub825\ub41c ID \uc815\ubcf4\uac00 access\uc5d0 \uc874\uc7ac\ud558\uc9c0 \uc54a\uc73c\uba74 \ub2e4\uc74c\uacfc \uac19\uc740 \uba54\uc2dc\uc9c0\ub97c \ucd9c\ub825\ud558\uace0 \ub2e4\uc2dc \uc785\ub825\ubc1b\ub294\ub2e4.\n",
      "    - 3-2) \uc785\ub825\ub41c ID\uac00 \uc62c\ubc14\ub974\uac8c \uc874\uc7ac\ud558\uc9c0\ub9cc Password \uc815\ubcf4\uac00 access \ud30c\uc77c\uc5d0 \uc788\ub294 \uc815\ubcf4\uc640 \ubd88\uc77c\uce58 \ud558\uba74 \ub2e4\uc74c\uacfc \uac19\uc740 \uba54\uc2dc\uc9c0\ub97c \ucd9c\ub825\ud558\uace0 \ub2e4\uc2dc \uc785\ub825\ubc1b\ub294\ub2e4.\n",
      "        - Sorry, the entered password is not correct.\n",
      "        - \uc774 \ub54c\uc5d0\ub3c4 \uc0ac\uc6a9\uc790\uac00 \uc785\ub825\ud55c \ud328\uc2a4\uc6cc\ub4dc \uc815\ubcf4\uc640 \ud568\uaed8 sha \ubaa8\ub4c8\uc774 \ud65c\uc6a9\ub418\uc5b4\uc57c \ud55c\ub2e4.\n",
      "    - 3-3) \uc785\ub825\ub41c ID\uc640 Password\uac00 \ubaa8\ub450 \uc62c\ubc14\ub974\uba74 \ub2e4\uc74c\uacfc \uac19\uc740 \uba54\uc2dc\uc9c0\ub97c \ucd9c\ub825\ud55c\ub2e4.\n",
      "        - Hello [name]!\n",
      "        - \uc704 [name]\uc5d0\ub294 access\uc5d0 \uae30\ub85d\ub418\uc5b4 \uc788\ub294 name \uc815\ubcf4\ub97c \ucd9c\ub825\ud55c\ub2e4.\n",
      "\n",
      "- 4) 3\uc744 \uc120\ud0dd\ud558\uba74 \ud504\ub85c\uadf8\ub7a8\uc774 \ub05d\ub09c\ub2e4."
     ]
    },
    {
     "cell_type": "code",
     "collapsed": false,
     "input": [
      "# -*- coding: utf-8 -*-\n",
      "import sha\n",
      "while(1) :\n",
      "    print 'Welcome to Our Service'\n",
      "    print '1. Sign Up'\n",
      "    print '2. Sign In'\n",
      "    print '3. Quit'\n",
      "    select = input('Enter number (1, 2, 3) : ') #\ubc88\ud638 \uc120\ud0dd\n",
      "    \n",
      "    if select == 1 : # \ub9cc\uc57d 1\ubc88\uc744 \uc120\ud0dd\ud55c\ub2e4\uba74\n",
      "        readtemp = '' \n",
      "        count = 0 # \uac2f\uc218\n",
      "        f = open('access.txt', 'a+') # \uc77d\uace0, \ucd94\uac00\ud560 \uc218 \uc788\ub294 \ud30c\uc77c\n",
      "        while(1) :\n",
      "            f.seek(0) # \ud0d0\uc0c9 \ucd08\uae30\ud654\n",
      "            check = 0 \n",
      "            ID = raw_input(\"Enter ID : \")# \uc544\uc774\ub514 \uc785\ub825# \uc77d\uae30\uc804\uc6a9\n",
      "            lines = f.readlines()\n",
      "            for i in range(0, len(lines)) :\n",
      "                temp = ''\n",
      "                \n",
      "                for j in range(0, len(lines[i])) :\n",
      "                    readtemp = lines[i][j]\n",
      "                    if readtemp == ':' :\n",
      "                        if temp.find(ID) == 0 and len(ID) == len(temp) : # \uc774\ubbf8 \uc774\ub984\uc774 \uc788\uc73c\uba74 \uc77c\uce58\ud560\ub54c\n",
      "                            \n",
      "                            print 'Sorry, the entered ID is already used.'\n",
      "                            i = len(lines)\n",
      "                            j = len(lines[i-1])\n",
      "                            check = 1\n",
      "                        break\n",
      "                    temp += readtemp\n",
      "            if check == 0 : # \uc911\ubcf5\ub41c \uc774\ub984\uc774 \uc5c6\uc73c\uba74\n",
      "                break\n",
      "        \n",
      "            \n",
      "        \n",
      "    \n",
      "        Password = raw_input(\"Enter Password : \") # \ud328\uc2a4\uc6cc\ub4dc \uc785\ub825\n",
      "        \n",
      "        password_plain = Password \n",
      "        password_encrypted = sha.new(password_plain).hexdigest()# \ud328\uc2a4\uc6cc\ub4dc \uc554\ud638\ud654\n",
      "        Name = raw_input(\"Enter Name : \") # \uc774\ub984 \uc785\ub825\n",
      "        School = raw_input(\"Enter School : \") # \ud559\uad50 \uc785\ub825    \n",
      "        k = ['\\n']\n",
      "        s = ID + ': ' + password_encrypted + ', ' + Name + ', ' + School\n",
      "        s = s.split()\n",
      "        \n",
      "        f.write(' '.join(s))\n",
      "        f.writelines(k) # \uc904\ubc14\uafc8\n",
      "        \n",
      "        f.close()\n",
      "        \n",
      "    elif select ==2 : # \ub9cc\uc57d 2\ubc88 \uc120\ud0dd\uc744 \ud558\uba74\n",
      "        exist = 0\n",
      "        checknum = 0\n",
      "        f = open('access.txt', 'r') # \ud30c\uc77c \uc77d\uae30\ud615\ud0dc\n",
      "        while(1) :\n",
      "            f.seek(0) # \ud0d0\uc0c9 \ucd08\uae30\ud654\n",
      "            check = 0 \n",
      "            ID = raw_input(\"Enter ID : \")# \uc544\uc774\ub514 \uc785\ub825 # \uc77d\uae30\uc804\uc6a9\n",
      "            lines = f.readlines()\n",
      "            for i in range(0, len(lines)) :\n",
      "                temp = ''\n",
      "                \n",
      "                for j in range(0, len(lines[i])) :\n",
      "                    readtemp = lines[i][j]\n",
      "                    if readtemp == ':' :\n",
      "                        if temp.find(ID) == 0 : # \ub9cc\uc57d \uc544\uc774\ub514\uac00 \uc874\uc7ac\ud55c\ub2e4\uba74\n",
      "                            exist = 1\n",
      "                            checknum = i\n",
      "                            \n",
      "                        break\n",
      "                    temp += readtemp\n",
      "                if exist == 1 : # \uc874\uc7ac\ud558\uba74 check ==0\uc73c\ub85c\n",
      "                    break\n",
      "            if exist == 0 : # \uc874\uc7ac\ud558\uc9c0 \uc54a\uc73c\uba74 while\ubb38 \ubc18\ubcf5\n",
      "                print 'Sorry, you are not a registered member'\n",
      "                i = 0\n",
      "                j = 0\n",
      "                check = 1\n",
      "                \n",
      "            if check == 0 : \n",
      "                while(1) :\n",
      "                    f.seek(0) # \ud0d0\uc0c9 \ucd08\uae30\ud654\n",
      "                    check = 0\n",
      "                    Password = raw_input(\"Enter Password : \")\n",
      "                    password_plain = Password\n",
      "                    password_encrypted = sha.new(password_plain).hexdigest()\n",
      "                    lines = f.readlines()\n",
      "                    if  password_encrypted in lines[checknum] : #\ub9cc\uc57d \uc874\uc7ac\ud55c ID\uc911\uc5d0\uc11c \ube44\ubc00\ubc88\ud638\uac00 \uc77c\uce58\ud55c\ub2e4\uba74\n",
      "                        information = lines[checknum].split(', ')\n",
      "                        print 'Hello [' + information[checknum+1] + ']!' # \uc774\ub984 \ucd9c\ub825\n",
      "                        print\n",
      "                        print \n",
      "                        break\n",
      "                    else : # \ube44\ubc00\ubc88\ud638\uac00 \uc77c\uce58\ud558\uc9c0 \uc54a\ub294\ub2e4\uba74\n",
      "                        print 'Sorry, the entered password is not correct.'\n",
      "                        i = len(lines)\n",
      "                        check = 1\n",
      "                    if check == 0 : #\uc77c\uce58\ud558\uba74 \uacc4\uc18d\uc9c4\ud589\ud558\uc5ec while\ubb38 \uc885\ub8cc\n",
      "                        break\n",
      "                \n",
      "                break\n",
      "        f.close()\n",
      "        \n",
      "    elif select == 3 : # 3\uc744 \uc120\ud0dd\ud55c\ub2e4\uba74 \ud504\ub85c\uadf8\ub7a8 \uc885\ub8cc\n",
      "        print 'Exit, Program.'\n",
      "        break"
     ],
     "language": "python",
     "metadata": {},
     "outputs": [
      {
       "output_type": "stream",
       "stream": "stdout",
       "text": [
        "Welcome to Our Service\n",
        "1. Sign Up\n",
        "2. Sign In\n",
        "3. Quit\n"
       ]
      },
      {
       "name": "stdout",
       "output_type": "stream",
       "stream": "stdout",
       "text": [
        "Enter number (1, 2, 3) : 1\n"
       ]
      },
      {
       "name": "stdout",
       "output_type": "stream",
       "stream": "stdout",
       "text": [
        "Enter ID : kimwonjun\n"
       ]
      },
      {
       "name": "stdout",
       "output_type": "stream",
       "stream": "stdout",
       "text": [
        "Enter Password : dnjswnsWkd\n"
       ]
      },
      {
       "name": "stdout",
       "output_type": "stream",
       "stream": "stdout",
       "text": [
        "Enter Name : kimwonjun\n"
       ]
      },
      {
       "name": "stdout",
       "output_type": "stream",
       "stream": "stdout",
       "text": [
        "Enter School : koreatech\n"
       ]
      },
      {
       "output_type": "stream",
       "stream": "stdout",
       "text": [
        "Welcome to Our Service\n",
        "1. Sign Up\n",
        "2. Sign In\n",
        "3. Quit\n"
       ]
      },
      {
       "name": "stdout",
       "output_type": "stream",
       "stream": "stdout",
       "text": [
        "Enter number (1, 2, 3) : 1\n"
       ]
      },
      {
       "name": "stdout",
       "output_type": "stream",
       "stream": "stdout",
       "text": [
        "Enter ID : kimwonjun\n"
       ]
      },
      {
       "output_type": "stream",
       "stream": "stdout",
       "text": [
        "Sorry, the entered ID is already used.\n"
       ]
      },
      {
       "name": "stdout",
       "output_type": "stream",
       "stream": "stdout",
       "text": [
        "Enter ID : papa\n"
       ]
      },
      {
       "name": "stdout",
       "output_type": "stream",
       "stream": "stdout",
       "text": [
        "Enter Password : papa33\n"
       ]
      },
      {
       "name": "stdout",
       "output_type": "stream",
       "stream": "stdout",
       "text": [
        "Enter Name : papapadao\n"
       ]
      },
      {
       "name": "stdout",
       "output_type": "stream",
       "stream": "stdout",
       "text": [
        "Enter School : papaschool\n"
       ]
      },
      {
       "output_type": "stream",
       "stream": "stdout",
       "text": [
        "Welcome to Our Service\n",
        "1. Sign Up\n",
        "2. Sign In\n",
        "3. Quit\n"
       ]
      },
      {
       "name": "stdout",
       "output_type": "stream",
       "stream": "stdout",
       "text": [
        "Enter number (1, 2, 3) : 2\n"
       ]
      },
      {
       "name": "stdout",
       "output_type": "stream",
       "stream": "stdout",
       "text": [
        "Enter ID : script\n"
       ]
      },
      {
       "output_type": "stream",
       "stream": "stdout",
       "text": [
        "Sorry, you are not a registered member\n"
       ]
      },
      {
       "name": "stdout",
       "output_type": "stream",
       "stream": "stdout",
       "text": [
        "Enter ID : kimwonjun\n"
       ]
      },
      {
       "name": "stdout",
       "output_type": "stream",
       "stream": "stdout",
       "text": [
        "Enter Password : idontknow\n"
       ]
      },
      {
       "output_type": "stream",
       "stream": "stdout",
       "text": [
        "Sorry, the entered password is not correct.\n"
       ]
      },
      {
       "name": "stdout",
       "output_type": "stream",
       "stream": "stdout",
       "text": [
        "Enter Password : dnjswnsWKd\n"
       ]
      },
      {
       "output_type": "stream",
       "stream": "stdout",
       "text": [
        "Sorry, the entered password is not correct.\n"
       ]
      },
      {
       "name": "stdout",
       "output_type": "stream",
       "stream": "stdout",
       "text": [
        "Enter Password : dnjswnsWkd\n"
       ]
      },
      {
       "output_type": "stream",
       "stream": "stdout",
       "text": [
        "Hello [kimwonjun]!\n",
        "\n",
        "\n",
        "Welcome to Our Service\n",
        "1. Sign Up\n",
        "2. Sign In\n",
        "3. Quit\n"
       ]
      },
      {
       "name": "stdout",
       "output_type": "stream",
       "stream": "stdout",
       "text": [
        "Enter number (1, 2, 3) : 3\n"
       ]
      },
      {
       "output_type": "stream",
       "stream": "stdout",
       "text": [
        "Exit, Program.\n"
       ]
      }
     ],
     "prompt_number": 2
    },
    {
     "cell_type": "markdown",
     "metadata": {},
     "source": [
      "1) 1\ubc88\uc774 \uc120\ud0dd\ub418\uc5c8\uc744 \ub54c \uc785\ub825\ub41c \ub0b4\uc6a9\uc744 access.txt\uc5d0 \uc800\uc7a5\uc2dc\ud0a4\uae30 \uc704\ud574 a+ \ud615\ud0dc\ub85c \ud30c\uc77c\uc744 \uc5f4\uc5b4 \uc90d\ub2c8\ub2e4. \ub610\ud55c \uac01\ub77c\uc778\uc5d0 id: password, name, school \ud615\ud0dc\ub85c \ubc1b\uae30 \uc704\ud558\uc5ec \ubcc0\uc218 s\ub97c \uac19\uc740 \ud45c\ud604\uc73c\ub85c \uc800\uc7a5\ud558\uc5ec \uc90d\ub2c8\ub2e4. \uc989, \uac00\uc785\ud68c\uc6d0\uc774 10\uc774\uba74 \ub77c\uc778\uc218\ub3c4 10\uc73c\ub85c \ub9de\ucdb0\uc9c0\uac8c \ub429\ub2c8\ub2e4. import sha\ub97c \ud1b5\ud558\uc5ec sha\ubaa8\ub4c8 \ubc29\uc2dd\uc744 \ud65c\uc6a9\ud569\ub2c8\ub2e4. \uccab\ubc88\uca30 while\ubb38\uc744 \ud1b5\ud558\uc5ec \uc544\uc774\ub514\ub97c \ud655\uc778\ud558\uace0 \ub9cc\uc57d \ud30c\uc77c\uc5d0 \uc544\uc774\ub514\uac00 \uc788\uc73c\uba74 \ub2e4\uc2dc \uc785\ub825 \ud560 \uc218 \uc788\uac8c \ud588\uc2b5\ub2c8\ub2e4."
     ]
    },
    {
     "cell_type": "markdown",
     "metadata": {},
     "source": [
      "2) 2\ubc88\uc774 \uc120\ud0dd\ub418\uba74 \uccab\ubc88\uc9f8 while\ubb38\uc744 \ud1b5\ud558\uc5ec \uc785\ub825\ub41c ID \uc815\ubcf4\ub97c \ud30c\uc77c\uc5d0\uc11c \ucc3e\uc544\ubcf4\uace0 \uc788\uc73c\uba74 \uc9c4\ud589, \uc5c6\uc73c\uba74 \ub2e4\uc2dc \uc785\ub825\ubc1b\uac8c \ud558\uc600\uc2b5\ub2c8\ub2e4. \uadf8\ub9ac\uace0 \ub450\ubc88\uca30 while\ubb38\uc744 \ud1b5\ud558\uc5ec ID\uac00 \uc874\uc7ac\ud558\uc9c0\ub9cc password\uc815\ubcf4\uac00 \uc5c6\ub2e4\uba74 \ub2e4\uc2dc \uc554\ud638\ub97c \uc785\ub825\ubc1b\uac8c \ud588\uc2b5\ub2c8\ub2e4. \uadf8\ub9ac\uace0 \ub458\ub2e4 \ub9de\uc744 \uc2dc\uc5d0\ub294 \uc870\uac74\ubb38\uc744 \ud1b5\ud558\uc5ec \uc62c\ubc14\ub978 \uba54\uc138\uc9c0\uac00 \ucd9c\ub825\ud558\ub3c4\ub85d \ud558\uc600\uc2b5\ub2c8\ub2e4."
     ]
    },
    {
     "cell_type": "markdown",
     "metadata": {},
     "source": [
      "3) \ub9c8\uc9c0\ub9c9\uc73c\ub85c 3\ubc88\uc774 \uc120\ud0dd\ub418\uba74 break\ubb38\uc744 \ud1b5\ud558\uc5ec while\ubb38\uc744 \uc885\ub8cc\uc2dc\ud0b4\uc73c\ub85c\uc11c \ud504\ub85c\uadf8\ub7a8\uc744 \uc885\ub8cc\ub418\uac8c \ub9cc\ub4e4\uc5c8\uc2b5\ub2c8\ub2e4."
     ]
    },
    {
     "cell_type": "markdown",
     "metadata": {},
     "source": [
      " "
     ]
    },
    {
     "cell_type": "markdown",
     "metadata": {},
     "source": [
      " "
     ]
    },
    {
     "cell_type": "markdown",
     "metadata": {},
     "source": [
      "### [3\ubc88 \ubb38\uc81c] range() \ud568\uc218\uc640 \uc720\uc0ac\ud55c frange() \ud568\uc218\ub97c \ub2e4\uc74c \uc870\uac74\uc744 \ucc38\uace0\ud558\uc5ec \ub9cc\ub4dc\uc2dc\uc624."
     ]
    },
    {
     "cell_type": "markdown",
     "metadata": {},
     "source": [
      "- 1) frange()\uc758 \uc778\uc790 \uad6c\uc131\uc740 \ub2e4\uc74c\uacfc \uac19\uc774 range\uc640 \ub3d9\uc77c\ud558\uc9c0\ub9cc \uac01 \uc778\uc218\ub4e4\uc740 \uc74c\uc218\ub97c \ubc1b\uc9c0 \uc54a\ub294\ub2e4\uace0 \uac00\uc815\ud55c\ub2e4.\n",
      "    - range(stop)\n",
      "    - range(start, stop[, step])\n",
      "- 2) frange() \ud568\uc218\uc758 \uc778\uc790\uc5d0 \ub300\ud55c \uae30\ubcf8 \uc2dc\uc791(start) \uac12\uc740 0.0\uc774\uace0, \uae30\ubcf8 \ub2e8\uacc4(step) \uac12\uc740 0.1\uc774\ub2e4.\n",
      "- 3) frange \uc0ac\uc6a9 \uc608\n",
      "    - 3-1) frange(0.5)\n",
      "        - [0.0, 0.1, 0.2, 0.3, 0.4]\n",
      "    - 3-2) frange(1.0, 2.0)\n",
      "        - [1.0, 1.1, 1.2, 1.3, 1.4, 1.5, 1.6, 1.7, 1.8, 1.9]\n",
      "    - 3-3) frange(2.2, 4.0, 0.5)\n",
      "        - [2.2, 2.7, 3.2, 3.7]"
     ]
    },
    {
     "cell_type": "code",
     "collapsed": false,
     "input": [
      "# -*- coding: utf-8 -*-\n",
      "import math\n",
      "def frange(start = 0, stop = 0, step = 0) :\n",
      "    first = 0 #\ucd08\uae30 \uc22b\uc790\n",
      "    count = 0 \n",
      "    mul = 1 # \uacf1\uc148\n",
      "    if stop == 0 and step == 0: # \ub9cc\uc57d stop\uacfc step\uc774 0 \uc77c\ub54c\n",
      "        while(1) :\n",
      "            if start - math.ceil(start) < 1 and start > 1 : # start\uac00 \uc18c\uc218\uc77c\ub54c, \uc815\uc218 - \uc18c\uc218\uac00 1\ubcf4\ub2e4 \uc791\uace0 start\uac00 1\ubcf4\ub2e4 \ud074 \ub54c  \n",
      "                break\n",
      "            start *= 10 # *10\n",
      "            count += 1 #count \uc99d\uac00\n",
      "        for i in range(0, count) : #mul \uc774 \uacf1\ud55c \uacb0\uacfc\n",
      "            mul *= 10\n",
      "            \n",
      "        L = []\n",
      "        while(first < start) : # \ub9cc\uc57d \ucd08\uae30\uac12\ubcf4\ub2e4 start\uac00 \ub354 \uc791\uc73c\uba74\n",
      "            L.append(first / float(mul)) # \uacf1\ud55c\uac83\uc744 \ub2e4\uc2dc \ub098\ub204\uc5b4\uc900\ub2e4.\n",
      "            first += 0.1*mul # 0.1\uc5d0\ub2e4 mul\uc744 \uacf1\ud558\uc5ec \uc900\ub2e4.\n",
      "        print L\n",
      "            \n",
      "    elif step == 0 : # \ub9cc\uc57d step\uc774 0 \uc77c\ub54c\n",
      "        while(1) :\n",
      "            if start - math.ceil(start) < 1 and start > 1 : # start\uac00 \uc18c\uc218\uc77c\ub54c, \uc815\uc218 - \uc18c\uc218\uac00 1\ubcf4\ub2e4 \uc791\uace0 start\uac00 1\ubcf4\ub2e4 \ud074 \ub54c  \n",
      "                break\n",
      "            start *= 10 # *10\n",
      "            stop *= 10\n",
      "            count += 1 #count \uc99d\uac00\n",
      "        for i in range(0, count) : #mul \uc774 \uacf1\ud55c \uacb0\uacfc\n",
      "            mul *= 10\n",
      "            \n",
      "        L = []\n",
      "        while(start < stop) : # \ub9cc\uc57d start\ubcf4\ub2e4 stop\uc774 \ub354 \uc791\uc73c\uba74\n",
      "            L.append(start / float(mul)) # \uacf1\ud55c\uac83\uc744 \ub2e4\uc2dc \ub098\ub204\uc5b4\uc900\ub2e4.\n",
      "            start += 0.1*mul # 0.1\uc5d0\ub2e4 mul\uc744 \uacf1\ud558\uc5ec \uc900\ub2e4.\n",
      "        print L\n",
      "        \n",
      "        \n",
      "    else :\n",
      "        while(1) :\n",
      "            if start - math.ceil(start) < 1 and start > 1 :# start\uac00 \uc18c\uc218\uc77c\ub54c, \uc815\uc218 - \uc18c\uc218\uac00 1\ubcf4\ub2e4 \uc791\uace0 start\uac00 1\ubcf4\ub2e4 \ud074 \ub54c  \n",
      "                break\n",
      "            start *= 10 # *10\n",
      "            stop *= 10\n",
      "            count += 1 #count \uc99d\uac00\n",
      "        for i in range(0, count) : #mul \uc774 \uacf1\ud55c \uacb0\uacfc\n",
      "            mul *= 10\n",
      "            \n",
      "        L = []\n",
      "        while(start < stop) :# \ub9cc\uc57d start\ubcf4\ub2e4 stop\uc774 \ub354 \uc791\uc73c\uba74\n",
      "            L.append(start / float(mul)) # \uacf1\ud55c\uac83\uc744 \ub2e4\uc2dc \ub098\ub204\uc5b4\uc900\ub2e4.\n",
      "            start += step*mul # step\uc5d0\ub2e4 mul\uc744 \uacf1\ud558\uc5ec \uc900\ub2e4.\n",
      "        print L\n",
      "        \n",
      "frange(0.5)\n",
      "print\n",
      "frange(1.0, 2.0)\n",
      "print\n",
      "frange(2.2, 4.0, 0.5)"
     ],
     "language": "python",
     "metadata": {},
     "outputs": [
      {
       "output_type": "stream",
       "stream": "stdout",
       "text": [
        "[0.0, 0.1, 0.2, 0.3, 0.4]\n",
        "\n",
        "[1.0, 1.1, 1.2, 1.3, 1.4, 1.5, 1.6, 1.7, 1.8, 1.9]\n",
        "\n",
        "[2.2, 2.7, 3.2, 3.7]\n"
       ]
      }
     ],
     "prompt_number": 4
    },
    {
     "cell_type": "markdown",
     "metadata": {},
     "source": [
      "\ub0b4\ub9bc \ud568\uc218 math.ceil()\uc744 \uc0ac\uc6a9\ud558\uae30\uc704\ud558\uc5ec import math\ub97c \ud574\uc90d\ub2c8\ub2e4. \uadf8 \ud6c4, 3\uac00\uc9c0 \uacbd\uc6b0( start\ub9cc\uc788\uc744\uc2dc, start\uc640 stop\ub9cc \uc788\uc744\uc2dc, \ubaa8\ub450 \uc788\uc744\uc2dc\ub85c )\ub098\ub204\uc5b4 \uc90d\ub2c8\ub2e4. \uadf8\ub0e5 0.1\uc744 \ub354\ud55c \uac12\uc744 \ub9ac\uc2a4\ud2b8\uc5d0 \ucd94\uac00\ud558\uc9c0 \uc54a\uace0 \uc77c\uc77c\ud788 \uacf1\ud588\ub2e4\uac00 \uc18c\uc218\ub85c \ub098\ub204\uc5b4\uc900 \uc774\uc720\ub294 float\uc774\ub77c \ubd80\ub3d9\uc18c\uc218\uc810 \ub54c\ubb38\uc5d0 0.300000004 \uc774\ub7f0\uc2dd\uc73c\ub85c \uc815\ud655\ud558\uac8c \uac12\uc774 \ub098\uc624\uc9c0 \uc54a\uae30 \ub584\ubb38\uc785\ub2c8\ub2e4. \uc54c\uace0\ub9ac\uc998\uc740 \uc704\uc5d0 \uc8fc\uc11d\uc73c\ub85c \uc124\uba85\ud558\uc600\uc2b5\ub2c8\ub2e4. "
     ]
    },
    {
     "cell_type": "markdown",
     "metadata": {},
     "source": [
      " "
     ]
    },
    {
     "cell_type": "markdown",
     "metadata": {},
     "source": [
      " "
     ]
    },
    {
     "cell_type": "markdown",
     "metadata": {},
     "source": [
      "### [4\ubc88 \ubb38\uc81c] \uac00\ubcc0\uc778\uc218\ub97c \ubc1b\ub294 \ud568\uc218 sum()\uc744 \ub2e4\uc74c\uacfc \uac19\uc740 \uc870\uac74\uc744 \ucc38\uace0\ud558\uc5ec \uad6c\ud604\ud558\uc2dc\uc624"
     ]
    },
    {
     "cell_type": "markdown",
     "metadata": {},
     "source": [
      "- ####1) sum() \uc0ac\uc6a9 \uc608\n",
      "    - sum()\n",
      "        - 0\n",
      "    - sum(1, 2)\n",
      "        - 3\n",
      "    - sum(1, 2, 3, 4, 5)\n",
      "        - 15\n",
      "    - sum(1, 5, 7, 2, -10)\n",
      "        - 5"
     ]
    },
    {
     "cell_type": "code",
     "collapsed": false,
     "input": [
      "def sum(a =0, *arg) :\n",
      "    result = a\n",
      "    for i in range(0, len(arg)) :\n",
      "        result += arg[i]\n",
      "    print result\n",
      "    \n",
      "sum()\n",
      "sum(1,2)\n",
      "sum(1,2,3,4,5)\n",
      "sum(1,5,7,2,-10)"
     ],
     "language": "python",
     "metadata": {},
     "outputs": [
      {
       "output_type": "stream",
       "stream": "stdout",
       "text": [
        "0\n",
        "3\n",
        "15\n",
        "5\n"
       ]
      }
     ],
     "prompt_number": 5
    },
    {
     "cell_type": "markdown",
     "metadata": {},
     "source": [
      "a\ub294 \ub514\ud3f4\ud2b8\uac12\uc73c\ub85c 0\uc744 \uc8fc\uace0 arg\ub294 \ud29c\ud50c\ub85c \uc0dd\uc131\ub418\ubbc0\ub85c for\ubb38\uc744 \ud1b5\ud558\uc5ec \uadf8 \uac12\uc744 \uacc4\uc18d \ub354\ud558\uc5ec \uc90d\ub2c8\ub2e4.\n",
      "\uadf8 \uacb0\uacfc, \uc544\ubb34\uac12\uc774 \uc8fc\uc5b4\uc9c0\uc9c0 \uc54a\uc744 \ub584\uc5d0\ub294 0\uac12\uc774 \ucd9c\ub825\ub418\uace0 (1, 2)\uac00 \uc8fc\uc5b4\uc84c\uc744 \ub54c\uc5d0\ub294 1\uacfc 2\ub97c \ub354\ud55c \uac12\uc774, (1,2,3,4,5)\uc77c\ub584\ub294 \uc5ed\uc2dc 1,2,3,4,5 \ubaa8\ub450 \ub354\ud55c \uac12\uc774 \ucd9c\ub825\ub418\uac8c \ub429\ub2c8\ub2e4. "
     ]
    },
    {
     "cell_type": "markdown",
     "metadata": {},
     "source": [
      "  "
     ]
    },
    {
     "cell_type": "markdown",
     "metadata": {},
     "source": [
      "  "
     ]
    },
    {
     "cell_type": "markdown",
     "metadata": {},
     "source": [
      "### [5\ubc88 \ubb38\uc81c] \uc5ec\ub7ec \ub2e8\uc5b4\ub85c \uc774\ub8e8\uc5b4\uc9c4 \ubb38\uc790\uc5f4\uc744 \uc785\ub825\ubc1b\uc544 \uac01 \ub2e8\uc5b4\uc758 \uccab\uae00\uc790\ub85c \uc774\ub8e8\uc5b4\uc9c4 \ub2e8\uc5b4\ub97c \ub300\ubb38\uc790\ub85c \ucd9c\ub825\ud558\ub294 myinitial() \ud568\uc218\ub97c \ub2e4\uc74c \uc870\uac74\uc744 \ucc38\uace0\ud558\uc5ec \uc791\uc131\ud558\uc2dc\uc624."
     ]
    },
    {
     "cell_type": "markdown",
     "metadata": {},
     "source": [
      "- 1) split, map, join \ud568\uc218\ub97c \ubaa8\ub450 \uc774\uc6a9\ud574\uc57c \ud55c\ub2e4.\n",
      "- 2) myinitial() \ud568\uc218 \uc0ac\uc6a9 \uc608\n",
      "    - myinitial(\"as soon as possible\")\n",
      "        - ASAP"
     ]
    },
    {
     "cell_type": "code",
     "collapsed": false,
     "input": [
      "def myinitial(string) :\n",
      "    temp = []\n",
      "    string = string.split() #split \ud568\uc218 \uc774\uc6a9\n",
      "    for i in range(0, len(string)) :\n",
      "        string[i] = string[i].title() # \uac01 \uccab\ubb38\uc790 \ub300\ubb38\uc790\ub85c \ubcc0\ud658\n",
      "        temp += string[i][0]\n",
      "    temp = ''.join(temp)\n",
      "    return temp\n",
      "    \n",
      "initial = map(myinitial, [\"as soon as possible\"])\n",
      "print initial[0]"
     ],
     "language": "python",
     "metadata": {},
     "outputs": [
      {
       "output_type": "stream",
       "stream": "stdout",
       "text": [
        "ASAP\n"
       ]
      }
     ],
     "prompt_number": 6
    },
    {
     "cell_type": "markdown",
     "metadata": {},
     "source": [
      "myinitial\ud568\uc218\ub97c \uc0b4\ud3b4\ubcf4\uba74 \ucc98\uc74c string = string.split()\uc744 \ud1b5\ud558\uc5ec \ubb38\uc790\uc5f4\uc744 \ub9ac\uc2a4\ud2b8\ub85c \ubcc0\ud658\ud558\uc5ec \uc90d\ub2c8\ub2e4.\n",
      "\uadf8\ub9ac\uace0 string[i].title()\uc744 \ud1b5\ud558\uc5ec \uac01 \ud0c0\uc774\ud2c0 \ub9e8 \uc55e\uc790\ub9ac \uc989 a s a p \ub97c \ub300\ubb38\uc790\ub85c \ubc14\uafb8\uc5b4 \uc90d\ub2c8\ub2e4. \uadf8\ub9ac\uace0 temp += string[i][0]\uc744 \ud1b5\ud558\uc5ec \ub300\ubb38\uc790\ub85c \ubc14\ub010 \uc55e\uc790\ub9ac ASAP\ub97c \uc800\uc7a5\ud558\uc5ec \uc8fc\uace0 join\uc744 \ud1b5\ud558\uc5ec \ud55c \ubb38\uc790\ub85c \ud569\uccd0\uc900\ub4a4 \ub9ac\ud134 \uc2dc\ucf1c \uc90d\ub2c8\ub2e4.\n",
      "\ub610\ud55c map\uc744 \ud1b5\ud558\uc5ec \ubb38\uc790\uc5f4\uc744 \ub9ac\uc2a4\ud2b8\ub85c \ubc1b\uc740 \ub4a4, \ubc18\ud658\uac12 \ub9ac\uc2a4\ud2b8 ['ASAP']\ub97c initial[0]\uc744 \ud574\uc90c\uc73c\ub85c\uc368 \uc77c\ubc18 \ud615\uc2dd\uc73c\ub85c \ucd9c\ub825\ud558\uc5ec \uc90d\ub2c8\ub2e4."
     ]
    },
    {
     "cell_type": "markdown",
     "metadata": {},
     "source": [
      "  "
     ]
    },
    {
     "cell_type": "markdown",
     "metadata": {},
     "source": [
      "  "
     ]
    },
    {
     "cell_type": "markdown",
     "metadata": {},
     "source": [
      "### [6\ubc88 \ubb38\uc81c] \uc74c\uc774 \uc544\ub2cc \uc815\uc218 n\ub97c \uc785\ub825\ubc1b\uc73c\uba74 n! (factorial)\uc744 \uacc4\uc0b0\ud558\ub294 myfact() \ud568\uc218\ub97c \uc7ac\uadc0\uc801 \ud568\uc218\ub85c \uad6c\ud604\ud558\uc2dc\uc624."
     ]
    },
    {
     "cell_type": "code",
     "collapsed": false,
     "input": [
      "def myfect(n) :\n",
      "    if n < 0 :\n",
      "        return \"not negative number\"\n",
      "    elif n == 0 : \n",
      "        return \"1\"\n",
      "    elif n == 1 :\n",
      "        return 1\n",
      "    else :\n",
      "        return n * myfect(n-1)\n",
      "        \n",
      "print myfect(5)\n",
      "print myfect(0)\n",
      "print myfect(-1)"
     ],
     "language": "python",
     "metadata": {},
     "outputs": [
      {
       "output_type": "stream",
       "stream": "stdout",
       "text": [
        "120\n",
        "1\n",
        "not negative number\n"
       ]
      }
     ],
     "prompt_number": 11
    },
    {
     "cell_type": "markdown",
     "metadata": {},
     "source": [
      "myfect \ud568\uc218\ub97c \ubcf4\uba74 \ub9cc\uc57d n\uc774 0\ubcf4\ub2e4 \uc791\uc73c\uba74 \uc624\ub958 \uac12\uc744 \ucd9c\ub825 \ud558\uc5ec \uc90d\ub2c8\ub2e4.\n",
      "\uadf8\ub2e4\uc74c n\uc774 0\uc774\uba74 0! = 1\uc774\ubbc0\ub85c 1\uac12\uc744 \ucd9c\ub825\ud558\uc5ec \uc90d\ub2c8\ub2e4.\n",
      "\uadf8\ub9ac\uace0 n\uc774 1\uc774\uba74 \uc5ed\uc2dc 1\uac12\uc744 \ucd9c\ub825\ud558\uc5ec \uc8fc\uace0 \n",
      "n\uc774 0\ubcf4\ub2e4 \ud074\ub54c\uc5d0\ub294 n\uc744 \uacf1\ud55c\ub4a4\uc5d0 n\uc5d0\uc11c 1\ube80\uc218\ub97c \ub2e4\uc2dc myfect\ud568\uc218\uc5d0 \uc9d1\uc5b4\ub123\uc5b4 \uc8fc\uc5b4 \uc7ac\uadc0\uc801\uc73c\ub85c \ud45c\ud604\ud569\ub2c8\ub2e4. \n",
      "\uc989 n\uc744 5\ub85c \ub123\uc73c\uba74 5*myfect(4)\ub85c \ub9ac\ud134\ub418\uace0 myfect(4)\ub97c \ud1b5\ud558\uc5ec 5*(4*myfect(3)) \uc774\ub418\uace0 myfect(3)\uc744 \ud1b5\ud558\uc5ec 5*4*(3*myfect(2))\uac00 \ub418\uace0 myfect(2)\ub97c \ud1b5\ud558\uc5ec 5*4*3*(2*myfect(1))\uc774\ub418\uace0 myfect(1)\uc774 1\uc774\ubbc0\ub85c \uacb0\uacfc\uac12\uc740 5*4*3*2*1 = 120 \uc774 \ub098\uc635\ub2c8\ub2e4."
     ]
    },
    {
     "cell_type": "markdown",
     "metadata": {},
     "source": [
      " "
     ]
    },
    {
     "cell_type": "markdown",
     "metadata": {},
     "source": [
      "  "
     ]
    },
    {
     "cell_type": "markdown",
     "metadata": {},
     "source": [
      "### [7\ubc88 \ubb38\uc81c] (\uc11c\uc220\ud615) import string \uacfc from string import * \uc758 \ucc28\uc774\uc810\uc744 \uc124\uba85\ud558\uc2dc\uc624."
     ]
    },
    {
     "cell_type": "markdown",
     "metadata": {},
     "source": [
      "import string \uc740 \uac00\uc7a5 \uae30\ubcf8\uc801\uc778 \ud615\ud0dc\uc774\ub2e4. \uadf8\ub9ac\uace0 \ub610\ud55c \uc774\ub984\uacf5\uac04 string\uc774 \uadf8\ub300\ub85c \uc720\uc9c0\ub418\ubbc0\ub85c string.lower()\uc774\ub7f0\uc2dd\uc73c\ub85c \uc790\uaca9 \uc774\ub984\uc744 \uc0ac\uc6a9 \ud569\ub2c8\ub2e4. \ud558\uc9c0\ub9cc from string import *\ub294 \ud574\ub2f9 \ubaa8\ub4c8\uc5d0 \uc874\uc7ac\ud558\ub294 '___'\ub85c \uc2dc\uc791\ub418\ub294 \uc774\ub984\ub4e4\uc744 \uc81c\uc678\ud55c \ubaa8\ub4e0 \uc774\ub984\uc744 \ud604\uc7ac \uc774\ub984\uacf5\uac04\uc73c\ub85c \ubd88\ub7ec\ub4e4\uc785\ub2c8\ub2e4. \uadf8\ub798\uc11c string.lower('ABC')\uc774\ub7f0\uc2dd\uc73c\ub85c \ub9d0\uace0 lower('ABC')\ub85c \ubc14\ub85c \ud45c\ud604\ud560 \uc218 \uc788\uc2b5\ub2c8\ub2e4."
     ]
    },
    {
     "cell_type": "markdown",
     "metadata": {},
     "source": [
      "  "
     ]
    },
    {
     "cell_type": "markdown",
     "metadata": {},
     "source": [
      "  "
     ]
    },
    {
     "cell_type": "markdown",
     "metadata": {},
     "source": [
      "### [8\ubc88 \ubb38\uc81c] \uc774\uc804 Assignment 3\uc758 \ub9c8\uc9c0\ub9c9 \ubb38\uc81c\ub294 \uc6f9 URL\ub85c \uc9c0\uc815\ub41c \uc6f9\ud398\uc774\uc9c0\ub97c \ubb38\uc790\uc5f4\ub85c \uac00\uc838\uc640 \ubaa8\ub4e0 HTML \ud0dc\uadf8 \ubc0f CSS\uc640 Javascript\ub97c \uc81c\uc678\ud55c \uc21c\uc218 \ud14d\uc2a4\ud2b8\ub97c \uc5bb\uc5b4\ub0b4\uace0 \uadf8 \uc548\uc5d0 \uc874\uc7ac\ud558\ub294 \ub2e8\uc5b4\ub97c \ucd94\ucd9c\ud558\uc5ec \uac01 \ub2e8\uc5b4\ub4e4\uc5d0 \ub300\ud574 \ucd9c\ud604\ube48\ub3c4\ub97c \uc0ac\uc804\ud615\ud0dc({'world': 2, 'hello': 1, 'python': 1})\ub85c \uc800\uc7a5\ud558\uc5ec \ucd9c\ub825\ud558\ub294 \uac83\uc774\uc5c8\ub2e4. \uc774\ubc88\uc5d0\ub294 Assignment 3\ub97c \ud655\uc7a5\ud558\uc5ec \ub2e4\uc74c\uacfc \uac19\uc740 \uc870\uac74\uc744 \ub9cc\uc871\ud558\ub3c4\ub85d \uad6c\ud604\ud558\uc2dc\uc624."
     ]
    },
    {
     "cell_type": "markdown",
     "metadata": {},
     "source": [
      "- 1) \uac01 URL\ub85c \uc9c0\uc815\ub41c \uc6f9\ud398\uc774\uc9c0\uc758 HTML \uc18c\uc2a4\ub97c \ud30c\uc77c\ub85c \uc800\uc7a5\ud558\uc2dc\uc624.\n",
      "    - URL\uc774 http://URL \uc774\ub77c\uba74 \ud30c\uc77c\uba85\uc740 URL.html \uc774\ub2e4.\n",
      "    - \uc608: URL\uc774 http://www.koreatech.ac.kr \uc774\ub77c\uba74 \ud30c\uc77c\uba85\uc740 www.koreatech.ac.kr.html \uc774\ub2e4."
     ]
    },
    {
     "cell_type": "code",
     "collapsed": false,
     "input": [
      "import string\n",
      "import urllib\n",
      "\n",
      "source = urllib.urlopen(\"http://cse.kut.ac.kr/\").read()\n",
      "cse = open(\"cse.kut.ac.kr.html\", 'w')\n",
      "cse.write(source)\n",
      "source = urllib.urlopen(\"http://www.naver.com/\").read()\n",
      "naver = open(\"www.naver.com.html\", 'w')\n",
      "naver.write(source)\n",
      "source = urllib.urlopen(\"https://www.google.co.kr/\").read()\n",
      "google = open(\"www.google.co.kr.html\", 'w')\n",
      "google.write(source)\n",
      "source = urllib.urlopen(\"http://www.nate.com/\").read()\n",
      "nate = open(\"www.nate.com.html\", 'w')\n",
      "nate.write(source)\n",
      "source = urllib.urlopen(\"http://www.koreatech.ac.kr/\").read()\n",
      "koreatech = open(\"www.koreatech.ac.kr.html\", 'w')\n",
      "koreatech.write(source)"
     ],
     "language": "python",
     "metadata": {},
     "outputs": [],
     "prompt_number": 1
    },
    {
     "cell_type": "markdown",
     "metadata": {},
     "source": [
      "source\uc5d0\ub2e4 \uc18c\uc2a4\ub97c \uc800\uc7a5\ud558\uace0 \ud30c\uc77c \uc774\ub984\uc744 \uc4f0\uae30 \ud615\ud0dc\ub85c \uc5f0\ub4a4, write\ub97c \ud1b5\ud558\uc5ec \uc800\uc7a5\ud558\uc5ec \uc90d\ub2c8\ub2e4."
     ]
    },
    {
     "cell_type": "markdown",
     "metadata": {},
     "source": [
      " "
     ]
    },
    {
     "cell_type": "markdown",
     "metadata": {},
     "source": [
      " "
     ]
    },
    {
     "cell_type": "markdown",
     "metadata": {},
     "source": [
      "- 2) \ub2e8\uc5b4\uc758 \ucd9c\ud604\ube48\ub3c4\uac00 \ub2f4\uae34 \uc0ac\uc804 \uac1d\uccb4\ub97c \uc704 HTML \uc18c\uc2a4 \ud30c\uc77c\uacfc \ub3d9\uc77c\ud55c \ud3f4\ub354\uc5d0 \ud30c\uc77c\ub85c \uc800\uc7a5\ud558\uc2dc\uc624.\n",
      "    - \uad50\uc7ac 11-2 \ud53c\ud074\ub9c1 \ubc29\ubc95\uc744 \ud65c\uc6a9\ud558\uc2dc\uc624.\n",
      "    - URL\uc774 http://URL \uc774\ub77c\uba74 \ud30c\uc77c\uba85\uc740 URL.words.frequency \uc774\ub2e4.\n",
      "    - \uc608: URL\uc774 http://www.koreatech.ac.kr \uc774\ub77c\uba74 \ud30c\uc77c\uba85\uc740 www.koreatech.ac.kr.words.frequency \uc774\ub2e4.\n",
      "- 3) \ucd5c\uc18c 5\uac1c \uc774\uc0c1\uc758 \uc6f9 \uc0ac\uc774\ud2b8\uc5d0 \ub300\ud55c HTML \uc18c\uc2a4 \ud30c\uc77c\uacfc \ub2e8\uc5b4 \ucd9c\ud604\ube48\ub3c4 \ud30c\uc77c\uc744 \uc800\uc7a5\ud558\uc2dc\uc624.\n",
      "    - \uc989, \ucd1d 10\uac1c\uc758 \ud30c\uc77c\uc744 \ub3d9\uc77c\ud55c \ud3f4\ub354\uc5d0 \uc0dd\uc131\ud558\uc2dc\uc624."
     ]
    },
    {
     "cell_type": "code",
     "collapsed": false,
     "input": [
      "import string\n",
      "import urllib\n",
      "import pickle\n",
      "\n",
      "def test(source, site) :       \n",
      "    len_source = len(source)\n",
      "    print \"Initial length of source:\", len_source\n",
      "    \n",
      "    source_new = None\n",
      "    i = 0\n",
      "    while (i < len_source):\n",
      "   \tfound = False\n",
      "   \tif (found != True and source[i] == \"<\" and source[i+1 : i+7].lower() == \"script\"):\n",
      "  \t\tfound = True;\n",
      "  \t\tj = i + 7;\n",
      "  \t\twhile (True):\n",
      " \t\t\tif (source[j] == \"<\" and source[j+1] == \"/\" and source[j+2 : j+8].lower() == \"script\"):\n",
      "    \t\t\t\t#print \"found - script\"\n",
      "    \t\t\t\tsource = source[:i] + ' ' + source[j+9:]\n",
      "    \t\t\t\tbreak\n",
      " \t\t\tj = j + 1\n",
      " \t\t\tif (j > len_source):\n",
      "    \t\t\t\tbreak\n",
      "  \t\tlen_source = len(source)\n",
      "   \ti = i + 1\n",
      "    \n",
      "    len_source = len(source)\n",
      "    #print len_source\n",
      "    \n",
      "    i = 0\n",
      "    while (i < len_source):\n",
      "   \tfound = False\n",
      "   \tif (found != True and source[i] == \"<\" and source[i+1 : i+6].lower() == \"style\"):\n",
      "  \t\tfound = True;\n",
      "  \t\tj = i + 6;\n",
      "  \t\twhile (True):\n",
      " \t\t\tif (source[j] == \"<\" and source[j+1] == \"/\" and source[j+2 : j+7].lower() == \"style\"):\n",
      "    \t\t\t\t#print \"found - style\"\n",
      "    \t\t\t\tsource = source[:i] + ' ' + source[j+8:]\n",
      "    \t\t\t\tbreak\n",
      " \t\t\tj = j + 1\n",
      " \t\t\tif (j > len_source):\n",
      "    \t\t\t\tbreak\n",
      "  \t\tlen_source = len(source)\n",
      "   \ti = i + 1\n",
      "    \n",
      "    len_source = len(source)\n",
      "    #print len_source\n",
      "    \n",
      "    i = 0\n",
      "    while (i < len_source):\n",
      "   \tfound = False\n",
      "   \tif (found != True and source[i] == \"<\"):\n",
      "  \t\tfound = True;\n",
      "  \t\tj = i + 1;\n",
      "  \t\twhile (True):\n",
      " \t\t\tif (source[j] == \">\"):\n",
      "    \t\t\t\t#print \"found - HTML tag\"\n",
      "    \t\t\t\tsource = source[:i] + ' ' + source[j+1:]\n",
      "    \t\t\t\tbreak\n",
      " \t\t\tj = j + 1\n",
      " \t\t\tif (j > len_source):\n",
      "    \t\t\t\tbreak\n",
      "  \t\tlen_source = len(source)\n",
      "   \ti = i + 1\n",
      "    \n",
      "    len_source = len(source)\n",
      "    print \"Last length of source:\", len_source\n",
      "    \n",
      "    words = source.split()\n",
      "    \n",
      "    #for word in words:\n",
      "    #\tprint word\n",
      "    \n",
      "    print \"Total num of plain words:\", len(words)\n",
      "    \n",
      "    \n",
      "    blank_words = ' '.join(words)\n",
      "    L=string.punctuation #\ubaa8\ub4e0 \ud2b9\uc218\ubb38\uc790 #\ud2b9\uc218\ubb38\uc790\ub97c \uc544\ubb34\uac83\ub3c4 \uc5c6\ub294 \uac12\uc73c\ub85c \ubcc0\uacbd\n",
      "    special_letter=blank_words.translate(None,L)\n",
      "    K = special_letter.split()\n",
      "    \n",
      "    for i in range(0, len(K)) :\n",
      "        count = 1\n",
      "        for j in range(0, len(K)) :\n",
      "            if K[i] == K[j] :\n",
      "                count = count + 1\n",
      "        print \"%s:\" % K[i],\n",
      "        print count,\n",
      "        print ' ',\n",
      "    pickle.dump(K, site)\n",
      "    \n",
      "source = urllib.urlopen(\"http://cse.kut.ac.kr/\").read()\n",
      "cse = open('cse.kut.ac.kr.words.frequency', 'w')\n",
      "test(source, cse)\n",
      "source = urllib.urlopen(\"http://www.naver.com/\").read()\n",
      "naver = open(\"www.naver.com.words.frequency\", 'w')\n",
      "test(source, naver)\n",
      "source = urllib.urlopen(\"https://www.google.co.kr/\").read()\n",
      "google = open('www.google.co.kr.words.frequency', 'w')\n",
      "test(source, google)\n",
      "source = urllib.urlopen(\"http://www.nate.com/\").read()\n",
      "nate = open(\"www.nate.com.words.frequency\", 'w')\n",
      "test(source, nate)\n",
      "source = urllib.urlopen(\"http://www.koreatech.ac.kr/\").read()\n",
      "koreatech = open(\"www.koreatech.ac.kr.words.frequency\", 'w')\n",
      "test(source, koreatech)"
     ],
     "language": "python",
     "metadata": {},
     "outputs": [
      {
       "output_type": "stream",
       "stream": "stdout",
       "text": [
        "Initial length of source: 36275\n",
        "Last length of source: 5407\n",
        "Total num of plain words: 200\n",
        "\ucef4\ud4e8\ud130\uacf5\ud559\ubd80: 4   \ud648\ud398\uc774\uc9c0: 2   \ucef4\ud4e8\ud130\uacf5\ud559\ubd80: 4   \uad50\uc721\ubaa9\ud45c: 2   \ucc3e\uc544\uc624\uc2dc\ub294\uae38: 2   \uc878\uc5c5\uc791\ud488: 3   \uacf5\ud559\uc124\uacc4: 3   \ucde8\uc5c5\uc870\uc0ac2014: 2   \ucde8\uc5c5\uc870\uc0ac2013: 2   \uad50\uc218\uc9c4: 2   \ud559\uc0dd\ud68c: 2   \uc878\uc5c5\uc774\uc218\uc694\uac74: 2   \ucef4\ud4e8\ud130SW: 2   \ucef4\ud4e8\ud130HW: 2   \ucef4\ud4e8\ud130\uc2a4\ub9c8\ud2b8IT: 2   \ucef4\ud4e8\ud130\uc2dc\uc2a4\ud15c\uc751\uc6a9: 2   \uc7a5\ud559\uc81c\ub3c4: 2   \ubaa8\uc9d1\uc694\uac15: 2   \uc785\uc2dcQA: 2   \uacf5\uc9c0\uc0ac\ud56d: 2   \uc790\uc720\uac8c\uc2dc\ud310: 2   \uc775\uba85\uac8c\uc2dc\ud310: 2   \ucde8\uc5c5\uac8c\uc2dc\ud310: 2   \ub3d9\ubb38\uac8c\uc2dc\ud310: 2   \uc0ac\uc9c4\uac8c\uc2dc\ud310: 2   \ud559\ubd80\uc0ac\uc9c4\uac94\ub7ec\ub9ac: 2   \uace0\uc7a5\uc2e0\uace0\uac8c\uc2dc\ud310: 2   \uac15\uc758\uc790\ub8cc\uc2e4: 2   \uc77c\ubc18\uc790\ub8cc\uc2e4: 2   \uc11c\uc2dd\ubc0f\uc591\uc2dd\uc790\ub8cc\uc2e4: 2   \ub300\ud559\uc6d0\uc18c\uac1c: 2   \uc5f0\uad6c\uc2e4\uc18c\uac1c: 2   \ub300\ud559\uc6d0\uac8c\uc2dc\ud310: 2   \uacf5\ud559\uc778\uc99d\uc548\ub0b4: 2   \uacf5\ud559\uc778\uc99d\uac8c\uc2dc\ud310: 2   C: 2   20140327: 2   \uacf5\ud559\uc124\uacc4: 3   \ud3ec\uc2a4\ud130\ubc1c\ud45c\uacbd\uc9c4\ub300\ud68c: 2   \ud22c\ud45c: 2   20131210: 2   2013\ub144: 2   \uc878\uc5c5\uc791\ud488: 3   \ube0c\ub85c\uc154: 2   20131007: 2   \uc81c: 2   4\ub300: 2   \ucef4\ud4e8\ud130\uacf5\ud559\ubd80: 4   \ud559\ud68c\uc7a5\ubd80\ud559: 2   20121105: 2   \ub514\uc9c0\ud138: 2   \uc2dc\uc2a4\ud15c: 2   \uc124\uacc41: 2   \uc2e4\uc2b5\uc870\uad50: 2   20120909: 2   2014: 3   13rh: 2   HUST: 2   Hacking: 2   Festival: 2   20141112: 4   2014: 3   \ud654\uc774\ud2b8\ud587: 2   \ucf58\ud14c\uc2a4\ud2b8: 2   20141105: 2   \uc544\uc774\ub514\uc2a4\uc804\uc790\uc2e0\ubb38: 2   \uc81c6\ud68c: 2   IDIS: 2   20141031: 3   \u261e: 2   \ucef4\ud4e8\ud130: 2   \uacf5\ud559\ubd80: 2   \ud559\uc0dd\ub4e4\uc744: 2   \uc704\ud55c: 2   20141027: 2   \ub370\uc774\ud130\ubca0\uc774\uc2a4: 2   \ud504\ub85c\uadf8\ub798\ubc0d: 3   \uc911\uac04\uace0: 2   20141020: 3   \ud504\ub85c\uadf8\ub7a8: 2   \uac1c\ubc1c\uc790: 2   \ubaa8\uc9d1: 3   20141031: 3   \uc218\uc815: 2   \uc8fc\ucf5c\ub7ec\ub178\ube44\ud0c0: 2   \ucc44\uc6a9: 3   \uc548\ub0b4: 2   20141020: 3   \ucf64\ud14d\uc2dc\uc2a4\ud15c: 2   \uc2e0\uc785\uc0ac\uc6d0: 2   \ubaa8\uc9d1: 3   20141016: 2   2014\ub144: 2   Tmoney\ud55c\uad6d\uc2a4\ub9c8\ud2b8\uce74\ub4dc: 2   20141014: 4   \uc138\ub9bc\ud2f0\ub124\uc2a4\uc9c0\uc8fc: 2   \uc778\ub825: 2   \ucc44\uc6a9: 3   \uacf5\uace0: 2   20140930: 2   20141014: 4   20141014: 4   1: 2   20140924: 2   \ud2b9\uc131\ud654: 8   2\ucc28: 2   \uc2e4\ubb34\ud504\ub85c\uadf8\ub798\ubc0d: 2   \uac15: 2   20141114: 3   \ud2b9\uc131\ud654: 8   E2FESTA: 2   \uc804\uc2dc\ud68c: 2   \ucc38\uad00: 2   \uc2e0: 2   20141114: 3   \ud2b9\uc131\ud654: 8   \ud574\uc678\uc18c\ud504\ud2b8\uc6e8\uc5b4\uc5f0\uc218: 2   \uc120: 2   20141113: 3   \ud2b9\uc131\ud654: 8   TOEIC: 2   OPIc: 2   Toeic: 2   Spe: 2   20141113: 3   \ud2b9\uc131\ud654: 8   \ud574\uc678\uae30\uc220\ubd09\uc0ac: 2   \uacf5\uace0\uce84\ubcf4: 2   20141112: 4   \ud2b9\uc131\ud654: 8   IT\uc735\ud569: 3   \ud504\ub85c\uadf8\ub798\ubc0d: 3   \uacbd\uc2dc: 2   20141112: 4   \ud2b9\uc131\ud654: 8   IT\uc735\ud569: 3   \uc544\uc774\ub514\uc5b4: 2   \uacbd\uc9c4\ub300: 2   20141111: 2   700\u3392: 2   \uc8fc\ud30c\uc218: 2   20\u3392: 2   \ud3ed: 2   \ud655\uc815\uc73c\ub85c: 2   20141116: 6   \uc774\uc288\ubd84\uc11d\uc804\ubb38\uac00\ub4e4: 2   quotUHD: 2   \ubc29\uc1a1: 2   \ub3c4: 2   20141116: 6   \uc2a4\ub9c8\ud2b8\uc6cc\uce58: 2   \uc2dc\ub300: 2   \uc5f4\ub9ac\ub098\uc0bc\uc131\u00b7: 2   20141116: 6   \uc6b0\ub9ac: 2   LTE: 2   \uae30\uc220: 2   \ud574\uc678\ub85c: 3   \ud574\uc678\ub85c: 3   20141116: 6   \uc800\uac00: 2   \uce74\ub4dc: 2   \uaebc\ub0b8: 2   \uc0bc\uc131\uc804\uc790: 2   \uad00\uac74\uc740: 2   20141116: 6   "
       ]
      },
      {
       "output_type": "stream",
       "stream": "stdout",
       "text": [
        "Initial length of source: 79033\n",
        "Last length of source:"
       ]
      },
      {
       "output_type": "stream",
       "stream": "stdout",
       "text": [
        " 10121\n",
        "Total num of plain words: 740\n",
        "NAVER: 3   \ub274\uc2a4\uc2a4\ud0e0\ub4dc: 3   \ubc14\ub85c\uac00\uae30: 6   \uc8fc\uc81c\ubcc4\uce90\uc2a4\ud2b8: 2   \ubc14\ub85c\uac00\uae30: 6   \ud0c0\uc784\uc2a4\ud018\uc5b4: 3   \ubc14\ub85c\uac00\uae30: 6   \uc1fc\ud551\uce90\uc2a4\ud2b8: 3   \ubc14\ub85c\uac00\uae30: 6   \ub85c\uadf8\uc778: 4   \ubc14\ub85c\uac00\uae30: 6   \ub098\ub214\uae00\uaf34: 9   \uc124\uce58: 5   \uc548\ub0b4: 3   \ub124\uc774\ubc84: 15   \uba54\uc778\uc744: 3   \ub098\ub214\uae00\uaf34\ub85c: 3   \ubcf4\uae30: 5   \uc704\ud574\uc11c\ub294: 2   nbsp\ub098\ub214\uae00\uaf34\uc744: 2   \uc124\uce58: 5   \ud574\uc57c: 2   \ud569\ub2c8\ub2e4: 2   \ub098\ub214\uae00\uaf34\uc744: 3   \uc124\uce58\ud558\uc2dc\uaca0\uc2b5\ub2c8\uae4c: 3   \uc124\uce58: 5   \ucde8\uc18c: 3   \uac1c\uc778: 3   \ubc0f: 4   \uae30\uc5c5\uc744: 3   \ud3ec\ud568: 3   \ubaa8\ub4e0: 3   \uc0ac\uc6a9\uc790\uac00: 3   \ubb34\ub8cc\ub85c: 3   \uc0ac\uc6a9: 3   \uac00\ub2a5\ud569\ub2c8\ub2e4: 3   \ub098\ub214\uae00\uaf34: 9   \ub77c\uc774\uc13c\uc2a4: 3   \uc804\ubb38\ubcf4\uae30: 3   \ub808\uc774\uc5b4: 5   \ub2eb\uae30: 6   \ub098\ub214\uae00\uaf34: 9   \ud655\uc778: 2   \uc624\ub958: 2   \uace0\uac1d\ub2d8\uc758: 2   PC\uc5d0\uc11c: 2   \ub098\ub214\uae00\uaf34\uc774: 3   \ud655\uc778\ub418\uc9c0: 3   \uc54a\uc2b5\ub2c8\ub2e4: 3   \ub098\ub214\uae00\uaf34\ub85c: 3   \uba54\uc778\uc744: 3   \ubcf4\uae30\uc704\ud574\uc11c\ub294: 2   \ub098\ub214\uae00\uaf34: 9   \uc7ac\uc124\uce58: 2   \uac00: 2   \ud544\uc694\ud569\ub2c8\ub2e4: 2   \ub098\ub214\uae00\uaf34\uc744: 3   \ub2e4\uc2dc: 3   \uc124\uce58\ud558\uc2dc\uaca0\uc2b5\ub2c8\uae4c: 3   \ub098\ub214\uae00\uaf34\uc774: 3   \ud655\uc778\ub418\uc9c0: 3   \uc54a\ub294: 2   \uc774\uc720\ub294: 2   \ub098\ub214\uae00\uaf34: 9   \ucd5c\ucd08\uc124\uce58\uac00: 2   \uc81c\ub300\ub85c: 2   \uc644\ub8cc\ub418\uc9c0: 2   \uc54a\uc740: 2   \uacbd\uc6b0: 2   \uc124\uce58\ub41c: 2   \ud3f0\ud2b8\ub97c: 2   \uc784\uc758\ub85c: 2   \uc0ad\uc81c\ud55c: 2   \uacbd\uc6b0\uc5d0: 2   \ubc1c\uc0dd\ud569\ub2c8\ub2e4: 2   \uc124\uce58: 5   \ucde8\uc18c: 3   \uac1c\uc778: 3   \ubc0f: 4   \uae30\uc5c5\uc744: 3   \ud3ec\ud568: 3   \ubaa8\ub4e0: 3   \uc0ac\uc6a9\uc790\uac00: 3   \ubb34\ub8cc\ub85c: 3   \uc0ac\uc6a9: 3   \uac00\ub2a5\ud569\ub2c8\ub2e4: 3   \ub098\ub214\uae00\uaf34: 9   \ub77c\uc774\uc13c\uc2a4: 3   \uc804\ubb38\ubcf4\uae30: 3   \ub808\uc774\uc5b4: 5   \ub2eb\uae30: 6   \ud648: 4   \uc720\ud615: 2   \uc120\ud0dd: 2   \ub124\uc774\ubc84: 15   \ud648: 4   \uac00\ubccd\uace0: 2   \ube60\ub978: 2   \uac80\uc0c9\ud648: 2   \ub124\uc774\ubc84SE: 2   \ub098\ub9cc\uc758: 2   \ub124\uc774\ubc84: 15   \ud648: 4   \ub124\uc774\ubc84me: 2   \ub124\uc774\ubc84: 15   \uc124\uc815: 2   \ub124\uc774\ubc84\ub97c: 2   \uc2dc\uc791\ud398\uc774\uc9c0\ub85c: 2   \ub124\uc774\ubc84: 15   \uc571: 4   \ub2e4\uc6b4\ub85c\ub4dc: 3   \ub124\uc774\ubc84: 15   \uc571\uc744: 2   \uc124\uce58\ud558\uc138\uc694: 2   \ub2e4\uc6b4\ub85c\ub4dcURL: 3   \ubb38\uc790\ubc1b\uae30: 3   \ub2e4\uc6b4\ub85c\ub4dcURL: 3   \ubb38\uc790\ubc1b\uae30: 3   \ud734\ub300\ud3f0\ubc88\ud638: 2   \uc785\ub825: 2   \ubcf4\ub0b4\uae30: 2   \uc785\ub825\ud558\uc2e0: 2   \ubc88\ud638\ub294: 2   \uc800\uc7a5\ub418\uc9c0: 2   \uc54a\uace0: 2   \uc804\uc1a1\uc740: 2   \ubb34\ub8cc\uc785\ub2c8\ub2e4: 2   \ub124\uc774\ubc84: 15   \uc571: 4   \uc9c0\ub3c4: 3   N\ub4dc\ub77c\uc774\ube0c: 2   \ubd81\uc2a4: 2   \ubba4\uc9c1: 4   \ub77c\uc778: 3   \uc571\uc2a4\ud1a0\uc5b4: 2   new: 2   \ub124\uc774\ubc84: 15   \uc571: 4   \ub2e4\uc6b4\ub85c\ub4dc: 3   \ub808\uc774\uc5b4: 5   \ub2eb\uae30: 6   \ud604\uc7ac: 3   \uc2dc\uc2a4\ud15c\uae00\uaf34: 2   \ub098\ub214\uae00\uaf34: 9   \uae00\uaf34\uc124\uc815: 3   \ub3c4\uc6c0\ub9d0: 8   \ub098\ub214\uae00\uaf34: 9   \ubbf8\ub9ac\ubcf4\uae30: 3   \ub124\uc774\ubc84: 15   \ud55c\uae00\ucea0\ud398\uc778: 2   \ub3c4\uc6c0\ub9d0: 8   \uae00\uaf34\uc124\uc815: 3   \ub3c4\uc6c0\ub9d0: 8   \ub2eb\uae30: 6   \ud328\ubc00\ub9ac: 2   \uc0ac\uc774\ud2b8: 4   \ud574\ud53c\ube48: 3   \uc96c\ub2c8\ubc84: 2   \ud55c\uac8c\uc784: 2   \uac80\uc0c9: 4   \ud1b5\ud569\uac80\uc0c9: 2   \ube14\ub85c\uadf8: 3   \uce74\ud398: 3   \uce74\ud398\uba85: 2   \uce74\ud398\uae00: 2   \uc9c0\uc2ddiN: 3   \ub274\uc2a4: 5   \uc0ac\uc774\ud2b8: 4   \uce74\ud14c\uace0\ub9ac: 2   \uc0ac\uc774\ud2b8: 4   \uc601\ud654: 5   \uc6f9\ubb38\uc11c: 2   \uc0ac\uc804: 3   \ubc31\uacfc\uc0ac\uc804: 2   \uc601\uc5b4\uc0ac\uc804: 2   \uc601\uc601\uc0ac\uc804: 2   \uad6d\uc5b4\uc0ac\uc804: 2   \uc77c\ubcf8\uc5b4\uc0ac\uc804: 2   \ud55c\uc790\uc0ac\uc804: 2   \uc6a9\uc5b4\uc0ac\uc804: 2   \ucc45: 4   \uc74c\uc545: 2   \uc804\ubb38\uc790\ub8cc: 2   \uc1fc\ud551: 3   \uc9c0\uc5ed: 3   \ub3d9\uc601\uc0c1: 2   \uc774\ubbf8\uc9c0: 2   \ub0b4PC: 2   \uc601\ud654: 5   \uc790\ub3d9\ucc28: 2   \uac8c\uc784: 3   \uac74\uac15: 2   \uc778\ubb3c: 2   \uae0d\uc815\ubd80\uc815\uac80\uc0c9: 2   \uac80\uc0c9: 4   \uc0dd\uac01\ud55c\ub300\ub85c: 2   \uac80\uc0c9\ud574: 2   \ubcf4\uc138\uc694: 3   Beta: 2   txt: 5   txt: 5   \ub3c4\uc6c0\ub9d0: 8   \uc2e0\uace0: 5   \uac80\uc0c9\uc5b4\uc800\uc7a5: 7   \ucf1c\uae30: 6   \uc790\ub3d9\uc644\uc131: 11   \ub044\uae30: 8   \ud604\uc7ac: 3   \uc790\ub3d9\uc644\uc131: 11   \uae30\ub2a5\uc744: 3   \uc0ac\uc6a9\ud558\uace0: 2   \uacc4\uc2ed\ub2c8\ub2e4: 2   \ub3c4\uc6c0\ub9d0: 8   \uc2e0\uace0: 5   \uac80\uc0c9\uc5b4\uc800\uc7a5: 7   \ucf1c\uae30: 6   \uc790\ub3d9\uc644\uc131: 11   \ub044\uae30: 8   \uc790\ub3d9\uc644\uc131: 11   \uae30\ub2a5\uc774: 6   \ud65c\uc131\ud654\ub418\uc5c8\uc2b5\ub2c8\ub2e4: 2   \ub3c4\uc6c0\ub9d0: 8   \uc2e0\uace0: 5   \uac80\uc0c9\uc5b4\uc800\uc7a5: 7   \ucf1c\uae30: 6   \uc790\ub3d9\uc644\uc131: 11   \ub044\uae30: 8   \uc790\ub3d9\uc644\uc131: 11   \uae30\ub2a5\uc774: 6   \uaebc\uc838: 4   \uc788\uc2b5\ub2c8\ub2e4: 5   \ub3c4\uc6c0\ub9d0: 8   \uc2e0\uace0: 5   \uac80\uc0c9\uc5b4\uc800\uc7a5: 7   \ucf1c\uae30: 6   \uc790\ub3d9\uc644\uc131: 11   \ucf1c\uae30: 6   \ucd5c\uadfc\uac80\uc0c9\uc5b4: 3   \ub0b4: 9   \uac80\uc0c9\uc5b4: 11   \ub0b4: 9   \uac80\uc0c9\uc5b4: 11   \ub4f1\ub85d: 3   txt: 5   date: 2   \uc0ad\uc81c: 5   intxt: 2   \ucd5c\uadfc\uac80\uc0c9\uc5b4: 3   \ub0b4\uc5ed\uc774: 2   \uc5c6\uc2b5\ub2c8\ub2e4: 3   \uac80\uc0c9\uc5b4: 11   \uc800\uc7a5: 3   \uae30\ub2a5\uc774: 6   \uaebc\uc838: 4   \uc788\uc2b5\ub2c8\ub2e4: 5   \ub0b4: 9   \uac80\uc0c9\uc5b4: 11   \ud574\uc81c: 2   txt: 5   \uc124\uc815\ub41c: 2   \ub0b4: 9   \uac80\uc0c9\uc5b4\uac00: 2   \uc5c6\uc2b5\ub2c8\ub2e4: 3   \ucd5c\uadfc\uac80\uc0c9\uc5b4\uc5d0\uc11c: 2   \ub0b4: 9   \uac80\uc0c9\uc5b4: 11   \ub4f1\ub85d: 3   \ub97c: 2   \uc120\ud0dd\ud558\uc5ec: 2   \uc790\uc8fc: 3   \ucc3e\ub294: 2   \uac80\uc0c9\uc5b4\ub97c: 3   \ub0b4: 9   \uac80\uc0c9\uc5b4\ub85c: 2   \uc800\uc7a5\ud574: 2   \ubcf4\uc138\uc694: 3   \uac80\uc0c9\uc5b4: 11   \uc800\uc7a5: 3   \uae30\ub2a5\uc774: 6   \uaebc\uc838: 4   \uc788\uc2b5\ub2c8\ub2e4: 5   \uacf5\uc6a9: 2   PC\uc5d0\uc11c\ub294: 2   \uac1c\uc778\uc815\ubcf4: 2   \ubcf4\ud638\ub97c: 2   \uc704\ud558\uc5ec: 2   \ubc18\ub4dc\uc2dc: 2   \ub85c\uadf8\uc544\uc6c3\uc744: 2   \ud574: 2   \uc8fc\uc138\uc694: 2   \uae30\ub85d: 4   \uc0ad\uc81c: 5   \uac80\uc0c9\uc5b4\uc800\uc7a5: 7   \ub044\uae30: 8   \uc790\ub3d9\uc644\uc131: 11   \ub044\uae30: 8   \uae30\ub85d: 4   \uc804\uccb4: 3   \uc0ad\uc81c: 5   \uc644\ub8cc: 2   \uae30\ub85d: 4   \uc804\uccb4: 3   \uc0ad\uc81c: 5   \uac80\uc0c9\uc5b4\uc800\uc7a5: 7   \ub044\uae30: 8   \uc790\ub3d9\uc644\uc131: 11   \ub044\uae30: 8   \uae30\ub2a5\uc744: 3   \ub2e4\uc2dc: 3   \ucf24: 2   \ub54c\ub294: 2   \ud3bc\uce58\uae30: 2   \ubc84\ud2bc\uc744: 2   \ud074\ub9ad\ud558\uc138\uc694: 2   \ub0b4: 9   \uac80\uc0c9\uc5b4\ub294: 2   \ucd5c\ub300: 2   10: 2   \uac1c: 2   \uae4c\uc9c0: 2   \uc800\uc7a5\ud560: 2   \uc218: 3   \uc788\uc2b5\ub2c8\ub2e4: 5   \ucd94\uac00\ud558\uc2dc\ub824\uba74: 2   \uae30\uc874: 2   \ub0b4: 9   \uac80\uc0c9\uc5b4\ub97c: 3   \uc9c0\uc6cc\uc8fc\uc138\uc694: 2   \ub2eb\uae30: 6   2014: 2   \uc0c1\ubc18\uae30: 2   \uc7ac\ubcf4\uad90\uc120\uac70: 2   \ud6c4\ubcf4\uc5d0: 2   \ub300\ud574: 2   7\uc6d430\uc77c: 2   \uc120\uac70\uc77c\uae4c\uc9c0: 2   \uc790\ub3d9\uc644\uc131: 11   \uae30\ub2a5\uc774: 6   \uc81c\uacf5\ub418\uc9c0: 2   \uc54a\uc2b5\ub2c8\ub2e4: 3   \uc790\uc138\ud788\ubcf4\uae30: 2   \uc9c8\ubb38\ud615: 2   \uac80\uc0c9\uc5b4: 11   \ud30c\ub9ac: 2   \uc778\uadfc: 2   \ud638\ub791\uc774: 2   \ucd9c\ubab0: 2   392\uce90\ub7ff: 2   \ube14\ub8e8: 2   \uc0ac\ud30c\uc774\uc5b4: 2   \ud000\ud140\ub2f7\uc774\ub780: 2   \uc774\uc804: 3   \uac80\uc0c9\uc5b4: 11   \ub2e4\uc74c: 3   \uac80\uc0c9\uc5b4: 11   \ub124\uc774\ubc84: 15   \uba54\ub274: 3   \uba54\uc77c: 2   \uce74\ud398: 3   \ube14\ub85c\uadf8: 3   \uc9c0\uc2ddiN: 3   \uc1fc\ud551: 3   \uc790\uc8fc: 3   \uc4f0\ub294: 2   \uba54\ub274: 3   \uc0ac\uc804: 3   \ub274\uc2a4: 5   \uc99d\uad8c: 2   \ubd80\ub3d9\uc0b0: 2   \uc9c0\ub3c4: 3   \uc601\ud654: 5   \ubba4\uc9c1: 4   \ucc45: 4   \uc6f9\ud230: 3   \uc2e0\uaddc: 2   \uc11c\ube44\uc2a4: 3   \uadf8\ub77c\ud3f4\ub9ac\uc624: 3   \ud3ec\uc2a4\ud2b8: 2   \ub3c4\ub3cc\ub7f0\ucc98: 2   \ubc34\ub4dc: 2   \ub77c\uc778: 3   \uadf8\ub77c\ud3f4\ub9ac\uc624: 3   \ub354\ubcf4\uae30: 3   \uc2e4\uc2dc\uac04: 2   \uae09\uc0c1\uc2b9: 2   \uac80\uc0c9\uc5b4: 11   \uae40\uc790\uc625: 4   \uc0c1\uc2b9: 12   792: 3   \uae40\uc720\uc815: 3   \uc0c1\uc2b9: 12   90: 2   \uc774\uc7a5\uc11d: 3   \uc0c1\uc2b9: 12   303: 2   \uac00\uc871\ub07c\ub9ac: 3   \uc65c\uc774: 2   \uc0c1\uc2b9: 12   57: 2   \uac1c\uadf8\ucf58\uc11c\ud2b8: 3   \uc0c1\uc2b9: 12   87: 2   \uc778\uae30\uac00\uc694: 3   \uc0c1\uc2b9: 12   111: 2   \uae40\uc18c\ud604: 3   \uc0c1\uc2b9: 12   147: 2   \ub125\uc13c\ud788\uc5b4\ub85c\uc988: 3   \uc0c1\uc2b9: 12   132: 2   \uc158: 3   \uc0c1\uc2b9: 12   306: 2   \uac00\ub514\uc5b8\uc988: 3   \uc624\ube0c: 3   \uc0c1\uc2b9: 12   63: 2   \uae40\uc790\uc625: 4   \uc0c1\uc2b9: 12   792: 3   1\uc704: 2   \uae40\uc790\uc625: 4   2\uc704: 2   \uae40\uc720\uc815: 3   3\uc704: 2   \uc774\uc7a5\uc11d: 3   4\uc704: 2   \uac00\uc871\ub07c\ub9ac: 3   \uc65c\uc774\ub798: 2   5\uc704: 2   \uac1c\uadf8\ucf58\uc11c\ud2b8: 3   6\uc704: 2   \uc778\uae30\uac00\uc694: 3   7\uc704: 2   \uae40\uc18c\ud604: 3   8\uc704: 2   \ub125\uc13c\ud788\uc5b4\ub85c\uc988: 3   9\uc704: 2   \uc158: 3   10\uc704: 2   \uac00\ub514\uc5b8\uc988: 3   \uc624\ube0c: 3   \ub354: 2   \uac24\ub7ed\uc2dc: 2   \uad11\uace0: 4   httpnv1adnavercomadshowunit002ANnrefreshx0: 2   \uc5f0\ud569\ub274\uc2a4: 2   \ub2f4\uc591: 2   \ud39c\uc158: 2   \ud654\uc7ac: 2   10\uba85: 2   \uc0ac\uc0c1\u2026\uc5ec\uc804\ud55c: 2   \uc548\uc804\ubd88\uac10\uc99d: 2   \ub124\uc774\ubc84\ub274\uc2a4: 2   \uc5f0\uc608: 2   \uc2a4\ud3ec\uce20: 6   \uacbd\uc81c: 2   \uc624\ub298\uc758\uc2e0\ubb38: 2   \ub274\uc2a4\uc2a4\ud0e0\ub4dc: 3   \uc804\uccb4\uc5b8\ub860\uc0ac: 3   MY\ub274\uc2a4: 2   \ub9e4\uccb4\ubcf4\uae30: 2   \uae30\uc0ac\ubcf4\uae30: 2   \uc8fc\uc694\uc5b8\ub860\uc0ac: 3   \uc8fc\uc694\uc5b8\ub860\uc0ac: 3   \uc885\ud569\uacbd\uc81c: 2   \ubc29\uc1a1\ud1b5\uc2e0: 2   IT: 2   \uc601\uc790\uc9c0: 2   \uc2a4\ud3ec\uce20\uc5f0\uc608: 2   \ub9e4\uac70\uc9c4\uc804\ubb38\uc9c0: 2   \uc9c0\uc5ed: 3   \uad6c\ub3c5\ubaa9\ub85d: 2   \uc804\uccb4\uc5b8\ub860\uc0ac: 3   \uc624\ub298\uc758: 4   \uc2e0\ubb38: 3   \ubcf4\uae30: 5   \uc624\ub298\uc758: 4   \uc2e0\ubb38: 3   \ubcf4\uae30: 5   \uad6c\ub3c5\uc124\uc815: 2   \uc54c\ub9bc: 2   \uc5b8\ub860\uc0ac\ubcc4: 2   \uc8fc\uc694\ub274\uc2a4\ub97c: 2   \uba54\uc778\uc5d0\uc11c: 2   \ubc14\ub85c: 2   \ubcfc: 2   \uc218: 3   \uc788\uc5b4\uc694: 2   \uc774\uc804\ud398\uc774\uc9c0: 3   \ub2e4\uc74c\ud398\uc774\uc9c0: 3   \uc774\uc804\ud398\uc774\uc9c0: 3   \ub2e4\uc74c\ud398\uc774\uc9c0: 3   \ub85c\uadf8\uc778: 4   \ub85c\uadf8\uc778: 4   httpstaticnidnavercomloginboxnhn: 2   \ud0c0\uc784\uc2a4\ud018\uc5b4: 3   \ud22c\ub370\uc774: 2   1116: 2   \uc77c: 2   TV\ud3b8\uc131: 2   \ub274\uc2a4\uc774\uc288: 2   TV: 2   \ub274\uc2a4: 5   \uc0dd\ubc29\uc1a1: 2   \uc800\ub141: 2   \uba54\uc778\ub274\uc2a4: 2   \ubcf4\uae30: 5   \ud559\uc2b5: 2   \uc601\uc5b4\ub85c: 2   \ub4e3\ub294: 2   \ub274\uc2a4: 5   \uc624\ub298\uc758: 4   \uae00\ub85c\ubc8c: 2   \ud68c\ud654: 2   \uc2a4\ud3ec\uce20: 6   \uae40\ub450\ud604: 2   \uace8: 2   \uc218\uc6d0: 2   \uc81c\uc8fc: 2   \uaebe\uace0: 2   ACL: 2   \uc9c1\ud589: 2   \uc2a4\ud3ec\uce20: 6   039\ub9ac\ubc14\uc6b4\ub4dc: 2   \uc644\uc2b9039: 2   \uc804\uc790\ub79c\ub4dc: 2   2\uc5f0\uc2b9: 2   \uc2a4\ud3ec\uce20: 6   \uc6b0\ub9ac\uc740\ud589: 2   KDB: 2   \uc81c\uc555\ud558\uba70: 2   1R: 2   \uc804\uc2b9: 2   1: 2   3: 2   \uc774\uc804: 3   \ub2e4\uc74c: 3   \uc0dd\ud65c\uc704\uc82f: 2   \ub808\uc774\uc5b4: 5   \uc5f4\uae30: 2   \uad11\uace0: 4   httpnv2adnavercomadshowunit002APnrefreshx0: 2   \uc8fc\uc81c\ud615\uce90\uc2a4\ud2b8: 2   \ub77c\uc774\ud504: 2   \uc2a4\ud3ec\uce20: 6   \uc790\ub3d9\ucc28\ud14c\ud06c: 2   \uc6f9\ud230: 3   \uac8c\uc784: 3   FUN: 2   \ubba4\uc9c1: 4   \uc601\ud654: 5   \ucc45: 4   \ub124\uc774\ubc84\uce90\uc2a4\ud2b8: 2   \uc624\ud508\uce90\uc2a4\ud2b8: 2   \uacf5\uc775\ub098\ub214: 2   \uc2ec\ub9ac\uc2a4\ub9b4\ub7ec: 2   \uc6f9\ub4dc\ub77c\ub9c8: 2   39\uc778\ud615\uc758: 2   \uc9d139: 2   \uc624\ub298\ubc2412\uc2dc: 2   \ud55c\uc911\ubbf8: 2   \ub3d9\uc2dc\uacf5\uac1c: 2   \ub3d9\ud654\uac19\uc740: 2   \uc9d1\uc5d0: 2   \uc218\uc591\ub538\ub85c: 2   \ub4e4\uc5b4\uac04: 2   \uadf8\ub140: 2   \uadf8\ub7ec\ub098: 2   \ub2e4\ub978: 2   \ubc29\uc758: 2   \uc18c\ub140\ub294: 2   \uc0ac\ub77c\uc9c0\uace0: 2   \uc601\uc0c1: 11   \ub108: 2   \ub530\ub77c\uc11c: 2   \ub2ed\ubc1c\ub3c4: 2   \uba39\uac8c: 2   \ub418\uc5c8\uc5b4: 2   39\uc5f0\uc560\uc138\ud3ec39: 3   10\ud68c: 2   \uadf8\ub140\uc758: 2   \uccab\uc0ac\ub791: 2   \uc601\uc0c1: 11   \ud798\ub4e4: 2   \ub550: 2   \uacc1\uc5d0: 2   \uc788\uc5b4\ub2ec\ub780: 2   \ub9d0\uc774\uc57c: 2   39\uc5f0\uc560\uc138\ud3ec39: 3   9\ud68c: 2   \ud6c4\ud68c: 2   \uc601\uc0c1: 11   \uae40\uc131\uc8fc: 2   \uc2f8\uc774: 2   \uace0\uc18c\ud560\uac70\uc57c: 2   \uc544\ube60: 2   \uc5b4\ub514\uac00: 2   \uc601\uc0c1: 11   \ubb38\uba85\uc9c4: 2   39\uadf8\ub300: 2   \ub0b4\ud488\uc5d039: 2   \ubd88\ud6c4\uc758: 2   \uba85\uace1: 2   \uc601\uc0c1: 11   \ud55c\ucc44\uc544: 2   \uc5ec\ubc30\uc6b0: 2   \uba39\ubc29\uc758: 2   \uc9c4\uc218: 2   \uc778\uac04\uc758: 2   \uc870\uac74: 2   \uc601\uc0c1: 11   \uc544\uc7ac\ud6c8\uc758: 2   \ub3c4\ud50c\uac31\uc5b4: 2   \ud788\ub4e0\uc2f1\uc5b43: 2   \uc601\uc0c1: 11   GOT7\uc758: 2   \uccab\ubc88\uc9f8: 2   \uc568\ubc94: 2   \ubbf8\ub9ac\ubcf4\uae30: 3   JYPnation: 2   \uc601\uc0c1: 11   \ubaa8\uc790\uc774\ud06c\ub85c: 2   \uc608\uc758: 2   \uc788\uac8c: 2   \ub300\uc811: 2   \ubb34\ud55c\ub3c4\uc804: 2   \uc601\uc0c1: 11   \uc774\uac74: 2   \uc7ac\ud63c\ud588\uc5b4\uc694\uac00: 2   \uc544\ub2c8\uc57c: 2   \uc6b0\ub9ac: 2   \uacb0\ud63c\ud588\uc5b4\uc694: 2   \uc601\uc0c1: 11   \uc784\ud615\uc6b0amp\uc2e0\uc9c0\ud6c4: 2   39\uc2e0\ucd0c\uc744: 2   \ubabb\uac0039: 2   \uc288\ud37c\uc2a4\ud0c0K6: 2   \uc120\ud638\uc8fc\uc81c\uc124\uc815: 2   \uc8fc\uc81c\ubcc4: 2   \ub354\ubcf4\uae30: 3   TV\uce90\uc2a4\ud2b8: 2   \ud648nbsp: 2   \uc560\ub2c8\uba54\uc774\uc158nbsp: 2   \uc6f9\ub4dc\ub77c\ub9c8nbsp: 2   TV\ud3b8\uc131\ud45cnbsp: 2 "
       ]
      },
      {
       "output_type": "stream",
       "stream": "stdout",
       "text": [
        "  \ubc29\uc1a1: 2   \ub2e4\uc6b4\ub85c\ub4dcnbsp: 2   6: 2   12: 2   \uc774\uc804\uce90\uc2a4\ud2b8: 2   \ub2e4\uc74c\uce90\uc2a4\ud2b8: 2   \uc1fc\ud551\uce90\uc2a4\ud2b8: 3   none: 2   \ud574\ud53c\ube48: 3   \ud589\ubcf5\uac80\uc0c9: 2   \ub098\ub214\uc73c\ub85c: 2   \uc774\uc5b4\uc9c0\ub294: 2   \uac80\uc0c9: 4   1\ucd08\uc758: 2   \uac80\uc0c9\uc73c\ub85c: 2   \ucc38\uc5ec\ud558\ub294: 2   \ud589\ubcf5\ud55c: 2   \uc2b5\uad00: 2   \ud5ec\ub85c: 2   \uc544\ud2f0\uc2a4\ud2b8: 2   \uc791\uac00\ub4e4\uc758: 2   \uc791\ud488: 3   \uc774\uc57c\uae30: 3   \uc791\uac00\ub4e4\uc774: 2   \uc9c1\uc811: 2   \ub4e4\ub824\uc8fc\ub294: 2   \uc791\ud488: 3   \uc774\uc57c\uae30: 3   \ub9cc\ub098\ubcf4\uc138\uc694: 2   \uacf5\uc9c0\uc0ac\ud56d: 2   \ub124\uc774\ubc84: 15   \uc704\uce58\uc815\ubcf4: 2   \uc774\uc6a9\uc57d\uad00: 3   \ubcc0\uacbd\uc5d0: 2   \ub300\ud55c: 2   \uc548\ub0b4: 3   \uc11c\ube44\uc2a4: 3   \uc804\uccb4\ubcf4\uae30: 2   \ub124\uc774\ubc84: 15   \uc815\ucc45: 3   \ubc0f: 4   \uc57d\uad00: 2   \ud68c\uc0ac\uc18c\uac1c: 2   \uad11\uace0: 4   \uac80\uc0c9\ub4f1\ub85d: 2   \uc81c\ud734\uc81c\uc548: 2   \uc774\uc6a9\uc57d\uad00: 3   \uac1c\uc778\uc815\ubcf4\ucde8\uae09\ubc29\uce68: 2   \uccad\uc18c\ub144\ubcf4\ud638\uc815\ucc45: 2   \ub124\uc774\ubc84: 15   \uc815\ucc45: 3   \ub124\uc774\ubc84: 15   \uace0\uac1d\uc13c\ud130: 2   copy: 2   NAVER: 3   Corp: 2   "
       ]
      },
      {
       "output_type": "stream",
       "stream": "stdout",
       "text": [
        "Initial length of source: 17847\n",
        "Last length of source: 472\n",
        "Total num of plain words: 44\n",
        "Google: 4   \ufffd\u02fb\ufffd: 2   \ufffd\u0339\ufffd\ufffd\ufffd: 2   \ufffd\ufffd\ufffd\ufffd: 2   Play: 2   YouTube: 2   \ufffd\ufffd\ufffd\ufffd: 2   Gmail: 2   \ufffd\ufffd\ufffd\ufffd\u033a\ufffd: 2   \ufffd\ufffd\ufffd\ufffd\ufffd\ufffd: 2   raquo: 2   \ufffd\ufffd: 2   \ufffd\ufffd\ufffd: 2   \ufffd\ufffd\ufffd\ufffd: 2   \ufffd\u03b1\ufffd\ufffd\ufffd: 2   times: 2   \ufffd\ufffd\ufffd\u0373\ufffd\ufffd\ufffd: 2   \ufffd\ufffd\ufffd\ufffd: 2   \ufffd\ufffd\ufffd\ufffd\ufffd\ufffd: 2   \ufffd\ufffd\ufffd\ufffd\u03f4\ufffd: 2   \ufffd\ufffd\ufffd: 2   Chrome: 2   \ufffd\u067f\ufffd\u03b5\ufffd: 2   \ufffd\u0471\ufffd: 2   nbsp: 2   \ufffd\ufffd\u07b0\u02fb\ufffd: 2   \ufffd\ufffd\ued75\ufffd\ufffd: 2   \ufffd\ufffd\ufffd\ufffd: 2   \ufffd\ufffd\ufffd\u03b1\u05f7\ufffd: 2   \ufffd\ufffd\ufffd\ufffd\u03fd\ufffd: 2   \ufffd\u05b7\ufffd\ufffd: 2   Google: 4   Google: 4   \ufffd\ufffd\ufffd\ufffd: 2   Googlecom: 2   copy: 2   2013: 2   \ufffd\ufffd\ufffd\ufffd\ufffd\ufffd\ufffd\ufffd: 2   \ufffd\ufffd\u0223: 2   \ufffd\ufffd: 2   \ufffd\ufffd\ufffd: 2   "
       ]
      },
      {
       "output_type": "stream",
       "stream": "stdout",
       "text": [
        "Initial length of source: 77394\n",
        "Last length of source:"
       ]
      },
      {
       "output_type": "stream",
       "stream": "stdout",
       "text": [
        " 18958\n",
        "Total num of plain words: 873\n",
        "\ub124\uc774\ud2b8: 12   \ub124\uc774\ud2b8: 12   \uba54\uc778\ud398\uc774\uc9c0: 2   \ub0b4\uc6a9: 2   \ubc14\ub85c\uac00\uae30: 6   \ub9c1\ud06c: 2   \ud1b5\ud569\uac80\uc0c9: 5   \ubc14\ub85c\uac00\uae30: 6   \ub85c\uadf8\uc778\uc601\uc5ed: 2   \ubc14\ub85c\uac00\uae30: 6   \ubcf8\ubb38\uc601\uc5ed: 2   \ubc14\ub85c\uac00\uae30: 6   \ub124\uc774\ud2b8: 12   \uba54\uc778: 2   \ub3c5\ub9bdGNB: 2   \ud3b8\ub9ac\ud55c: 3   \ub124\uc774\ud2b8: 12   \ub124\uc774\ud2b8\uc571: 2   \ub124\uc774\ud2b8\uc628: 5   \uc2f8\uc774\uba54\ub77c: 2   \uc2f8\uc774\uc6d4\ub4dc: 3   \ud1b5\ud569\uac80\uc0c9: 5   \ud1b5\ud569\uac80\uc0c9: 5   \uc785\ub825: 2   \uac80\uc0c9\uc5b4: 3   \uc785\ub825\ucc3d: 2   \ud1b5\ud569\uac80\uc0c9: 5   \ucd94\ucc9c\ud0a4\uc6cc\ub4dc: 2   \uc9c4\uc9dc\uc0ac\ub098\uc774: 3   \uc2dc\uc98c2: 2   \uc1a1\uac00\uc5f0: 2   \ub300\uc804: 2   \uc0c1\ub300: 2   \uc0d8\uae40: 2   \uad8c\uc9c4\uc544: 2   \uc5f0\uc778: 2   \uc0ac\uc774: 2   \uac70\uc9d3\ub9d0: 2   1\uc704: 2   GNB: 2   \uba54\uc77c: 2   \ub274\uc2a4: 7   \ud310: 3   \ub3d9\uc601\uc0c1: 3   \uc601\ud654: 4   \uc6f9\ud230: 4   \uac8c\uc784: 2   \uc790\ub3d9\ucc28: 2   \ubd80\ub3d9\uc0b0: 3   \uc2a4\ud0c0\uc77c: 3   \uc1fc\ud551: 3   \ub354\ubcf4\uae30: 3   \ub124\uc774\ud2b8: 12   \uc11c\ube44\uc2a4: 10   \ub0a0\uc528: 2   \ub124\uc774\ud2b8\uc628: 5   \ub124\uc774\ud2b8Q: 2   \ub3c4\ud1a0\ub9ac\ucda9\uc804\uc18c: 2   \ub7ad\ud0b9\ub274\uc2a4: 2   \ubaa8\ubc14\uc77c\ub124\uc774\ud2b8: 2   \ubb38\uc790\uba54\uc2dc\uc9c0: 2   \ubd80\ub3d9\uc0b0: 3   \ub9ac\uc11c\uce58: 2   \uc544\uc774\ub3cc24: 3   \uc571\uc2a4\ud1a0\uc5b4: 2   \uc601\ud654: 4   \uc6b4\uc138: 3   \uc8fc\uc18c\ub85d: 2   \uc99d\uad8c: 2   \ucabd\uc9c0: 2   \ud1a1\ud1a1: 3   \ud2b8\ub79c\ub4dc\ud1a1: 2   \ud3f0\uc6d4\ub4dc: 2   \ud310\ud3ec\ud1a0: 3   JTBC: 2   \ub274\uc2a4: 7   9: 2   TV\ud3b8\uc131\ud45c: 3   \uace0\uac1d\uc13c\ud130: 4   \uc11c\ube44\uc2a4: 10   \uc804\uccb4\ubcf4\uae30: 4   \uc2f8\uc774\uc6d4\ub4dc: 3   \uc11c\ube44\uc2a4: 10   \uacf5\uac10\ubca0\uc2a4\ud2b8: 2   \ub3c4\ud1a0\ub9ac: 2   \ub9c8\uc774\uc2f8\uc774\uc6d4\ub4dc: 2   \ubba4\uc9c1: 2   \ubbf8\ub2c8\ud648\ud53c: 2   \ube14\ub85c\uadf8: 2   \uc120\ubb3c\uac00\uac8c: 2   \uc624\ub298\uc758: 6   \ucd94\ucc9c\uae00: 2   \ucd5c\uc2e0\uc74c\uc545: 2   \ud074\ub7fd: 2   \ud3ec\ud1a0N: 2   \ud53c\ud50c: 2   \uace0\uac1d\uc13c\ud130: 4   \uc11c\ube44\uc2a4: 10   \uc804\uccb4\ubcf4\uae30: 4   \ub354\ubcf4\uae30: 3   \ub2eb\uae30: 9   \uc2e4\uc2dc\uac04: 2   \uac80\uc0c9\uc5b4: 3   \ud68c\uc6d0: 3   \ub85c\uadf8\uc778: 6   \uc601\uc5ed: 6   \ub85c\uadf8\uc778: 6   \uc120\ud0dd: 2   \ud68c\uc6d0: 3   \ub85c\uadf8\uc778: 6   \uc544\uc774\ub514: 4   \ube44\ubc00\ubc88\ud638: 5   \ube44\ubc00\ubc88\ud638: 5   \ube44\ubc00\ubc88\ud638: 5   \uc544\uc774\ub514: 4   \uc800\uc7a5: 2   IP\ubcf4\uc548: 2   ON: 2   \uc544\uc774\ub514: 4   \ube44\ubc00\ubc88\ud638: 5   \ucc3e\uae30: 2   \ud68c\uc6d0\uac00\uc785: 2   \uc5e0\ud30c\uc2a4\ub137\uce20\uace0\ub77c\uc774\ucf54\uc2a4: 2   ID: 2   \uc774\ud558\uae4c\uc9c0: 2   \ubaa8\ub450: 3   \uc785\ub825\ud574: 2   \uc8fc\uc138\uc694: 2   \uc54c\ub9bc: 3   \ub808\uc774\uc5b4: 7   \ub2eb\uae30: 9   \uc6f9: 3   \ub124\uc774\ud2b8\uc628: 5   \ub85c\uadf8\uc778\uc740: 2   \uc124\uce58\uac00: 2   \ud544\uc694: 2   \uc5c6\ub294: 2   \uac00\ubcbc\uc6b4: 2   \ub124\uc774\ud2b8\uc628\uc774: 2   \ub124\uc774\ud2b8: 12   \ub85c\uadf8\uc778: 6   \ub9cc\uc73c\ub85c: 2   \ud568\uaed8: 2   \ub85c\uadf8\uc778: 6   \ub418\ub294: 2   \ud3b8\ub9ac\ud55c: 3   \uae30\ub2a5\uc785\ub2c8\ub2e4: 2   \uc6f9: 3   \ub124\uc774\ud2b8\uc628\uc774\ub780: 2   \uc54c\ub9bc: 3   \ub808\uc774\uc5b4: 7   \ub2eb\uae30: 9   \ucee8\ud150\uce20: 9   \uc601\uc5ed: 6   \ub274\uc2a4: 7   \ub274\uc2a4: 7   1: 4   3: 2   \uc790\ub3d9\uc804\ud658\uae30\ub2a5: 2   \uc815\uc9c0: 2   \uc774\uc804: 8   \ub274\uc2a4: 7   \ubcf4\uae30: 17   \ub2e4\uc74c: 8   \ub274\uc2a4: 7   \ubcf4\uae30: 17   \ub2e8\uc810: 2   \ud6c4\uae30: 2   \uc62c\ub9ac\ub2c8: 2   quot\uba85\uc608\ud6fc\uc190quot: 2   \uc2ac\ub77c\uc774\ub4dc: 7   \uc288\ud37c\ub9e8: 3   \uae40\uc131\uc218: 2   \ub538\uacfc: 2   \ub4f1\uc7a5: 3   \uc2ac\ub77c\uc774\ub4dc: 7   \ub098\ubb34: 2   \ubc14\ub2e5\u00b7\uc5b5\uc0c8: 2   \uc9c0\ubd95\u2026\uc608\uace0\ub41c: 2   \ucc38\uc0ac: 2   \uc2e0\uc785\uc0dd\u00b7\uc608\ube44\uc2e0\ub791: 2   \uc8fd\uc74c: 2   \uc7ac\ud0d5\u00b7\uc0bc\ud0d5\u00b7\ub4b7\ubd81\u2026\uc3df\uc544\uc9c0\ub294: 2   \uc758\uc6d0: 2   \uc785\ubc95: 2   IS: 2   \ubbf8\uad6d\uc778: 2   \uc778\uc9c8: 2   \ucc38\uc218: 2   \uacf5\uac1c: 3   1300\uc5b5: 2   \uc721\uad70: 2   \ud638\ud154: 2   \ucd94\uc9c4\u2026\uc7a5\ubcd1: 2   \ud61c\ud0dd: 2   \ub4b7\uc804: 2   \u6734: 2   \uc5d4\uc800: 2   \uc815\ucc45: 2   \uc6b0\ud68c: 2   \ube44\ud310: 2   MLB: 2   \uc62c\uc2a4\ud0c0: 2   \uc77c\ubcf8\uc5d0: 2   3\uc5f0\ud328: 2   \ub05d: 2   \uccab: 3   \uc2b9: 2   \ubc14\ub974\uc140\ub85c\ub098: 2   \ud638\ub0a0\ub450: 2   \ub178\ub9b0\ub2e4: 2   \uae40\uc790\uc625: 2   \ub0a8\ud3b8: 2   quot\uc704\ub85c: 2   \uac74\ub128: 2   \uace0\ub9c8\uc6b4: 2   \uc0ac\ub78cquot: 2   quot\uae40\uc790\uc625: 2   \uc544\ub4e4: 2   \uacb0\ud63c: 3   \ubabb\ubcf4\uace0\uac00quot: 2   \ubd81\ud55c\uad70: 2   DMZ: 2   \ub0b4: 2   \uc815\ucc30\ud65c\ub3d9: 2   \uae09\uc99d\u2026\uad70\uc0ac\ubd84\uacc4\uc120: 2   \ub118\uae30\ub3c4: 2   \ud648\ud50c\ub7ec\uc2a4: 2   \uc138\uc885\uc810: 2   \uc624\ud508: 2   \uac15\ud589: 2   \ucda9\ub3cc: 2   \uc911\uad6d: 2   \ud574\uc678\uc9c1\uad6c\uc871: 2   \ud55c\uad6d: 2   \ud074\ub9ad: 2   \ub530\ub974\ub530: 2   \ub3d9\uc810\uace8: 2   \uc6b8\uc0b0: 2   \uc11c\uc6b8\uacfc: 2   \ubb34\uc2b9\ubd80: 2   \uc774\uc6a9\ub300\u00b7\uc720\uc5f0\uc131: 2   \uc911\uad6d\uc624\ud508: 2   \uc6b0\uc2b9: 3   \ud0c0\ube14\ub85c: 2   quot\ud5e4\uc774\ud130: 2   \uc8fd\uc77c\uc218: 2   \uc5c6\uc5c8\ub2e4quot: 2   \ube44: 2   \uce21: 2   \ub8e8\uba38: 2   \uc720\ud3ec\uc790: 2   30\uba85: 2   \ucd94\uac00\uace0\uc18c: 2   \uc288\ud37c\ub9e8: 3   \uc158: 2   4\ub0a8\ub9e4\uc0bc\ub465\uc774: 2   \ub2e8\ubc88\uc5d0: 2   \ud1b5\uc81c: 2   \uc1a1\uc77c\uad6d: 2   \uc790\ub140: 2   \uae30\ubd80\ub3d9\ucc38: 2   \uac10\ub3d9: 2   \ub274\uc2a4\ud50c\ub7ec\uc2a4: 2   \ub808\uc774\uc5b4: 7   \ub2eb\uae30: 9   \uc5f0\uc608: 2   \uc2a4\ud3ec\uce20: 2   1: 4   2: 2   \uc774\uc804: 8   \ucee8\ud150\uce20: 9   \ubcf4\uae30: 17   \ub2e4\uc74c: 8   \ucee8\ud150\uce20: 9   \ubcf4\uae30: 17   \ub7f0\ub2dd\ub9e8: 3   \uae40\uc885\uad6d\ud64d\uc9c4\uc601: 2   \uc57c\ub987\ud55c: 2   \ud3ec\uc988\uc5d0: 2   \uae5c\uc9dd: 3   \uc2ac\ub77c\uc774\ub4dc: 7   \ub8f8\uba54\uc774\ud2b8: 2   \ucd5c\ud64d\ub9cc: 2   \ub4f1\uc7a5: 3   \uc774\uad6d\uc8fc: 2   \ud55c\ubc88\uc5d0: 2   \ub4e4\uae30: 2   \uc2ac\ub77c\uc774\ub4dc: 7   \uc548\uc815\ud658: 2   \uc544\uc2dc\uc548\ucef5: 2   \uc6b0\uc2b9: 3   \ud2b8\ub85c\ud53c\uc5d0: 2   \ud0a4\uc2a4: 2   \uc2ac\ub77c\uc774\ub4dc: 7   \ub9ac\uc988: 2   SNS: 2   \uc9c1\uc7a5\uba85\uc5d0: 2   LG: 2   \uadf8\ub8f9: 2   \ud22c\uc218: 2   \uc2ac\ub77c\uc774\ub4dc: 7   1\ubc15: 2   \ud6c8\ud6c8\ud55c: 2   \uae30\uc0c1\ubbf8\uc158: 2   \uc544\uce68: 2   \uac70\ub974\uc9c0: 2   \uc54a\uae30: 2   1\ubc152\uc77c: 2   SES: 2   \ubaa8\ub974\ub294: 2   98\ub144\uc0dd\ub4e4\uc5d0: 2   \uc131\ub09c: 2   \uba64\ubc84\ub4e4: 2   \ub7f0\ub2dd\ub9e8: 3   \uc815\uc778: 2   quot\uc9c0\ub9ac\uc0b0: 2   \uacb0\ud63c: 3   \uc758\ubbf8\uc788\uace0: 2   \uc2f6\uc5c8\ub2e4quot: 2   \ub0a8\ubcf4\ub77c: 2   \uae5c\ucc0d\ud55c: 2   \ub9c9\ub0c7\ub3d9\uc0dd: 2   \uc790\ub791\u2026quot\ub3d9\uc0dd: 2   \ubc14\ubcf4\uc608\uc694quot: 2   \uc9c4\uc9dc\uc0ac\ub098\uc774: 3   \uc0c1\uc704: 2   5: 4   \uc815\ucc30\ub300: 2   \uc544\uce68\uc6b4\ub3d9\uc5d0: 2   \uae5c\uc9dd: 3   \uc591\ud604\uc885: 2   \ud3ec\uc2a4\ud305: 2   \uae40\uad11\ud604\ubcf4\ub2e4: 2   \uae30\ub300\ub418\ub294: 2   \uc774\uc720: 3   \ub85c\ud638: 2   quot\ub9e8\uc720: 2   \uc774\uc801: 2   \uc704\ud574: 4   \ud6c8\ub828: 2   \uac70\ubd80\u2026\ubca0\ub860\uc774: 2   \ub9d0\ub838\ub2e4quot: 2   \uc6b0\ub9ac\uc740\ud589: 2   KDB\uc0dd\uba85: 2   \uaebe\uace0: 3   \uccab: 3   2\uc2dc\uc98c: 2   \uc5f0\uc18d: 2   1R: 2   \uc804\uc2b9: 2   \ucf00\uc774\ud790: 2   quot\uc77c\ubcf8: 2   \uc544\uc2dc\uc544: 2   \ucd5c\uac15: 2   \uc790\uaca9: 2   \uc788\ub294: 2   \ud300\uc774\ub2e4quot: 2   \ub85c\ub4dc: 2   23\uc810: 2   13R: 2   KT: 2   KGC: 2   \uaebe\uace0: 3   \uacf5\ub3d9: 2   6\uc704: 2   \ub4f1\uadf9: 2   \ucd94\ucc9c: 9   \uc11c\ube44\uc2a4: 10   \uc544\uc774\ub3cc24: 3   TV\ud640\ub9ad: 2   \uc5f0\uc608\ub274\uc2a4: 2   \uc2a4\ud3ec\uce20PUB: 2   \uc624\ub298\uc758: 6   \ub124\uc774\ud2b8: 12   \ud2f0\ucee4: 2   \ub2eb\uae30: 9   Tell: 3   me: 3   Nater: 3   \ucd5c\uace0\uc758: 3   \ud574\uc678: 3   \uc601\ud654\ub294: 3   Tell: 3   me: 3   Nater: 3   \ud604\uc7ac\ucc38\uc5ec: 2   6722: 2   \uc778\ud130\uc2a4\ud154\ub77c: 3   \ud765\ud589\ub3cc\ud48d: 2   2014\ub144: 2   \ucd5c\uace0\uc758: 3   \ud574\uc678: 3   \uc601\ud654\ub294: 3   \uaca8\uc6b8\uc655\uad6d: 3   \uaca8\uc6b8\uc655\uad6d: 3   Frozen: 2   \ud2b8\ub79c\uc2a4\ud3ec\uba38: 2   Age: 2   of: 5   Extinction: 2   \uc5e3\uc9c0: 2   \uc624\ube0c: 2   \ud22c\ubaa8\ub85c\uc6b0: 2   Edge: 2   of: 5   Tomorrow: 2   \uc5d1\uc2a4\ub9e8: 2   XMen: 2   Days: 2   of: 5   Future: 2   Past: 2   \uc5b4\uba54\uc774\uc9d5\uc2a4\ud30c\uc774\ub354\ub9e8: 2   The: 3   Amazing: 2   SpiderMan: 2   \ud639\uc131\ud0c8\ucd9c: 2   Planet: 2   of: 5   the: 2   Apes: 2   \ucea1\ud2f4: 2   \uc544\uba54\ub9ac\uce74: 2   The: 3   Winter: 2   Soldier: 2   \ube44\uae34: 2   \uc5b4\uac8c\uc778: 2   Begin: 2   Again: 2   \uc778\ud130\uc2a4\ud154\ub77c: 3   Interstellar: 2   \uae30\ud0c0: 2   \ub313\uae00\ub85c: 2   \uc758\uacac\uc744: 2   \ub0a8\uaca8\uc8fc\uc138\uc694: 2   \ub124\uc774\ud2b8: 12   \uc624\ub298: 3   2014: 3   11: 3   16: 3   \ub300\uad6c: 2   81: 2   \u2103: 2   00mm: 2   TV\ud3b8\uc131\ud45c: 3   \ud658\uc728: 2   \uc8fc\uac00\uc9c0\uc218: 2   \uc624\ub298\uc758: 6   \uc6b4\uc138: 3   \ucee8\ud150\uce20: 9   \ud310: 3   \uc6f9\ud230: 4   \ubc29\uc1a1\uc5f0\uc608: 2   \ud310\ud648: 2   1: 4   5: 4   \uc774\uc804: 8   \ucee8\ud150\uce20: 9   \ubcf4\uae30: 17   \ub2e4\uc74c: 8   \ucee8\ud150\uce20: 9   \ubcf4\uae30: 17   \ub0b4\uc0ac\ub791: 2   \ub625\uaf2c\uc640: 2   \ub531\uc9c0: 2   20\ub300: 2   \ud754\ub140\uc758: 2   \uc694\ub9ac: 2   \ub2e4\uc774\uc5b4\ud2b8: 2   \uc2e4\ud328: 2   \uc774\uc720: 3   \ubcf4\ud0c0\uc774\ub97c: 2   \uba58: 2   \uac15\uc544\uc9c0: 2   \uc624\ub298\uc758: 6   \ud1a1: 3   \ubab8\ub9e4\ubd80\ud130: 2   \uc678\ubaa8\uae4c\uc9c0: 2   \ubaa8\ub450: 3   \uac16\ucd98: 2   \ubbf8\ub780\ub2e4\ucee4: 2   25: 2   \ud30c\uc2a4\ud154\ud1a4\uc758: 2   \uc637\ub3c4: 2   \uc18c\ud654\ud558\ub294: 2   \uc81c\ub2c8\ud37c: 2   \ub85c\ud398\uc988: 2   13: 3   2\ubc88: 2   "
       ]
      },
      {
       "output_type": "stream",
       "stream": "stdout",
       "text": [
        "\uc9f8: 2   \ubc29\ubb38\ud558\ub294: 2   \ud560\ub9ac\uc6b0\ub4dc: 2   \uc2a4\ud0c0: 2   \ub85c\uac74: 2   \ub808\uba3c: 2   10: 2   \ubb34\uc11c\uc6b8: 2   \uc815\ub3c4\ub85c: 2   \ub09c\ud574\ud55c: 2   \ud328\uc158\uc778: 2   \ub808\uc774\ub514: 2   \uac00\uac00: 2   27: 2   \uacf5\ud56d\uc744: 2   \ub4e4\uc369\uc774\uac8c: 2   \ub9cc\ub4e0: 3   \ube0c\ub798\ub4dc: 2   \ud53c\ud2b8\uc758: 2   \uc678\ubaa8: 2   12: 2   \ucd94\ucc9c: 9   \ud1a1: 3   \uc720\uc7ac\uc11d\uc740: 2   \uc798\ubabb\uc5c6\ub294\ub370: 2   1\ub144\ub0b4\ub0b4: 2   \uc0ac\uacfc: 2   \ucd94\ucc9c: 9   1612: 2   \uc131\ud3ed\ub825: 2   \uc870\uc7a5\ud558\ub294: 2   \ud53d\uc5c5\uc544\ud2f0\uc2a4\ud2b8: 2   \ub17c\ub780: 2   \ucd94\ucc9c: 9   588: 2   \ucd08\uc2ec: 2   \uc783\uc5b4\ubc84\ub9b0: 2   \uc5d0\uc774\ud551\ud06c: 2   \ucd94\ucc9c: 9   576: 2   \ud53c\uce74\uce04\ub97c: 2   \uc704\ud574: 4   \ud3ec\uae30\ud55c: 2   \uc2dc\ubbfc\uc758\uc2dd: 2   \ucd94\ucc9c: 9   367: 2   \u314b\u314b\u314b\uc218\ubd84\ud06c\ub9bc: 2   \uc0ac\uae30\ub2f9\ud568: 2   \ucd94\ucc9c: 9   281: 2   \ucd94\ucc9c: 9   \uc11c\ube44\uc2a4: 10   \ud1a1\ud1a1: 3   \ud2b8\ub80c\ub4dc\ud1a1: 2   \ud310\ud3ec\ud1a0: 3   \uc5d4\ud130\ud1a1: 2   \uc601\ud654: 4   \uc6f9\ud230: 4   \uc774\uc288UP: 10   2014: 3   11: 3   16: 3   \uc758: 3   \uc774\uc288UP: 10   \uc774\uc804: 8   \uc774\uc288UP: 10   \ubcf4\uae30: 17   \ub2e4\uc74c: 8   \uc774\uc288UP: 10   \ubcf4\uae30: 17   \uc624\ub298: 3   \uc758: 3   \uc774\uc288UP: 10   \ubcf4\uae30: 17   \uc8fc\ub9d0: 2   \ub370\uc774\ud2b8: 2   \uc62c\ub77c: 2   \uce74\ub9ac\ubca0: 2   \uc774\uc790\uce74\uc57c: 2   \ub9db\uc9d1: 2   \ub0a8\uc591\uc8fc: 2   \ub098\ub4e4\uc774: 2   \uc800\uc5fc\uc2dd: 4   \uc77c\uc0c1\uc774: 2   \ud654\ubcf4: 2   \ub208: 2   \ucee4\ubcf4\uc774\ub294: 2   \ud654\uc7a5: 2   \uae30\ucd08: 2   \ud654\uc7a5\ud488: 2   \uc2a4\ud0c024\uc2dc: 2   \ud328\uc158\ub098\uc6b0: 2   \ub77c\uc774\ud504: 2   \ud0a4\uc6cc\ub4dc12: 2   \ubca0\uc2a4\ud2b8\uc774\uc288: 2   \uc774\uc804: 8   \uc774\uc288UP: 10   \ud0a4\uc6cc\ub4dc: 5   \ubcf4\uae30: 17   \ub2e4\uc74c: 8   \uc774\uc288UP: 10   \ud0a4\uc6cc\ub4dc: 5   \ubcf4\uae30: 17   Brand: 12   \ucd5c\uc18c\ud55c\uc758: 2   \uc18c\uae08\ub9cc: 2   \uc0ac\uc6a9\ud574: 2   \ub2e4\uc774\uc5b4\ud2b8\uc5d0: 2   \uc88b\ub2e4\uace0: 2   \uac74\uac15\ud558\uace0: 2   \ub9db\ub09c: 2   \uc7ac\ub8cc\ub85c: 2   \uc18d\uc774: 2   \uaf49: 2   \ucc28: 2   \ubab8\uc5d0: 2   \uc88b\uc740: 4   \uc800\uc5fc\uc2dd: 4   \uae40\ubc25: 2   Brand: 12   \uc9c4\uc9dc: 2   \ub9db\uc788\ub294: 2   \uc18c\uc2dc\uc9c0\ub85c: 2   \ub530\ub77c: 2   \ud55c: 3   \uc720\uba85: 2   \ud56b\ub3c4\uadf8: 2   Brand: 12   \uc0bc\uacb9\uc0b4\ub85c: 2   \uc9d1\uc5d0\uc11c: 2   \ub9cc\ub4e0: 3   \ucac4\uae43\ucac4\uae43\ud55c: 2   \uc18c\uc2dc\uc9c0: 2   Brand: 12   \uc18c\uae08\uc744: 2   \ub300\uc2e0\ud574\uc11c: 2   \ub9d0\ub9b0: 2   \ud1a0\ub9c8\ud1a0: 3   \ub123\uc740: 2   \uae40\uc758: 2   \ub9db: 2   Brand: 12   \ucc9c\uc5f0: 2   \uc7ac\ub8cc\ub97c: 2   \uc774\uc6a9\ud574\uc11c: 2   \ub098\ud2b8\ub968: 2   \uc904\uc778: 2   \uc694\ub9ac\ubc95: 2   \uacfc\uc77c\uacfc: 2   \uafc0: 2   \uc774\uc6a9\ud574: 2   \uc0c8\ucf64\ub2ec\ucf64\ud55c: 2   \ub9db\uc744: 2   \ub0b4\uace0: 2   \uc18c\uae08: 2   \ub300\uc2e0: 2   \uce74\ub808: 2   \uac00\ub8e8: 2   \uc37c\ub2e4\ub294\ub370: 2   Brand: 12   \uc800\uc5fc\uc2dd: 4   \uc813\uac08\ub85c: 2   \ub9cc\ub4e4\uc5b4: 2   \ubcf8: 2   \uc815\uc900\ud558\uc758: 2   \uba85\ub780: 2   \uc2a4\ud30c\uac8c\ud2f0: 2   Brand: 12   \ub9db\uacfc: 2   \ud478\uc9d0\ud568\uc5d0: 2   \ub180\ub77c\ub294: 2   \uce58\ud0a8: 2   \ud584\ubc84\uadf8\uc2a4\ud14c\uc774\ud06c: 2   \ub2ed: 2   \uac00\uc2b4\uc0b4\uacfc: 2   \ub450\ubd80: 2   \ucc44\uc18c\ub97c: 2   \ud65c\uc6a9\ud55c: 2   \ud558\ub8e8: 2   \ud55c: 3   \ub07c: 2   \uc800\uc5fc\uc2dd\uc758: 2   \ud601\uba85: 2   \ub808\uc2dc\ud53c: 2   \uacf5\uac1c: 3   Brand: 12   \uac1c\uc6b4\ud558\uace0: 2   \uae54\ub054\ud55c: 2   \ub9db\uc5d0: 2   \ubab8\uc18d: 2   \uc5fc\ubd84\uae4c\uc9c0: 2   \ubc30\ucd9c: 2   \uc815\ub9d0: 2   \uae54\ub054\ud558\uace0: 2   \uac1c\uc6b4\ud55c: 2   \ub9db\uc774: 3   \uc77c\ud488\uc778: 2   \ub370\ub2e4: 2   \uace0\ud608\uc555\uae4c\uc9c0: 2   \uc608\ubc29\ud558\ub294: 2   \ud1a0\ub9c8\ud1a0: 3   \ub77c\uba74: 2   Brand: 12   \uce7c\uce7c\ud55c: 2   \ub9db\uc774: 3   \uc88b\uc740: 4   \ubd80\ub4dc\ub7ec\uc6b4: 2   \uac08\uce58\uc870\ub9bc: 2   Brand: 12   \uacac\uacfc\ub958: 2   \ub355\ubd84\uc5d0: 2   \uace0\uc18c\ud568: 2   \ub450: 2   \ubc30\uc778: 2   \uba78\uce58\ubcf6\uc74c: 2   Brand: 12   \ubcf6\uc74c\ubc25\uae4c\uc9c0: 2   \uc8fc\ubb38\ud574\uc11c: 2   \uae68\ub057\uc774: 2   \uba39\uc740: 2   \ub5a1\ubcf6\uc774: 2   \uad11\uace0: 4   \uc790\uc138\ud788\ubcf4\uae30: 2   \ub3d9\uc601\uc0c1: 3   \ud50c\ub808\uc774: 2   \ub808\uc774\uc5b4: 7   \ub2eb\uae30: 9   \ub124\uc774\ud2b8\uc628: 5   \ucabd\uc9c0\ub85c: 2   \uacf5\uc720\ud558\uae30: 4   \ud398\uc774\uc2a4\ubd81\uc73c\ub85c: 2   \uacf5\uc720\ud558\uae30: 4   \ud2b8\uc704\ud130\ub85c: 2   \uacf5\uc720\ud558\uae30: 4   \uc8fc\uc18c\ubcf5\uc0ac: 4   \uc8fc\uc18c\uac00: 3   \ubcf5\uc0ac: 4   \ub418\uc5c8\uc2b5\ub2c8\ub2e4: 3   \uc774\uc288\uc5c5: 2   \uc815\ubcf4\uc758: 2   \uc8fc\uc18c\uac00: 3   \ubcf5\uc0ac: 4   \ub418\uc5c8\uc2b5\ub2c8\ub2e4: 3   \uacf5\uc720\ud558\uc2dc\ub824\ub294: 3   \uc785\ub825\ucc3d\uc5d0\uc11c: 3   CtrlV\ub85c: 3   \ubd99\uc5ec: 3   \ub123\uc73c\uc138\uc694: 3   \uc8fc\uc18c\ubcf5\uc0ac: 4   \ub808\uc774\uc5b4: 7   \ub2eb\uae30: 9   \uc8fc\uc18c\ub97c: 3   \ubcf5\uc0ac: 4   \ud558\uc138\uc694: 2   \uc544\ub798: 2   \uc8fc\uc18c\ub97c: 3   \ubcf5\uc0ac\ud558\uc5ec: 2   \uacf5\uc720\ud558\uc2dc\ub824\ub294: 3   \uc785\ub825\ucc3d\uc5d0\uc11c: 3   CtrlV\ub85c: 3   \ubd99\uc5ec: 3   \ub123\uc73c\uc138\uc694: 3   \uc8fc\uc18c\ubcf5\uc0ac: 4   \ub808\uc774\uc5b4: 7   \ub2eb\uae30: 9   5: 4   13: 3   \uc774\uc804: 8   \uc774\uc288UP: 10   \ud0a4\uc6cc\ub4dc: 5   \ubcf4\uae30: 17   \ub2e4\uc74c: 8   \uc774\uc288UP: 10   \ud0a4\uc6cc\ub4dc: 5   \ubcf4\uae30: 17   \uc1fc\ud551amp: 2   \uad11\uace0: 4   \uc601\uc5ed: 6   \uc1fc\ud551: 3   \uc624\ub298\uc758: 6   \ucd94\ucc9c\uc0c1\ud488: 2   \uc1fc\ud551\ubc15\uc2a4: 2   \uc810\uac80\uc911: 2   \ubd88\ud3b8\uc744: 2   \ub4dc\ub824: 2   \uc8c4\uc1a1\ud569\ub2c8\ub2e4: 2   \ub354: 2   \uc88b\uc740: 4   \uc11c\ube44\uc2a4\ub97c: 2   \uc704\ud574: 4   \uc1fc\ud551\ubc15\uc2a4\ub294: 2   \uc9c0\uae08: 2   \uc810\uac80: 2   \uc911\uc785\ub2c8\ub2e4: 2   \ub124\uc774\ud2b8: 12   \uc1fc\ud551\uc73c\ub85c: 2   \ubc14\ub85c\uac00\uae30: 6   \ud035\ub9c1\ud06c: 2   \ub9e8\uc704\ub85c: 2   \uc774\uc288: 2   \ubcf4\uae30: 17   \ud478\ud130: 3   \uc601\uc5ed: 6   \uacf5\uc9c0\uc0ac\ud56d: 2   \ub124\uc774\ud2b8: 12   \uc11c\ube44\uc2a4: 10   \uc774\uc6a9\uc57d\uad00: 2   \uac1c\uc815: 2   \uacf5\uc9c0: 2   \uc548\ub0b4\ub4dc\ub77c\ub9c8: 2   \uc18d: 2   \ud328\uc158\uc774: 2   \uad81\uae08\ud560: 2   \ub54c: 2   NATE: 2   \uc2a4\ud0c0\uc77c: 3   \uc774\uc804: 8   \ucee8\ud150\uce20: 9   \ubcf4\uae30: 17   \ub2e4\uc74c: 8   \ucee8\ud150\uce20: 9   \ubcf4\uae30: 17   \ub124\uc774\ud2b8: 12   \uacf5\uc6a9: 2   \ud478\ud130: 3   \ud68c\uc0ac\uc18c\uac1c: 2   \uad11\uace0\ubb38\uc758: 2   \uc11c\ube44\uc2a4: 10   \uc57d\uad00: 2   \uac1c\uc778\uc815\ubcf4\ucde8\uae09\ubc29\uce68: 2   \uccad\uc18c\ub144\ubcf4\ud638\uc815\ucc45: 2   \uace0\uac1d\uc13c\ud130: 4   copy: 2   SK: 2   Communications: 2   \uc11c\ube44\uc2a4: 10   \uc804\uccb4\ubcf4\uae30: 4   \uad11\uace0: 4   \uc601\uc5ed: 6   "
       ]
      },
      {
       "output_type": "stream",
       "stream": "stdout",
       "text": [
        "Initial length of source: 70594\n",
        "Last length of source:"
       ]
      },
      {
       "output_type": "stream",
       "stream": "stdout",
       "text": [
        " 18993\n",
        "Total num of plain words: 725\n",
        "\ud55c\uad6d\uae30\uc220\uad50\uc721\ub300\ud559\uad50: 4   \ud648\ud398\uc774\uc9c0: 3   \uc8fc\uc694\uba54\ub274: 2   \ubc14\ub85c\uac00\uae30: 4   \ubcf8\ubb38: 2   \ubc14\ub85c\uac00\uae30: 4   \ud558\ub2e8\uba54\ub274: 2   \ubc14\ub85c\uac00\uae30: 4   \ud604\uc7ac: 2   \uc2a4\ud06c\ub9bd\ud2b8\uac00: 2   \uaebc\uc838: 2   \uc788\ub294: 2   \uc0c1\ud0dc\uc785\ub2c8\ub2e4: 2   \uc2a4\ud06c\ub9bd\ud2b8\ub97c: 2   \uc0ac\uc6a9\ud558\uc9c0: 2   \uc54a\uc73c\uc2dc\uba74: 2   \ud648\ud398\uc774\uc9c0: 3   \uc774\uc6a9\uc5d0: 2   \ubd88\ud3b8\uc0ac\ud56d\uc774: 2   \uc788\uc2b5\ub2c8\ub2e4: 2   \uc2a4\ud06c\ub9bd\ud2b8: 2   \uc0ac\uc6a9\uc744: 2   \uad8c\uc7a5\ud569\ub2c8\ub2e4: 2   KOREATECH: 22   \ud55c\uad6d\uae30\uc220\uad50\uc721\ub300\ud559\uad50: 4   \ud0d1: 3   \uc720\ud2f8\uba54\ub274: 3   HOME: 2   LOGIN: 3   WEBMAIL: 3   SITEMAP: 3   ENGLISH: 3   CHINESE: 3   \ud1b5\ud569\uac80\uc0c9: 3   \uc785\ub825\ud3fc: 3   facebook: 3   daum: 3   naver: 3   youtube: 3   \ub300\ud559\uc18c\uac1c: 5   \ub300\ud559\uc18c\uac1c: 5   \ub300\ud559\uc18c\uac1c: 5   \ub300\ud55c\ubbfc\uad6d: 2   \uae30\uc220\ub9ac\ub354: 2   KOREATECH: 22   \uc138\uacc4\ub97c: 2   \ud488\ub2e4: 2   KOREATECH\uc18c\uac1c: 3   \ucd1d\uc7a5\uc2e4: 3   \ub300\ud559\ud604\ud669: 3   VISION2020: 3   KOREATECH20\ub144: 3   \ub300\ud559\uc870\uc9c1: 3   \uad6d\uc81c\uad50\ub958: 3   \uc0ac\uc774\ubc84\uac10\uc0ac\uc2e4: 3   KOREATECH\ubc1c\uc804\uae30\uae08: 3   \uc785\ud559\uc548\ub0b4: 7   \uc785\ud559\uc548\ub0b4: 7   \uc785\ud559\uc548\ub0b4: 7   \ud559\uc0dd\uc774: 6   \ud589\ubcf5\ud55c: 2   \ub300\ud559: 12   KOREATECH: 22   \ud559\uc0dd\uc911\uc2ec: 2   \uad50\uc721\uc911\uc2ec: 3   \ub300\ud559: 12   \ub300\ud559\uc6d0: 6   \ub300\ud559\ub300\ud559\uc6d0: 7   \ub300\ud559\ub300\ud559\uc6d0: 7   \ub300\ud559\ub300\ud559\uc6d0: 7   \uae30\uc5c5\uc774: 2   \uc2e0\ub8b0\ud558\ub294: 2   \ub300\ud559: 12   KOREATECH: 22   \uad50\uc721\uc911\uc2ec: 3   1\uc704: 4   \ub300\ud559: 12   \ub300\ud559: 12   \ub300\ud559\uc6d0: 6   \ub300\ud559\uc0dd\ud65c: 5   \ub300\ud559\uc0dd\ud65c: 5   \ub300\ud559\uc0dd\ud65c: 5   \ub300\ud55c\ubbfc\uad6d\uc758: 2   \ubbf8\ub798\ub97c: 2   \uc120\ub3c4\ud558\ub294: 2   \ud589\ubcf5\ub300\ud559: 2   KOREATECH: 22   \ud559\uc0ac\uc548\ub0b4: 3   \ud574\uc678\uc5f0\uc218: 5   \uc7a5\ud559\uc81c\ub3c4: 5   \ucea0\ud37c\uc2a4\uc0dd\ud65c: 3   \ubcd1\uc0ac\uc548\ub0b4: 3   \ucee4\ubba4\ub2c8\ud2f0: 5   \ucee4\ubba4\ub2c8\ud2f0: 5   \ucee4\ubba4\ub2c8\ud2f0: 5   \ub3c4\uc804: 2   \uc5f4\uc815: 2   \ucc3d\uc758: 2   \uc7ac\ud559\uc0dd: 4   \ub9cc\uc871\ub3c4: 2   1\uc704: 4   \ucde8\uc5c5\ub960: 2   1\uc704: 4   KOREATECH: 22   \uacf5\uc9c0\uc0ac\ud56d: 3   \ucc38\uc5ec\uac8c\uc2dc\ud310: 3   \uc790\ub8cc\uc2e4: 3   \uc124\ubb38\uc870\uc0ac: 3   \ud734\uba3c\uc544\uce74\ub370\ubbf8\uba85\uc0ac\ud2b9\uac15: 3   \ucde8\uc5c5\uc5ed\ub7c9\uac15\ud654\ub3d9\uc601\uc0c1: 3   \ud559\ubd80\ubaa8\ub2d8: 3   \uc758\uacac\ub780: 3   \ub300\ud559\ud64d\ubcf4: 5   \ub300\ud559\ud64d\ubcf4: 5   \ub300\ud559\ud64d\ubcf4: 5   \ub300\ud559\ubbfc\uad6d: 2   NO1: 2   \uad50\uc721\uc911\uc2ec\ub300\ud559: 3   KOREATECH: 22   KOREATECH: 22   NEWS: 6   \ud64d\ubcf4\uc601\uc0c1\ubb3c: 5   KOREATECH: 22   \ud64d\ubcf4\ub300\uc0ac: 3   \ucea0\ud37c\uc2a4\uc0ac\uc9c4: 5   \uc5b8\ub860\ubcf4\ub3c4\ubaa8\uc74c\uc9d1: 3   \ub300\ud559\uc18c\uc2dd\uc9c0: 3   \uc0ac\uc774\ubc84\ud22c\uc5b4: 3   \ucea0\ud37c\uc2a4\ud22c\uc5b4: 5   \ud64d\ubcf4\ube0c\ub85c\uc154: 3   \uc815\ubcf4\uacf5\uac1c: 7   \uc815\ubcf4\uacf5\uac1c: 7   \uc815\ubcf4\uacf5\uac1c: 7   \ud22c\uba85\ud55c: 2   \ud559\uad50\uc6b4\uc601: 2   \uad50\uc721\uc911\uc2ec\ub300\ud559: 3   KOREATECH: 22   \uc815\ubcf4\uacf5\uac1c: 7   \uacf5\uacf5\ub370\uc774\ud130\uac1c\ubc29: 3   \ud589\uc815\uacf5\uc2dc: 3   KOREATECH: 22   \ud55c\uad6d\uae30\uc220\uad50\uc721\ub300\ud559\uad50: 4   \ub300\ud559\uc18c\uac1c: 5   KOREATECH\uc18c\uac1c: 3   \ucd1d\uc7a5\uc2e4: 3   \ub300\ud559\ud604\ud669: 3   VISION2020: 3   KOREATECH20\ub144: 3   \ub300\ud559\uc870\uc9c1: 3   \uad6d\uc81c\uad50\ub958: 3   \uc0ac\uc774\ubc84\uac10\uc0ac\uc2e4: 3   KOREATECH\ubc1c\uc804\uae30\uae08: 3   \uc785\ud559\uc548\ub0b4: 7   \ub300\ud559: 12   \ub300\ud559\uc6d0: 6   \ub300\ud559\ub300\ud559\uc6d0: 7   \ub300\ud559: 12   \ub300\ud559\uc6d0: 6   \ub300\ud559\uc0dd\ud65c: 5   \ud559\uc0ac\uc548\ub0b4: 3   \ud574\uc678\uc5f0\uc218: 5   \uc7a5\ud559\uc81c\ub3c4: 5   \ucea0\ud37c\uc2a4\uc0dd\ud65c: 3   \ubcd1\uc0ac\uc548\ub0b4: 3   \ucee4\ubba4\ub2c8\ud2f0: 5   \uacf5\uc9c0\uc0ac\ud56d: 3   \ucc38\uc5ec\uac8c\uc2dc\ud310: 3   \uc790\ub8cc\uc2e4: 3   \uc124\ubb38\uc870\uc0ac: 3   \ud734\uba3c\uc544\uce74\ub370\ubbf8\uba85\uc0ac\ud2b9\uac15: 3   \ucde8\uc5c5\uc5ed\ub7c9\uac15\ud654\ub3d9\uc601\uc0c1: 3   \ud559\ubd80\ubaa8\ub2d8: 3   \uc758\uacac\ub780: 3   \ub300\ud559\ud64d\ubcf4: 5   KOREATECH: 22   NEWS: 6   \ud64d\ubcf4\uc601\uc0c1\ubb3c: 5   KOREATECH: 22   \ud64d\ubcf4\ub300\uc0ac: 3   \ucea0\ud37c\uc2a4\uc0ac\uc9c4: 5   \uc5b8\ub860\ubcf4\ub3c4\ubaa8\uc74c\uc9d1: 3   \ub300\ud559\uc18c\uc2dd\uc9c0: 3   \uc0ac\uc774\ubc84\ud22c\uc5b4: 3   \ucea0\ud37c\uc2a4\ud22c\uc5b4: 5   \ud64d\ubcf4\ube0c\ub85c\uc154: 3   \uc815\ubcf4\uacf5\uac1c: 7   \uc815\ubcf4\uacf5\uac1c: 7   \uacf5\uacf5\ub370\uc774\ud130\uac1c\ubc29: 3   \ud589\uc815\uacf5\uc2dc: 3   \ud1b5\ud569\uac80\uc0c9: 3   \uc785\ub825\ud3fc: 3   \ud0d1: 3   \uc720\ud2f8\uba54\ub274: 3   LOGIN: 3   WEBMAIL: 3   SITEMAP: 3   ENGLISH: 3   CHINESE: 3   facebook: 3   daum: 3   naver: 3   youtube: 3   \uc774\uc804: 4   \ub2e4\uc74c: 5   \ud31d\uc5c5\ub2eb\uae30: 2   \ud31d\uc5c5\uc5f4\uae30: 2   PEOPLE: 2   \uc7ac\ud559\uc0dd: 4   \uc628\ub77c\uc778\uad50\uc721\uc9c0\uc6d0: 8   \uc0dd\ud65c\uad00: 10   \uad50\ub0b4\uc778\uc99d: 7   SW: 7   \ubb34\uc120\ub79c\uc2e0\uccad: 7   \uc6d0\uaca9\uc9c0\uc6d0: 7   \uc624\ub298\uc758: 7   \uc2dd\ub2e8: 7   \uc2dc\uc124\ubcf4\uc218\uc2e0\uccad: 7   \ud559\uc0ac\uc885\ud569\uc11c\ube44\uc2a4: 5   \uc778\ud130\ub137\uc99d\uba85\ubc1c\uae09: 8   \uc2dc\uc124\ubb3c\uc2e0\uccad: 3   \ub3d9\uc544\ub9ac\uc548\ub0b4: 3   IPP\uc13c\ud130: 6   \uc608\ube44\ub300\ud559\uc0dd: 3   \uc785\ud559\uc548\ub0b4: 7   \ud559\ubd80\uc18c\uac1c: 3   \ucea0\ud37c\uc2a4\ud22c\uc5b4: 5   \ucc3e\uc544\uc624\uc2dc\ub294\uae38: 3   \uc0dd\ud65c\uad00: 10   \uad6d\uc81c\uad50\uc721\uc13c\ud130: 4   \ud574\uc678\uc5f0\uc218: 5   \uc7a5\ud559\uc81c\ub3c4: 5   \uc804\ud654\ubc88\ud638\ucc3e\uae30: 3   NEWS: 6   \ud64d\ubcf4\uc601\uc0c1\ubb3c: 5   \ucea0\ud37c\uc2a4\uc0ac\uc9c4: 5   \uad50\uc9c1\uc6d0: 3   \uc544\uc6b0\ub204\ub9ac: 3   \uc628\ub77c\uc778\uad50\uc721\uc9c0\uc6d0: 8   \uc0dd\ud65c\uad00: 10   \uad50\ub0b4\uc778\uc99d: 7   SW: 7   \ubb34\uc120\ub79c\uc2e0\uccad: 7   \uc6d0\uaca9\uc9c0\uc6d0: 7   \uc624\ub298\uc758: 7   \uc2dd\ub2e8: 7   \uc2dc\uc124\ubcf4\uc218\uc2e0\uccad: 7   \uc778\ud130\ub137\uc99d\uba85\ubc1c\uae09: 8   \uc804\uc790\ucd9c\uacb0RFID: 3   \ud559\uad50\ucc28\ub7c9\uc2e0\uccad: 3   \uad50\uc721\uc7a5\ube44\uac80\uc0c9: 3   \ub3d9\ubb38\uc778: 3   \uc628\ub77c\uc778\uad50\uc721\uc9c0\uc6d0: 8   \uc0dd\ud65c\uad00: 10   \uad50\ub0b4\uc778\uc99d: 7   SW: 7   \ubb34\uc120\ub79c\uc2e0\uccad: 7   \uc6d0\uaca9\uc9c0\uc6d0: 7   \uc624\ub298\uc758: 7   \uc2dd\ub2e8: 7   \uc2dc\uc124\ubcf4\uc218\uc2e0\uccad: 7   \uc778\ud130\ub137\uc99d\uba85\ubc1c\uae09: 8   \ucd1d\ub3d9\ubb38\ud68c: 3   \ud55c\uae30\ub300\ubc1c\uc804\uae30\uae08: 3   \ub2a5\ub825\uac1c\ubc1c\uad50\uc721\uc6d0: 5   \ub2eb\uae30: 4   BUS: 2   \ud559\uc0dd\uc774: 6   \ub9cc\uc871\ud558\ub294: 5   \ub300\ud559: 12   \uc0ac\uc2e4\uc5d0: 5   \uadfc\uac70\ud558\uc5ec: 5   \uc9c4\ub9ac\ub97c: 5   \ud0d0\uad6c\ud558\ub294: 5   \ud604\uc7a5\uc911\uc2ec\uacfc: 5   \uc2e4\ud5d8\uc2e4\uc2b5\uc744: 5   \uac15\uc870\ud558\ub294: 5   KOREATECH: 22   1: 6   1: 6   2: 5   3: 4   4: 4   \uc7ac\uc0dd: 3   \uc815\uc9c0: 4   \ud559\uc0dd\uc774: 6   \ub9cc\uc871\ud558\ub294: 5   \ub300\ud559: 12   \uc0ac\uc2e4\uc5d0: 5   \uadfc\uac70\ud558\uc5ec: 5   \uc9c4\ub9ac\ub97c: 5   \ud0d0\uad6c\ud558\ub294: 5   \ud604\uc7a5\uc911\uc2ec\uacfc: 5   \uc2e4\ud5d8\uc2e4\uc2b5\uc744: 5   \uac15\uc870\ud558\ub294: 5   KOREATECH: 22   \uc774\uc804: 4   \ub2e4\uc74c: 5   \ud559\uc0dd\uc774: 6   \ub9cc\uc871\ud558\ub294: 5   \ub300\ud559: 12   \uc0ac\uc2e4\uc5d0: 5   \uadfc\uac70\ud558\uc5ec: 5   \uc9c4\ub9ac\ub97c: 5   \ud0d0\uad6c\ud558\ub294: 5   \ud604\uc7a5\uc911\uc2ec\uacfc: 5   \uc2e4\ud5d8\uc2e4\uc2b5\uc744: 5   \uac15\uc870\ud558\ub294: 5   KOREATECH: 22   1: 6   2: 5   3: 4   4: 4   \uc7ac\uc0dd: 3   \uc815\uc9c0: 4   \ub370\uc2a4\ud06c\ud0d1: 2   \ud0dc\ube14\ub9bf: 2   \ube44\uc8fc\uc5bc: 3   \ud559\uc0dd\uc774: 6   \ub9cc\uc871\ud558\ub294: 5   \ub300\ud559: 12   \uc0ac\uc2e4\uc5d0: 5   \uadfc\uac70\ud558\uc5ec: 5   \uc9c4\ub9ac\ub97c: 5   \ud0d0\uad6c\ud558\ub294: 5   \ud604\uc7a5\uc911\uc2ec\uacfc: 5   \uc2e4\ud5d8\uc2e4\uc2b5\uc744: 5   \uac15\uc870\ud558\ub294: 5   KOREATECH: 22   \uc774\uc804: 4   \ub2e4\uc74c: 5   \ubaa8\ubc14\uc77c: 2   \ube44\uc8fc\uc5bc: 3   \uc77c\ubc18\uacf5\uc9c0: 2   2015\ud559\ub144\ub3c4: 2   1\ud559\uae30: 3   IH: 2   \uc785\uc0ac\uc2e0\uccad: 2   \uacf5\uc9c0: 2   \ucf54\ub9ac\uc544\ud14d: 2   \ud55c\uac00\uc871: 2   \uc18c\ud1b5: 2   \ucf58\uc11c\ud2b8\uc5d0: 2   \ucd08\ub300\ud569\ub2c8\ub2e4: 2   TEDxKoreaTechU: 2   2nd: 2   Event: 2   qu: 2   2014\ud559\ub144\ub3c4: 4   \ub300\ud559\uc6d0: 6   \uc6b0\uc218\uc5f0\uad6c\uc2e4Best: 2   Lab: 2   \ubc1c: 2   \ub300\uc990dazzle: 2   \uc81c\ube75: 2   \ud560\uc778: 2   \ud310\ub9e4\ud569\ub2c8\ub2e4: 2   \ub124\ud2b8\uc6cc\ud06c: 4   \uae34\uae09: 4   \ud328\uce58: 4   \uc791\uc5c5\uc73c\ub85c: 4   \uc778\ud55c: 4   \uc11c\ube44\uc2a4\uc548\ub0b4: 4   \ub124\ud2b8\uc6cc\ud06c: 4   \uae34\uae09: 4   \ud328\uce58: 4   \uc791\uc5c5\uc73c\ub85c: 4   \uc778\ud55c: 4   \uc11c\ube44\uc2a4\uc548\ub0b4: 4   \ub124\ud2b8\uc6cc\ud06c: 4   \uae34\uae09: 4   \ud328\uce58: 4   \uc791\uc5c5\uc73c\ub85c: 4   \uc778\ud55c: 4   \uc11c\ube44\uc2a4\uc548\ub0b4: 4   IPP\uc13c\ud130: 6   \uc81c3\uae30: 2   KOTRA: 2   IPP: 4   \uc124\uba85\ud68c: 3   \uc548\ub0b4: 4   IPP\uc13c\ud130: 6   2014\ud559\ub144\ub3c4: 4   \uc0c1\ubc18\uae30: 3   IPP: 4   \uc2e0\uccad: 4   \uc548\ub0b4IPP\uc13c\ud130: 2   2014\ud559\ub144\ub3c4: 4   \uc0c1\ubc18\uae30: 3   IPP: 4   \uc2e0\uccad: 4   \uc548\ub0b4: 4   KOREATECH: 22   \uc778\ubb38\ud5a5\uc5f0: 2   \uc778\ub514\ubc34\ub4dc: 2   \ucf58\uc11c\ud2b8: 2   THE: 2   \ud604\uc7a5\uc2e4\uc2b5: 3   \ub3d9\uacc4: 2   \uc778\ud134: 2   \ubc0f: 3   HRD: 2   \ud604\uc7a5\uc2e4\uc2b5: 3   \uc124\uba85\ud68c: 3   \uac1c\ucd5c: 2   \uc6b0\ub9ac\ub9d0: 2   \ubf50\ub0b4\uae30: 2   \uc900\ube44\ub97c: 2   \uc704\ud55c: 2   \uae00\uc4f0\uae30: 2   \ud2b9\uac15: 2   \uc548\ub0b4: 4   \ub354\ubcf4\uae30: 7   \uc7a5\ud559\uacf5\uc9c0: 2   \uad6d\uac00\uc7a5\ud5592015\ub144\ub3c4: 2   1\ud559\uae30: 3   \uad6d\uac00\uc7a5\ud559\uae08: 2   1\ucc28: 2   \ud559\uc0dd: 2   \uc2e0\uccad: 4   \uc804\uae30\uacf5\uc0ac\uacf5\uc81c\uc870\ud569\uc7a5\ud559\ud68c2015\ub144\ub3c4: 2   \uc81c10\uae30: 2   \uc7a5\ud559\uc0dd: 2   \uc120\ubc1c: 3   \uc9c0\ubc29\uc778\uc7ac\uc7a5\ud559\uae0820142\ud559\uae30: 2   \ucd94\uac00: 2   \uc9c0\ubc29\uc778\uc7ac\uc7a5\ud559\uc0dd: 2   \uc120\ubc1c: 3   \ub2e8\ube44\uc7a5\ud55920142\ud559\uae30: 2   \ub2e8\ube44\uc7a5\ud559\uae08\uad50\uc9c1\uc6d0: 2   \uc7a5\ud559\uae30\uae08: 2   \ud559\uc790\uae08: 3   \uc774\uc790\uc9c0\uc6d02014\ub144\ub3c4: 2   \ub300\ud559\uc0dd: 2   \ud559\uc790\uae08: 3   \uc774\uc790\uc9c0\uc6d0: 2   \uc0ac: 2   \ub354\ubcf4\uae30: 7   \ucde8\uc5c5\uacf5\uc9c0: 2   AhnLab: 2   QA\uc5f0\uc218\uc0dd: 2   \ubaa8\uc9d1: 3   \ub300\ubc29\uac74\uc124\uc8fc: 2   \ucc44\uc6a9\uacf5\uace0: 4   \ub2e8\uc554\uc2dc\uc2a4\ud15c\uc988: 2   \uc2e0\uc785: 2   \ubc0f: 3   \uacbd\ub825: 2   \ubaa8\uc9d1: 3   \uc138\uba54\uc2a4\uc911\uad6d\ubc95\uc778: 2   \ubc18\ub3c4\uccb4: 2   \uc124\ube44: 2   \uc5d4\uc9c0\ub2c8\uc5b4: 2   \ucc44\uc6a9\uacf5\uace0: 4   \ud55c\uad6d\uae30\uacc4\uc5f0\uad6c\uc6d0: 2   \ucc44\uc6a9\uacf5\uace0: 4   \ub354\ubcf4\uae30: 7   \ub354\ubcf4\uae30: 7   \ub354\ubcf4\uae30: 7   KOREATECH: 22   NEWS: 6   \uc0b0\uacbd\ud559\ubd80: 3   \uc878\uc5c5\uc0dd: 2   \ub798\ub514\uc5d4\uc2a4\ud0c0\ud2b8: 2   \u2018\uc11c\uc6b8\uc2dc: 2   \ud601\uc2e0\ud615\uc0ac\uc5c5: 2   \uc120\uc815\u2019: 2   \ud55c\uad6d\uae30\uc220\uad50\uc721\ub300: 4   \u2018\uc81c2\ud68c: 2   \uc138\uacc4\uc9c0\uc2dd\uacf5\uc720\u2019: 2   TEDx\ud14c\ub4dc\uc5d1\uc2a4: 2   \uc0b0\uacbd\ud559\ubd80: 3   \uc790\uc774\uc5d4\ud2b8: 2   \u2018\uc0ac\ud68c\uc801\uae30\uc5c5\uac00: 2   \uc721\uc131\uc0ac\uc5c5: 2   \uc6b0\uc218: 2   \ucc3d\uc5c5\ud300: 2   \ud55c\uad6d\uae30\uc220\uad50\uc721\ub300: 4   HRD\uc13c\ud130: 3   \u2018Skill: 2   Assessor\uff07: 2   \ud55c\uad6d\uae30\uc220\uad50\uc721\ub300: 4   \uc124\uc21c\uc6b1: 2   \uad50\uc218\ud300: 2   \u2018\ub9cc\ubb3c\uc778\ud130\ub137: 2   \ub300\ud68c\u2019\uc6b0\uc218\uc0c1: 2   \ub354\ubcf4\uae30: 7   \ud31d\uc5c5\uc874: 2   1: 6   2: 5   3: 4   4: 4   1: 6   2: 5   \uc815\uc9c0: 4   \ud50c\ub808\uc774: 2   UNIVERSITY: 2   OF: 2   KOREATECH: 22   Cyber: 2   Tour: 2   \uc790\uc8fc\ucc3e\ub294: 4   \uc11c\ube44\uc2a4: 5   \ud559\uc0ac\uc885\ud569\uc11c\ube44\uc2a4: 5   \uc628\ub77c\uc778\uad50\uc721: 2   \uc778\ud130\ub137\uc99d\uba85\ubc1c\uae09: 8   \ud559\uc0ac\uc77c\uc815: 3   \ubc1c\uc804\uae30\uae08: 3   \ub3c4\uc11c\uad00\uc774\uc6a9\uc548\ub0b4: 2   \ud559\uacfc\uc548\ub0b4: 3   \uc218\uac15\uc2e0\uccad: 3   \uc790\uc8fc\ucc3e\ub294: 4   \uc11c\ube44\uc2a4: 5   \uc790\uc8fc\ucc3e\ub294: 4   \uc11c\ube44\uc2a4: 5   \ud559\uc0ac\uc885\ud569: 2   \uc11c\ube44\uc2a4: 5   \uc628\ub77c\uc778: 2   \uad50\uc721: 2   \uc778\ud130\ub137: 2   \uc99d\uba85\ubc1c\uae09: 2   \ud559\uc0ac\uc77c\uc815: 3   \ubc1c\uc804\uae30\uae08: 3   \ub3c4\uc11c\uad00: 2   \uc774\uc6a9\uc548\ub0b4: 2   \ud559\uacfc\uc548\ub0b4: 3   \uc218\uac15\uc2e0\uccad: 3   \ub2eb\uae30: 4   People: 2   \uc7ac\ud559\uc0dd: 4   \uc628\ub77c\uc778\uad50\uc721\uc9c0\uc6d0: 8   \uc0dd\ud65c\uad00: 10   \uad50\ub0b4\uc778\uc99d: 7   SW: 7   \ubb34\uc120\ub79c\uc2e0\uccad: 7   \uc6d0\uaca9\uc9c0\uc6d0: 7   \uc624\ub298\uc758: 7   \uc2dd\ub2e8: 7   \uc2dc\uc124\ubcf4\uc218\uc2e0\uccad: 7   \ud559\uc0ac\uc885\ud569\uc11c\ube44\uc2a4: 5   \uc778\ud130\ub137\uc99d\uba85\ubc1c\uae09: 8   \uc2dc\uc124\ubb3c\uc2e0\uccad: 3   \ub3d9\uc544\ub9ac\uc548\ub0b4: 3   IPP\uc13c\ud130: 6   \uc608\ube44\ub300\ud559\uc0dd: 3   \uc785\ud559\uc548\ub0b4: 7   \ud559\ubd80\uc18c\uac1c: 3   \ucea0\ud37c\uc2a4\ud22c\uc5b4: 5   \ucc3e\uc544\uc624\uc2dc\ub294\uae38: 3   \uc0dd\ud65c\uad00: 10   \uad6d\uc81c\uad50\uc721\uc13c\ud130: 4   \ud574\uc678\uc5f0\uc218: 5   \uc7a5\ud559\uc81c\ub3c4: 5   \uc804\ud654\ubc88\ud638\ucc3e\uae30: 3   NEWS: 6   \ud64d\ubcf4\uc601\uc0c1\ubb3c: 5   \ucea0\ud37c\uc2a4\uc0ac\uc9c4: 5   \uad50\uc9c1\uc6d0: 3   \uc544\uc6b0\ub204\ub9ac: 3   \uc628\ub77c\uc778\uad50\uc721\uc9c0\uc6d0: 8   \uc0dd\ud65c\uad00: 10   \uad50\ub0b4\uc778\uc99d: 7   SW: 7   \ubb34\uc120\ub79c\uc2e0\uccad: 7   \uc6d0\uaca9\uc9c0\uc6d0: 7   \uc624\ub298\uc758: 7   \uc2dd\ub2e8: 7   \uc2dc\uc124\ubcf4\uc218\uc2e0\uccad: 7   \uc778\ud130\ub137\uc99d\uba85\ubc1c\uae09: 8   \uc804\uc790\ucd9c\uacb0RFID: 3   \ud559\uad50\ucc28\ub7c9\uc2e0\uccad: 3   \uad50\uc721\uc7a5\ube44\uac80\uc0c9: 3   \ub3d9\ubb38\uc778: 3   \uc628\ub77c\uc778\uad50\uc721\uc9c0\uc6d0: 8   \uc0dd\ud65c\uad00: 10   \uad50\ub0b4\uc778\uc99d: 7   SW: 7   \ubb34\uc120\ub79c\uc2e0\uccad: 7   \uc6d0\uaca9\uc9c0\uc6d0: 7   \uc624\ub298\uc758: 7   \uc2dd\ub2e8: 7   \uc2dc\uc124\ubcf4\uc218\uc2e0\uccad: 7   \uc778\ud130\ub137\uc99d\uba85\ubc1c\uae09: 8   \ucd1d\ub3d9\ubb38\ud68c: 3   \ud55c\uae30\ub300\ubc1c\uc804\uae30\uae08: 3   \ub2a5\ub825\uac1c\ubc1c\uad50\uc721\uc6d0: 5   \ub2eb\uae30: 4   \uad00\ub828\uc0ac\uc774\ud2b8: 2   \ub300\ud559\ub300\ud559\uc6d0: 7   \ub300\ud559\ub300\ud559\uc6d0: 7   \uae30\uacc4\uacf5\ud559\ubd80: 2   \uba54\uce74\ud2b8\ub85c\ub2c9\uc2a4\uacf5\ud559\ubd80: 2   \uc804\uae30\uc804\uc790\ud1b5\uc2e0\uacf5\ud559\ubd80: 2   \ucef4\ud4e8\ud130\uacf5\ud559\ubd80: 2   \ub514\uc790\uc778\uacf5\ud559\uacfc: 2   \uac74\ucd95\uacf5\ud559\ubd80: 2   \uc5d0\ub108\uc9c0\uc2e0\uc18c\uc7ac\ud654\ud559\uacf5\ud559\ubd80: 2   \uc0b0\uc5c5\uacbd\uc601\ud559\ubd80: 2   \uad50\uc591\ud559\ubd80: 2   \uba54\uce74IT\uc735\ud569\uacf5\ud559\uacfc: 2   \uc77c\ubc18\ub300\ud559\uc6d0: 2   \ud14c\ud06c\ub178\uc778\ub825\uac1c\ubc1c\uc804\ubb38\ub300\ud559\uc6d0: 2   IT\uc735\ud569\uacfc\ud559\uacbd\uc601\ub300\ud559\uc6d0: 2   \ucd5c\uace0\uacbd\uc601\uc790\uacfc\uc815: 2   \uc8fc\uc694\uc0ac\uc774\ud2b8: 3   \uc8fc\uc694\uc0ac\uc774\ud2b8: 3   \ub2e4\uc74c: 5   \uacf5\uc2dd\uce74\ud398: 2   \ud559\uc0ac\uc885\ud569\uc11c\ube44\uc2a4: 5   \uc628\ub77c\uc778\uad50\uc721\uc9c0\uc6d0: 8   \uc6f9\uac24\ub7ec\ub9ac: 2   \ub3d9\ubb38\ud648\ud398\uc774\uc9c0: 2   \uc6f9\uba54\uc77c: 2   "
       ]
      },
      {
       "output_type": "stream",
       "stream": "stdout",
       "text": [
        "\uace0\uc6a9\ubd80: 3   \uc7a1\uc601: 2   \uace0\uc6a9\ubd80: 3   \uc6cc\ud06c\ub137: 2   \uc7a1\ucf54\ub9ac\uc544: 2   \uc0ac\ub78c\uc778: 2   \uc778\ud06c\ub8e8\ud2b8: 2   \uad50\ub0b4\uc8fc\uc694\uae30\uad00: 3   \uad50\ub0b4\uc8fc\uc694\uae30\uad00: 3   \uace0\uc6a9\ub178\ub3d9\uc5f0\uc218\uc6d0: 2   \ub2a5\ub825\uac1c\ubc1c\uad50\uc721\uc6d0: 5   \ub2e4\uc0b0\uc815\ubcf4\uad00: 2   \ub2a5\ub825\uac1c\ubc1c\uad50\uc721\uc6d0: 5   \uc774\ub7ec\ub2dd\ud559\uc2b5: 2   \ucc3d\uc870\uc778\uc7ac\uad50\uc721\uac1c\ubc1c\ub2e8: 2   \uc0b0\ud559\ud611\ub825\ub2e8: 2   LINC\uc0ac\uc5c5\ub2e8: 2   \uc0dd\ud65c\ud611\ub3d9\uc870\ud569: 2   \uc0dd\ud65c\uad00: 10   \uad6d\uc81c\uad50\uc721\uc13c\ud130: 4   \uacf5\ud559\uad50\uc721\ud601\uc2e0\uc13c\ud130: 3   MOT\uc0ac\uc5c5\ub2e8: 2   \ubc18\ub3c4\uccb4\uc7a5\ube44\uad50\uc721\uc13c\ud130: 2   \uac1c\ub3c4\uad6d\uae30\uc220\uc774\uc804\uc5f0\uad6c\uc18c: 2   HRD\uc13c\ud130: 3   \ub300\ud559\uad50\uc721\uac1c\ubc1c\uc13c\ud130: 2   \uc0c1\ub2f4\uc9c4\ub85c\uac1c\ubc1c\uc13c\ud130: 2   IPP\uc13c\ud130: 6   PSM\uc0ac\uc5c5\ub2e8: 2   CIGMA: 2   CENTER: 2   \uc628\ub77c\uc778\ud3c9\uc0dd\uad50\uc721\uc6d0: 2   \ud3c9\uc0dd\ub2a5\ub825\uac1c\ubc1c\uc774\ub7ec\ub2dd\uc13c\ud130: 2   \ud559\uc0dd\uc790\uce58\ub2e8\uccb4: 3   \ud559\uc0dd\uc790\uce58\ub2e8\uccb4: 3   \ucd1d\ud559\uc0dd\ud68c: 2   \ucd1d\uc5ec\ud559\uc0dd\ud68c: 2   \ucd1d\ub3d9\uc544\ub9ac\uc5f0\ud569\ud68c: 2   \ud55c\uae30\ub300\ubc29\uc1a1\uad6d: 2   \ud55c\uae30\ub300\uc2e0\ubb38\uc0ac: 2   \uad50\uc9c0\ud3b8\uc9d1\uc704\uc6d0\ud68c: 2   \uc0dd\ud65c\uad00\uc790\uce58\ud68c: 2   \uc804\uad6d\ub300\ud559\uc0dd\ud558\uc774\ube0c\ub9ac\ub4dc\uc790\ub3d9\ucc28\uacbd\uc9c4\ub300\ud68c: 2   \uc878\uc900\uc70408: 2   \uc878\uc900\uc70407: 2   \ub300\uc678\uc720\uad00\uae30\uad00: 3   \ub300\uc678\uc720\uad00\uae30\uad00: 3   \uace0\uc6a9\ub178\ub3d9\ubd80: 2   \uc0b0\uc5c5\ud1b5\uc0c1\uc790\uc6d0\ubd80: 2   \uae30\ud68d\uc7ac\uc815\ubd80: 2   \ud55c\uad6d\uc0b0\uc5c5\uc778\ub825\uacf5\ub2e8: 2   \ud55c\uad6d\ud3f4\ub9ac\ud14d\ub300\ud559: 2   \ud55c\uad6d\uad50\uc721\uac1c\ubc1c\uc6d0: 2   \ud55c\uad6d\ub178\ub3d9\uc5f0\uad6c\uc6d0: 2   \uadfc\ub85c\ubcf5\uc9c0\uacf5\ub2e8: 2   \ud55c\uad6d\uc0b0\uc5c5\uc548\uc804\ubcf4\uac74\uacf5\ub2e8: 2   \ud55c\uad6d\uace0\uc6a9\uc815\ubcf4\uc6d0: 2   \ud55c\uad6d\uc9c1\uc5c5\ub2a5\ub825\uac1c\ubc1c\uc6d0: 2   \uc7a5\uc560\uc778\uace0\uc6a9\uacf5\ub2e8: 2   \ucda9\uccad\ub0a8\ub3c4\uccad: 2   \ucc9c\uc548\uc2dc\uccad: 2   \uad6d\ubbfc\uad8c\uc775\uc704\uc6d0\ud68c: 2   \uad50\uacfc\ubd80: 2   NTIS: 2   \uc6d0\uaca9\ud6c8\ub828\uc2ec\uc0ac\uc13c\ud130: 2   Footer: 3   link: 3   Footer: 3   link: 3   \uac1c\uc778\uc815\ubcf4\ucc98\ub9ac\ubc29\uce68: 3   \uc774\uba54\uc77c\ubb34\ub2e8\uc218\uc9d1\uac70\ubd80: 3   \uc724\ub9ac\ud5cc\uc7a5: 3   \ud589\uc815\uc11c\ube44\uc2a4\ud5cc\uc7a5: 3   \uc54c\ub9ac\uc624: 3   \ub300\ud559\uc54c\ub9ac\ubbf8: 3   \ub300\ud559\uc815\ubcf4\uacf5\uc2dc: 2   \uacf5\ud559\uad50\uc721\uc778\uc99d\uc548\ub0b4: 2   \ub3c4\ub85c\uba85\uc8fc\uc18c\uc548\ub0b4: 3   \uac1c\uc778\uc815\ubcf4\ucc98\ub9ac\ubc29\uce68: 3   \uc800\uc791\uad8c\uc815\ucc45: 2   \uc774\uba54\uc77c\ubb34\ub2e8\uc218\uc9d1\uac70\ubd80: 3   \uc724\ub9ac\ud5cc\uc7a5: 3   \ud589\uc815\uc11c\ube44\uc2a4\ud5cc\uc7a5: 3   \uc54c\ub9ac\uc624: 3   \ub300\ud559\uc54c\ub9ac\ubbf8: 3   \uacf5\ud559\uad50\uc721\ud601\uc2e0\uc13c\ud130: 3   \ub3c4\ub85c\uba85\uc8fc\uc18c\uc548\ub0b4: 3   330708: 2   \ucda9\ub0a8: 2   \ucc9c\uc548\uc2dc: 2   \ub3d9\ub0a8\uad6c: 2   \ubcd1\ucc9c\uba74: 2   \ucda9\uc808\ub85c: 2   1600: 2   \uac00\uc804\ub9ac: 2   307nbspnbspnbspTel: 2   0415601114: 2   Copyright\u24d22014: 2   KOREATECH: 22   All: 2   rights: 2   reserved: 2  \n"
       ]
      }
     ],
     "prompt_number": 8
    },
    {
     "cell_type": "markdown",
     "metadata": {},
     "source": [
      "\uae30\uc874\uc5d0 \uc788\ub358 \uc18c\uc2a4\uc5d0\uc11c test \ud568\uc218\ub97c \ub9cc\ub4e4\uc5b4 \uc9d1\uc5b4 \ub123\uc5b4 \uc90d\ub2c8\ub2e4. \uadf8 \ud6c4, pickle.dump(\uac1d\uccb4, \ud30c\uc77c\uac1d\uccb4)\ub97c \ud1b5\ud558\uc5ec k\uac1d\uccb4\ub97c \uac01 \ud30c\uc77c\uac1d\uccb4\uc5d0\ub2e4\uac00 \ub123\uc5b4\uc90d\ub2c8\ub2e4."
     ]
    },
    {
     "cell_type": "markdown",
     "metadata": {},
     "source": [
      "  "
     ]
    },
    {
     "cell_type": "markdown",
     "metadata": {},
     "source": [
      "  "
     ]
    },
    {
     "cell_type": "markdown",
     "metadata": {},
     "source": [
      "  "
     ]
    },
    {
     "cell_type": "markdown",
     "metadata": {},
     "source": [
      "###[9\ubc88 \ubb38\uc81c] \uc704 \ubb38\uc81c\uc5d0\uc11c \uc800\uc7a5\ud55c \ubaa8\ub4e0 words.frequency \ud30c\uc77c\ub4e4\uc744 \ub85c\ub4dc \ud558\uc5ec \ubcf8\uc778\uc774 \uc800\uc7a5\ud558\uc5ec \ubd84\uc11d\ud55c \uc0ac\uc774\ud2b8\ub4e4\uc5d0\uc11c \uac00\uc7a5 \ub9ce\uc774 \ucd9c\ud604\ud55c \ub2e8\uc5b4\ub97c \ubf51\uc544 \uc81c\uc2dc\ud558\uc2dc\uc624.\n",
      "- 8\ubc88 \ubb38\uc81c\uc640\ub294 \ub2e4\ub978 \ubcc4\ub3c4\uc758 \ud504\ub85c\uadf8\ub7a8\uc73c\ub85c \uc791\uc131\ud558\uc2dc\uc624."
     ]
    },
    {
     "cell_type": "code",
     "collapsed": false,
     "input": [
      "import string\n",
      "import urllib\n",
      "import pickle\n",
      "\n",
      "def maxCount(site) :\n",
      "    SITE = pickle.load(site)\n",
      "    MAX = 0\n",
      "    MAXpos = 0\n",
      "    for i in range(0, len(SITE)) :\n",
      "        count = 1\n",
      "        for j in range(0, len(SITE)) :\n",
      "            if SITE[i] == SITE[j] :\n",
      "                count = count + 1\n",
      "        if MAX < count :\n",
      "            MAX = count\n",
      "            MAXpos = i\n",
      "        \n",
      "    return (SITE[MAXpos], MAX)\n",
      "    \n",
      "cse = open('cse.kut.ac.kr.words.frequency')\n",
      "x1, y1 = maxCount(cse)\n",
      "naver = open(\"www.naver.com.words.frequency\")\n",
      "x2, y2 = maxCount(naver)\n",
      "google = open('www.google.co.kr.words.frequency')\n",
      "x3, y3 = maxCount(google)\n",
      "nate = open(\"www.nate.com.words.frequency\")\n",
      "x4, y4 = maxCount(nate)\n",
      "koreatech = open(\"www.koreatech.ac.kr.words.frequency\")\n",
      "x5, y5 =maxCount(koreatech)\n",
      "MAXcount = 0\n",
      "Maxcount = 0\n",
      "Site = [x1, x2, x3, x4, x5]\n",
      "MAXsite = [y1, y2, y3, y4, y5]\n",
      "for i in range(0, len(MAXsite)) :\n",
      "    if MAXcount < MAXsite[i] :\n",
      "        MAXcount = MAXsite[i]\n",
      "        Maxcount = i\n",
      "\n",
      "print Site[Maxcount], MAXcount"
     ],
     "language": "python",
     "metadata": {},
     "outputs": [
      {
       "output_type": "stream",
       "stream": "stdout",
       "text": [
        "KOREATECH 22\n"
       ]
      }
     ],
     "prompt_number": 5
    },
    {
     "cell_type": "markdown",
     "metadata": {},
     "source": [
      "maxCount \ud568\uc218\ub97c \ud1b5\ud558\uc5ec \uac01 SITE\ubcc0\uc218\uc5d0 pickle\uc744 \ub2e4\uc2dc \ubd88\ub7ec\uc90d\ub2c8\ub2e4. \uadf8 \ud6c4, \uac01 \ub2e8\uc5b4\uac00 \uba87\uac1c\uc529 \ub098\uc624\ub294\uc9c0 \uc774\uc911 for\ubb38\uc744 \ud1b5\ud558\uc5ec \uc124\uc815\ud558\uc5ec\uc8fc\uace0 if\ubb38\uc744 \ud1b5\ud558\uc5ec MAX\uac12\uc744 \ucc3e\uc740 \ud6c4(\uac00\uc7a5 \ub9ce\uc774 \ub098\uc628 \uac12) \uac00\uc7a5 \ub9ce\uc774\ub098\uc628\ub2e8\uc5b4, \ub098\uc628 \uc22b\uc790\ub85c \ud29c\ud50c\ub85c \ubc18\ud658\ud558\uc5ec \uc90d\ub2c8\ub2e4.\n",
      "\uadf8 \ud6c4 \ubcf8\ubb38\uc5d0\uc11c x1,y1 ~ x5, y5\ub85c \uac01 \uac12\uc744 \uc800\uc7a5\ud558\uc5ec\uc8fc\uace0 for\ubb38\uc744 \ud1b5\ud558\uc5ec \uac00\uc7a5 \ub9ce\uc774 \ub098\uc628 \uac12\uc744 \ucc3e\uace0, \uadf8\uac12\uc5d0 \ud574\ub2f9\ud558\ub294 \ub2e8\uc5b4\ub97c \ucd9c\ub825\ud558\uc5ec \uc90d\ub2c8\ub2e4."
     ]
    },
    {
     "cell_type": "markdown",
     "metadata": {},
     "source": [
      " "
     ]
    },
    {
     "cell_type": "markdown",
     "metadata": {},
     "source": [
      " "
     ]
    },
    {
     "cell_type": "markdown",
     "metadata": {},
     "source": [
      "##\ub290\ub080\uc810"
     ]
    },
    {
     "cell_type": "markdown",
     "metadata": {},
     "source": [
      "\uc774\ubc88\uacfc\uc81c\ub294 \ud3c9\uc18c\ubcf4\ub2e4 \ud6e8\uc52c \ub354 \uc624\ub798 \uac78\ub9b0\uac83 \uac19\uc2b5\ub2c8\ub2e4. 1\ubc88\ubd80\ud130 \ubb38\uc81c\uac00 \ubcf5\uc7a1\ud558\uc5ec \ub9ce\uc774 \ud5e4\uba54\uc600\uace0 \ud2b9\ud788 2\ubc88\uc740 \ud30c\uc77c \uc785\ucd9c\ub825\uc744 \uc798 \ub2e4\ub8f0\uc904 \uc54c\uc544\uc57c \ud480\uc218 \uc788\ub294 \ubb38\uc81c\ub77c \uacf5\ubd80\ud558\ub294\ub370 \uc880 \uc624\ub798\uac78\ub838\uc2b5\ub2c8\ub2e4. \ub098\uba38\uc9c0 3 ~ 7\ubc88\uae4c\uc9c0\ub294 \uae30\ubcf8 \uc9c0\uc2dd\ub9cc \uc54c\uba74 \uae08\ubc29 \ud480 \uc218 \uc788\uc5b4\uc11c \uc218\uc6d4\ud588\uace0 8\ubc88 9\ubc88\uc740 \ub0b4\uc6a9\uc774 \uc774\ud574\uac00 \uc798 \ub418\uc9c0 \uc54a\uc544 \uc774\ud574\ud558\ub294\ub370 \uc624\ub798 \uac78\ub838\uc2b5\ub2c8\ub2e4. pickle\uc5d0 \ub300\ud574 \uc798 \uc54c\uc9c0 \ubabb\ud558\uc5ec \uc778\ud130\ub137\uacfc \ucc45\uc744 \ucc3e\uc544\ubcf4\uba70 \ud588\uc2b5\ub2c8\ub2e4. \uacfc\uc81c\ud558\uae30 \uc804\uc5d0\ub294 \ubb38\uc81c\ub9cc \ubcf4\uace0 \ub0b4\uac00 \uacfc\uc5f0 \uc774\uac78 \ud560 \uc218 \uc788\uc744\uae4c \ub77c\ub294 \uac71\uc815\uc774 \ub9ce\uc774 \ub4e4\uc5c8\uc9c0\ub9cc \uace0\uc0dd\ud55c \ub9cc\ud07c \uc5bb\uc5b4\uac00\ub294\uac83\ub3c4 \ub9ce\uc740 \uac83 \uac19\uc2b5\ub2c8\ub2e4."
     ]
    },
    {
     "cell_type": "code",
     "collapsed": false,
     "input": [],
     "language": "python",
     "metadata": {},
     "outputs": []
    },
    {
     "cell_type": "code",
     "collapsed": false,
     "input": [],
     "language": "python",
     "metadata": {},
     "outputs": []
    }
   ],
   "metadata": {}
  }
 ]
}