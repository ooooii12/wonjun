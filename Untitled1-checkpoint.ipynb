{
 "metadata": {
  "name": "",
  "signature": "sha256:fe9227baf7a2bc064523ec9d5f8638cd31a387581ded8bd73f1f0b4f07232fa0"
 },
 "nbformat": 3,
 "nbformat_minor": 0,
 "worksheets": [
  {
   "cells": [
    {
     "cell_type": "markdown",
     "metadata": {},
     "source": [
      "### 2011136023 \uae40\uc6d0\uc900"
     ]
    },
    {
     "cell_type": "markdown",
     "metadata": {},
     "source": [
      "### \u2022 a=\"Hello Python\" \ubb38\uc790\uc5f4\uc744 Slicing\uacfc \uc5f0\uacb0 \uc5f0\uc0b0\uc790 (+)\ub97c \uc0ac\uc6a9\ud558\uc5ec \"Python Hello\"\ub85c \ubcc0\uacbd\ud558\uc2dc\uc624.\n",
      "\n",
      "### \u25fe[\uc8fc\uc758] a \ubcc0\uc218 \uc790\uccb4\uc5d0 \"Python Hello\" \ubb38\uc790\uc5f4\uc774 \uc800\uc7a5\ub418\uc5b4\uc57c \ud568\n",
      "\n",
      "### "
     ]
    },
    {
     "cell_type": "code",
     "collapsed": false,
     "input": [
      "a = \"Hello Python\"\n",
      "a = a[6:] + \" \" + a[:5]\n",
      "print a"
     ],
     "language": "python",
     "metadata": {},
     "outputs": [
      {
       "output_type": "stream",
       "stream": "stdout",
       "text": [
        "Python Hello\n"
       ]
      }
     ],
     "prompt_number": 1
    },
    {
     "cell_type": "markdown",
     "metadata": {},
     "source": [
      "\uccab\ubc88\uc9f8 a = \"Hello python\" \uc744 \ud1b5\ud574 a\uc5d0\ub2e4\uac00 Hello python\uc744 \uc800\uc7a5\ud569\ub2c8\ub2e4."
     ]
    },
    {
     "cell_type": "markdown",
     "metadata": {},
     "source": [
      "\ub450\ubc88\uc9f8 a = a[6:]\uc744 \ud568\uc73c\ub85c\uc368 \ucc98\uc74c\uc5d0 Python\uc744 \uc800\uc7a5\uc2dc\ud0a4\uace0 + \ub97c \uc774\uc6a9\ud558\uc5ec \" \"(\ub744\uc5b4\uc4f0\uae30)\ub97c \ud574\uc90d\ub2c8\ub2e4. \ub610 \ub9c8\uc9c0\ub9c9\uc5d0 + \ub97c \uc774\uc6a9\ud558\uace0 a[:5]\ub97c \ud574\uc90c\uc73c\ub85c\uc368 Hello\ub97c \uc800\uc7a5\uc2dc\ud0b5\ub2c8\ub2e4."
     ]
    },
    {
     "cell_type": "markdown",
     "metadata": {},
     "source": [
      "\uc138\ubc88\uc9f8 print \ud568\uc218\ub97c \ud1b5\ud558\uc5ec a\ub97c \ucd9c\ub825\ud574\uc90d\ub2c8\ub2e4."
     ]
    },
    {
     "cell_type": "markdown",
     "metadata": {},
     "source": [
      "### \n",
      "### \u2022 b=\"Hello Python World\" \ubb38\uc790\uc5f4\uc744 Slicing\uacfc \uc5f0\uacb0 \uc5f0\uc0b0\uc790 (+)\ub97c \uc0ac\uc6a9\ud558\uc5ec \"World Python Hello\"\ub85c \ubcc0\uacbd\ud558\uc2dc\uc624.\n",
      "\n",
      "### \u25fe [\uc8fc\uc758] b \ubcc0\uc218 \uc790\uccb4\uc5d0 \"Python Hello\" \ubb38\uc790\uc5f4\uc774 \uc800\uc7a5\ub418\uc5b4\uc57c \ud568 \n",
      "### "
     ]
    },
    {
     "cell_type": "code",
     "collapsed": false,
     "input": [
      "b = \"Hello Python World\"\n",
      "b = b[13:] + \" \" + b[6:13] + b[:6]\n",
      "print b"
     ],
     "language": "python",
     "metadata": {},
     "outputs": [
      {
       "output_type": "stream",
       "stream": "stdout",
       "text": [
        "World Python Hello \n"
       ]
      }
     ],
     "prompt_number": 2
    },
    {
     "cell_type": "markdown",
     "metadata": {},
     "source": [
      "\uccab\ubc88\uc9f8 b=\"Hello Python World\"\uc744 \ud1b5\ud574 b\uc5d0\ub2e4\uac00 Hello Python World\ub97c \uc800\uc7a5\ud569\ub2c8\ub2e4."
     ]
    },
    {
     "cell_type": "markdown",
     "metadata": {},
     "source": [
      "\ub450\ubc88\uc9f8 b = b[13:]\uc744 \ud568\uc73c\ub85c\uc368 13\ubc88\uc9f8\ubd80\ud130 \ub05d\uae4c\uc9c0 \uc989, World\ub97c \uc800\uc7a5\uc2dc\ud0a4\uace0 + \ub97c \uc774\uc6a9\ud558\uc5ec \" \"(\ub744\uc5b4\uc4f0\uae30)\ub97c \ud574\uc90d\ub2c8\ub2e4. \uadf8\ub9ac\uace0 +\ub97c \uc774\uc6a9\ud558\uc5ec b[6:13] \uc989, 6\ubc88\uc9f8\ubd80\ud130 12\ubc88\uc9f8\uae4c\uc9c0 \ub2e8\uc5b4 Python\uc744 \uc800\uc7a5\uc2dc\ud0a4\uace0 \ub9c8\uc9c0\ub9c9\uc73c\ub85c +\ub97c \uc774\uc6a9\ud558\uc5ec b[:6] \uc989, \ucc98\uc74c\ubd80\ud130 5\ubc88\uc9f8 \ub2e8\uc5b4 Hello\ub97c \uc800\uc7a5\uc2dc\ud0b5\ub2c8\ub2e4."
     ]
    },
    {
     "cell_type": "markdown",
     "metadata": {},
     "source": [
      "\uc138\ubc88\uc9f8 print \ud568\uc218\ub97c \ud1b5\ud558\uc5ec b\ub97c \ucd9c\ub825\ud574\uc90d\ub2c8\ub2e4."
     ]
    },
    {
     "cell_type": "markdown",
     "metadata": {},
     "source": [
      "### \n",
      "### \u2022c=\"Hello\"\ub97c \"olleH\"\ub85c \ubcc0\uacbd\ud558\uc2dc\uc624.\n",
      "\n",
      "### \u25fe[\uc8fc\uc758] c \ubcc0\uc218 \uc790\uccb4\uc5d0 \"olleH\" \ubb38\uc790\uc5f4\uc774 \uc800\uc7a5\ub418\uc5b4\uc57c \ud568.\n",
      "### "
     ]
    },
    {
     "cell_type": "code",
     "collapsed": false,
     "input": [
      "c = \"Hello\"\n",
      "c = c[::-1]\n",
      "print c"
     ],
     "language": "python",
     "metadata": {},
     "outputs": [
      {
       "output_type": "stream",
       "stream": "stdout",
       "text": [
        "olleH\n"
       ]
      }
     ],
     "prompt_number": 3
    },
    {
     "cell_type": "markdown",
     "metadata": {},
     "source": [
      "\uccab\ubc88\uc9f8 c = \"Hello\"\ub97c \ud1b5\ud574 c\uc5d0\ub2e4\uac00 Hello\ub97c \uc800\uc7a5\uc2dc\ud0b5\ub2c8\ub2e4."
     ]
    },
    {
     "cell_type": "markdown",
     "metadata": {},
     "source": [
      "\ub450\ubc88\uc9f8 c = c[::-1] \uc989, \uccab\ubc88\uc9f8\uc11c\ubd80\ud130 \ub05d\uae4c\uc9c0\ub97c \uc5ed\uc21c\uc73c\ub85c \ucd9c\ub825(step\uc774 -1\uc774\ubbc0\ub85c) \ud558\ub77c\ub294 \uba85\ub839\uc744 \ud1b5\ud574 c\uc5d0 olleH\ub97c \uc800\uc7a5\uc2dc\ud0b5\ub2c8\ub2e4."
     ]
    },
    {
     "cell_type": "markdown",
     "metadata": {},
     "source": [
      "\uc138\ubc88\uc9f8 print \ud568\uc218\ub97c \ud1b5\ud558\uc5ec c\ub97c \ucd9c\ub825\ud574\uc90d\ub2c8\ub2e4."
     ]
    },
    {
     "cell_type": "markdown",
     "metadata": {},
     "source": [
      "### \n",
      "### \u2022s=\"python\"\uc5d0 \ub300\ud574 \ub2e4\uc74c \ubb38\uc81c\ub97c \ud480\uc5b4\ubcf4\uc2dc\uc624."
     ]
    },
    {
     "cell_type": "markdown",
     "metadata": {},
     "source": [
      "### 1.s[0], s[0][0], s[0][0][0]\uc740 \uac01\uac01 \uc5b4\ub5a4 \uac12\uc774 \ub098\uc624\ub294\uc9c0 \ud655\uc778\ud558\uace0 \uadf8 \uc774\uc720\ub97c \ub098\ub984\ub300\ub85c \uc124\uba85\ud574 \ubcf4\uc2dc\uc624.\n",
      "### "
     ]
    },
    {
     "cell_type": "code",
     "collapsed": false,
     "input": [
      "s = \"python\"\n",
      "print s[0]\n",
      "print s[0][0]\n",
      "print s[0][0][0]"
     ],
     "language": "python",
     "metadata": {},
     "outputs": [
      {
       "output_type": "stream",
       "stream": "stdout",
       "text": [
        "p\n",
        "p\n",
        "p\n"
       ]
      }
     ],
     "prompt_number": 4
    },
    {
     "cell_type": "markdown",
     "metadata": {},
     "source": [
      "\ub450\ubc88\uc9f8 s[0]\uc774 p\uac00\ub098\uc628 \uc774\uc720\ub294 \ub9d0 \uadf8\ub300\ub85c 6\uac1c \uae00\uc790\uc5d0\uc11c 0\ubc88\uc9f8\ub97c \ucd9c\ub825\ud558\ub77c\uace0 \ud558\uc5ec p\uac00 \ub098\uc628\uac83 \uac19\uc2b5\ub2c8\ub2e4."
     ]
    },
    {
     "cell_type": "markdown",
     "metadata": {},
     "source": [
      "\uc138\ubc88\uc9f8(s[0][0]), \ub124\ubc88\uc9f8(s[0][0][0])\ub3c4 p\uac00 \ub098\uc628 \uc774\uc720\ub294 \uc81c\uac00 s[0][1] \uacfc s[0][0][1]\uc744 print \ud574\ubcf4\uc558\ub294\ub370 \ubaa8\ub450 string index out of range\ub77c\ub294 \uba54\uc138\uc9c0\uac00 \ub728\ub294 \uac83\uc73c\ub85c\ubcf4\uc544 s[0]\uc740 \uadf8\ub2e8\uc5b4 \uc790\uccb4 p\ub97c s[0][0]\uc740 \ub2e8\uc5b4 p\uc911\uc5d0\uc11c \uccab\uae00\uc790 p\ub97c s[0][0][0]\uc5ed\uc2dc \ub2e8\uc5b4 p\uc911\uc5d0\uc11c \uccab\uae00\uc790 p, \ub610 \uc774 \ub2e8\uc5b4 p\uc911\uc5d0 \uccab\uae00\uc790 p\ub97c \ub098\ud0c0\ub0b4\ub294\uac83 \uac19\uc2b5\ub2c8\ub2e4."
     ]
    },
    {
     "cell_type": "markdown",
     "metadata": {},
     "source": [
      "###  \n",
      "### 2.s[-100], s[100]\uc740 \uac12\uc774 \ub098\uc624\ub294\uc9c0 \uc5d0\ub7ec\uac00 \ub098\uc624\ub294\uc9c0 \ud655\uc778\ud558\uace0 \uadf8 \uacb0\uacfc\uc5d0 \ub300\ud55c \uc774\uc720\ub97c \ub098\ub984\ub300\ub85c \uc124\uba85\ud574 \ubcf4\uc2dc\uc624.\n",
      "###  "
     ]
    },
    {
     "cell_type": "code",
     "collapsed": false,
     "input": [
      "s = \"python\"\n",
      "print s[-100]\n",
      "print s[100]"
     ],
     "language": "python",
     "metadata": {},
     "outputs": [
      {
       "ename": "IndexError",
       "evalue": "string index out of range",
       "output_type": "pyerr",
       "traceback": [
        "\u001b[1;31m---------------------------------------------------------------------------\u001b[0m\n\u001b[1;31mIndexError\u001b[0m                                Traceback (most recent call last)",
        "\u001b[1;32m<ipython-input-5-fb3b99675773>\u001b[0m in \u001b[0;36m<module>\u001b[1;34m()\u001b[0m\n\u001b[0;32m      1\u001b[0m \u001b[0ms\u001b[0m \u001b[1;33m=\u001b[0m \u001b[1;34m\"python\"\u001b[0m\u001b[1;33m\u001b[0m\u001b[0m\n\u001b[1;32m----> 2\u001b[1;33m \u001b[1;32mprint\u001b[0m \u001b[0ms\u001b[0m\u001b[1;33m[\u001b[0m\u001b[1;33m-\u001b[0m\u001b[1;36m100\u001b[0m\u001b[1;33m]\u001b[0m\u001b[1;33m\u001b[0m\u001b[0m\n\u001b[0m\u001b[0;32m      3\u001b[0m \u001b[1;32mprint\u001b[0m \u001b[0ms\u001b[0m\u001b[1;33m[\u001b[0m\u001b[1;36m100\u001b[0m\u001b[1;33m]\u001b[0m\u001b[1;33m\u001b[0m\u001b[0m\n",
        "\u001b[1;31mIndexError\u001b[0m: string index out of range"
       ]
      }
     ],
     "prompt_number": 5
    },
    {
     "cell_type": "markdown",
     "metadata": {},
     "source": [
      "\uccab\ubc88\uc9f8, \ub450\ubc88\uc9f8 s[-100], s[100]\uc740 \uc5d0\ub7ec\uba54\uc138\uc9c0 \ub610\ud55c string index out of range \ub77c\uace0 \ub739\ub2c8\ub2e4.\n",
      "\uc774 \uc5ed\uc2dc \ubb38\uc790\uc5f4 \ubc94\uc704\ub97c \ubc97\uc5b4\ub09c \uac83\uc73c\ub85c, python\uc740 \uae38\uc774\uac00 6\uc774\ub77c \uc790\ub9ac\ub97c 6\uac1c \uc92c\ub294\ub370 100\ubc88\uc9f8 \uc549\uc740\n",
      "\uc0ac\ub78c\uc744 \ucd9c\ub825\ud558\ub77c\uace0 \ud558\ub2c8 \ub2f9\uc5f0\ud788 \uc548\ub418\ub294\uac83 \uac19\uc2b5\ub2c8\ub2e4."
     ]
    },
    {
     "cell_type": "markdown",
     "metadata": {},
     "source": [
      "###   \n",
      "### 3. s[-100, 100]\uc740 \uac12\uc774 \ub098\uc624\ub294\uc9c0 \uc5d0\ub7ec\uac00 \ub098\uc624\ub294\uc9c0 \ud655\uc778\ud558\uace0 \uadf8 \uacb0\uacfc\uc5d0 \ub300\ud55c \uc774\uc720\ub97c \ub098\ub984\ub300\ub85c \uc124\uba85\ud574 \ubcf4\uc2dc\uc624.\n",
      "###  "
     ]
    },
    {
     "cell_type": "code",
     "collapsed": false,
     "input": [
      "s = \"python\"\n",
      "print s[-100, 100]"
     ],
     "language": "python",
     "metadata": {},
     "outputs": [
      {
       "ename": "TypeError",
       "evalue": "string indices must be integers, not tuple",
       "output_type": "pyerr",
       "traceback": [
        "\u001b[1;31m---------------------------------------------------------------------------\u001b[0m\n\u001b[1;31mTypeError\u001b[0m                                 Traceback (most recent call last)",
        "\u001b[1;32m<ipython-input-6-20041a732f7c>\u001b[0m in \u001b[0;36m<module>\u001b[1;34m()\u001b[0m\n\u001b[0;32m      1\u001b[0m \u001b[0ms\u001b[0m \u001b[1;33m=\u001b[0m \u001b[1;34m\"python\"\u001b[0m\u001b[1;33m\u001b[0m\u001b[0m\n\u001b[1;32m----> 2\u001b[1;33m \u001b[1;32mprint\u001b[0m \u001b[0ms\u001b[0m\u001b[1;33m[\u001b[0m\u001b[1;33m-\u001b[0m\u001b[1;36m100\u001b[0m\u001b[1;33m,\u001b[0m \u001b[1;36m100\u001b[0m\u001b[1;33m]\u001b[0m\u001b[1;33m\u001b[0m\u001b[0m\n\u001b[0m",
        "\u001b[1;31mTypeError\u001b[0m: string indices must be integers, not tuple"
       ]
      }
     ],
     "prompt_number": 6
    },
    {
     "cell_type": "markdown",
     "metadata": {},
     "source": [
      "\uc5d0\ub7ec \uba54\uc138\uc9c0\ub97c \ubcf4\uc544\ud558\ub2c8 \ud29c\ud50c\uc774\uae30 \ub54c\ubb38\uc5d0 \ubb38\uc790\uc5f4\uc744 \uc800\uc7a5\ud558\uc9c0 \ubabb\ud558\uace0 \uc815\uc218\ub9cc \uc800\uc7a5\ud560\uc218 \uc788\uc5b4\uc11c \uc778\uac83 \uac19\uc2b5\ub2c8\ub2e4."
     ]
    },
    {
     "cell_type": "markdown",
     "metadata": {},
     "source": [
      "###    \n",
      "### 4. s[1:-1]\uc758 \uacb0\uacfc\ub97c \ud655\uc778\ud558\uace0 \uadf8 \uacb0\uacfc\uc5d0 \ub300\ud55c \uc774\uc720\ub97c \uc815\ud655\ud558\uac8c \uc124\uba85\ud558\uc2dc\uc624.\n",
      "### "
     ]
    },
    {
     "cell_type": "code",
     "collapsed": false,
     "input": [
      "s = \"python\"\n",
      "print s[1:-1]"
     ],
     "language": "python",
     "metadata": {},
     "outputs": [
      {
       "output_type": "stream",
       "stream": "stdout",
       "text": [
        "ytho\n"
       ]
      }
     ],
     "prompt_number": 7
    },
    {
     "cell_type": "markdown",
     "metadata": {},
     "source": [
      "\ub450\ubc88\uc9f8 s[1:-1]\uc758 \uacb0\uacfc\ub294 s[1]\ubd80\ud130 s[-1]\ubd80\ud130\uc778\ub370 s[-1]\uc740 \uadf8 \ubc30\uc5f4\uc758 \ub05d\uc744 \ub098\ud0c0\ub0b4\uace0\n",
      "s[a:b]\ub77c\ud558\uba74 a\ub294 \ud3ec\ud568\ud558\uace0 b\ub294 \ud3ec\ud568\ud558\uc9c0 \uc54a\ub294\uac83\uc774\ubbc0\ub85c s[1] [2] s[3] s[4]\uae4c\uc9c0 \ub098\ud0c0\ub098\uac8c \ub41c\ub2e4."
     ]
    },
    {
     "cell_type": "markdown",
     "metadata": {},
     "source": [
      "###   \n",
      "### 5. s[3:-3]\uc758 \uacb0\uacfc\ub97c \ud655\uc778\ud558\uace0 \uadf8 \uacb0\uacfc\uc5d0 \ub300\ud55c \uc774\uc720\ub97c \uc815\ud655\ud558\uac8c \uc124\uba85\ud558\uc2dc\uc624.\n",
      "###     "
     ]
    },
    {
     "cell_type": "code",
     "collapsed": false,
     "input": [
      "s = \"python\"\n",
      "print s[3:-3]"
     ],
     "language": "python",
     "metadata": {},
     "outputs": [
      {
       "output_type": "stream",
       "stream": "stdout",
       "text": [
        "\n"
       ]
      }
     ],
     "prompt_number": 8
    },
    {
     "cell_type": "markdown",
     "metadata": {},
     "source": [
      "s[3:-3] s[3]\uc740 h\uc774\uace0 s[-3] \uc5ed\uc2dc h\uc774\ub2e4 \uc774\ub294 \uc704\uc5d0\uc11c \uc124\uba85\ud55c\uac83\ucc98\ub7fc s[3]<=x<s[3] \uc744 \ub9cc\uc871\ud558\ub294 x\uac00 \uc5c6\uc73c\ubbc0\ub85c\n",
      "\ube48\ud654\uba74\uc774 \ub098\ud0c0\ub09c\ub2e4"
     ]
    },
    {
     "cell_type": "markdown",
     "metadata": {},
     "source": [
      "###   \n",
      "### \u2022 for\ubb38\uc744 \ud65c\uc6a9\ud558\uc5ec 1\ubd80\ud130 100\uc0ac\uc774\uc758 \ud640\uc218\ub97c \ucd9c\ub825\ud558\uc2dc\uc624.\n",
      "###   "
     ]
    },
    {
     "cell_type": "code",
     "collapsed": false,
     "input": [
      "for odd in range(100) :\n",
      "    if odd % 2 == 1 :\n",
      "        print odd,"
     ],
     "language": "python",
     "metadata": {},
     "outputs": [
      {
       "output_type": "stream",
       "stream": "stdout",
       "text": [
        "1 3 5 7 9 11 13 15 17 19 21 23 25 27 29 31 33 35 37 39 41 43 45 47 49 51 53 55 57 59 61 63 65 67 69 71 73 75 77 79 81 83 85 87 89 91 93 95 97 99\n"
       ]
      }
     ],
     "prompt_number": 20
    },
    {
     "cell_type": "markdown",
     "metadata": {},
     "source": [
      "\uccab\ubc88\uc9f8 ~ \uc138\ubc88\uc9f8 : odd\ub77c\ub294 \ubcc0\uc218\ub97c 1\ubd80\ud130 100\uae4c\uc9c0 \ucc28\ub840\ub300\ub85c \uc99d\uac00\uc2dc\ud0a4\uba74\uc11c \ub9cc\uc57d odd\ub77c\ub294 \ubcc0\uc218\ub97c 2\ub85c \ub098\ub204\uc5c8\ub294\ub370 \ub098\uba38\uc9c0\uac00 1\uc774\uba74(odd%2==1) \ud640\uc218\uc774\ubbc0\ub85c print\ud568\uc218\ub97c \ud1b5\ud558\uc5ec \uadf8 \uacb0\uacfc\uac12\uc744 \ucd9c\ub825\ud569\ub2c8\ub2e4."
     ]
    },
    {
     "cell_type": "markdown",
     "metadata": {},
     "source": [
      "###    \n",
      "### \u2022 while\ubb38\uc744 \ud65c\uc6a9\ud558\uc5ec 1\ubd80\ud130 100\uc0ac\uc774\uc758 \uc9dd\uc218\uc758 \ud569\uc744 \uacc4\uc0b0\ud558\uc5ec \ucd9c\ub825\ud558\uc2dc\uc624.\n",
      "###   "
     ]
    },
    {
     "cell_type": "code",
     "collapsed": false,
     "input": [
      "sum = 0\n",
      "even = 0\n",
      "\n",
      "while even < 100 :\n",
      "    even = even + 1\n",
      "    if even % 2 == 0 :\n",
      "        sum = sum + even\n",
      "\n",
      "print sum"
     ],
     "language": "python",
     "metadata": {},
     "outputs": [
      {
       "output_type": "stream",
       "stream": "stdout",
       "text": [
        "2550\n"
       ]
      }
     ],
     "prompt_number": 18
    },
    {
     "cell_type": "markdown",
     "metadata": {},
     "source": [
      "\uccab\ubc88\uc9f8 ~ \ub450\ubc88\uc9f8 : sum\uacfc even \ubcc0\uc218\ub97c \uac01\uac01 0\uc73c\ub85c \ucd08\uae30\ud654\uc2dc\ucf1c \uc90d\ub2c8\ub2e4."
     ]
    },
    {
     "cell_type": "markdown",
     "metadata": {},
     "source": [
      "\uc138\ubc88\uc9f8 ~ \uc77c\uacf1\ubc88\uc9f8 : while\ubb38\uc744 \ud1b5\ud558\uc5ec \ub9cc\uc57d even\ubcc0\uc218\uac00 100\ubcf4\ub2e4 \uc791\uc73c\uba74 , even\uc744 1\uc529 \uc99d\uac00\uc2dc\ud0a4\uace0 even%2==0 \uc989, even\uc774 \uc9dd\uc218\uc774\uba74 sum\ubcc0\uc218\uc5d0 \uacc4\uc18d\ud574\uc11c even\uc744 \ub354\ud574\uc90d\ub2c8\ub2e4."
     ]
    },
    {
     "cell_type": "markdown",
     "metadata": {},
     "source": [
      "\uc544\ud649\ubc88\uc9f8 : print \ud568\uc218\ub97c \ud1b5\ud558\uc5ec sum\uc744 \ucd9c\ub825\ud574 \uc90d\ub2c8\ub2e4."
     ]
    },
    {
     "cell_type": "markdown",
     "metadata": {},
     "source": [
      "###   \n",
      "### \u2022 \uc678\ubd80\ub85c \ubd80\ud130 \uc815\uc218\ub97c \uc785\ub825\ubc1b\uc544\uc11c 1\ubd80\ud130 \uadf8 \uc0ac\uc774\uc5d0 \uc874\uc7ac\ud558\ub294 \uc18c\uc218 (Prime number)\ub97c \ucd9c\ub825\ud558\ub294 \ud30c\uc774\uc36c \ud504\ub85c\uadf8\ub7a8\uc744 \uc791\uc131\ud558\uc2dc\uc624.\n",
      "###   "
     ]
    },
    {
     "cell_type": "code",
     "collapsed": false,
     "input": [
      "integer = input('Enter integer : ')\n",
      "\n",
      "for prime in range(1, integer) :\n",
      "    count = 0\n",
      "    for check in range(1, integer) :\n",
      "        if prime % check == 0 :\n",
      "            count += 1\n",
      "            \n",
      "    if count == 2 :\n",
      "        print prime,"
     ],
     "language": "python",
     "metadata": {},
     "outputs": [
      {
       "name": "stdout",
       "output_type": "stream",
       "stream": "stdout",
       "text": [
        "Enter integer : 15\n"
       ]
      },
      {
       "output_type": "stream",
       "stream": "stdout",
       "text": [
        "2 3 5 7 11 13\n"
       ]
      }
     ],
     "prompt_number": 19
    },
    {
     "cell_type": "markdown",
     "metadata": {},
     "source": [
      "\uccab\ubc88\uc9f8 : integer \ubcc0\uc218\uc5d0 input\uc744 \ud1b5\ud558\uc5ec \uc0ac\uc6a9\uc790\ub85c\ubd80\ud130 \uc815\uc218\uac12 \ud558\ub098\ub97c \uc785\ub825\ubc1b\ub3c4\ub85d \ud569\ub2c8\ub2e4."
     ]
    },
    {
     "cell_type": "markdown",
     "metadata": {},
     "source": [
      "\uc138\ubc88\uc9f8 ~ \uc5f4\ubc88\uc9f8 : \uccab\ubc88\uc9f8 for\ubb38\uc744 \ud1b5\ud558\uc5ec prime \ubcc0\uc218\uac00 1\ubd80\ud130 \uc785\ub825\ubc1b\uc740 \uc815\uc218\uac12(integer)\uc774 \ub420\ub54c\uae4c\uc9c0 \ubc18\ubcf5\uc744 \uc2dc\ud0b5\ub2c8\ub2e4. count\ub294 \uacc4\uc18d\ud574\uc11c 0\uc73c\ub85c \ucd08\uae30\ud654 \ud574\uc8fc\uace0, \uadf8\ub2e4\uc74c for\ubb38\uc744 \ud1b5\ud558\uc5ec check \ubcc0\uc218\uac00 1\ubd80\ud130 \uc785\ub825\ubc1b\uc740 \uc815\uc218\uac12(integer)\uc774 \ub420\ub584\uae4c\uc9c0 \ubc18\ubcf5\uc744 \uc2dc\ud0a4\ub294\ub370 \ub9cc\uc57d prime % check == 0 \uc774\uba74 count\ub97c 1\uc529 \uc99d\uac00\uc2dc\ucf1c\uc90d\ub2c8\ub2e4. \ub9cc\uc57d prime\uc774 \uc18c\uc218\ub77c\uba74 count \uac12\uc774 2\uac00 \ub098\uc62c \uac83\uc774\ubbc0\ub85c(\uc18c\uc218\uc758 \uc57d\uc218\ub294 1\uacfc \uc790\uae30\uc790\uc2e0) if\ubb38\uc744 \ud1b5\ud558\uc5ec \ub9cc\uc57d count\uac00 2\uc774\uba74 prime\uc744 \ucd9c\ub825\ud574\uc90d\ub2c8\ub2e4. print\ub4a4\uc5d0 ,\ub294 \uc904\ubc14\uafc8\uc744 \ubc29\uc9c0\ud574\uc8fc\ub294 \uc5ed\ud560\uc744 \ud569\ub2c8\ub2e4."
     ]
    },
    {
     "cell_type": "markdown",
     "metadata": {},
     "source": [
      "\u203b 1\ubd80\ud130 \uadf8\uc0ac\uc774\uc5d0 \uc874\uc7ac\ud558\ub294 \uc18c\uc218\ub97c \ucd9c\ub825\ud558\ub294 \ud504\ub85c\uadf8\ub7a8\uc744 \ub9cc\ub4e4\ub77c\uace0\ud558\uc5ec\uc11c \ub9c8\uc9c0\ub9c9 \uc815\uc218\ub294 \ud3ec\ud568\uc2dc\ud0a4\uc9c0 \uc54a\uc558\uc2b5\ub2c8\ub2e4. \uc608\ub97c\ub4e4\uc5b4 3\uc744 \uc785\ub825\ud558\uba74 2\ub9cc \ub098\uc624\uac8c\ud558\uc600\uc2b5\ub2c8\ub2e4. \ub9cc\uc57d 3\uae4c\uc9c0 \ucd9c\ub825\ud558\ub824\uace0 \ud558\uba74 for\ubb38 \ubc94\uc704\ub97c (1,integer+1)\ub85c \ubaa8\ub450 \ubc14\uafd4\uc8fc\uba74 \ub429\ub2c8\ub2e4."
     ]
    },
    {
     "cell_type": "markdown",
     "metadata": {},
     "source": [
      "  "
     ]
    },
    {
     "cell_type": "markdown",
     "metadata": {},
     "source": [
      " "
     ]
    },
    {
     "cell_type": "markdown",
     "metadata": {},
     "source": [
      " "
     ]
    },
    {
     "cell_type": "markdown",
     "metadata": {},
     "source": [
      "### \uc219\uc81c\ub97c \ud55c \uc774\ud6c4\uc758 \uc18c\uac10, \uc804\ud558\uace0\uc790 \ud558\ub294 \ub9d0 "
     ]
    },
    {
     "cell_type": "markdown",
     "metadata": {},
     "source": [
      "\ucc98\uc74c \uc219\uc81c\ub97c \ud558\ub824\uace0\ud558\ub2c8 \ud504\ub85c\uadf8\ub7a8\uc744 \uc5b4\ub5bb\uac8c \ud558\ub294\uc9c0 \uc798 \ubab0\ub77c\uc11c \ud587\uac08\ub9ac\uae30\ub3c4 \ud558\uace0, c\uc5b8\uc5b4\ub97c \ud1b5\ud558\uc5ec for\ubb38\uacfc while\ubb38\uc744 \ubc30\uc6e0\uc9c0\ub9cc python \uc774\ub77c\ub294 \ud658\uacbd\uc5d0\uc11c \uc2e4\ud589\ud558\ub824\uace0 \ud558\ub2c8 \uc57d\uac04 \ub9c9\ud788\uae30\ub3c4 \ud588\uc5c8\uc2b5\ub2c8\ub2e4. \uadf8\ub798\ub3c4 \uc219\uc81c\ub97c \ud558\uace0 \ub098\ub2c8 python\uc5d0 \ub300\ud574 \uc774\ud574\uac00 \uc880\ub354 \uc798 \ub418\ub294 \uac83 \uac19\uc2b5\ub2c8\ub2e4. \uadf8\ub9ac\uace0 \uc800\ub294 \uc218\uc5c5\uc2dc\uac04\uc5d0 \uad50\uc218\ub2d8\uaed8\uc11c \uc124\uba85\ud558\ub294 \ubc29\uc2dd\uc774 \ub9c8\uc74c\uc5d0 \ub4e4\uc5b4 \ub531\ud788 \uc804\ud558\uace0\uc790 \ud558\ub294 \ub9d0\uc740 \uc5c6\uc2b5\ub2c8\ub2e4. \uadf8\ub0e5 \uc774 \uc218\uc5c5\ubc29\uc2dd \uadf8\ub300\ub85c \uc124\uba85\ud574\uc8fc\uc168\uc73c\uba74 \uc88b\uaca0\uc2b5\ub2c8\ub2e4."
     ]
    },
    {
     "cell_type": "code",
     "collapsed": false,
     "input": [],
     "language": "python",
     "metadata": {},
     "outputs": []
    }
   ],
   "metadata": {}
  }
 ]
}